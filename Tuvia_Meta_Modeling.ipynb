{
  "cells": [
    {
      "cell_type": "markdown",
      "metadata": {
        "id": "4l3-yB3Xc3dX"
      },
      "source": [
        "## Imports"
      ]
    },
    {
      "cell_type": "code",
      "execution_count": null,
      "metadata": {
        "id": "6PPhyw7BjQMA"
      },
      "outputs": [],
      "source": [
        "import pandas as pd\n",
        "import matplotlib.pyplot as plt\n",
        "import seaborn as sns\n",
        "import numpy as np\n",
        "\n",
        "from sklearn.preprocessing import OneHotEncoder, MinMaxScaler, OrdinalEncoder\n",
        "from sklearn.metrics import f1_score\n",
        "from sklearn.model_selection import train_test_split, cross_val_score, GridSearchCV\n",
        "from sklearn.compose import ColumnTransformer\n",
        "from sklearn.pipeline import Pipeline"
      ]
    },
    {
      "cell_type": "code",
      "execution_count": null,
      "metadata": {
        "id": "Tg8VCgG-VkTx"
      },
      "outputs": [],
      "source": [
        "def csv_drive_path_generator(url):\n",
        " '''\n",
        " Help in read csv file directly from google drive.\n",
        " Make sure the csv format is standard.\n",
        " url:str - path to csv file example:\n",
        "   url = 'https://drive.google.com/file/d/126JPZ3lYwdLyJ2d_7jxM9jMtZaOlF-Ld/view?usp=sharing'\n",
        " return : str\n",
        " '''\n",
        " path = 'https://drive.google.com/uc?export=download&id='+url.split('/')[-2]\n",
        " return path"
      ]
    },
    {
      "cell_type": "markdown",
      "metadata": {
        "id": "4BUdbtxXWTTe"
      },
      "source": [
        "## **Loading files**"
      ]
    },
    {
      "cell_type": "code",
      "execution_count": null,
      "metadata": {
        "colab": {
          "base_uri": "https://localhost:8080/"
        },
        "id": "VolzWOWImR6-",
        "outputId": "96508c82-8e6f-4d7b-9efe-c3f87d366f37"
      },
      "outputs": [
        {
          "output_type": "execute_result",
          "data": {
            "text/plain": [
              "(3722, 10)"
            ]
          },
          "metadata": {},
          "execution_count": 127
        }
      ],
      "source": [
        "path = csv_drive_path_generator(\"https://drive.google.com/file/d/1DIsPvP0VvrAaZUtSOwLyX5PICwUxsBwa/view?usp=sharing\")\n",
        "X = pd.read_csv(path)\n",
        "X = X.drop([\"Unnamed: 0\"], axis=1)\n",
        "X.shape"
      ]
    },
    {
      "cell_type": "code",
      "execution_count": null,
      "metadata": {
        "colab": {
          "base_uri": "https://localhost:8080/"
        },
        "id": "FU3OITz-rXwW",
        "outputId": "f3dd6d6d-e9f1-444b-9483-e38cbf0cd9ef"
      },
      "outputs": [
        {
          "output_type": "execute_result",
          "data": {
            "text/plain": [
              "(3722, 1)"
            ]
          },
          "metadata": {},
          "execution_count": 128
        }
      ],
      "source": [
        "path = csv_drive_path_generator(\"https://drive.google.com/file/d/1qxn6N6WP_eKnMRJYtvk8RmZeJ5PivV_k/view?usp=sharing\")\n",
        "y = pd.read_csv(path)\n",
        "y = y.drop([\"Unnamed: 0\"], axis=1)\n",
        "y.shape"
      ]
    },
    {
      "cell_type": "code",
      "execution_count": null,
      "metadata": {
        "id": "Xj_uZbuzXA4N"
      },
      "outputs": [],
      "source": [
        "df = X\n",
        "df['LeaveOrNot'] = y['LeaveOrNot']"
      ]
    },
    {
      "cell_type": "code",
      "execution_count": null,
      "metadata": {
        "colab": {
          "base_uri": "https://localhost:8080/",
          "height": 143
        },
        "id": "0RuDiI7eWHxk",
        "outputId": "1c05241f-48de-47e0-f65e-d9e4a54a9e90"
      },
      "outputs": [
        {
          "output_type": "execute_result",
          "data": {
            "text/plain": [
              "   Education  JoiningYear       City  PaymentTier   Age  Gender EverBenched  \\\n",
              "0  Bachelors         2016  Bangalore            3  27.0    Male         Yes   \n",
              "1  Bachelors         2012  Bangalore            3  28.0    Male          No   \n",
              "2  Bachelors         2015       Pune            3  26.0  Female          No   \n",
              "\n",
              "   ExperienceInCurrentDomain    id   Race  LeaveOrNot  \n",
              "0                          4  1847  white           0  \n",
              "1                          4  2905  white           0  \n",
              "2                          2  4610  white           1  "
            ],
            "text/html": [
              "\n",
              "  <div id=\"df-988abc9e-e03d-4697-adbc-5ad936d4af46\" class=\"colab-df-container\">\n",
              "    <div>\n",
              "<style scoped>\n",
              "    .dataframe tbody tr th:only-of-type {\n",
              "        vertical-align: middle;\n",
              "    }\n",
              "\n",
              "    .dataframe tbody tr th {\n",
              "        vertical-align: top;\n",
              "    }\n",
              "\n",
              "    .dataframe thead th {\n",
              "        text-align: right;\n",
              "    }\n",
              "</style>\n",
              "<table border=\"1\" class=\"dataframe\">\n",
              "  <thead>\n",
              "    <tr style=\"text-align: right;\">\n",
              "      <th></th>\n",
              "      <th>Education</th>\n",
              "      <th>JoiningYear</th>\n",
              "      <th>City</th>\n",
              "      <th>PaymentTier</th>\n",
              "      <th>Age</th>\n",
              "      <th>Gender</th>\n",
              "      <th>EverBenched</th>\n",
              "      <th>ExperienceInCurrentDomain</th>\n",
              "      <th>id</th>\n",
              "      <th>Race</th>\n",
              "      <th>LeaveOrNot</th>\n",
              "    </tr>\n",
              "  </thead>\n",
              "  <tbody>\n",
              "    <tr>\n",
              "      <th>0</th>\n",
              "      <td>Bachelors</td>\n",
              "      <td>2016</td>\n",
              "      <td>Bangalore</td>\n",
              "      <td>3</td>\n",
              "      <td>27.0</td>\n",
              "      <td>Male</td>\n",
              "      <td>Yes</td>\n",
              "      <td>4</td>\n",
              "      <td>1847</td>\n",
              "      <td>white</td>\n",
              "      <td>0</td>\n",
              "    </tr>\n",
              "    <tr>\n",
              "      <th>1</th>\n",
              "      <td>Bachelors</td>\n",
              "      <td>2012</td>\n",
              "      <td>Bangalore</td>\n",
              "      <td>3</td>\n",
              "      <td>28.0</td>\n",
              "      <td>Male</td>\n",
              "      <td>No</td>\n",
              "      <td>4</td>\n",
              "      <td>2905</td>\n",
              "      <td>white</td>\n",
              "      <td>0</td>\n",
              "    </tr>\n",
              "    <tr>\n",
              "      <th>2</th>\n",
              "      <td>Bachelors</td>\n",
              "      <td>2015</td>\n",
              "      <td>Pune</td>\n",
              "      <td>3</td>\n",
              "      <td>26.0</td>\n",
              "      <td>Female</td>\n",
              "      <td>No</td>\n",
              "      <td>2</td>\n",
              "      <td>4610</td>\n",
              "      <td>white</td>\n",
              "      <td>1</td>\n",
              "    </tr>\n",
              "  </tbody>\n",
              "</table>\n",
              "</div>\n",
              "    <div class=\"colab-df-buttons\">\n",
              "\n",
              "  <div class=\"colab-df-container\">\n",
              "    <button class=\"colab-df-convert\" onclick=\"convertToInteractive('df-988abc9e-e03d-4697-adbc-5ad936d4af46')\"\n",
              "            title=\"Convert this dataframe to an interactive table.\"\n",
              "            style=\"display:none;\">\n",
              "\n",
              "  <svg xmlns=\"http://www.w3.org/2000/svg\" height=\"24px\" viewBox=\"0 -960 960 960\">\n",
              "    <path d=\"M120-120v-720h720v720H120Zm60-500h600v-160H180v160Zm220 220h160v-160H400v160Zm0 220h160v-160H400v160ZM180-400h160v-160H180v160Zm440 0h160v-160H620v160ZM180-180h160v-160H180v160Zm440 0h160v-160H620v160Z\"/>\n",
              "  </svg>\n",
              "    </button>\n",
              "\n",
              "  <style>\n",
              "    .colab-df-container {\n",
              "      display:flex;\n",
              "      gap: 12px;\n",
              "    }\n",
              "\n",
              "    .colab-df-convert {\n",
              "      background-color: #E8F0FE;\n",
              "      border: none;\n",
              "      border-radius: 50%;\n",
              "      cursor: pointer;\n",
              "      display: none;\n",
              "      fill: #1967D2;\n",
              "      height: 32px;\n",
              "      padding: 0 0 0 0;\n",
              "      width: 32px;\n",
              "    }\n",
              "\n",
              "    .colab-df-convert:hover {\n",
              "      background-color: #E2EBFA;\n",
              "      box-shadow: 0px 1px 2px rgba(60, 64, 67, 0.3), 0px 1px 3px 1px rgba(60, 64, 67, 0.15);\n",
              "      fill: #174EA6;\n",
              "    }\n",
              "\n",
              "    .colab-df-buttons div {\n",
              "      margin-bottom: 4px;\n",
              "    }\n",
              "\n",
              "    [theme=dark] .colab-df-convert {\n",
              "      background-color: #3B4455;\n",
              "      fill: #D2E3FC;\n",
              "    }\n",
              "\n",
              "    [theme=dark] .colab-df-convert:hover {\n",
              "      background-color: #434B5C;\n",
              "      box-shadow: 0px 1px 3px 1px rgba(0, 0, 0, 0.15);\n",
              "      filter: drop-shadow(0px 1px 2px rgba(0, 0, 0, 0.3));\n",
              "      fill: #FFFFFF;\n",
              "    }\n",
              "  </style>\n",
              "\n",
              "    <script>\n",
              "      const buttonEl =\n",
              "        document.querySelector('#df-988abc9e-e03d-4697-adbc-5ad936d4af46 button.colab-df-convert');\n",
              "      buttonEl.style.display =\n",
              "        google.colab.kernel.accessAllowed ? 'block' : 'none';\n",
              "\n",
              "      async function convertToInteractive(key) {\n",
              "        const element = document.querySelector('#df-988abc9e-e03d-4697-adbc-5ad936d4af46');\n",
              "        const dataTable =\n",
              "          await google.colab.kernel.invokeFunction('convertToInteractive',\n",
              "                                                    [key], {});\n",
              "        if (!dataTable) return;\n",
              "\n",
              "        const docLinkHtml = 'Like what you see? Visit the ' +\n",
              "          '<a target=\"_blank\" href=https://colab.research.google.com/notebooks/data_table.ipynb>data table notebook</a>'\n",
              "          + ' to learn more about interactive tables.';\n",
              "        element.innerHTML = '';\n",
              "        dataTable['output_type'] = 'display_data';\n",
              "        await google.colab.output.renderOutput(dataTable, element);\n",
              "        const docLink = document.createElement('div');\n",
              "        docLink.innerHTML = docLinkHtml;\n",
              "        element.appendChild(docLink);\n",
              "      }\n",
              "    </script>\n",
              "  </div>\n",
              "\n",
              "\n",
              "<div id=\"df-01f71b6e-c937-4474-8720-c05e6d210618\">\n",
              "  <button class=\"colab-df-quickchart\" onclick=\"quickchart('df-01f71b6e-c937-4474-8720-c05e6d210618')\"\n",
              "            title=\"Suggest charts\"\n",
              "            style=\"display:none;\">\n",
              "\n",
              "<svg xmlns=\"http://www.w3.org/2000/svg\" height=\"24px\"viewBox=\"0 0 24 24\"\n",
              "     width=\"24px\">\n",
              "    <g>\n",
              "        <path d=\"M19 3H5c-1.1 0-2 .9-2 2v14c0 1.1.9 2 2 2h14c1.1 0 2-.9 2-2V5c0-1.1-.9-2-2-2zM9 17H7v-7h2v7zm4 0h-2V7h2v10zm4 0h-2v-4h2v4z\"/>\n",
              "    </g>\n",
              "</svg>\n",
              "  </button>\n",
              "\n",
              "<style>\n",
              "  .colab-df-quickchart {\n",
              "      --bg-color: #E8F0FE;\n",
              "      --fill-color: #1967D2;\n",
              "      --hover-bg-color: #E2EBFA;\n",
              "      --hover-fill-color: #174EA6;\n",
              "      --disabled-fill-color: #AAA;\n",
              "      --disabled-bg-color: #DDD;\n",
              "  }\n",
              "\n",
              "  [theme=dark] .colab-df-quickchart {\n",
              "      --bg-color: #3B4455;\n",
              "      --fill-color: #D2E3FC;\n",
              "      --hover-bg-color: #434B5C;\n",
              "      --hover-fill-color: #FFFFFF;\n",
              "      --disabled-bg-color: #3B4455;\n",
              "      --disabled-fill-color: #666;\n",
              "  }\n",
              "\n",
              "  .colab-df-quickchart {\n",
              "    background-color: var(--bg-color);\n",
              "    border: none;\n",
              "    border-radius: 50%;\n",
              "    cursor: pointer;\n",
              "    display: none;\n",
              "    fill: var(--fill-color);\n",
              "    height: 32px;\n",
              "    padding: 0;\n",
              "    width: 32px;\n",
              "  }\n",
              "\n",
              "  .colab-df-quickchart:hover {\n",
              "    background-color: var(--hover-bg-color);\n",
              "    box-shadow: 0 1px 2px rgba(60, 64, 67, 0.3), 0 1px 3px 1px rgba(60, 64, 67, 0.15);\n",
              "    fill: var(--button-hover-fill-color);\n",
              "  }\n",
              "\n",
              "  .colab-df-quickchart-complete:disabled,\n",
              "  .colab-df-quickchart-complete:disabled:hover {\n",
              "    background-color: var(--disabled-bg-color);\n",
              "    fill: var(--disabled-fill-color);\n",
              "    box-shadow: none;\n",
              "  }\n",
              "\n",
              "  .colab-df-spinner {\n",
              "    border: 2px solid var(--fill-color);\n",
              "    border-color: transparent;\n",
              "    border-bottom-color: var(--fill-color);\n",
              "    animation:\n",
              "      spin 1s steps(1) infinite;\n",
              "  }\n",
              "\n",
              "  @keyframes spin {\n",
              "    0% {\n",
              "      border-color: transparent;\n",
              "      border-bottom-color: var(--fill-color);\n",
              "      border-left-color: var(--fill-color);\n",
              "    }\n",
              "    20% {\n",
              "      border-color: transparent;\n",
              "      border-left-color: var(--fill-color);\n",
              "      border-top-color: var(--fill-color);\n",
              "    }\n",
              "    30% {\n",
              "      border-color: transparent;\n",
              "      border-left-color: var(--fill-color);\n",
              "      border-top-color: var(--fill-color);\n",
              "      border-right-color: var(--fill-color);\n",
              "    }\n",
              "    40% {\n",
              "      border-color: transparent;\n",
              "      border-right-color: var(--fill-color);\n",
              "      border-top-color: var(--fill-color);\n",
              "    }\n",
              "    60% {\n",
              "      border-color: transparent;\n",
              "      border-right-color: var(--fill-color);\n",
              "    }\n",
              "    80% {\n",
              "      border-color: transparent;\n",
              "      border-right-color: var(--fill-color);\n",
              "      border-bottom-color: var(--fill-color);\n",
              "    }\n",
              "    90% {\n",
              "      border-color: transparent;\n",
              "      border-bottom-color: var(--fill-color);\n",
              "    }\n",
              "  }\n",
              "</style>\n",
              "\n",
              "  <script>\n",
              "    async function quickchart(key) {\n",
              "      const quickchartButtonEl =\n",
              "        document.querySelector('#' + key + ' button');\n",
              "      quickchartButtonEl.disabled = true;  // To prevent multiple clicks.\n",
              "      quickchartButtonEl.classList.add('colab-df-spinner');\n",
              "      try {\n",
              "        const charts = await google.colab.kernel.invokeFunction(\n",
              "            'suggestCharts', [key], {});\n",
              "      } catch (error) {\n",
              "        console.error('Error during call to suggestCharts:', error);\n",
              "      }\n",
              "      quickchartButtonEl.classList.remove('colab-df-spinner');\n",
              "      quickchartButtonEl.classList.add('colab-df-quickchart-complete');\n",
              "    }\n",
              "    (() => {\n",
              "      let quickchartButtonEl =\n",
              "        document.querySelector('#df-01f71b6e-c937-4474-8720-c05e6d210618 button');\n",
              "      quickchartButtonEl.style.display =\n",
              "        google.colab.kernel.accessAllowed ? 'block' : 'none';\n",
              "    })();\n",
              "  </script>\n",
              "</div>\n",
              "\n",
              "    </div>\n",
              "  </div>\n"
            ],
            "application/vnd.google.colaboratory.intrinsic+json": {
              "type": "dataframe",
              "variable_name": "X",
              "summary": "{\n  \"name\": \"X\",\n  \"rows\": 3722,\n  \"fields\": [\n    {\n      \"column\": \"Education\",\n      \"properties\": {\n        \"dtype\": \"category\",\n        \"num_unique_values\": 3,\n        \"samples\": [\n          \"Bachelors\",\n          \"PHD\",\n          \"Masters\"\n        ],\n        \"semantic_type\": \"\",\n        \"description\": \"\"\n      }\n    },\n    {\n      \"column\": \"JoiningYear\",\n      \"properties\": {\n        \"dtype\": \"number\",\n        \"std\": 1,\n        \"min\": 2012,\n        \"max\": 2018,\n        \"num_unique_values\": 7,\n        \"samples\": [\n          2016,\n          2012,\n          2013\n        ],\n        \"semantic_type\": \"\",\n        \"description\": \"\"\n      }\n    },\n    {\n      \"column\": \"City\",\n      \"properties\": {\n        \"dtype\": \"category\",\n        \"num_unique_values\": 3,\n        \"samples\": [\n          \"Bangalore\",\n          \"Pune\",\n          \"New Delhi\"\n        ],\n        \"semantic_type\": \"\",\n        \"description\": \"\"\n      }\n    },\n    {\n      \"column\": \"PaymentTier\",\n      \"properties\": {\n        \"dtype\": \"number\",\n        \"std\": 0,\n        \"min\": 1,\n        \"max\": 3,\n        \"num_unique_values\": 3,\n        \"samples\": [\n          3,\n          2,\n          1\n        ],\n        \"semantic_type\": \"\",\n        \"description\": \"\"\n      }\n    },\n    {\n      \"column\": \"Age\",\n      \"properties\": {\n        \"dtype\": \"number\",\n        \"std\": 4.8609634227284175,\n        \"min\": 23.0,\n        \"max\": 43.0,\n        \"num_unique_values\": 21,\n        \"samples\": [\n          27.0,\n          25.0,\n          31.0\n        ],\n        \"semantic_type\": \"\",\n        \"description\": \"\"\n      }\n    },\n    {\n      \"column\": \"Gender\",\n      \"properties\": {\n        \"dtype\": \"category\",\n        \"num_unique_values\": 2,\n        \"samples\": [\n          \"Female\",\n          \"Male\"\n        ],\n        \"semantic_type\": \"\",\n        \"description\": \"\"\n      }\n    },\n    {\n      \"column\": \"EverBenched\",\n      \"properties\": {\n        \"dtype\": \"category\",\n        \"num_unique_values\": 2,\n        \"samples\": [\n          \"No\",\n          \"Yes\"\n        ],\n        \"semantic_type\": \"\",\n        \"description\": \"\"\n      }\n    },\n    {\n      \"column\": \"ExperienceInCurrentDomain\",\n      \"properties\": {\n        \"dtype\": \"number\",\n        \"std\": 1,\n        \"min\": 0,\n        \"max\": 7,\n        \"num_unique_values\": 8,\n        \"samples\": [\n          2,\n          3\n        ],\n        \"semantic_type\": \"\",\n        \"description\": \"\"\n      }\n    },\n    {\n      \"column\": \"id\",\n      \"properties\": {\n        \"dtype\": \"number\",\n        \"std\": 1336,\n        \"min\": 0,\n        \"max\": 4651,\n        \"num_unique_values\": 3722,\n        \"samples\": [\n          3919,\n          3231\n        ],\n        \"semantic_type\": \"\",\n        \"description\": \"\"\n      }\n    },\n    {\n      \"column\": \"Race\",\n      \"properties\": {\n        \"dtype\": \"category\",\n        \"num_unique_values\": 4,\n        \"samples\": [\n          \"black\",\n          \"red\"\n        ],\n        \"semantic_type\": \"\",\n        \"description\": \"\"\n      }\n    },\n    {\n      \"column\": \"LeaveOrNot\",\n      \"properties\": {\n        \"dtype\": \"number\",\n        \"std\": 0,\n        \"min\": 0,\n        \"max\": 1,\n        \"num_unique_values\": 2,\n        \"samples\": [\n          1,\n          0\n        ],\n        \"semantic_type\": \"\",\n        \"description\": \"\"\n      }\n    }\n  ]\n}"
            }
          },
          "metadata": {},
          "execution_count": 6
        }
      ],
      "source": [
        "X.head(3)"
      ]
    },
    {
      "cell_type": "code",
      "execution_count": null,
      "metadata": {
        "colab": {
          "base_uri": "https://localhost:8080/",
          "height": 143
        },
        "id": "rVi9hOIPWLbj",
        "outputId": "144d93c1-260d-4faa-94fb-f570d4a50e1e"
      },
      "outputs": [
        {
          "output_type": "execute_result",
          "data": {
            "text/plain": [
              "   LeaveOrNot\n",
              "0           0\n",
              "1           0\n",
              "2           1"
            ],
            "text/html": [
              "\n",
              "  <div id=\"df-71566fac-e0ff-445d-b259-95f9d07e4dd2\" class=\"colab-df-container\">\n",
              "    <div>\n",
              "<style scoped>\n",
              "    .dataframe tbody tr th:only-of-type {\n",
              "        vertical-align: middle;\n",
              "    }\n",
              "\n",
              "    .dataframe tbody tr th {\n",
              "        vertical-align: top;\n",
              "    }\n",
              "\n",
              "    .dataframe thead th {\n",
              "        text-align: right;\n",
              "    }\n",
              "</style>\n",
              "<table border=\"1\" class=\"dataframe\">\n",
              "  <thead>\n",
              "    <tr style=\"text-align: right;\">\n",
              "      <th></th>\n",
              "      <th>LeaveOrNot</th>\n",
              "    </tr>\n",
              "  </thead>\n",
              "  <tbody>\n",
              "    <tr>\n",
              "      <th>0</th>\n",
              "      <td>0</td>\n",
              "    </tr>\n",
              "    <tr>\n",
              "      <th>1</th>\n",
              "      <td>0</td>\n",
              "    </tr>\n",
              "    <tr>\n",
              "      <th>2</th>\n",
              "      <td>1</td>\n",
              "    </tr>\n",
              "  </tbody>\n",
              "</table>\n",
              "</div>\n",
              "    <div class=\"colab-df-buttons\">\n",
              "\n",
              "  <div class=\"colab-df-container\">\n",
              "    <button class=\"colab-df-convert\" onclick=\"convertToInteractive('df-71566fac-e0ff-445d-b259-95f9d07e4dd2')\"\n",
              "            title=\"Convert this dataframe to an interactive table.\"\n",
              "            style=\"display:none;\">\n",
              "\n",
              "  <svg xmlns=\"http://www.w3.org/2000/svg\" height=\"24px\" viewBox=\"0 -960 960 960\">\n",
              "    <path d=\"M120-120v-720h720v720H120Zm60-500h600v-160H180v160Zm220 220h160v-160H400v160Zm0 220h160v-160H400v160ZM180-400h160v-160H180v160Zm440 0h160v-160H620v160ZM180-180h160v-160H180v160Zm440 0h160v-160H620v160Z\"/>\n",
              "  </svg>\n",
              "    </button>\n",
              "\n",
              "  <style>\n",
              "    .colab-df-container {\n",
              "      display:flex;\n",
              "      gap: 12px;\n",
              "    }\n",
              "\n",
              "    .colab-df-convert {\n",
              "      background-color: #E8F0FE;\n",
              "      border: none;\n",
              "      border-radius: 50%;\n",
              "      cursor: pointer;\n",
              "      display: none;\n",
              "      fill: #1967D2;\n",
              "      height: 32px;\n",
              "      padding: 0 0 0 0;\n",
              "      width: 32px;\n",
              "    }\n",
              "\n",
              "    .colab-df-convert:hover {\n",
              "      background-color: #E2EBFA;\n",
              "      box-shadow: 0px 1px 2px rgba(60, 64, 67, 0.3), 0px 1px 3px 1px rgba(60, 64, 67, 0.15);\n",
              "      fill: #174EA6;\n",
              "    }\n",
              "\n",
              "    .colab-df-buttons div {\n",
              "      margin-bottom: 4px;\n",
              "    }\n",
              "\n",
              "    [theme=dark] .colab-df-convert {\n",
              "      background-color: #3B4455;\n",
              "      fill: #D2E3FC;\n",
              "    }\n",
              "\n",
              "    [theme=dark] .colab-df-convert:hover {\n",
              "      background-color: #434B5C;\n",
              "      box-shadow: 0px 1px 3px 1px rgba(0, 0, 0, 0.15);\n",
              "      filter: drop-shadow(0px 1px 2px rgba(0, 0, 0, 0.3));\n",
              "      fill: #FFFFFF;\n",
              "    }\n",
              "  </style>\n",
              "\n",
              "    <script>\n",
              "      const buttonEl =\n",
              "        document.querySelector('#df-71566fac-e0ff-445d-b259-95f9d07e4dd2 button.colab-df-convert');\n",
              "      buttonEl.style.display =\n",
              "        google.colab.kernel.accessAllowed ? 'block' : 'none';\n",
              "\n",
              "      async function convertToInteractive(key) {\n",
              "        const element = document.querySelector('#df-71566fac-e0ff-445d-b259-95f9d07e4dd2');\n",
              "        const dataTable =\n",
              "          await google.colab.kernel.invokeFunction('convertToInteractive',\n",
              "                                                    [key], {});\n",
              "        if (!dataTable) return;\n",
              "\n",
              "        const docLinkHtml = 'Like what you see? Visit the ' +\n",
              "          '<a target=\"_blank\" href=https://colab.research.google.com/notebooks/data_table.ipynb>data table notebook</a>'\n",
              "          + ' to learn more about interactive tables.';\n",
              "        element.innerHTML = '';\n",
              "        dataTable['output_type'] = 'display_data';\n",
              "        await google.colab.output.renderOutput(dataTable, element);\n",
              "        const docLink = document.createElement('div');\n",
              "        docLink.innerHTML = docLinkHtml;\n",
              "        element.appendChild(docLink);\n",
              "      }\n",
              "    </script>\n",
              "  </div>\n",
              "\n",
              "\n",
              "<div id=\"df-6dba9c40-5a3f-40a1-a757-be14de4fcb5f\">\n",
              "  <button class=\"colab-df-quickchart\" onclick=\"quickchart('df-6dba9c40-5a3f-40a1-a757-be14de4fcb5f')\"\n",
              "            title=\"Suggest charts\"\n",
              "            style=\"display:none;\">\n",
              "\n",
              "<svg xmlns=\"http://www.w3.org/2000/svg\" height=\"24px\"viewBox=\"0 0 24 24\"\n",
              "     width=\"24px\">\n",
              "    <g>\n",
              "        <path d=\"M19 3H5c-1.1 0-2 .9-2 2v14c0 1.1.9 2 2 2h14c1.1 0 2-.9 2-2V5c0-1.1-.9-2-2-2zM9 17H7v-7h2v7zm4 0h-2V7h2v10zm4 0h-2v-4h2v4z\"/>\n",
              "    </g>\n",
              "</svg>\n",
              "  </button>\n",
              "\n",
              "<style>\n",
              "  .colab-df-quickchart {\n",
              "      --bg-color: #E8F0FE;\n",
              "      --fill-color: #1967D2;\n",
              "      --hover-bg-color: #E2EBFA;\n",
              "      --hover-fill-color: #174EA6;\n",
              "      --disabled-fill-color: #AAA;\n",
              "      --disabled-bg-color: #DDD;\n",
              "  }\n",
              "\n",
              "  [theme=dark] .colab-df-quickchart {\n",
              "      --bg-color: #3B4455;\n",
              "      --fill-color: #D2E3FC;\n",
              "      --hover-bg-color: #434B5C;\n",
              "      --hover-fill-color: #FFFFFF;\n",
              "      --disabled-bg-color: #3B4455;\n",
              "      --disabled-fill-color: #666;\n",
              "  }\n",
              "\n",
              "  .colab-df-quickchart {\n",
              "    background-color: var(--bg-color);\n",
              "    border: none;\n",
              "    border-radius: 50%;\n",
              "    cursor: pointer;\n",
              "    display: none;\n",
              "    fill: var(--fill-color);\n",
              "    height: 32px;\n",
              "    padding: 0;\n",
              "    width: 32px;\n",
              "  }\n",
              "\n",
              "  .colab-df-quickchart:hover {\n",
              "    background-color: var(--hover-bg-color);\n",
              "    box-shadow: 0 1px 2px rgba(60, 64, 67, 0.3), 0 1px 3px 1px rgba(60, 64, 67, 0.15);\n",
              "    fill: var(--button-hover-fill-color);\n",
              "  }\n",
              "\n",
              "  .colab-df-quickchart-complete:disabled,\n",
              "  .colab-df-quickchart-complete:disabled:hover {\n",
              "    background-color: var(--disabled-bg-color);\n",
              "    fill: var(--disabled-fill-color);\n",
              "    box-shadow: none;\n",
              "  }\n",
              "\n",
              "  .colab-df-spinner {\n",
              "    border: 2px solid var(--fill-color);\n",
              "    border-color: transparent;\n",
              "    border-bottom-color: var(--fill-color);\n",
              "    animation:\n",
              "      spin 1s steps(1) infinite;\n",
              "  }\n",
              "\n",
              "  @keyframes spin {\n",
              "    0% {\n",
              "      border-color: transparent;\n",
              "      border-bottom-color: var(--fill-color);\n",
              "      border-left-color: var(--fill-color);\n",
              "    }\n",
              "    20% {\n",
              "      border-color: transparent;\n",
              "      border-left-color: var(--fill-color);\n",
              "      border-top-color: var(--fill-color);\n",
              "    }\n",
              "    30% {\n",
              "      border-color: transparent;\n",
              "      border-left-color: var(--fill-color);\n",
              "      border-top-color: var(--fill-color);\n",
              "      border-right-color: var(--fill-color);\n",
              "    }\n",
              "    40% {\n",
              "      border-color: transparent;\n",
              "      border-right-color: var(--fill-color);\n",
              "      border-top-color: var(--fill-color);\n",
              "    }\n",
              "    60% {\n",
              "      border-color: transparent;\n",
              "      border-right-color: var(--fill-color);\n",
              "    }\n",
              "    80% {\n",
              "      border-color: transparent;\n",
              "      border-right-color: var(--fill-color);\n",
              "      border-bottom-color: var(--fill-color);\n",
              "    }\n",
              "    90% {\n",
              "      border-color: transparent;\n",
              "      border-bottom-color: var(--fill-color);\n",
              "    }\n",
              "  }\n",
              "</style>\n",
              "\n",
              "  <script>\n",
              "    async function quickchart(key) {\n",
              "      const quickchartButtonEl =\n",
              "        document.querySelector('#' + key + ' button');\n",
              "      quickchartButtonEl.disabled = true;  // To prevent multiple clicks.\n",
              "      quickchartButtonEl.classList.add('colab-df-spinner');\n",
              "      try {\n",
              "        const charts = await google.colab.kernel.invokeFunction(\n",
              "            'suggestCharts', [key], {});\n",
              "      } catch (error) {\n",
              "        console.error('Error during call to suggestCharts:', error);\n",
              "      }\n",
              "      quickchartButtonEl.classList.remove('colab-df-spinner');\n",
              "      quickchartButtonEl.classList.add('colab-df-quickchart-complete');\n",
              "    }\n",
              "    (() => {\n",
              "      let quickchartButtonEl =\n",
              "        document.querySelector('#df-6dba9c40-5a3f-40a1-a757-be14de4fcb5f button');\n",
              "      quickchartButtonEl.style.display =\n",
              "        google.colab.kernel.accessAllowed ? 'block' : 'none';\n",
              "    })();\n",
              "  </script>\n",
              "</div>\n",
              "\n",
              "    </div>\n",
              "  </div>\n"
            ],
            "application/vnd.google.colaboratory.intrinsic+json": {
              "type": "dataframe",
              "variable_name": "y",
              "summary": "{\n  \"name\": \"y\",\n  \"rows\": 3722,\n  \"fields\": [\n    {\n      \"column\": \"LeaveOrNot\",\n      \"properties\": {\n        \"dtype\": \"number\",\n        \"std\": 0,\n        \"min\": 0,\n        \"max\": 1,\n        \"num_unique_values\": 2,\n        \"samples\": [\n          1,\n          0\n        ],\n        \"semantic_type\": \"\",\n        \"description\": \"\"\n      }\n    }\n  ]\n}"
            }
          },
          "metadata": {},
          "execution_count": 7
        }
      ],
      "source": [
        "y.head(3)"
      ]
    },
    {
      "cell_type": "markdown",
      "metadata": {
        "id": "eOdPiY5dWWLz"
      },
      "source": [
        "# **EDA**"
      ]
    },
    {
      "cell_type": "markdown",
      "source": [
        "## **Common data info**"
      ],
      "metadata": {
        "id": "vXQ0_nflwggb"
      }
    },
    {
      "cell_type": "code",
      "execution_count": null,
      "metadata": {
        "colab": {
          "base_uri": "https://localhost:8080/"
        },
        "id": "D6XoVZsaXxC8",
        "outputId": "70884ee7-0da1-4adf-d347-1f54ea8dd2fa"
      },
      "outputs": [
        {
          "output_type": "stream",
          "name": "stdout",
          "text": [
            "<class 'pandas.core.frame.DataFrame'>\n",
            "RangeIndex: 3722 entries, 0 to 3721\n",
            "Data columns (total 11 columns):\n",
            " #   Column                     Non-Null Count  Dtype  \n",
            "---  ------                     --------------  -----  \n",
            " 0   Education                  3722 non-null   object \n",
            " 1   JoiningYear                3722 non-null   int64  \n",
            " 2   City                       3722 non-null   object \n",
            " 3   PaymentTier                3722 non-null   int64  \n",
            " 4   Age                        3720 non-null   float64\n",
            " 5   Gender                     3720 non-null   object \n",
            " 6   EverBenched                3722 non-null   object \n",
            " 7   ExperienceInCurrentDomain  3722 non-null   int64  \n",
            " 8   id                         3722 non-null   int64  \n",
            " 9   Race                       3722 non-null   object \n",
            " 10  LeaveOrNot                 3722 non-null   int64  \n",
            "dtypes: float64(1), int64(5), object(5)\n",
            "memory usage: 320.0+ KB\n"
          ]
        }
      ],
      "source": [
        "df.info()"
      ]
    },
    {
      "cell_type": "code",
      "execution_count": null,
      "metadata": {
        "colab": {
          "base_uri": "https://localhost:8080/"
        },
        "id": "uJ9mVVDqYRHY",
        "outputId": "3f8cfe5b-ad31-4ae8-da88-7034225b4d75"
      },
      "outputs": [
        {
          "output_type": "stream",
          "name": "stdout",
          "text": [
            "<class 'pandas.core.frame.DataFrame'>\n",
            "Index: 3720 entries, 0 to 3721\n",
            "Data columns (total 11 columns):\n",
            " #   Column                     Non-Null Count  Dtype  \n",
            "---  ------                     --------------  -----  \n",
            " 0   Education                  3720 non-null   object \n",
            " 1   JoiningYear                3720 non-null   int64  \n",
            " 2   City                       3720 non-null   object \n",
            " 3   PaymentTier                3720 non-null   int64  \n",
            " 4   Age                        3720 non-null   float64\n",
            " 5   Gender                     3720 non-null   object \n",
            " 6   EverBenched                3720 non-null   object \n",
            " 7   ExperienceInCurrentDomain  3720 non-null   int64  \n",
            " 8   id                         3720 non-null   int64  \n",
            " 9   Race                       3720 non-null   object \n",
            " 10  LeaveOrNot                 3720 non-null   int64  \n",
            "dtypes: float64(1), int64(5), object(5)\n",
            "memory usage: 348.8+ KB\n"
          ]
        }
      ],
      "source": [
        "nan_indexes = df[df[\"Age\"].isnull() | df[\"Gender\"].isnull()]\n",
        "df.drop(nan_indexes.index, inplace=True)\n",
        "df.info()"
      ]
    },
    {
      "cell_type": "code",
      "execution_count": null,
      "metadata": {
        "id": "YTSCXbn8Ym7l"
      },
      "outputs": [],
      "source": [
        "df.reset_index(drop=True, inplace=True)"
      ]
    },
    {
      "cell_type": "code",
      "source": [
        "df.describe()"
      ],
      "metadata": {
        "colab": {
          "base_uri": "https://localhost:8080/",
          "height": 300
        },
        "id": "b0dsMnkcwlRh",
        "outputId": "911ed15e-d572-4a96-e5a6-767f0412e2e7"
      },
      "execution_count": null,
      "outputs": [
        {
          "output_type": "execute_result",
          "data": {
            "text/plain": [
              "       JoiningYear  PaymentTier          Age  ExperienceInCurrentDomain  \\\n",
              "count  3720.000000  3720.000000  3720.000000                3720.000000   \n",
              "mean   2015.075538     2.696774    30.928763                   2.898656   \n",
              "std       1.864874     0.558000     4.860963                   1.562087   \n",
              "min    2012.000000     1.000000    23.000000                   0.000000   \n",
              "25%    2014.000000     2.000000    27.000000                   2.000000   \n",
              "50%    2015.000000     3.000000    29.000000                   3.000000   \n",
              "75%    2017.000000     3.000000    34.000000                   4.000000   \n",
              "max    2018.000000     3.000000    43.000000                   7.000000   \n",
              "\n",
              "                id   LeaveOrNot  \n",
              "count  3720.000000  3720.000000  \n",
              "mean   2349.169086     0.351075  \n",
              "std    1335.856993     0.477371  \n",
              "min       4.000000     0.000000  \n",
              "25%    1207.750000     0.000000  \n",
              "50%    2367.500000     0.000000  \n",
              "75%    3497.250000     1.000000  \n",
              "max    4651.000000     1.000000  "
            ],
            "text/html": [
              "\n",
              "  <div id=\"df-6df9b898-101c-43db-9813-046a8571f84b\" class=\"colab-df-container\">\n",
              "    <div>\n",
              "<style scoped>\n",
              "    .dataframe tbody tr th:only-of-type {\n",
              "        vertical-align: middle;\n",
              "    }\n",
              "\n",
              "    .dataframe tbody tr th {\n",
              "        vertical-align: top;\n",
              "    }\n",
              "\n",
              "    .dataframe thead th {\n",
              "        text-align: right;\n",
              "    }\n",
              "</style>\n",
              "<table border=\"1\" class=\"dataframe\">\n",
              "  <thead>\n",
              "    <tr style=\"text-align: right;\">\n",
              "      <th></th>\n",
              "      <th>JoiningYear</th>\n",
              "      <th>PaymentTier</th>\n",
              "      <th>Age</th>\n",
              "      <th>ExperienceInCurrentDomain</th>\n",
              "      <th>id</th>\n",
              "      <th>LeaveOrNot</th>\n",
              "    </tr>\n",
              "  </thead>\n",
              "  <tbody>\n",
              "    <tr>\n",
              "      <th>count</th>\n",
              "      <td>3720.000000</td>\n",
              "      <td>3720.000000</td>\n",
              "      <td>3720.000000</td>\n",
              "      <td>3720.000000</td>\n",
              "      <td>3720.000000</td>\n",
              "      <td>3720.000000</td>\n",
              "    </tr>\n",
              "    <tr>\n",
              "      <th>mean</th>\n",
              "      <td>2015.075538</td>\n",
              "      <td>2.696774</td>\n",
              "      <td>30.928763</td>\n",
              "      <td>2.898656</td>\n",
              "      <td>2349.169086</td>\n",
              "      <td>0.351075</td>\n",
              "    </tr>\n",
              "    <tr>\n",
              "      <th>std</th>\n",
              "      <td>1.864874</td>\n",
              "      <td>0.558000</td>\n",
              "      <td>4.860963</td>\n",
              "      <td>1.562087</td>\n",
              "      <td>1335.856993</td>\n",
              "      <td>0.477371</td>\n",
              "    </tr>\n",
              "    <tr>\n",
              "      <th>min</th>\n",
              "      <td>2012.000000</td>\n",
              "      <td>1.000000</td>\n",
              "      <td>23.000000</td>\n",
              "      <td>0.000000</td>\n",
              "      <td>4.000000</td>\n",
              "      <td>0.000000</td>\n",
              "    </tr>\n",
              "    <tr>\n",
              "      <th>25%</th>\n",
              "      <td>2014.000000</td>\n",
              "      <td>2.000000</td>\n",
              "      <td>27.000000</td>\n",
              "      <td>2.000000</td>\n",
              "      <td>1207.750000</td>\n",
              "      <td>0.000000</td>\n",
              "    </tr>\n",
              "    <tr>\n",
              "      <th>50%</th>\n",
              "      <td>2015.000000</td>\n",
              "      <td>3.000000</td>\n",
              "      <td>29.000000</td>\n",
              "      <td>3.000000</td>\n",
              "      <td>2367.500000</td>\n",
              "      <td>0.000000</td>\n",
              "    </tr>\n",
              "    <tr>\n",
              "      <th>75%</th>\n",
              "      <td>2017.000000</td>\n",
              "      <td>3.000000</td>\n",
              "      <td>34.000000</td>\n",
              "      <td>4.000000</td>\n",
              "      <td>3497.250000</td>\n",
              "      <td>1.000000</td>\n",
              "    </tr>\n",
              "    <tr>\n",
              "      <th>max</th>\n",
              "      <td>2018.000000</td>\n",
              "      <td>3.000000</td>\n",
              "      <td>43.000000</td>\n",
              "      <td>7.000000</td>\n",
              "      <td>4651.000000</td>\n",
              "      <td>1.000000</td>\n",
              "    </tr>\n",
              "  </tbody>\n",
              "</table>\n",
              "</div>\n",
              "    <div class=\"colab-df-buttons\">\n",
              "\n",
              "  <div class=\"colab-df-container\">\n",
              "    <button class=\"colab-df-convert\" onclick=\"convertToInteractive('df-6df9b898-101c-43db-9813-046a8571f84b')\"\n",
              "            title=\"Convert this dataframe to an interactive table.\"\n",
              "            style=\"display:none;\">\n",
              "\n",
              "  <svg xmlns=\"http://www.w3.org/2000/svg\" height=\"24px\" viewBox=\"0 -960 960 960\">\n",
              "    <path d=\"M120-120v-720h720v720H120Zm60-500h600v-160H180v160Zm220 220h160v-160H400v160Zm0 220h160v-160H400v160ZM180-400h160v-160H180v160Zm440 0h160v-160H620v160ZM180-180h160v-160H180v160Zm440 0h160v-160H620v160Z\"/>\n",
              "  </svg>\n",
              "    </button>\n",
              "\n",
              "  <style>\n",
              "    .colab-df-container {\n",
              "      display:flex;\n",
              "      gap: 12px;\n",
              "    }\n",
              "\n",
              "    .colab-df-convert {\n",
              "      background-color: #E8F0FE;\n",
              "      border: none;\n",
              "      border-radius: 50%;\n",
              "      cursor: pointer;\n",
              "      display: none;\n",
              "      fill: #1967D2;\n",
              "      height: 32px;\n",
              "      padding: 0 0 0 0;\n",
              "      width: 32px;\n",
              "    }\n",
              "\n",
              "    .colab-df-convert:hover {\n",
              "      background-color: #E2EBFA;\n",
              "      box-shadow: 0px 1px 2px rgba(60, 64, 67, 0.3), 0px 1px 3px 1px rgba(60, 64, 67, 0.15);\n",
              "      fill: #174EA6;\n",
              "    }\n",
              "\n",
              "    .colab-df-buttons div {\n",
              "      margin-bottom: 4px;\n",
              "    }\n",
              "\n",
              "    [theme=dark] .colab-df-convert {\n",
              "      background-color: #3B4455;\n",
              "      fill: #D2E3FC;\n",
              "    }\n",
              "\n",
              "    [theme=dark] .colab-df-convert:hover {\n",
              "      background-color: #434B5C;\n",
              "      box-shadow: 0px 1px 3px 1px rgba(0, 0, 0, 0.15);\n",
              "      filter: drop-shadow(0px 1px 2px rgba(0, 0, 0, 0.3));\n",
              "      fill: #FFFFFF;\n",
              "    }\n",
              "  </style>\n",
              "\n",
              "    <script>\n",
              "      const buttonEl =\n",
              "        document.querySelector('#df-6df9b898-101c-43db-9813-046a8571f84b button.colab-df-convert');\n",
              "      buttonEl.style.display =\n",
              "        google.colab.kernel.accessAllowed ? 'block' : 'none';\n",
              "\n",
              "      async function convertToInteractive(key) {\n",
              "        const element = document.querySelector('#df-6df9b898-101c-43db-9813-046a8571f84b');\n",
              "        const dataTable =\n",
              "          await google.colab.kernel.invokeFunction('convertToInteractive',\n",
              "                                                    [key], {});\n",
              "        if (!dataTable) return;\n",
              "\n",
              "        const docLinkHtml = 'Like what you see? Visit the ' +\n",
              "          '<a target=\"_blank\" href=https://colab.research.google.com/notebooks/data_table.ipynb>data table notebook</a>'\n",
              "          + ' to learn more about interactive tables.';\n",
              "        element.innerHTML = '';\n",
              "        dataTable['output_type'] = 'display_data';\n",
              "        await google.colab.output.renderOutput(dataTable, element);\n",
              "        const docLink = document.createElement('div');\n",
              "        docLink.innerHTML = docLinkHtml;\n",
              "        element.appendChild(docLink);\n",
              "      }\n",
              "    </script>\n",
              "  </div>\n",
              "\n",
              "\n",
              "<div id=\"df-c487f655-75ce-433a-9f6d-876dc23bca31\">\n",
              "  <button class=\"colab-df-quickchart\" onclick=\"quickchart('df-c487f655-75ce-433a-9f6d-876dc23bca31')\"\n",
              "            title=\"Suggest charts\"\n",
              "            style=\"display:none;\">\n",
              "\n",
              "<svg xmlns=\"http://www.w3.org/2000/svg\" height=\"24px\"viewBox=\"0 0 24 24\"\n",
              "     width=\"24px\">\n",
              "    <g>\n",
              "        <path d=\"M19 3H5c-1.1 0-2 .9-2 2v14c0 1.1.9 2 2 2h14c1.1 0 2-.9 2-2V5c0-1.1-.9-2-2-2zM9 17H7v-7h2v7zm4 0h-2V7h2v10zm4 0h-2v-4h2v4z\"/>\n",
              "    </g>\n",
              "</svg>\n",
              "  </button>\n",
              "\n",
              "<style>\n",
              "  .colab-df-quickchart {\n",
              "      --bg-color: #E8F0FE;\n",
              "      --fill-color: #1967D2;\n",
              "      --hover-bg-color: #E2EBFA;\n",
              "      --hover-fill-color: #174EA6;\n",
              "      --disabled-fill-color: #AAA;\n",
              "      --disabled-bg-color: #DDD;\n",
              "  }\n",
              "\n",
              "  [theme=dark] .colab-df-quickchart {\n",
              "      --bg-color: #3B4455;\n",
              "      --fill-color: #D2E3FC;\n",
              "      --hover-bg-color: #434B5C;\n",
              "      --hover-fill-color: #FFFFFF;\n",
              "      --disabled-bg-color: #3B4455;\n",
              "      --disabled-fill-color: #666;\n",
              "  }\n",
              "\n",
              "  .colab-df-quickchart {\n",
              "    background-color: var(--bg-color);\n",
              "    border: none;\n",
              "    border-radius: 50%;\n",
              "    cursor: pointer;\n",
              "    display: none;\n",
              "    fill: var(--fill-color);\n",
              "    height: 32px;\n",
              "    padding: 0;\n",
              "    width: 32px;\n",
              "  }\n",
              "\n",
              "  .colab-df-quickchart:hover {\n",
              "    background-color: var(--hover-bg-color);\n",
              "    box-shadow: 0 1px 2px rgba(60, 64, 67, 0.3), 0 1px 3px 1px rgba(60, 64, 67, 0.15);\n",
              "    fill: var(--button-hover-fill-color);\n",
              "  }\n",
              "\n",
              "  .colab-df-quickchart-complete:disabled,\n",
              "  .colab-df-quickchart-complete:disabled:hover {\n",
              "    background-color: var(--disabled-bg-color);\n",
              "    fill: var(--disabled-fill-color);\n",
              "    box-shadow: none;\n",
              "  }\n",
              "\n",
              "  .colab-df-spinner {\n",
              "    border: 2px solid var(--fill-color);\n",
              "    border-color: transparent;\n",
              "    border-bottom-color: var(--fill-color);\n",
              "    animation:\n",
              "      spin 1s steps(1) infinite;\n",
              "  }\n",
              "\n",
              "  @keyframes spin {\n",
              "    0% {\n",
              "      border-color: transparent;\n",
              "      border-bottom-color: var(--fill-color);\n",
              "      border-left-color: var(--fill-color);\n",
              "    }\n",
              "    20% {\n",
              "      border-color: transparent;\n",
              "      border-left-color: var(--fill-color);\n",
              "      border-top-color: var(--fill-color);\n",
              "    }\n",
              "    30% {\n",
              "      border-color: transparent;\n",
              "      border-left-color: var(--fill-color);\n",
              "      border-top-color: var(--fill-color);\n",
              "      border-right-color: var(--fill-color);\n",
              "    }\n",
              "    40% {\n",
              "      border-color: transparent;\n",
              "      border-right-color: var(--fill-color);\n",
              "      border-top-color: var(--fill-color);\n",
              "    }\n",
              "    60% {\n",
              "      border-color: transparent;\n",
              "      border-right-color: var(--fill-color);\n",
              "    }\n",
              "    80% {\n",
              "      border-color: transparent;\n",
              "      border-right-color: var(--fill-color);\n",
              "      border-bottom-color: var(--fill-color);\n",
              "    }\n",
              "    90% {\n",
              "      border-color: transparent;\n",
              "      border-bottom-color: var(--fill-color);\n",
              "    }\n",
              "  }\n",
              "</style>\n",
              "\n",
              "  <script>\n",
              "    async function quickchart(key) {\n",
              "      const quickchartButtonEl =\n",
              "        document.querySelector('#' + key + ' button');\n",
              "      quickchartButtonEl.disabled = true;  // To prevent multiple clicks.\n",
              "      quickchartButtonEl.classList.add('colab-df-spinner');\n",
              "      try {\n",
              "        const charts = await google.colab.kernel.invokeFunction(\n",
              "            'suggestCharts', [key], {});\n",
              "      } catch (error) {\n",
              "        console.error('Error during call to suggestCharts:', error);\n",
              "      }\n",
              "      quickchartButtonEl.classList.remove('colab-df-spinner');\n",
              "      quickchartButtonEl.classList.add('colab-df-quickchart-complete');\n",
              "    }\n",
              "    (() => {\n",
              "      let quickchartButtonEl =\n",
              "        document.querySelector('#df-c487f655-75ce-433a-9f6d-876dc23bca31 button');\n",
              "      quickchartButtonEl.style.display =\n",
              "        google.colab.kernel.accessAllowed ? 'block' : 'none';\n",
              "    })();\n",
              "  </script>\n",
              "</div>\n",
              "\n",
              "    </div>\n",
              "  </div>\n"
            ],
            "application/vnd.google.colaboratory.intrinsic+json": {
              "type": "dataframe",
              "summary": "{\n  \"name\": \"df\",\n  \"rows\": 8,\n  \"fields\": [\n    {\n      \"column\": \"JoiningYear\",\n      \"properties\": {\n        \"dtype\": \"number\",\n        \"std\": 996.2770226879064,\n        \"min\": 1.8648742124088085,\n        \"max\": 3720.0,\n        \"num_unique_values\": 8,\n        \"samples\": [\n          2015.0755376344086,\n          2015.0,\n          3720.0\n        ],\n        \"semantic_type\": \"\",\n        \"description\": \"\"\n      }\n    },\n    {\n      \"column\": \"PaymentTier\",\n      \"properties\": {\n        \"dtype\": \"number\",\n        \"std\": 1314.4484750950805,\n        \"min\": 0.557999656496599,\n        \"max\": 3720.0,\n        \"num_unique_values\": 6,\n        \"samples\": [\n          3720.0,\n          2.696774193548387,\n          3.0\n        ],\n        \"semantic_type\": \"\",\n        \"description\": \"\"\n      }\n    },\n    {\n      \"column\": \"Age\",\n      \"properties\": {\n        \"dtype\": \"number\",\n        \"std\": 1305.5771498226882,\n        \"min\": 4.8609634227284175,\n        \"max\": 3720.0,\n        \"num_unique_values\": 8,\n        \"samples\": [\n          30.928763440860216,\n          29.0,\n          3720.0\n        ],\n        \"semantic_type\": \"\",\n        \"description\": \"\"\n      }\n    },\n    {\n      \"column\": \"ExperienceInCurrentDomain\",\n      \"properties\": {\n        \"dtype\": \"number\",\n        \"std\": 1314.1867676003176,\n        \"min\": 0.0,\n        \"max\": 3720.0,\n        \"num_unique_values\": 8,\n        \"samples\": [\n          2.8986559139784944,\n          3.0,\n          3720.0\n        ],\n        \"semantic_type\": \"\",\n        \"description\": \"\"\n      }\n    },\n    {\n      \"column\": \"id\",\n      \"properties\": {\n        \"dtype\": \"number\",\n        \"std\": 1526.4855015694598,\n        \"min\": 4.0,\n        \"max\": 4651.0,\n        \"num_unique_values\": 8,\n        \"samples\": [\n          2349.1690860215053,\n          2367.5,\n          3720.0\n        ],\n        \"semantic_type\": \"\",\n        \"description\": \"\"\n      }\n    },\n    {\n      \"column\": \"LeaveOrNot\",\n      \"properties\": {\n        \"dtype\": \"number\",\n        \"std\": 1315.075820544831,\n        \"min\": 0.0,\n        \"max\": 3720.0,\n        \"num_unique_values\": 5,\n        \"samples\": [\n          0.3510752688172043,\n          1.0,\n          0.47737059317468605\n        ],\n        \"semantic_type\": \"\",\n        \"description\": \"\"\n      }\n    }\n  ]\n}"
            }
          },
          "metadata": {},
          "execution_count": 25
        }
      ]
    },
    {
      "cell_type": "markdown",
      "source": [
        "## **Features exploration**"
      ],
      "metadata": {
        "id": "jwFq02MKwtD8"
      }
    },
    {
      "cell_type": "markdown",
      "metadata": {
        "id": "a0gDv-6kWf8g"
      },
      "source": [
        "### **Education COL**"
      ]
    },
    {
      "cell_type": "code",
      "execution_count": null,
      "metadata": {
        "colab": {
          "base_uri": "https://localhost:8080/"
        },
        "id": "hT077twoWX1a",
        "outputId": "07472bdc-bd31-450d-8c2e-da0652741c7c"
      },
      "outputs": [
        {
          "output_type": "execute_result",
          "data": {
            "text/plain": [
              "array(['Bachelors', 'PHD', 'Masters'], dtype=object)"
            ]
          },
          "metadata": {},
          "execution_count": 9
        }
      ],
      "source": [
        "df['Education'].unique()"
      ]
    },
    {
      "cell_type": "code",
      "execution_count": null,
      "metadata": {
        "colab": {
          "base_uri": "https://localhost:8080/"
        },
        "id": "tMjV0tuUWnOK",
        "outputId": "df6063b1-18a0-4a76-ce06-d211d0220b54"
      },
      "outputs": [
        {
          "output_type": "execute_result",
          "data": {
            "text/plain": [
              "0"
            ]
          },
          "metadata": {},
          "execution_count": 10
        }
      ],
      "source": [
        "# check if there are nulls\n",
        "df['Education'].size - df['Education'].count()"
      ]
    },
    {
      "cell_type": "code",
      "execution_count": null,
      "metadata": {
        "colab": {
          "base_uri": "https://localhost:8080/",
          "height": 430
        },
        "id": "qQspPneZWuXK",
        "outputId": "f421866d-bd15-47d4-a8db-aa76b44f35a9"
      },
      "outputs": [
        {
          "output_type": "display_data",
          "data": {
            "text/plain": [
              "<Figure size 640x480 with 1 Axes>"
            ],
            "image/png": "[encoded data removed]"
          },
          "metadata": {}
        }
      ],
      "source": [
        "education = df[['Education', 'LeaveOrNot']].groupby(\"Education\").mean()\n",
        "\n",
        "# prob of LeaveOrNot for Education\n",
        "plt.bar(education.index, education['LeaveOrNot'])\n",
        "plt.show()"
      ]
    },
    {
      "cell_type": "code",
      "source": [
        "sns.countplot(data = df, x='Education', hue='LeaveOrNot')"
      ],
      "metadata": {
        "colab": {
          "base_uri": "https://localhost:8080/",
          "height": 466
        },
        "id": "oYj9LwS3yRr9",
        "outputId": "b8e91a1c-c0f3-4c7f-cf7e-b759a44636b6"
      },
      "execution_count": null,
      "outputs": [
        {
          "output_type": "execute_result",
          "data": {
            "text/plain": [
              "<Axes: xlabel='Education', ylabel='count'>"
            ]
          },
          "metadata": {},
          "execution_count": 27
        },
        {
          "output_type": "display_data",
          "data": {
            "text/plain": [
              "<Figure size 640x480 with 1 Axes>"
            ],
            "image/png": "[encoded data removed]"
          },
          "metadata": {}
        }
      ]
    },
    {
      "cell_type": "markdown",
      "metadata": {
        "id": "_hb0BubqXlG4"
      },
      "source": [
        "### **JoiningYear COL**"
      ]
    },
    {
      "cell_type": "code",
      "execution_count": null,
      "metadata": {
        "colab": {
          "base_uri": "https://localhost:8080/"
        },
        "id": "AovcynlRXpqL",
        "outputId": "1856fbca-2e3b-4d63-d06b-7cb83697117f"
      },
      "outputs": [
        {
          "output_type": "execute_result",
          "data": {
            "text/plain": [
              "array([2016, 2012, 2015, 2017, 2014, 2013, 2018])"
            ]
          },
          "metadata": {},
          "execution_count": 29
        }
      ],
      "source": [
        "df['JoiningYear'].unique()"
      ]
    },
    {
      "cell_type": "code",
      "execution_count": null,
      "metadata": {
        "colab": {
          "base_uri": "https://localhost:8080/",
          "height": 430
        },
        "id": "8ouPvDBdXte5",
        "outputId": "cb88c947-211b-4965-9b38-59a7a54c8c08"
      },
      "outputs": [
        {
          "output_type": "display_data",
          "data": {
            "text/plain": [
              "<Figure size 640x480 with 1 Axes>"
            ],
            "image/png": "[encoded data removed]"
          },
          "metadata": {}
        }
      ],
      "source": [
        "joiningYear = df[['JoiningYear', 'LeaveOrNot']].groupby(\"JoiningYear\").mean()\n",
        "\n",
        "# prob of LeaveOrNot for Education\n",
        "plt.bar(joiningYear.index, joiningYear['LeaveOrNot'])\n",
        "plt.show()"
      ]
    },
    {
      "cell_type": "code",
      "execution_count": null,
      "metadata": {
        "colab": {
          "base_uri": "https://localhost:8080/"
        },
        "id": "qDAH45ZJY9I6",
        "outputId": "d8f569f7-1ba1-4fda-aea9-42210abeb0fc"
      },
      "outputs": [
        {
          "output_type": "execute_result",
          "data": {
            "text/plain": [
              "             Education  City  PaymentTier  Age  Gender  EverBenched  \\\n",
              "JoiningYear                                                           \n",
              "2012               399   399          399  399     399          399   \n",
              "2013               530   530          530  530     530          530   \n",
              "2014               565   565          565  565     565          565   \n",
              "2015               615   615          615  615     615          615   \n",
              "2016               415   415          415  415     415          415   \n",
              "2017               900   900          900  900     900          900   \n",
              "2018               296   296          296  296     296          296   \n",
              "\n",
              "             ExperienceInCurrentDomain   id  Race  LeaveOrNot  \n",
              "JoiningYear                                                    \n",
              "2012                               399  399   399         399  \n",
              "2013                               530  530   530         530  \n",
              "2014                               565  565   565         565  \n",
              "2015                               615  615   615         615  \n",
              "2016                               415  415   415         415  \n",
              "2017                               900  900   900         900  \n",
              "2018                               296  296   296         296  "
            ],
            "text/html": [
              "\n",
              "  <div id=\"df-5440dbf8-dc8b-4535-8f37-d6902a4cbdd6\" class=\"colab-df-container\">\n",
              "    <div>\n",
              "<style scoped>\n",
              "    .dataframe tbody tr th:only-of-type {\n",
              "        vertical-align: middle;\n",
              "    }\n",
              "\n",
              "    .dataframe tbody tr th {\n",
              "        vertical-align: top;\n",
              "    }\n",
              "\n",
              "    .dataframe thead th {\n",
              "        text-align: right;\n",
              "    }\n",
              "</style>\n",
              "<table border=\"1\" class=\"dataframe\">\n",
              "  <thead>\n",
              "    <tr style=\"text-align: right;\">\n",
              "      <th></th>\n",
              "      <th>Education</th>\n",
              "      <th>City</th>\n",
              "      <th>PaymentTier</th>\n",
              "      <th>Age</th>\n",
              "      <th>Gender</th>\n",
              "      <th>EverBenched</th>\n",
              "      <th>ExperienceInCurrentDomain</th>\n",
              "      <th>id</th>\n",
              "      <th>Race</th>\n",
              "      <th>LeaveOrNot</th>\n",
              "    </tr>\n",
              "    <tr>\n",
              "      <th>JoiningYear</th>\n",
              "      <th></th>\n",
              "      <th></th>\n",
              "      <th></th>\n",
              "      <th></th>\n",
              "      <th></th>\n",
              "      <th></th>\n",
              "      <th></th>\n",
              "      <th></th>\n",
              "      <th></th>\n",
              "      <th></th>\n",
              "    </tr>\n",
              "  </thead>\n",
              "  <tbody>\n",
              "    <tr>\n",
              "      <th>2012</th>\n",
              "      <td>399</td>\n",
              "      <td>399</td>\n",
              "      <td>399</td>\n",
              "      <td>399</td>\n",
              "      <td>399</td>\n",
              "      <td>399</td>\n",
              "      <td>399</td>\n",
              "      <td>399</td>\n",
              "      <td>399</td>\n",
              "      <td>399</td>\n",
              "    </tr>\n",
              "    <tr>\n",
              "      <th>2013</th>\n",
              "      <td>530</td>\n",
              "      <td>530</td>\n",
              "      <td>530</td>\n",
              "      <td>530</td>\n",
              "      <td>530</td>\n",
              "      <td>530</td>\n",
              "      <td>530</td>\n",
              "      <td>530</td>\n",
              "      <td>530</td>\n",
              "      <td>530</td>\n",
              "    </tr>\n",
              "    <tr>\n",
              "      <th>2014</th>\n",
              "      <td>565</td>\n",
              "      <td>565</td>\n",
              "      <td>565</td>\n",
              "      <td>565</td>\n",
              "      <td>565</td>\n",
              "      <td>565</td>\n",
              "      <td>565</td>\n",
              "      <td>565</td>\n",
              "      <td>565</td>\n",
              "      <td>565</td>\n",
              "    </tr>\n",
              "    <tr>\n",
              "      <th>2015</th>\n",
              "      <td>615</td>\n",
              "      <td>615</td>\n",
              "      <td>615</td>\n",
              "      <td>615</td>\n",
              "      <td>615</td>\n",
              "      <td>615</td>\n",
              "      <td>615</td>\n",
              "      <td>615</td>\n",
              "      <td>615</td>\n",
              "      <td>615</td>\n",
              "    </tr>\n",
              "    <tr>\n",
              "      <th>2016</th>\n",
              "      <td>415</td>\n",
              "      <td>415</td>\n",
              "      <td>415</td>\n",
              "      <td>415</td>\n",
              "      <td>415</td>\n",
              "      <td>415</td>\n",
              "      <td>415</td>\n",
              "      <td>415</td>\n",
              "      <td>415</td>\n",
              "      <td>415</td>\n",
              "    </tr>\n",
              "    <tr>\n",
              "      <th>2017</th>\n",
              "      <td>900</td>\n",
              "      <td>900</td>\n",
              "      <td>900</td>\n",
              "      <td>900</td>\n",
              "      <td>900</td>\n",
              "      <td>900</td>\n",
              "      <td>900</td>\n",
              "      <td>900</td>\n",
              "      <td>900</td>\n",
              "      <td>900</td>\n",
              "    </tr>\n",
              "    <tr>\n",
              "      <th>2018</th>\n",
              "      <td>296</td>\n",
              "      <td>296</td>\n",
              "      <td>296</td>\n",
              "      <td>296</td>\n",
              "      <td>296</td>\n",
              "      <td>296</td>\n",
              "      <td>296</td>\n",
              "      <td>296</td>\n",
              "      <td>296</td>\n",
              "      <td>296</td>\n",
              "    </tr>\n",
              "  </tbody>\n",
              "</table>\n",
              "</div>\n",
              "    <div class=\"colab-df-buttons\">\n",
              "\n",
              "  <div class=\"colab-df-container\">\n",
              "    <button class=\"colab-df-convert\" onclick=\"convertToInteractive('df-5440dbf8-dc8b-4535-8f37-d6902a4cbdd6')\"\n",
              "            title=\"Convert this dataframe to an interactive table.\"\n",
              "            style=\"display:none;\">\n",
              "\n",
              "  <svg xmlns=\"http://www.w3.org/2000/svg\" height=\"24px\" viewBox=\"0 -960 960 960\">\n",
              "    <path d=\"M120-120v-720h720v720H120Zm60-500h600v-160H180v160Zm220 220h160v-160H400v160Zm0 220h160v-160H400v160ZM180-400h160v-160H180v160Zm440 0h160v-160H620v160ZM180-180h160v-160H180v160Zm440 0h160v-160H620v160Z\"/>\n",
              "  </svg>\n",
              "    </button>\n",
              "\n",
              "  <style>\n",
              "    .colab-df-container {\n",
              "      display:flex;\n",
              "      gap: 12px;\n",
              "    }\n",
              "\n",
              "    .colab-df-convert {\n",
              "      background-color: #E8F0FE;\n",
              "      border: none;\n",
              "      border-radius: 50%;\n",
              "      cursor: pointer;\n",
              "      display: none;\n",
              "      fill: #1967D2;\n",
              "      height: 32px;\n",
              "      padding: 0 0 0 0;\n",
              "      width: 32px;\n",
              "    }\n",
              "\n",
              "    .colab-df-convert:hover {\n",
              "      background-color: #E2EBFA;\n",
              "      box-shadow: 0px 1px 2px rgba(60, 64, 67, 0.3), 0px 1px 3px 1px rgba(60, 64, 67, 0.15);\n",
              "      fill: #174EA6;\n",
              "    }\n",
              "\n",
              "    .colab-df-buttons div {\n",
              "      margin-bottom: 4px;\n",
              "    }\n",
              "\n",
              "    [theme=dark] .colab-df-convert {\n",
              "      background-color: #3B4455;\n",
              "      fill: #D2E3FC;\n",
              "    }\n",
              "\n",
              "    [theme=dark] .colab-df-convert:hover {\n",
              "      background-color: #434B5C;\n",
              "      box-shadow: 0px 1px 3px 1px rgba(0, 0, 0, 0.15);\n",
              "      filter: drop-shadow(0px 1px 2px rgba(0, 0, 0, 0.3));\n",
              "      fill: #FFFFFF;\n",
              "    }\n",
              "  </style>\n",
              "\n",
              "    <script>\n",
              "      const buttonEl =\n",
              "        document.querySelector('#df-5440dbf8-dc8b-4535-8f37-d6902a4cbdd6 button.colab-df-convert');\n",
              "      buttonEl.style.display =\n",
              "        google.colab.kernel.accessAllowed ? 'block' : 'none';\n",
              "\n",
              "      async function convertToInteractive(key) {\n",
              "        const element = document.querySelector('#df-5440dbf8-dc8b-4535-8f37-d6902a4cbdd6');\n",
              "        const dataTable =\n",
              "          await google.colab.kernel.invokeFunction('convertToInteractive',\n",
              "                                                    [key], {});\n",
              "        if (!dataTable) return;\n",
              "\n",
              "        const docLinkHtml = 'Like what you see? Visit the ' +\n",
              "          '<a target=\"_blank\" href=https://colab.research.google.com/notebooks/data_table.ipynb>data table notebook</a>'\n",
              "          + ' to learn more about interactive tables.';\n",
              "        element.innerHTML = '';\n",
              "        dataTable['output_type'] = 'display_data';\n",
              "        await google.colab.output.renderOutput(dataTable, element);\n",
              "        const docLink = document.createElement('div');\n",
              "        docLink.innerHTML = docLinkHtml;\n",
              "        element.appendChild(docLink);\n",
              "      }\n",
              "    </script>\n",
              "  </div>\n",
              "\n",
              "\n",
              "<div id=\"df-b3027d92-7784-4c96-979b-956eb455a19d\">\n",
              "  <button class=\"colab-df-quickchart\" onclick=\"quickchart('df-b3027d92-7784-4c96-979b-956eb455a19d')\"\n",
              "            title=\"Suggest charts\"\n",
              "            style=\"display:none;\">\n",
              "\n",
              "<svg xmlns=\"http://www.w3.org/2000/svg\" height=\"24px\"viewBox=\"0 0 24 24\"\n",
              "     width=\"24px\">\n",
              "    <g>\n",
              "        <path d=\"M19 3H5c-1.1 0-2 .9-2 2v14c0 1.1.9 2 2 2h14c1.1 0 2-.9 2-2V5c0-1.1-.9-2-2-2zM9 17H7v-7h2v7zm4 0h-2V7h2v10zm4 0h-2v-4h2v4z\"/>\n",
              "    </g>\n",
              "</svg>\n",
              "  </button>\n",
              "\n",
              "<style>\n",
              "  .colab-df-quickchart {\n",
              "      --bg-color: #E8F0FE;\n",
              "      --fill-color: #1967D2;\n",
              "      --hover-bg-color: #E2EBFA;\n",
              "      --hover-fill-color: #174EA6;\n",
              "      --disabled-fill-color: #AAA;\n",
              "      --disabled-bg-color: #DDD;\n",
              "  }\n",
              "\n",
              "  [theme=dark] .colab-df-quickchart {\n",
              "      --bg-color: #3B4455;\n",
              "      --fill-color: #D2E3FC;\n",
              "      --hover-bg-color: #434B5C;\n",
              "      --hover-fill-color: #FFFFFF;\n",
              "      --disabled-bg-color: #3B4455;\n",
              "      --disabled-fill-color: #666;\n",
              "  }\n",
              "\n",
              "  .colab-df-quickchart {\n",
              "    background-color: var(--bg-color);\n",
              "    border: none;\n",
              "    border-radius: 50%;\n",
              "    cursor: pointer;\n",
              "    display: none;\n",
              "    fill: var(--fill-color);\n",
              "    height: 32px;\n",
              "    padding: 0;\n",
              "    width: 32px;\n",
              "  }\n",
              "\n",
              "  .colab-df-quickchart:hover {\n",
              "    background-color: var(--hover-bg-color);\n",
              "    box-shadow: 0 1px 2px rgba(60, 64, 67, 0.3), 0 1px 3px 1px rgba(60, 64, 67, 0.15);\n",
              "    fill: var(--button-hover-fill-color);\n",
              "  }\n",
              "\n",
              "  .colab-df-quickchart-complete:disabled,\n",
              "  .colab-df-quickchart-complete:disabled:hover {\n",
              "    background-color: var(--disabled-bg-color);\n",
              "    fill: var(--disabled-fill-color);\n",
              "    box-shadow: none;\n",
              "  }\n",
              "\n",
              "  .colab-df-spinner {\n",
              "    border: 2px solid var(--fill-color);\n",
              "    border-color: transparent;\n",
              "    border-bottom-color: var(--fill-color);\n",
              "    animation:\n",
              "      spin 1s steps(1) infinite;\n",
              "  }\n",
              "\n",
              "  @keyframes spin {\n",
              "    0% {\n",
              "      border-color: transparent;\n",
              "      border-bottom-color: var(--fill-color);\n",
              "      border-left-color: var(--fill-color);\n",
              "    }\n",
              "    20% {\n",
              "      border-color: transparent;\n",
              "      border-left-color: var(--fill-color);\n",
              "      border-top-color: var(--fill-color);\n",
              "    }\n",
              "    30% {\n",
              "      border-color: transparent;\n",
              "      border-left-color: var(--fill-color);\n",
              "      border-top-color: var(--fill-color);\n",
              "      border-right-color: var(--fill-color);\n",
              "    }\n",
              "    40% {\n",
              "      border-color: transparent;\n",
              "      border-right-color: var(--fill-color);\n",
              "      border-top-color: var(--fill-color);\n",
              "    }\n",
              "    60% {\n",
              "      border-color: transparent;\n",
              "      border-right-color: var(--fill-color);\n",
              "    }\n",
              "    80% {\n",
              "      border-color: transparent;\n",
              "      border-right-color: var(--fill-color);\n",
              "      border-bottom-color: var(--fill-color);\n",
              "    }\n",
              "    90% {\n",
              "      border-color: transparent;\n",
              "      border-bottom-color: var(--fill-color);\n",
              "    }\n",
              "  }\n",
              "</style>\n",
              "\n",
              "  <script>\n",
              "    async function quickchart(key) {\n",
              "      const quickchartButtonEl =\n",
              "        document.querySelector('#' + key + ' button');\n",
              "      quickchartButtonEl.disabled = true;  // To prevent multiple clicks.\n",
              "      quickchartButtonEl.classList.add('colab-df-spinner');\n",
              "      try {\n",
              "        const charts = await google.colab.kernel.invokeFunction(\n",
              "            'suggestCharts', [key], {});\n",
              "      } catch (error) {\n",
              "        console.error('Error during call to suggestCharts:', error);\n",
              "      }\n",
              "      quickchartButtonEl.classList.remove('colab-df-spinner');\n",
              "      quickchartButtonEl.classList.add('colab-df-quickchart-complete');\n",
              "    }\n",
              "    (() => {\n",
              "      let quickchartButtonEl =\n",
              "        document.querySelector('#df-b3027d92-7784-4c96-979b-956eb455a19d button');\n",
              "      quickchartButtonEl.style.display =\n",
              "        google.colab.kernel.accessAllowed ? 'block' : 'none';\n",
              "    })();\n",
              "  </script>\n",
              "</div>\n",
              "\n",
              "    </div>\n",
              "  </div>\n"
            ],
            "application/vnd.google.colaboratory.intrinsic+json": {
              "type": "dataframe",
              "summary": "{\n  \"name\": \"df\",\n  \"rows\": 7,\n  \"fields\": [\n    {\n      \"column\": \"JoiningYear\",\n      \"properties\": {\n        \"dtype\": \"number\",\n        \"std\": 2,\n        \"min\": 2012,\n        \"max\": 2018,\n        \"num_unique_values\": 7,\n        \"samples\": [\n          2012,\n          2013,\n          2017\n        ],\n        \"semantic_type\": \"\",\n        \"description\": \"\"\n      }\n    },\n    {\n      \"column\": \"Education\",\n      \"properties\": {\n        \"dtype\": \"number\",\n        \"std\": 195,\n        \"min\": 296,\n        \"max\": 900,\n        \"num_unique_values\": 7,\n        \"samples\": [\n          399,\n          530,\n          900\n        ],\n        \"semantic_type\": \"\",\n        \"description\": \"\"\n      }\n    },\n    {\n      \"column\": \"City\",\n      \"properties\": {\n        \"dtype\": \"number\",\n        \"std\": 195,\n        \"min\": 296,\n        \"max\": 900,\n        \"num_unique_values\": 7,\n        \"samples\": [\n          399,\n          530,\n          900\n        ],\n        \"semantic_type\": \"\",\n        \"description\": \"\"\n      }\n    },\n    {\n      \"column\": \"PaymentTier\",\n      \"properties\": {\n        \"dtype\": \"number\",\n        \"std\": 195,\n        \"min\": 296,\n        \"max\": 900,\n        \"num_unique_values\": 7,\n        \"samples\": [\n          399,\n          530,\n          900\n        ],\n        \"semantic_type\": \"\",\n        \"description\": \"\"\n      }\n    },\n    {\n      \"column\": \"Age\",\n      \"properties\": {\n        \"dtype\": \"number\",\n        \"std\": 195,\n        \"min\": 296,\n        \"max\": 900,\n        \"num_unique_values\": 7,\n        \"samples\": [\n          399,\n          530,\n          900\n        ],\n        \"semantic_type\": \"\",\n        \"description\": \"\"\n      }\n    },\n    {\n      \"column\": \"Gender\",\n      \"properties\": {\n        \"dtype\": \"number\",\n        \"std\": 195,\n        \"min\": 296,\n        \"max\": 900,\n        \"num_unique_values\": 7,\n        \"samples\": [\n          399,\n          530,\n          900\n        ],\n        \"semantic_type\": \"\",\n        \"description\": \"\"\n      }\n    },\n    {\n      \"column\": \"EverBenched\",\n      \"properties\": {\n        \"dtype\": \"number\",\n        \"std\": 195,\n        \"min\": 296,\n        \"max\": 900,\n        \"num_unique_values\": 7,\n        \"samples\": [\n          399,\n          530,\n          900\n        ],\n        \"semantic_type\": \"\",\n        \"description\": \"\"\n      }\n    },\n    {\n      \"column\": \"ExperienceInCurrentDomain\",\n      \"properties\": {\n        \"dtype\": \"number\",\n        \"std\": 195,\n        \"min\": 296,\n        \"max\": 900,\n        \"num_unique_values\": 7,\n        \"samples\": [\n          399,\n          530,\n          900\n        ],\n        \"semantic_type\": \"\",\n        \"description\": \"\"\n      }\n    },\n    {\n      \"column\": \"id\",\n      \"properties\": {\n        \"dtype\": \"number\",\n        \"std\": 195,\n        \"min\": 296,\n        \"max\": 900,\n        \"num_unique_values\": 7,\n        \"samples\": [\n          399,\n          530,\n          900\n        ],\n        \"semantic_type\": \"\",\n        \"description\": \"\"\n      }\n    },\n    {\n      \"column\": \"Race\",\n      \"properties\": {\n        \"dtype\": \"number\",\n        \"std\": 195,\n        \"min\": 296,\n        \"max\": 900,\n        \"num_unique_values\": 7,\n        \"samples\": [\n          399,\n          530,\n          900\n        ],\n        \"semantic_type\": \"\",\n        \"description\": \"\"\n      }\n    },\n    {\n      \"column\": \"LeaveOrNot\",\n      \"properties\": {\n        \"dtype\": \"number\",\n        \"std\": 195,\n        \"min\": 296,\n        \"max\": 900,\n        \"num_unique_values\": 7,\n        \"samples\": [\n          399,\n          530,\n          900\n        ],\n        \"semantic_type\": \"\",\n        \"description\": \"\"\n      }\n    }\n  ]\n}"
            }
          },
          "metadata": {},
          "execution_count": 17
        }
      ],
      "source": [
        "df.groupby(\"JoiningYear\").count()"
      ]
    },
    {
      "cell_type": "code",
      "source": [
        "sns.countplot(data = df, x='JoiningYear', hue='LeaveOrNot')"
      ],
      "metadata": {
        "colab": {
          "base_uri": "https://localhost:8080/",
          "height": 466
        },
        "id": "w-pCmRAYzeiP",
        "outputId": "754321b6-ce34-42d7-ef03-c1ed07dd4bd6"
      },
      "execution_count": null,
      "outputs": [
        {
          "output_type": "execute_result",
          "data": {
            "text/plain": [
              "<Axes: xlabel='JoiningYear', ylabel='count'>"
            ]
          },
          "metadata": {},
          "execution_count": 31
        },
        {
          "output_type": "display_data",
          "data": {
            "text/plain": [
              "<Figure size 640x480 with 1 Axes>"
            ],
            "image/png": "[encoded data removed]"
          },
          "metadata": {}
        }
      ]
    },
    {
      "cell_type": "markdown",
      "metadata": {
        "id": "GnkBYafgaDSF"
      },
      "source": [
        "### **City COL**"
      ]
    },
    {
      "cell_type": "code",
      "execution_count": null,
      "metadata": {
        "colab": {
          "base_uri": "https://localhost:8080/"
        },
        "id": "YhUNhwn9aFnG",
        "outputId": "2c6fdfba-4555-4301-ea01-2faf75f0724f"
      },
      "outputs": [
        {
          "output_type": "execute_result",
          "data": {
            "text/plain": [
              "array(['Bangalore', 'Pune', 'New Delhi'], dtype=object)"
            ]
          },
          "metadata": {},
          "execution_count": 19
        }
      ],
      "source": [
        "df['City'].unique()"
      ]
    },
    {
      "cell_type": "code",
      "execution_count": null,
      "metadata": {
        "colab": {
          "base_uri": "https://localhost:8080/",
          "height": 430
        },
        "id": "h279f6ycaQE5",
        "outputId": "4f129d16-923f-45d2-9c51-7c17ef8e2b20"
      },
      "outputs": [
        {
          "output_type": "display_data",
          "data": {
            "text/plain": [
              "<Figure size 640x480 with 1 Axes>"
            ],
            "image/png": "[encoded data removed]"
          },
          "metadata": {}
        }
      ],
      "source": [
        "City = df[['City', 'LeaveOrNot']].groupby(\"City\").mean()\n",
        "\n",
        "# prob of LeaveOrNot for Education\n",
        "plt.bar(City.index, City['LeaveOrNot'])\n",
        "plt.show()"
      ]
    },
    {
      "cell_type": "code",
      "source": [
        "sns.countplot(data = df ,x='City',hue='LeaveOrNot')"
      ],
      "metadata": {
        "colab": {
          "base_uri": "https://localhost:8080/",
          "height": 466
        },
        "id": "fa0R3ijpzr7a",
        "outputId": "f99d82df-ffe7-4e0e-b0e6-943ebf0932de"
      },
      "execution_count": null,
      "outputs": [
        {
          "output_type": "execute_result",
          "data": {
            "text/plain": [
              "<Axes: xlabel='City', ylabel='count'>"
            ]
          },
          "metadata": {},
          "execution_count": 32
        },
        {
          "output_type": "display_data",
          "data": {
            "text/plain": [
              "<Figure size 640x480 with 1 Axes>"
            ],
            "image/png": "[encoded data removed]"
          },
          "metadata": {}
        }
      ]
    },
    {
      "cell_type": "markdown",
      "metadata": {
        "id": "d3VuwQUrbQCv"
      },
      "source": [
        "### **PaymentTier Col**"
      ]
    },
    {
      "cell_type": "code",
      "execution_count": null,
      "metadata": {
        "colab": {
          "base_uri": "https://localhost:8080/"
        },
        "id": "dQ1S0mP1bSv-",
        "outputId": "a7622925-c520-457f-87ff-768261795c1e"
      },
      "outputs": [
        {
          "output_type": "execute_result",
          "data": {
            "text/plain": [
              "array([3, 2, 1])"
            ]
          },
          "metadata": {},
          "execution_count": 22
        }
      ],
      "source": [
        "df['PaymentTier'].unique()"
      ]
    },
    {
      "cell_type": "code",
      "execution_count": null,
      "metadata": {
        "colab": {
          "base_uri": "https://localhost:8080/",
          "height": 430
        },
        "id": "FIkDA7KjbYiO",
        "outputId": "bd122913-00ff-465d-cc39-277d135b0718"
      },
      "outputs": [
        {
          "output_type": "display_data",
          "data": {
            "text/plain": [
              "<Figure size 640x480 with 1 Axes>"
            ],
            "image/png": "[encoded data removed]"
          },
          "metadata": {}
        }
      ],
      "source": [
        "PaymentTier = df[['PaymentTier', 'LeaveOrNot']].groupby(\"PaymentTier\").mean()\n",
        "\n",
        "# prob of LeaveOrNot for Education\n",
        "plt.bar(PaymentTier.index, PaymentTier['LeaveOrNot'])\n",
        "plt.show()"
      ]
    },
    {
      "cell_type": "code",
      "source": [
        "sns.countplot(data = df ,x='PaymentTier',hue='LeaveOrNot')"
      ],
      "metadata": {
        "colab": {
          "base_uri": "https://localhost:8080/",
          "height": 466
        },
        "id": "Vxtna8rGzyXM",
        "outputId": "3eb2a7ec-8aee-428b-a487-9641cf8e068c"
      },
      "execution_count": null,
      "outputs": [
        {
          "output_type": "execute_result",
          "data": {
            "text/plain": [
              "<Axes: xlabel='PaymentTier', ylabel='count'>"
            ]
          },
          "metadata": {},
          "execution_count": 34
        },
        {
          "output_type": "display_data",
          "data": {
            "text/plain": [
              "<Figure size 640x480 with 1 Axes>"
            ],
            "image/png": "[encoded data removed]"
          },
          "metadata": {}
        }
      ]
    },
    {
      "cell_type": "markdown",
      "metadata": {
        "id": "RiYvKALsbnzH"
      },
      "source": [
        "### **Age COL**"
      ]
    },
    {
      "cell_type": "code",
      "execution_count": null,
      "metadata": {
        "colab": {
          "base_uri": "https://localhost:8080/"
        },
        "id": "BrO7DJObbpks",
        "outputId": "18ddd204-1caa-4020-b778-887814421e85"
      },
      "outputs": [
        {
          "output_type": "execute_result",
          "data": {
            "text/plain": [
              "array([27., 28., 26., 29., 24., 40., 23., 42., 37., 35., 30., 33., 32.,\n",
              "       39., 41., 31., 34., 25., 36., 38., 43.])"
            ]
          },
          "metadata": {},
          "execution_count": 24
        }
      ],
      "source": [
        "df[\"Age\"].unique()"
      ]
    },
    {
      "cell_type": "code",
      "execution_count": null,
      "metadata": {
        "colab": {
          "base_uri": "https://localhost:8080/",
          "height": 430
        },
        "id": "0uw2603ibvos",
        "outputId": "64f11dec-225b-4a5b-eac7-41c1998758ce"
      },
      "outputs": [
        {
          "output_type": "display_data",
          "data": {
            "text/plain": [
              "<Figure size 640x480 with 1 Axes>"
            ],
            "image/png": "[encoded data removed]"
          },
          "metadata": {}
        }
      ],
      "source": [
        "Age = df[[\"Age\", \"LeaveOrNot\"]].groupby(\"Age\").mean()\n",
        "\n",
        "# prob of LeaveOrNot for Age\n",
        "plt.bar(Age.index, Age['LeaveOrNot'])\n",
        "plt.show()"
      ]
    },
    {
      "cell_type": "code",
      "source": [
        "sns.countplot(data = df ,x='Age',hue='LeaveOrNot')"
      ],
      "metadata": {
        "colab": {
          "base_uri": "https://localhost:8080/",
          "height": 466
        },
        "id": "TZRG8HAgz23Q",
        "outputId": "29356fdf-aaa4-4fd5-a478-5141f664ce7b"
      },
      "execution_count": null,
      "outputs": [
        {
          "output_type": "execute_result",
          "data": {
            "text/plain": [
              "<Axes: xlabel='Age', ylabel='count'>"
            ]
          },
          "metadata": {},
          "execution_count": 35
        },
        {
          "output_type": "display_data",
          "data": {
            "text/plain": [
              "<Figure size 640x480 with 1 Axes>"
            ],
            "image/png": "[encoded data removed]"
          },
          "metadata": {}
        }
      ]
    },
    {
      "cell_type": "markdown",
      "metadata": {
        "id": "7XH7MKvxeziq"
      },
      "source": [
        "### **Gender COL**"
      ]
    },
    {
      "cell_type": "code",
      "execution_count": null,
      "metadata": {
        "colab": {
          "base_uri": "https://localhost:8080/"
        },
        "id": "TPBXiqbxe6Gy",
        "outputId": "e92461c8-c466-4a38-f60e-a63208d9f8b7"
      },
      "outputs": [
        {
          "output_type": "execute_result",
          "data": {
            "text/plain": [
              "array(['Male', 'Female'], dtype=object)"
            ]
          },
          "metadata": {},
          "execution_count": 26
        }
      ],
      "source": [
        "df[\"Gender\"].unique()"
      ]
    },
    {
      "cell_type": "code",
      "execution_count": null,
      "metadata": {
        "colab": {
          "base_uri": "https://localhost:8080/",
          "height": 430
        },
        "id": "YUj1ikUYe99S",
        "outputId": "267c491b-8d6b-4799-8fc1-9639f68963fd"
      },
      "outputs": [
        {
          "output_type": "display_data",
          "data": {
            "text/plain": [
              "<Figure size 640x480 with 1 Axes>"
            ],
            "image/png": "[encoded data removed]"
          },
          "metadata": {}
        }
      ],
      "source": [
        "gender = df[[\"Gender\", \"LeaveOrNot\"]].groupby(\"Gender\").mean()\n",
        "plt.bar(gender.index, gender[\"LeaveOrNot\"])\n",
        "plt.show()"
      ]
    },
    {
      "cell_type": "code",
      "source": [
        "sns.countplot(data = df ,x='Gender',hue='LeaveOrNot')"
      ],
      "metadata": {
        "colab": {
          "base_uri": "https://localhost:8080/",
          "height": 466
        },
        "id": "_nh941mdz-on",
        "outputId": "d58726f4-8721-44d7-a0b2-c20a7cb5c81f"
      },
      "execution_count": null,
      "outputs": [
        {
          "output_type": "execute_result",
          "data": {
            "text/plain": [
              "<Axes: xlabel='Gender', ylabel='count'>"
            ]
          },
          "metadata": {},
          "execution_count": 36
        },
        {
          "output_type": "display_data",
          "data": {
            "text/plain": [
              "<Figure size 640x480 with 1 Axes>"
            ],
            "image/png": "[encoded data removed]"
          },
          "metadata": {}
        }
      ]
    },
    {
      "cell_type": "markdown",
      "metadata": {
        "id": "XCimkft1gM1P"
      },
      "source": [
        "### **EverBenched COL**"
      ]
    },
    {
      "cell_type": "code",
      "execution_count": null,
      "metadata": {
        "colab": {
          "base_uri": "https://localhost:8080/"
        },
        "id": "qi-ZwZPRgO6X",
        "outputId": "75d89fc1-632b-4466-b983-7917038be155"
      },
      "outputs": [
        {
          "output_type": "execute_result",
          "data": {
            "text/plain": [
              "array(['Yes', 'No'], dtype=object)"
            ]
          },
          "metadata": {},
          "execution_count": 30
        }
      ],
      "source": [
        "df[\"EverBenched\"].unique()"
      ]
    },
    {
      "cell_type": "code",
      "execution_count": null,
      "metadata": {
        "colab": {
          "base_uri": "https://localhost:8080/"
        },
        "id": "_oDjzU6XgYAG",
        "outputId": "90c14bc6-6dea-4f44-ec72-0c50ddbfc1bb"
      },
      "outputs": [
        {
          "output_type": "display_data",
          "data": {
            "text/plain": [
              "<Figure size 640x480 with 1 Axes>"
            ],
            "image/png": "[encoded data removed]"
          },
          "metadata": {}
        }
      ],
      "source": [
        "everbenched = df[[\"EverBenched\", \"LeaveOrNot\"]].groupby(\"EverBenched\").mean()\n",
        "plt.bar(everbenched.index, everbenched[\"LeaveOrNot\"])\n",
        "plt.show()"
      ]
    },
    {
      "cell_type": "code",
      "source": [
        "sns.countplot(data = df ,x='EverBenched',hue='LeaveOrNot')"
      ],
      "metadata": {
        "colab": {
          "base_uri": "https://localhost:8080/",
          "height": 466
        },
        "id": "HK8Z1lE41PGc",
        "outputId": "86872bbc-18ee-456a-e80c-a629938d8353"
      },
      "execution_count": null,
      "outputs": [
        {
          "output_type": "execute_result",
          "data": {
            "text/plain": [
              "<Axes: xlabel='EverBenched', ylabel='count'>"
            ]
          },
          "metadata": {},
          "execution_count": 38
        },
        {
          "output_type": "display_data",
          "data": {
            "text/plain": [
              "<Figure size 640x480 with 1 Axes>"
            ],
            "image/png": "[encoded data removed]"
          },
          "metadata": {}
        }
      ]
    },
    {
      "cell_type": "markdown",
      "metadata": {
        "id": "XMj1lv8scgbZ"
      },
      "source": [
        "### **ExperienceInCurrentDomain COL**"
      ]
    },
    {
      "cell_type": "code",
      "execution_count": null,
      "metadata": {
        "colab": {
          "base_uri": "https://localhost:8080/"
        },
        "id": "rWOeWEmCciS5",
        "outputId": "4123506e-4512-42ad-882e-c9bdbacebd0b"
      },
      "outputs": [
        {
          "output_type": "execute_result",
          "data": {
            "text/plain": [
              "array([4, 2, 1, 0, 5, 3, 6, 7])"
            ]
          },
          "metadata": {},
          "execution_count": 33
        }
      ],
      "source": [
        "df[\"ExperienceInCurrentDomain\"].unique()"
      ]
    },
    {
      "cell_type": "code",
      "execution_count": null,
      "metadata": {
        "colab": {
          "base_uri": "https://localhost:8080/"
        },
        "id": "fKZO7E3Kcmi-",
        "outputId": "0f598987-825e-47f7-99e3-70abedd8c9bb"
      },
      "outputs": [
        {
          "output_type": "display_data",
          "data": {
            "text/plain": [
              "<Figure size 640x480 with 1 Axes>"
            ],
            "image/png": "[encoded data removed]"
          },
          "metadata": {}
        }
      ],
      "source": [
        "ExperienceInCurrentDomain = df[[\"ExperienceInCurrentDomain\", \"LeaveOrNot\"]].groupby(\"ExperienceInCurrentDomain\").mean()\n",
        "plt.bar(ExperienceInCurrentDomain.index, ExperienceInCurrentDomain[\"LeaveOrNot\"])\n",
        "plt.show()"
      ]
    },
    {
      "cell_type": "code",
      "source": [
        "sns.countplot(data = df ,x='ExperienceInCurrentDomain',hue='LeaveOrNot')"
      ],
      "metadata": {
        "colab": {
          "base_uri": "https://localhost:8080/",
          "height": 466
        },
        "id": "LPj7Jczj1WiA",
        "outputId": "0bb98ec4-3e90-48a7-feef-a96cef0019b8"
      },
      "execution_count": null,
      "outputs": [
        {
          "output_type": "execute_result",
          "data": {
            "text/plain": [
              "<Axes: xlabel='ExperienceInCurrentDomain', ylabel='count'>"
            ]
          },
          "metadata": {},
          "execution_count": 40
        },
        {
          "output_type": "display_data",
          "data": {
            "text/plain": [
              "<Figure size 640x480 with 1 Axes>"
            ],
            "image/png": "[encoded data removed]"
          },
          "metadata": {}
        }
      ]
    },
    {
      "cell_type": "markdown",
      "metadata": {
        "id": "y6wK-l7LdD_T"
      },
      "source": [
        "### **id COL**"
      ]
    },
    {
      "cell_type": "code",
      "execution_count": null,
      "metadata": {
        "colab": {
          "base_uri": "https://localhost:8080/"
        },
        "id": "ZSQMzw-cdHKI",
        "outputId": "afc5a62e-6e20-4270-e1a9-dcd6ffaa986b"
      },
      "outputs": [
        {
          "output_type": "execute_result",
          "data": {
            "text/plain": [
              "3720"
            ]
          },
          "metadata": {},
          "execution_count": 41
        }
      ],
      "source": [
        "df[\"id\"].nunique()"
      ]
    },
    {
      "cell_type": "code",
      "execution_count": null,
      "metadata": {
        "colab": {
          "base_uri": "https://localhost:8080/"
        },
        "id": "xNO-GHPudM8i",
        "outputId": "f6b9d82b-9f51-46fa-adbc-482ca13e95d6"
      },
      "outputs": [
        {
          "output_type": "execute_result",
          "data": {
            "text/plain": [
              "(3720, 14)"
            ]
          },
          "metadata": {},
          "execution_count": 42
        }
      ],
      "source": [
        "df.shape"
      ]
    },
    {
      "cell_type": "markdown",
      "metadata": {
        "id": "Djb4OvaNdUxO"
      },
      "source": [
        "### **Race COL**"
      ]
    },
    {
      "cell_type": "code",
      "execution_count": null,
      "metadata": {
        "colab": {
          "base_uri": "https://localhost:8080/"
        },
        "id": "riURtC3-ddbj",
        "outputId": "8415b64c-da4b-47e7-fe13-9c551a32833f"
      },
      "outputs": [
        {
          "output_type": "execute_result",
          "data": {
            "text/plain": [
              "array(['white', 'black', 'yellow', 'red'], dtype=object)"
            ]
          },
          "metadata": {},
          "execution_count": 45
        }
      ],
      "source": [
        "df[\"Race\"].unique()"
      ]
    },
    {
      "cell_type": "code",
      "execution_count": null,
      "metadata": {
        "colab": {
          "base_uri": "https://localhost:8080/",
          "height": 430
        },
        "id": "bFuIzGG_dgoJ",
        "outputId": "042d7adc-cd7e-4ced-d31e-3c1cba6e3cbe"
      },
      "outputs": [
        {
          "output_type": "display_data",
          "data": {
            "text/plain": [
              "<Figure size 640x480 with 1 Axes>"
            ],
            "image/png": "[encoded data removed]"
          },
          "metadata": {}
        }
      ],
      "source": [
        "race = df[[\"Race\", \"LeaveOrNot\"]].groupby(\"Race\").mean()\n",
        "plt.bar(race.index, race[\"LeaveOrNot\"])\n",
        "plt.show()"
      ]
    },
    {
      "cell_type": "code",
      "source": [
        "sns.countplot(data = df ,x='Race',hue='LeaveOrNot')"
      ],
      "metadata": {
        "colab": {
          "base_uri": "https://localhost:8080/",
          "height": 466
        },
        "id": "LSLWkgOI14sn",
        "outputId": "087df237-d6b2-451a-ebe1-5aca9693f5da"
      },
      "execution_count": null,
      "outputs": [
        {
          "output_type": "execute_result",
          "data": {
            "text/plain": [
              "<Axes: xlabel='Race', ylabel='count'>"
            ]
          },
          "metadata": {},
          "execution_count": 47
        },
        {
          "output_type": "display_data",
          "data": {
            "text/plain": [
              "<Figure size 640x480 with 1 Axes>"
            ],
            "image/png": "[encoded data removed]"
          },
          "metadata": {}
        }
      ]
    },
    {
      "cell_type": "markdown",
      "metadata": {
        "id": "yubneYmzeTiI"
      },
      "source": [
        "# **PreProcessing**"
      ]
    },
    {
      "cell_type": "code",
      "source": [
        "X = df.drop(columns=['LeaveOrNot', 'id'])\n",
        "y = df['LeaveOrNot']"
      ],
      "metadata": {
        "id": "MP4kjmaF5pOs"
      },
      "execution_count": null,
      "outputs": []
    },
    {
      "cell_type": "code",
      "source": [
        "X.head()"
      ],
      "metadata": {
        "colab": {
          "base_uri": "https://localhost:8080/",
          "height": 226
        },
        "id": "hUvkoDHjohDK",
        "outputId": "40908873-04de-405d-ef6f-c76db30559e7"
      },
      "execution_count": null,
      "outputs": [
        {
          "output_type": "execute_result",
          "data": {
            "text/plain": [
              "   Education  JoiningYear       City  PaymentTier   Age  Gender EverBenched  \\\n",
              "0  Bachelors         2016  Bangalore            3  27.0    Male         Yes   \n",
              "1  Bachelors         2012  Bangalore            3  28.0    Male          No   \n",
              "2  Bachelors         2015       Pune            3  26.0  Female          No   \n",
              "3  Bachelors         2012  Bangalore            3  29.0    Male          No   \n",
              "4  Bachelors         2016  Bangalore            3  24.0    Male          No   \n",
              "\n",
              "   ExperienceInCurrentDomain   Race  \n",
              "0                          4  white  \n",
              "1                          4  white  \n",
              "2                          2  white  \n",
              "3                          1  black  \n",
              "4                          0  white  "
            ],
            "text/html": [
              "\n",
              "  <div id=\"df-a647b9af-1eb8-4acd-ae8f-ca3ecf531dee\" class=\"colab-df-container\">\n",
              "    <div>\n",
              "<style scoped>\n",
              "    .dataframe tbody tr th:only-of-type {\n",
              "        vertical-align: middle;\n",
              "    }\n",
              "\n",
              "    .dataframe tbody tr th {\n",
              "        vertical-align: top;\n",
              "    }\n",
              "\n",
              "    .dataframe thead th {\n",
              "        text-align: right;\n",
              "    }\n",
              "</style>\n",
              "<table border=\"1\" class=\"dataframe\">\n",
              "  <thead>\n",
              "    <tr style=\"text-align: right;\">\n",
              "      <th></th>\n",
              "      <th>Education</th>\n",
              "      <th>JoiningYear</th>\n",
              "      <th>City</th>\n",
              "      <th>PaymentTier</th>\n",
              "      <th>Age</th>\n",
              "      <th>Gender</th>\n",
              "      <th>EverBenched</th>\n",
              "      <th>ExperienceInCurrentDomain</th>\n",
              "      <th>Race</th>\n",
              "    </tr>\n",
              "  </thead>\n",
              "  <tbody>\n",
              "    <tr>\n",
              "      <th>0</th>\n",
              "      <td>Bachelors</td>\n",
              "      <td>2016</td>\n",
              "      <td>Bangalore</td>\n",
              "      <td>3</td>\n",
              "      <td>27.0</td>\n",
              "      <td>Male</td>\n",
              "      <td>Yes</td>\n",
              "      <td>4</td>\n",
              "      <td>white</td>\n",
              "    </tr>\n",
              "    <tr>\n",
              "      <th>1</th>\n",
              "      <td>Bachelors</td>\n",
              "      <td>2012</td>\n",
              "      <td>Bangalore</td>\n",
              "      <td>3</td>\n",
              "      <td>28.0</td>\n",
              "      <td>Male</td>\n",
              "      <td>No</td>\n",
              "      <td>4</td>\n",
              "      <td>white</td>\n",
              "    </tr>\n",
              "    <tr>\n",
              "      <th>2</th>\n",
              "      <td>Bachelors</td>\n",
              "      <td>2015</td>\n",
              "      <td>Pune</td>\n",
              "      <td>3</td>\n",
              "      <td>26.0</td>\n",
              "      <td>Female</td>\n",
              "      <td>No</td>\n",
              "      <td>2</td>\n",
              "      <td>white</td>\n",
              "    </tr>\n",
              "    <tr>\n",
              "      <th>3</th>\n",
              "      <td>Bachelors</td>\n",
              "      <td>2012</td>\n",
              "      <td>Bangalore</td>\n",
              "      <td>3</td>\n",
              "      <td>29.0</td>\n",
              "      <td>Male</td>\n",
              "      <td>No</td>\n",
              "      <td>1</td>\n",
              "      <td>black</td>\n",
              "    </tr>\n",
              "    <tr>\n",
              "      <th>4</th>\n",
              "      <td>Bachelors</td>\n",
              "      <td>2016</td>\n",
              "      <td>Bangalore</td>\n",
              "      <td>3</td>\n",
              "      <td>24.0</td>\n",
              "      <td>Male</td>\n",
              "      <td>No</td>\n",
              "      <td>0</td>\n",
              "      <td>white</td>\n",
              "    </tr>\n",
              "  </tbody>\n",
              "</table>\n",
              "</div>\n",
              "    <div class=\"colab-df-buttons\">\n",
              "\n",
              "  <div class=\"colab-df-container\">\n",
              "    <button class=\"colab-df-convert\" onclick=\"convertToInteractive('df-a647b9af-1eb8-4acd-ae8f-ca3ecf531dee')\"\n",
              "            title=\"Convert this dataframe to an interactive table.\"\n",
              "            style=\"display:none;\">\n",
              "\n",
              "  <svg xmlns=\"http://www.w3.org/2000/svg\" height=\"24px\" viewBox=\"0 -960 960 960\">\n",
              "    <path d=\"M120-120v-720h720v720H120Zm60-500h600v-160H180v160Zm220 220h160v-160H400v160Zm0 220h160v-160H400v160ZM180-400h160v-160H180v160Zm440 0h160v-160H620v160ZM180-180h160v-160H180v160Zm440 0h160v-160H620v160Z\"/>\n",
              "  </svg>\n",
              "    </button>\n",
              "\n",
              "  <style>\n",
              "    .colab-df-container {\n",
              "      display:flex;\n",
              "      gap: 12px;\n",
              "    }\n",
              "\n",
              "    .colab-df-convert {\n",
              "      background-color: #E8F0FE;\n",
              "      border: none;\n",
              "      border-radius: 50%;\n",
              "      cursor: pointer;\n",
              "      display: none;\n",
              "      fill: #1967D2;\n",
              "      height: 32px;\n",
              "      padding: 0 0 0 0;\n",
              "      width: 32px;\n",
              "    }\n",
              "\n",
              "    .colab-df-convert:hover {\n",
              "      background-color: #E2EBFA;\n",
              "      box-shadow: 0px 1px 2px rgba(60, 64, 67, 0.3), 0px 1px 3px 1px rgba(60, 64, 67, 0.15);\n",
              "      fill: #174EA6;\n",
              "    }\n",
              "\n",
              "    .colab-df-buttons div {\n",
              "      margin-bottom: 4px;\n",
              "    }\n",
              "\n",
              "    [theme=dark] .colab-df-convert {\n",
              "      background-color: #3B4455;\n",
              "      fill: #D2E3FC;\n",
              "    }\n",
              "\n",
              "    [theme=dark] .colab-df-convert:hover {\n",
              "      background-color: #434B5C;\n",
              "      box-shadow: 0px 1px 3px 1px rgba(0, 0, 0, 0.15);\n",
              "      filter: drop-shadow(0px 1px 2px rgba(0, 0, 0, 0.3));\n",
              "      fill: #FFFFFF;\n",
              "    }\n",
              "  </style>\n",
              "\n",
              "    <script>\n",
              "      const buttonEl =\n",
              "        document.querySelector('#df-a647b9af-1eb8-4acd-ae8f-ca3ecf531dee button.colab-df-convert');\n",
              "      buttonEl.style.display =\n",
              "        google.colab.kernel.accessAllowed ? 'block' : 'none';\n",
              "\n",
              "      async function convertToInteractive(key) {\n",
              "        const element = document.querySelector('#df-a647b9af-1eb8-4acd-ae8f-ca3ecf531dee');\n",
              "        const dataTable =\n",
              "          await google.colab.kernel.invokeFunction('convertToInteractive',\n",
              "                                                    [key], {});\n",
              "        if (!dataTable) return;\n",
              "\n",
              "        const docLinkHtml = 'Like what you see? Visit the ' +\n",
              "          '<a target=\"_blank\" href=https://colab.research.google.com/notebooks/data_table.ipynb>data table notebook</a>'\n",
              "          + ' to learn more about interactive tables.';\n",
              "        element.innerHTML = '';\n",
              "        dataTable['output_type'] = 'display_data';\n",
              "        await google.colab.output.renderOutput(dataTable, element);\n",
              "        const docLink = document.createElement('div');\n",
              "        docLink.innerHTML = docLinkHtml;\n",
              "        element.appendChild(docLink);\n",
              "      }\n",
              "    </script>\n",
              "  </div>\n",
              "\n",
              "\n",
              "<div id=\"df-00b3afb9-741e-4ede-a22a-0d352a6e9b6f\">\n",
              "  <button class=\"colab-df-quickchart\" onclick=\"quickchart('df-00b3afb9-741e-4ede-a22a-0d352a6e9b6f')\"\n",
              "            title=\"Suggest charts\"\n",
              "            style=\"display:none;\">\n",
              "\n",
              "<svg xmlns=\"http://www.w3.org/2000/svg\" height=\"24px\"viewBox=\"0 0 24 24\"\n",
              "     width=\"24px\">\n",
              "    <g>\n",
              "        <path d=\"M19 3H5c-1.1 0-2 .9-2 2v14c0 1.1.9 2 2 2h14c1.1 0 2-.9 2-2V5c0-1.1-.9-2-2-2zM9 17H7v-7h2v7zm4 0h-2V7h2v10zm4 0h-2v-4h2v4z\"/>\n",
              "    </g>\n",
              "</svg>\n",
              "  </button>\n",
              "\n",
              "<style>\n",
              "  .colab-df-quickchart {\n",
              "      --bg-color: #E8F0FE;\n",
              "      --fill-color: #1967D2;\n",
              "      --hover-bg-color: #E2EBFA;\n",
              "      --hover-fill-color: #174EA6;\n",
              "      --disabled-fill-color: #AAA;\n",
              "      --disabled-bg-color: #DDD;\n",
              "  }\n",
              "\n",
              "  [theme=dark] .colab-df-quickchart {\n",
              "      --bg-color: #3B4455;\n",
              "      --fill-color: #D2E3FC;\n",
              "      --hover-bg-color: #434B5C;\n",
              "      --hover-fill-color: #FFFFFF;\n",
              "      --disabled-bg-color: #3B4455;\n",
              "      --disabled-fill-color: #666;\n",
              "  }\n",
              "\n",
              "  .colab-df-quickchart {\n",
              "    background-color: var(--bg-color);\n",
              "    border: none;\n",
              "    border-radius: 50%;\n",
              "    cursor: pointer;\n",
              "    display: none;\n",
              "    fill: var(--fill-color);\n",
              "    height: 32px;\n",
              "    padding: 0;\n",
              "    width: 32px;\n",
              "  }\n",
              "\n",
              "  .colab-df-quickchart:hover {\n",
              "    background-color: var(--hover-bg-color);\n",
              "    box-shadow: 0 1px 2px rgba(60, 64, 67, 0.3), 0 1px 3px 1px rgba(60, 64, 67, 0.15);\n",
              "    fill: var(--button-hover-fill-color);\n",
              "  }\n",
              "\n",
              "  .colab-df-quickchart-complete:disabled,\n",
              "  .colab-df-quickchart-complete:disabled:hover {\n",
              "    background-color: var(--disabled-bg-color);\n",
              "    fill: var(--disabled-fill-color);\n",
              "    box-shadow: none;\n",
              "  }\n",
              "\n",
              "  .colab-df-spinner {\n",
              "    border: 2px solid var(--fill-color);\n",
              "    border-color: transparent;\n",
              "    border-bottom-color: var(--fill-color);\n",
              "    animation:\n",
              "      spin 1s steps(1) infinite;\n",
              "  }\n",
              "\n",
              "  @keyframes spin {\n",
              "    0% {\n",
              "      border-color: transparent;\n",
              "      border-bottom-color: var(--fill-color);\n",
              "      border-left-color: var(--fill-color);\n",
              "    }\n",
              "    20% {\n",
              "      border-color: transparent;\n",
              "      border-left-color: var(--fill-color);\n",
              "      border-top-color: var(--fill-color);\n",
              "    }\n",
              "    30% {\n",
              "      border-color: transparent;\n",
              "      border-left-color: var(--fill-color);\n",
              "      border-top-color: var(--fill-color);\n",
              "      border-right-color: var(--fill-color);\n",
              "    }\n",
              "    40% {\n",
              "      border-color: transparent;\n",
              "      border-right-color: var(--fill-color);\n",
              "      border-top-color: var(--fill-color);\n",
              "    }\n",
              "    60% {\n",
              "      border-color: transparent;\n",
              "      border-right-color: var(--fill-color);\n",
              "    }\n",
              "    80% {\n",
              "      border-color: transparent;\n",
              "      border-right-color: var(--fill-color);\n",
              "      border-bottom-color: var(--fill-color);\n",
              "    }\n",
              "    90% {\n",
              "      border-color: transparent;\n",
              "      border-bottom-color: var(--fill-color);\n",
              "    }\n",
              "  }\n",
              "</style>\n",
              "\n",
              "  <script>\n",
              "    async function quickchart(key) {\n",
              "      const quickchartButtonEl =\n",
              "        document.querySelector('#' + key + ' button');\n",
              "      quickchartButtonEl.disabled = true;  // To prevent multiple clicks.\n",
              "      quickchartButtonEl.classList.add('colab-df-spinner');\n",
              "      try {\n",
              "        const charts = await google.colab.kernel.invokeFunction(\n",
              "            'suggestCharts', [key], {});\n",
              "      } catch (error) {\n",
              "        console.error('Error during call to suggestCharts:', error);\n",
              "      }\n",
              "      quickchartButtonEl.classList.remove('colab-df-spinner');\n",
              "      quickchartButtonEl.classList.add('colab-df-quickchart-complete');\n",
              "    }\n",
              "    (() => {\n",
              "      let quickchartButtonEl =\n",
              "        document.querySelector('#df-00b3afb9-741e-4ede-a22a-0d352a6e9b6f button');\n",
              "      quickchartButtonEl.style.display =\n",
              "        google.colab.kernel.accessAllowed ? 'block' : 'none';\n",
              "    })();\n",
              "  </script>\n",
              "</div>\n",
              "\n",
              "    </div>\n",
              "  </div>\n"
            ],
            "application/vnd.google.colaboratory.intrinsic+json": {
              "type": "dataframe",
              "variable_name": "X",
              "summary": "{\n  \"name\": \"X\",\n  \"rows\": 3720,\n  \"fields\": [\n    {\n      \"column\": \"Education\",\n      \"properties\": {\n        \"dtype\": \"category\",\n        \"num_unique_values\": 3,\n        \"samples\": [\n          \"Bachelors\",\n          \"PHD\",\n          \"Masters\"\n        ],\n        \"semantic_type\": \"\",\n        \"description\": \"\"\n      }\n    },\n    {\n      \"column\": \"JoiningYear\",\n      \"properties\": {\n        \"dtype\": \"number\",\n        \"std\": 1,\n        \"min\": 2012,\n        \"max\": 2018,\n        \"num_unique_values\": 7,\n        \"samples\": [\n          2016,\n          2012,\n          2013\n        ],\n        \"semantic_type\": \"\",\n        \"description\": \"\"\n      }\n    },\n    {\n      \"column\": \"City\",\n      \"properties\": {\n        \"dtype\": \"category\",\n        \"num_unique_values\": 3,\n        \"samples\": [\n          \"Bangalore\",\n          \"Pune\",\n          \"New Delhi\"\n        ],\n        \"semantic_type\": \"\",\n        \"description\": \"\"\n      }\n    },\n    {\n      \"column\": \"PaymentTier\",\n      \"properties\": {\n        \"dtype\": \"number\",\n        \"std\": 0,\n        \"min\": 1,\n        \"max\": 3,\n        \"num_unique_values\": 3,\n        \"samples\": [\n          3,\n          2,\n          1\n        ],\n        \"semantic_type\": \"\",\n        \"description\": \"\"\n      }\n    },\n    {\n      \"column\": \"Age\",\n      \"properties\": {\n        \"dtype\": \"number\",\n        \"std\": 4.8609634227284175,\n        \"min\": 23.0,\n        \"max\": 43.0,\n        \"num_unique_values\": 21,\n        \"samples\": [\n          27.0,\n          25.0,\n          31.0\n        ],\n        \"semantic_type\": \"\",\n        \"description\": \"\"\n      }\n    },\n    {\n      \"column\": \"Gender\",\n      \"properties\": {\n        \"dtype\": \"category\",\n        \"num_unique_values\": 2,\n        \"samples\": [\n          \"Female\",\n          \"Male\"\n        ],\n        \"semantic_type\": \"\",\n        \"description\": \"\"\n      }\n    },\n    {\n      \"column\": \"EverBenched\",\n      \"properties\": {\n        \"dtype\": \"category\",\n        \"num_unique_values\": 2,\n        \"samples\": [\n          \"No\",\n          \"Yes\"\n        ],\n        \"semantic_type\": \"\",\n        \"description\": \"\"\n      }\n    },\n    {\n      \"column\": \"ExperienceInCurrentDomain\",\n      \"properties\": {\n        \"dtype\": \"number\",\n        \"std\": 1,\n        \"min\": 0,\n        \"max\": 7,\n        \"num_unique_values\": 8,\n        \"samples\": [\n          2,\n          3\n        ],\n        \"semantic_type\": \"\",\n        \"description\": \"\"\n      }\n    },\n    {\n      \"column\": \"Race\",\n      \"properties\": {\n        \"dtype\": \"category\",\n        \"num_unique_values\": 4,\n        \"samples\": [\n          \"black\",\n          \"red\"\n        ],\n        \"semantic_type\": \"\",\n        \"description\": \"\"\n      }\n    }\n  ]\n}"
            }
          },
          "metadata": {},
          "execution_count": 322
        }
      ]
    },
    {
      "cell_type": "code",
      "source": [
        "def make_preprocessing(df):\n",
        "  binary_cat = ['Gender', 'EverBenched']\n",
        "  ordinal_cat = ['Bachelors', 'Masters', 'PHD']\n",
        "  multi_cat = ['Education', 'JoiningYear', 'PaymentTier', 'ExperienceInCurrentDomain', 'City', 'Race']\n",
        "\n",
        "  onehot_pipeline = Pipeline([\n",
        "      ('one_hot_encoder', OneHotEncoder(sparse_output=False))\n",
        "  ])\n",
        "\n",
        "  binary_pipeline = Pipeline([\n",
        "      ('bin_one_hot_encoder', OneHotEncoder(drop='first', sparse_output=False))\n",
        "  ])\n",
        "\n",
        "  preprocess_pipeline = ColumnTransformer(\n",
        "      transformers=[\n",
        "          ('multi_cat', onehot_pipeline, multi_cat),\n",
        "          ('binary_cat', binary_pipeline, binary_cat),\n",
        "          ('scaler', MinMaxScaler(), ['Age'])\n",
        "      ],\n",
        "      remainder='passthrough'  # Keep remaining columns unchanged\n",
        "  )\n",
        "\n",
        "  X_transformed = preprocess_pipeline.fit_transform(X)\n",
        "  feature_names = preprocess_pipeline.get_feature_names_out()\n",
        "  transformed_df = pd.DataFrame(X_transformed, columns=feature_names)\n",
        "  return transformed_df"
      ],
      "metadata": {
        "id": "nLfcbRH-qTSv"
      },
      "execution_count": null,
      "outputs": []
    },
    {
      "cell_type": "code",
      "source": [
        "X_transformed_df = make_preprocessing(X)\n",
        "X_transformed_df.head()"
      ],
      "metadata": {
        "colab": {
          "base_uri": "https://localhost:8080/",
          "height": 273
        },
        "id": "wQNVSrABFM0K",
        "outputId": "ec9ce81c-20d0-42fb-d47b-6d0e3557846c"
      },
      "execution_count": null,
      "outputs": [
        {
          "output_type": "execute_result",
          "data": {
            "text/plain": [
              "   multi_cat__Education_Bachelors  multi_cat__Education_Masters  \\\n",
              "0                             1.0                           0.0   \n",
              "1                             1.0                           0.0   \n",
              "2                             1.0                           0.0   \n",
              "3                             1.0                           0.0   \n",
              "4                             1.0                           0.0   \n",
              "\n",
              "   multi_cat__Education_PHD  multi_cat__JoiningYear_2012  \\\n",
              "0                       0.0                          0.0   \n",
              "1                       0.0                          1.0   \n",
              "2                       0.0                          0.0   \n",
              "3                       0.0                          1.0   \n",
              "4                       0.0                          0.0   \n",
              "\n",
              "   multi_cat__JoiningYear_2013  multi_cat__JoiningYear_2014  \\\n",
              "0                          0.0                          0.0   \n",
              "1                          0.0                          0.0   \n",
              "2                          0.0                          0.0   \n",
              "3                          0.0                          0.0   \n",
              "4                          0.0                          0.0   \n",
              "\n",
              "   multi_cat__JoiningYear_2015  multi_cat__JoiningYear_2016  \\\n",
              "0                          0.0                          1.0   \n",
              "1                          0.0                          0.0   \n",
              "2                          1.0                          0.0   \n",
              "3                          0.0                          0.0   \n",
              "4                          0.0                          1.0   \n",
              "\n",
              "   multi_cat__JoiningYear_2017  multi_cat__JoiningYear_2018  ...  \\\n",
              "0                          0.0                          0.0  ...   \n",
              "1                          0.0                          0.0  ...   \n",
              "2                          0.0                          0.0  ...   \n",
              "3                          0.0                          0.0  ...   \n",
              "4                          0.0                          0.0  ...   \n",
              "\n",
              "   multi_cat__City_Bangalore  multi_cat__City_New Delhi  multi_cat__City_Pune  \\\n",
              "0                        1.0                        0.0                   0.0   \n",
              "1                        1.0                        0.0                   0.0   \n",
              "2                        0.0                        0.0                   1.0   \n",
              "3                        1.0                        0.0                   0.0   \n",
              "4                        1.0                        0.0                   0.0   \n",
              "\n",
              "   multi_cat__Race_black  multi_cat__Race_red  multi_cat__Race_white  \\\n",
              "0                    0.0                  0.0                    1.0   \n",
              "1                    0.0                  0.0                    1.0   \n",
              "2                    0.0                  0.0                    1.0   \n",
              "3                    1.0                  0.0                    0.0   \n",
              "4                    0.0                  0.0                    1.0   \n",
              "\n",
              "   multi_cat__Race_yellow  binary_cat__Gender_Male  \\\n",
              "0                     0.0                      1.0   \n",
              "1                     0.0                      1.0   \n",
              "2                     0.0                      0.0   \n",
              "3                     0.0                      1.0   \n",
              "4                     0.0                      1.0   \n",
              "\n",
              "   binary_cat__EverBenched_Yes  scaler__Age  \n",
              "0                          1.0         0.20  \n",
              "1                          0.0         0.25  \n",
              "2                          0.0         0.15  \n",
              "3                          0.0         0.30  \n",
              "4                          0.0         0.05  \n",
              "\n",
              "[5 rows x 31 columns]"
            ],
            "text/html": [
              "\n",
              "  <div id=\"df-273a733e-34a9-4149-91d2-42ecc237f127\" class=\"colab-df-container\">\n",
              "    <div>\n",
              "<style scoped>\n",
              "    .dataframe tbody tr th:only-of-type {\n",
              "        vertical-align: middle;\n",
              "    }\n",
              "\n",
              "    .dataframe tbody tr th {\n",
              "        vertical-align: top;\n",
              "    }\n",
              "\n",
              "    .dataframe thead th {\n",
              "        text-align: right;\n",
              "    }\n",
              "</style>\n",
              "<table border=\"1\" class=\"dataframe\">\n",
              "  <thead>\n",
              "    <tr style=\"text-align: right;\">\n",
              "      <th></th>\n",
              "      <th>multi_cat__Education_Bachelors</th>\n",
              "      <th>multi_cat__Education_Masters</th>\n",
              "      <th>multi_cat__Education_PHD</th>\n",
              "      <th>multi_cat__JoiningYear_2012</th>\n",
              "      <th>multi_cat__JoiningYear_2013</th>\n",
              "      <th>multi_cat__JoiningYear_2014</th>\n",
              "      <th>multi_cat__JoiningYear_2015</th>\n",
              "      <th>multi_cat__JoiningYear_2016</th>\n",
              "      <th>multi_cat__JoiningYear_2017</th>\n",
              "      <th>multi_cat__JoiningYear_2018</th>\n",
              "      <th>...</th>\n",
              "      <th>multi_cat__City_Bangalore</th>\n",
              "      <th>multi_cat__City_New Delhi</th>\n",
              "      <th>multi_cat__City_Pune</th>\n",
              "      <th>multi_cat__Race_black</th>\n",
              "      <th>multi_cat__Race_red</th>\n",
              "      <th>multi_cat__Race_white</th>\n",
              "      <th>multi_cat__Race_yellow</th>\n",
              "      <th>binary_cat__Gender_Male</th>\n",
              "      <th>binary_cat__EverBenched_Yes</th>\n",
              "      <th>scaler__Age</th>\n",
              "    </tr>\n",
              "  </thead>\n",
              "  <tbody>\n",
              "    <tr>\n",
              "      <th>0</th>\n",
              "      <td>1.0</td>\n",
              "      <td>0.0</td>\n",
              "      <td>0.0</td>\n",
              "      <td>0.0</td>\n",
              "      <td>0.0</td>\n",
              "      <td>0.0</td>\n",
              "      <td>0.0</td>\n",
              "      <td>1.0</td>\n",
              "      <td>0.0</td>\n",
              "      <td>0.0</td>\n",
              "      <td>...</td>\n",
              "      <td>1.0</td>\n",
              "      <td>0.0</td>\n",
              "      <td>0.0</td>\n",
              "      <td>0.0</td>\n",
              "      <td>0.0</td>\n",
              "      <td>1.0</td>\n",
              "      <td>0.0</td>\n",
              "      <td>1.0</td>\n",
              "      <td>1.0</td>\n",
              "      <td>0.20</td>\n",
              "    </tr>\n",
              "    <tr>\n",
              "      <th>1</th>\n",
              "      <td>1.0</td>\n",
              "      <td>0.0</td>\n",
              "      <td>0.0</td>\n",
              "      <td>1.0</td>\n",
              "      <td>0.0</td>\n",
              "      <td>0.0</td>\n",
              "      <td>0.0</td>\n",
              "      <td>0.0</td>\n",
              "      <td>0.0</td>\n",
              "      <td>0.0</td>\n",
              "      <td>...</td>\n",
              "      <td>1.0</td>\n",
              "      <td>0.0</td>\n",
              "      <td>0.0</td>\n",
              "      <td>0.0</td>\n",
              "      <td>0.0</td>\n",
              "      <td>1.0</td>\n",
              "      <td>0.0</td>\n",
              "      <td>1.0</td>\n",
              "      <td>0.0</td>\n",
              "      <td>0.25</td>\n",
              "    </tr>\n",
              "    <tr>\n",
              "      <th>2</th>\n",
              "      <td>1.0</td>\n",
              "      <td>0.0</td>\n",
              "      <td>0.0</td>\n",
              "      <td>0.0</td>\n",
              "      <td>0.0</td>\n",
              "      <td>0.0</td>\n",
              "      <td>1.0</td>\n",
              "      <td>0.0</td>\n",
              "      <td>0.0</td>\n",
              "      <td>0.0</td>\n",
              "      <td>...</td>\n",
              "      <td>0.0</td>\n",
              "      <td>0.0</td>\n",
              "      <td>1.0</td>\n",
              "      <td>0.0</td>\n",
              "      <td>0.0</td>\n",
              "      <td>1.0</td>\n",
              "      <td>0.0</td>\n",
              "      <td>0.0</td>\n",
              "      <td>0.0</td>\n",
              "      <td>0.15</td>\n",
              "    </tr>\n",
              "    <tr>\n",
              "      <th>3</th>\n",
              "      <td>1.0</td>\n",
              "      <td>0.0</td>\n",
              "      <td>0.0</td>\n",
              "      <td>1.0</td>\n",
              "      <td>0.0</td>\n",
              "      <td>0.0</td>\n",
              "      <td>0.0</td>\n",
              "      <td>0.0</td>\n",
              "      <td>0.0</td>\n",
              "      <td>0.0</td>\n",
              "      <td>...</td>\n",
              "      <td>1.0</td>\n",
              "      <td>0.0</td>\n",
              "      <td>0.0</td>\n",
              "      <td>1.0</td>\n",
              "      <td>0.0</td>\n",
              "      <td>0.0</td>\n",
              "      <td>0.0</td>\n",
              "      <td>1.0</td>\n",
              "      <td>0.0</td>\n",
              "      <td>0.30</td>\n",
              "    </tr>\n",
              "    <tr>\n",
              "      <th>4</th>\n",
              "      <td>1.0</td>\n",
              "      <td>0.0</td>\n",
              "      <td>0.0</td>\n",
              "      <td>0.0</td>\n",
              "      <td>0.0</td>\n",
              "      <td>0.0</td>\n",
              "      <td>0.0</td>\n",
              "      <td>1.0</td>\n",
              "      <td>0.0</td>\n",
              "      <td>0.0</td>\n",
              "      <td>...</td>\n",
              "      <td>1.0</td>\n",
              "      <td>0.0</td>\n",
              "      <td>0.0</td>\n",
              "      <td>0.0</td>\n",
              "      <td>0.0</td>\n",
              "      <td>1.0</td>\n",
              "      <td>0.0</td>\n",
              "      <td>1.0</td>\n",
              "      <td>0.0</td>\n",
              "      <td>0.05</td>\n",
              "    </tr>\n",
              "  </tbody>\n",
              "</table>\n",
              "<p>5 rows × 31 columns</p>\n",
              "</div>\n",
              "    <div class=\"colab-df-buttons\">\n",
              "\n",
              "  <div class=\"colab-df-container\">\n",
              "    <button class=\"colab-df-convert\" onclick=\"convertToInteractive('df-273a733e-34a9-4149-91d2-42ecc237f127')\"\n",
              "            title=\"Convert this dataframe to an interactive table.\"\n",
              "            style=\"display:none;\">\n",
              "\n",
              "  <svg xmlns=\"http://www.w3.org/2000/svg\" height=\"24px\" viewBox=\"0 -960 960 960\">\n",
              "    <path d=\"M120-120v-720h720v720H120Zm60-500h600v-160H180v160Zm220 220h160v-160H400v160Zm0 220h160v-160H400v160ZM180-400h160v-160H180v160Zm440 0h160v-160H620v160ZM180-180h160v-160H180v160Zm440 0h160v-160H620v160Z\"/>\n",
              "  </svg>\n",
              "    </button>\n",
              "\n",
              "  <style>\n",
              "    .colab-df-container {\n",
              "      display:flex;\n",
              "      gap: 12px;\n",
              "    }\n",
              "\n",
              "    .colab-df-convert {\n",
              "      background-color: #E8F0FE;\n",
              "      border: none;\n",
              "      border-radius: 50%;\n",
              "      cursor: pointer;\n",
              "      display: none;\n",
              "      fill: #1967D2;\n",
              "      height: 32px;\n",
              "      padding: 0 0 0 0;\n",
              "      width: 32px;\n",
              "    }\n",
              "\n",
              "    .colab-df-convert:hover {\n",
              "      background-color: #E2EBFA;\n",
              "      box-shadow: 0px 1px 2px rgba(60, 64, 67, 0.3), 0px 1px 3px 1px rgba(60, 64, 67, 0.15);\n",
              "      fill: #174EA6;\n",
              "    }\n",
              "\n",
              "    .colab-df-buttons div {\n",
              "      margin-bottom: 4px;\n",
              "    }\n",
              "\n",
              "    [theme=dark] .colab-df-convert {\n",
              "      background-color: #3B4455;\n",
              "      fill: #D2E3FC;\n",
              "    }\n",
              "\n",
              "    [theme=dark] .colab-df-convert:hover {\n",
              "      background-color: #434B5C;\n",
              "      box-shadow: 0px 1px 3px 1px rgba(0, 0, 0, 0.15);\n",
              "      filter: drop-shadow(0px 1px 2px rgba(0, 0, 0, 0.3));\n",
              "      fill: #FFFFFF;\n",
              "    }\n",
              "  </style>\n",
              "\n",
              "    <script>\n",
              "      const buttonEl =\n",
              "        document.querySelector('#df-273a733e-34a9-4149-91d2-42ecc237f127 button.colab-df-convert');\n",
              "      buttonEl.style.display =\n",
              "        google.colab.kernel.accessAllowed ? 'block' : 'none';\n",
              "\n",
              "      async function convertToInteractive(key) {\n",
              "        const element = document.querySelector('#df-273a733e-34a9-4149-91d2-42ecc237f127');\n",
              "        const dataTable =\n",
              "          await google.colab.kernel.invokeFunction('convertToInteractive',\n",
              "                                                    [key], {});\n",
              "        if (!dataTable) return;\n",
              "\n",
              "        const docLinkHtml = 'Like what you see? Visit the ' +\n",
              "          '<a target=\"_blank\" href=https://colab.research.google.com/notebooks/data_table.ipynb>data table notebook</a>'\n",
              "          + ' to learn more about interactive tables.';\n",
              "        element.innerHTML = '';\n",
              "        dataTable['output_type'] = 'display_data';\n",
              "        await google.colab.output.renderOutput(dataTable, element);\n",
              "        const docLink = document.createElement('div');\n",
              "        docLink.innerHTML = docLinkHtml;\n",
              "        element.appendChild(docLink);\n",
              "      }\n",
              "    </script>\n",
              "  </div>\n",
              "\n",
              "\n",
              "<div id=\"df-0c25c4e1-ca09-4b10-955a-4719bfde65c4\">\n",
              "  <button class=\"colab-df-quickchart\" onclick=\"quickchart('df-0c25c4e1-ca09-4b10-955a-4719bfde65c4')\"\n",
              "            title=\"Suggest charts\"\n",
              "            style=\"display:none;\">\n",
              "\n",
              "<svg xmlns=\"http://www.w3.org/2000/svg\" height=\"24px\"viewBox=\"0 0 24 24\"\n",
              "     width=\"24px\">\n",
              "    <g>\n",
              "        <path d=\"M19 3H5c-1.1 0-2 .9-2 2v14c0 1.1.9 2 2 2h14c1.1 0 2-.9 2-2V5c0-1.1-.9-2-2-2zM9 17H7v-7h2v7zm4 0h-2V7h2v10zm4 0h-2v-4h2v4z\"/>\n",
              "    </g>\n",
              "</svg>\n",
              "  </button>\n",
              "\n",
              "<style>\n",
              "  .colab-df-quickchart {\n",
              "      --bg-color: #E8F0FE;\n",
              "      --fill-color: #1967D2;\n",
              "      --hover-bg-color: #E2EBFA;\n",
              "      --hover-fill-color: #174EA6;\n",
              "      --disabled-fill-color: #AAA;\n",
              "      --disabled-bg-color: #DDD;\n",
              "  }\n",
              "\n",
              "  [theme=dark] .colab-df-quickchart {\n",
              "      --bg-color: #3B4455;\n",
              "      --fill-color: #D2E3FC;\n",
              "      --hover-bg-color: #434B5C;\n",
              "      --hover-fill-color: #FFFFFF;\n",
              "      --disabled-bg-color: #3B4455;\n",
              "      --disabled-fill-color: #666;\n",
              "  }\n",
              "\n",
              "  .colab-df-quickchart {\n",
              "    background-color: var(--bg-color);\n",
              "    border: none;\n",
              "    border-radius: 50%;\n",
              "    cursor: pointer;\n",
              "    display: none;\n",
              "    fill: var(--fill-color);\n",
              "    height: 32px;\n",
              "    padding: 0;\n",
              "    width: 32px;\n",
              "  }\n",
              "\n",
              "  .colab-df-quickchart:hover {\n",
              "    background-color: var(--hover-bg-color);\n",
              "    box-shadow: 0 1px 2px rgba(60, 64, 67, 0.3), 0 1px 3px 1px rgba(60, 64, 67, 0.15);\n",
              "    fill: var(--button-hover-fill-color);\n",
              "  }\n",
              "\n",
              "  .colab-df-quickchart-complete:disabled,\n",
              "  .colab-df-quickchart-complete:disabled:hover {\n",
              "    background-color: var(--disabled-bg-color);\n",
              "    fill: var(--disabled-fill-color);\n",
              "    box-shadow: none;\n",
              "  }\n",
              "\n",
              "  .colab-df-spinner {\n",
              "    border: 2px solid var(--fill-color);\n",
              "    border-color: transparent;\n",
              "    border-bottom-color: var(--fill-color);\n",
              "    animation:\n",
              "      spin 1s steps(1) infinite;\n",
              "  }\n",
              "\n",
              "  @keyframes spin {\n",
              "    0% {\n",
              "      border-color: transparent;\n",
              "      border-bottom-color: var(--fill-color);\n",
              "      border-left-color: var(--fill-color);\n",
              "    }\n",
              "    20% {\n",
              "      border-color: transparent;\n",
              "      border-left-color: var(--fill-color);\n",
              "      border-top-color: var(--fill-color);\n",
              "    }\n",
              "    30% {\n",
              "      border-color: transparent;\n",
              "      border-left-color: var(--fill-color);\n",
              "      border-top-color: var(--fill-color);\n",
              "      border-right-color: var(--fill-color);\n",
              "    }\n",
              "    40% {\n",
              "      border-color: transparent;\n",
              "      border-right-color: var(--fill-color);\n",
              "      border-top-color: var(--fill-color);\n",
              "    }\n",
              "    60% {\n",
              "      border-color: transparent;\n",
              "      border-right-color: var(--fill-color);\n",
              "    }\n",
              "    80% {\n",
              "      border-color: transparent;\n",
              "      border-right-color: var(--fill-color);\n",
              "      border-bottom-color: var(--fill-color);\n",
              "    }\n",
              "    90% {\n",
              "      border-color: transparent;\n",
              "      border-bottom-color: var(--fill-color);\n",
              "    }\n",
              "  }\n",
              "</style>\n",
              "\n",
              "  <script>\n",
              "    async function quickchart(key) {\n",
              "      const quickchartButtonEl =\n",
              "        document.querySelector('#' + key + ' button');\n",
              "      quickchartButtonEl.disabled = true;  // To prevent multiple clicks.\n",
              "      quickchartButtonEl.classList.add('colab-df-spinner');\n",
              "      try {\n",
              "        const charts = await google.colab.kernel.invokeFunction(\n",
              "            'suggestCharts', [key], {});\n",
              "      } catch (error) {\n",
              "        console.error('Error during call to suggestCharts:', error);\n",
              "      }\n",
              "      quickchartButtonEl.classList.remove('colab-df-spinner');\n",
              "      quickchartButtonEl.classList.add('colab-df-quickchart-complete');\n",
              "    }\n",
              "    (() => {\n",
              "      let quickchartButtonEl =\n",
              "        document.querySelector('#df-0c25c4e1-ca09-4b10-955a-4719bfde65c4 button');\n",
              "      quickchartButtonEl.style.display =\n",
              "        google.colab.kernel.accessAllowed ? 'block' : 'none';\n",
              "    })();\n",
              "  </script>\n",
              "</div>\n",
              "\n",
              "    </div>\n",
              "  </div>\n"
            ],
            "application/vnd.google.colaboratory.intrinsic+json": {
              "type": "dataframe",
              "variable_name": "X_transformed_df"
            }
          },
          "metadata": {},
          "execution_count": 327
        }
      ]
    },
    {
      "cell_type": "markdown",
      "source": [
        "# **Models Training**"
      ],
      "metadata": {
        "id": "lNAVwzd3hko2"
      }
    },
    {
      "cell_type": "code",
      "execution_count": null,
      "metadata": {
        "id": "ZZ9dFnWmDgoZ"
      },
      "outputs": [],
      "source": [
        "X_train, X_test, y_train, y_test = train_test_split(X_transformed_df, y, test_size=0.3, random_state=42)"
      ]
    },
    {
      "cell_type": "markdown",
      "metadata": {
        "id": "kRJ8a0ZyC1W-"
      },
      "source": [
        "## **Model 1 - Logistic Regression**"
      ]
    },
    {
      "cell_type": "code",
      "execution_count": null,
      "metadata": {
        "id": "7ShrDOBeEGVV"
      },
      "outputs": [],
      "source": [
        "# Import the LogisticRegression class from scikit-learn\n",
        "from sklearn.linear_model import LogisticRegression"
      ]
    },
    {
      "cell_type": "code",
      "execution_count": null,
      "metadata": {
        "colab": {
          "base_uri": "https://localhost:8080/",
          "height": 656
        },
        "id": "TZy3rhtgDYR-",
        "outputId": "bd3cf1c4-90ea-40c0-8635-94225dd82d43"
      },
      "outputs": [
        {
          "output_type": "stream",
          "name": "stdout",
          "text": [
            "Train CV f1:  0.6426786836090697\n",
            "Test f1: 0.6686390532544378\n"
          ]
        },
        {
          "output_type": "stream",
          "name": "stderr",
          "text": [
            "<ipython-input-274-826b72af76de>:6: UserWarning: \n",
            "\n",
            "`distplot` is a deprecated function and will be removed in seaborn v0.14.0.\n",
            "\n",
            "Please adapt your code to use either `displot` (a figure-level function with\n",
            "similar flexibility) or `histplot` (an axes-level function for histograms).\n",
            "\n",
            "For a guide to updating your code to use the new functions, please see\n",
            "https://gist.github.com/mwaskom/de44147ed2974457ad6372750bbe5751\n",
            "\n",
            "  sns.distplot(cv)\n"
          ]
        },
        {
          "output_type": "display_data",
          "data": {
            "text/plain": [
              "<Figure size 640x480 with 1 Axes>"
            ],
            "image/png": "[encoded data removed]"
          },
          "metadata": {}
        }
      ],
      "source": [
        "# lg model\n",
        "lg = LogisticRegression()\n",
        "\n",
        "# cross validation\n",
        "cv = cross_val_score(lg, X_train, y_train, cv=10, scoring=\"f1\")\n",
        "sns.distplot(cv)\n",
        "print('Train CV f1: ', cv.mean())\n",
        "\n",
        "# test scoring\n",
        "lg.fit(X_train, y_train)\n",
        "print('Test f1:', f1_score(y_test, lg.predict(X_test)))"
      ]
    },
    {
      "cell_type": "code",
      "execution_count": null,
      "metadata": {
        "colab": {
          "base_uri": "https://localhost:8080/"
        },
        "id": "pvnf-4_6FD8o",
        "outputId": "a8df0793-c50d-42c1-ff48-379fce997ca8"
      },
      "outputs": [
        {
          "output_type": "stream",
          "name": "stdout",
          "text": [
            "Requirement already satisfied: optuna in /usr/local/lib/python3.10/dist-packages (4.1.0)\n",
            "Requirement already satisfied: alembic>=1.5.0 in /usr/local/lib/python3.10/dist-packages (from optuna) (1.14.0)\n",
            "Requirement already satisfied: colorlog in /usr/local/lib/python3.10/dist-packages (from optuna) (6.9.0)\n",
            "Requirement already satisfied: numpy in /usr/local/lib/python3.10/dist-packages (from optuna) (1.26.4)\n",
            "Requirement already satisfied: packaging>=20.0 in /usr/local/lib/python3.10/dist-packages (from optuna) (24.2)\n",
            "Requirement already satisfied: sqlalchemy>=1.4.2 in /usr/local/lib/python3.10/dist-packages (from optuna) (2.0.36)\n",
            "Requirement already satisfied: tqdm in /usr/local/lib/python3.10/dist-packages (from optuna) (4.66.6)\n",
            "Requirement already satisfied: PyYAML in /usr/local/lib/python3.10/dist-packages (from optuna) (6.0.2)\n",
            "Requirement already satisfied: Mako in /usr/local/lib/python3.10/dist-packages (from alembic>=1.5.0->optuna) (1.3.6)\n",
            "Requirement already satisfied: typing-extensions>=4 in /usr/local/lib/python3.10/dist-packages (from alembic>=1.5.0->optuna) (4.12.2)\n",
            "Requirement already satisfied: greenlet!=0.4.17 in /usr/local/lib/python3.10/dist-packages (from sqlalchemy>=1.4.2->optuna) (3.1.1)\n",
            "Requirement already satisfied: MarkupSafe>=0.9.2 in /usr/local/lib/python3.10/dist-packages (from Mako->alembic>=1.5.0->optuna) (3.0.2)\n"
          ]
        }
      ],
      "source": [
        "# using optimization tool\n",
        "!pip install optuna\n",
        "import optuna"
      ]
    },
    {
      "cell_type": "code",
      "execution_count": null,
      "metadata": {
        "colab": {
          "base_uri": "https://localhost:8080/"
        },
        "id": "Q6nv5B6_E1N9",
        "outputId": "9b979b63-83f4-4820-aff5-000a770aeaab"
      },
      "outputs": [
        {
          "output_type": "stream",
          "name": "stderr",
          "text": [
            "[I 2024-11-15 15:45:30,226] A new study created in memory with name: no-name-1aa073a9-8354-484b-aef4-01505b4d4432\n",
            "[I 2024-11-15 15:45:30,282] Trial 0 finished with value: 0.6471271253798386 and parameters: {'feature_0': 1, 'feature_1': 1, 'feature_2': 1, 'feature_3': 1, 'feature_4': 1, 'feature_5': 1, 'feature_6': 0, 'feature_7': 0, 'feature_8': 1, 'feature_9': 1, 'feature_10': 1, 'feature_11': 1, 'feature_12': 1, 'feature_13': 1, 'feature_14': 1, 'feature_15': 0, 'feature_16': 1, 'feature_17': 1, 'feature_18': 0, 'feature_19': 1, 'feature_20': 0, 'feature_21': 0, 'feature_22': 1, 'feature_23': 1, 'feature_24': 0, 'feature_25': 0, 'feature_26': 1, 'feature_27': 0, 'feature_28': 1, 'feature_29': 0, 'feature_30': 0}. Best is trial 0 with value: 0.6471271253798386.\n",
            "[I 2024-11-15 15:45:30,342] Trial 1 finished with value: 0.6144914360114037 and parameters: {'feature_0': 1, 'feature_1': 0, 'feature_2': 0, 'feature_3': 1, 'feature_4': 1, 'feature_5': 0, 'feature_6': 1, 'feature_7': 1, 'feature_8': 1, 'feature_9': 1, 'feature_10': 0, 'feature_11': 1, 'feature_12': 1, 'feature_13': 0, 'feature_14': 1, 'feature_15': 1, 'feature_16': 0, 'feature_17': 1, 'feature_18': 1, 'feature_19': 0, 'feature_20': 1, 'feature_21': 1, 'feature_22': 0, 'feature_23': 0, 'feature_24': 1, 'feature_25': 1, 'feature_26': 1, 'feature_27': 1, 'feature_28': 1, 'feature_29': 1, 'feature_30': 0}. Best is trial 0 with value: 0.6471271253798386.\n",
            "[I 2024-11-15 15:45:30,400] Trial 2 finished with value: 0.550894041420519 and parameters: {'feature_0': 1, 'feature_1': 0, 'feature_2': 0, 'feature_3': 1, 'feature_4': 0, 'feature_5': 1, 'feature_6': 1, 'feature_7': 1, 'feature_8': 1, 'feature_9': 1, 'feature_10': 0, 'feature_11': 0, 'feature_12': 0, 'feature_13': 0, 'feature_14': 0, 'feature_15': 1, 'feature_16': 1, 'feature_17': 0, 'feature_18': 1, 'feature_19': 0, 'feature_20': 1, 'feature_21': 1, 'feature_22': 0, 'feature_23': 0, 'feature_24': 0, 'feature_25': 1, 'feature_26': 1, 'feature_27': 1, 'feature_28': 1, 'feature_29': 1, 'feature_30': 1}. Best is trial 0 with value: 0.6471271253798386.\n",
            "[I 2024-11-15 15:45:30,462] Trial 3 finished with value: 0.6163825197643606 and parameters: {'feature_0': 1, 'feature_1': 1, 'feature_2': 0, 'feature_3': 1, 'feature_4': 1, 'feature_5': 1, 'feature_6': 1, 'feature_7': 1, 'feature_8': 0, 'feature_9': 1, 'feature_10': 0, 'feature_11': 1, 'feature_12': 1, 'feature_13': 1, 'feature_14': 1, 'feature_15': 1, 'feature_16': 0, 'feature_17': 0, 'feature_18': 1, 'feature_19': 0, 'feature_20': 1, 'feature_21': 0, 'feature_22': 0, 'feature_23': 0, 'feature_24': 0, 'feature_25': 1, 'feature_26': 0, 'feature_27': 1, 'feature_28': 1, 'feature_29': 0, 'feature_30': 0}. Best is trial 0 with value: 0.6471271253798386.\n",
            "[I 2024-11-15 15:45:30,536] Trial 4 finished with value: 0.44213830600950005 and parameters: {'feature_0': 1, 'feature_1': 1, 'feature_2': 0, 'feature_3': 1, 'feature_4': 1, 'feature_5': 1, 'feature_6': 1, 'feature_7': 0, 'feature_8': 1, 'feature_9': 0, 'feature_10': 0, 'feature_11': 0, 'feature_12': 0, 'feature_13': 1, 'feature_14': 1, 'feature_15': 1, 'feature_16': 1, 'feature_17': 0, 'feature_18': 1, 'feature_19': 0, 'feature_20': 1, 'feature_21': 1, 'feature_22': 1, 'feature_23': 0, 'feature_24': 0, 'feature_25': 0, 'feature_26': 1, 'feature_27': 1, 'feature_28': 0, 'feature_29': 0, 'feature_30': 1}. Best is trial 0 with value: 0.6471271253798386.\n",
            "[I 2024-11-15 15:45:30,597] Trial 5 finished with value: 0.5354807598213537 and parameters: {'feature_0': 0, 'feature_1': 1, 'feature_2': 0, 'feature_3': 1, 'feature_4': 1, 'feature_5': 0, 'feature_6': 1, 'feature_7': 0, 'feature_8': 1, 'feature_9': 1, 'feature_10': 0, 'feature_11': 0, 'feature_12': 0, 'feature_13': 0, 'feature_14': 0, 'feature_15': 1, 'feature_16': 0, 'feature_17': 1, 'feature_18': 0, 'feature_19': 1, 'feature_20': 1, 'feature_21': 0, 'feature_22': 1, 'feature_23': 1, 'feature_24': 0, 'feature_25': 1, 'feature_26': 0, 'feature_27': 1, 'feature_28': 0, 'feature_29': 1, 'feature_30': 1}. Best is trial 0 with value: 0.6471271253798386.\n",
            "[I 2024-11-15 15:45:30,672] Trial 6 finished with value: 0.6342228247871496 and parameters: {'feature_0': 0, 'feature_1': 1, 'feature_2': 1, 'feature_3': 1, 'feature_4': 0, 'feature_5': 1, 'feature_6': 1, 'feature_7': 1, 'feature_8': 0, 'feature_9': 1, 'feature_10': 1, 'feature_11': 1, 'feature_12': 0, 'feature_13': 0, 'feature_14': 0, 'feature_15': 0, 'feature_16': 0, 'feature_17': 0, 'feature_18': 0, 'feature_19': 1, 'feature_20': 1, 'feature_21': 1, 'feature_22': 1, 'feature_23': 1, 'feature_24': 1, 'feature_25': 1, 'feature_26': 1, 'feature_27': 1, 'feature_28': 0, 'feature_29': 1, 'feature_30': 0}. Best is trial 0 with value: 0.6471271253798386.\n",
            "[I 2024-11-15 15:45:30,727] Trial 7 finished with value: 0.5301171647740254 and parameters: {'feature_0': 0, 'feature_1': 0, 'feature_2': 1, 'feature_3': 1, 'feature_4': 1, 'feature_5': 1, 'feature_6': 0, 'feature_7': 0, 'feature_8': 1, 'feature_9': 1, 'feature_10': 1, 'feature_11': 0, 'feature_12': 0, 'feature_13': 0, 'feature_14': 0, 'feature_15': 0, 'feature_16': 1, 'feature_17': 0, 'feature_18': 0, 'feature_19': 0, 'feature_20': 0, 'feature_21': 1, 'feature_22': 1, 'feature_23': 1, 'feature_24': 0, 'feature_25': 1, 'feature_26': 1, 'feature_27': 1, 'feature_28': 0, 'feature_29': 0, 'feature_30': 0}. Best is trial 0 with value: 0.6471271253798386.\n",
            "[I 2024-11-15 15:45:30,820] Trial 8 finished with value: 0.48003760376704724 and parameters: {'feature_0': 1, 'feature_1': 0, 'feature_2': 1, 'feature_3': 0, 'feature_4': 0, 'feature_5': 1, 'feature_6': 0, 'feature_7': 1, 'feature_8': 1, 'feature_9': 0, 'feature_10': 1, 'feature_11': 1, 'feature_12': 0, 'feature_13': 1, 'feature_14': 0, 'feature_15': 1, 'feature_16': 1, 'feature_17': 1, 'feature_18': 0, 'feature_19': 1, 'feature_20': 0, 'feature_21': 0, 'feature_22': 1, 'feature_23': 0, 'feature_24': 1, 'feature_25': 1, 'feature_26': 0, 'feature_27': 0, 'feature_28': 1, 'feature_29': 0, 'feature_30': 0}. Best is trial 0 with value: 0.6471271253798386.\n",
            "[I 2024-11-15 15:45:30,920] Trial 9 finished with value: 0.4406347283361287 and parameters: {'feature_0': 1, 'feature_1': 0, 'feature_2': 0, 'feature_3': 0, 'feature_4': 1, 'feature_5': 0, 'feature_6': 0, 'feature_7': 0, 'feature_8': 0, 'feature_9': 0, 'feature_10': 1, 'feature_11': 0, 'feature_12': 1, 'feature_13': 0, 'feature_14': 1, 'feature_15': 1, 'feature_16': 0, 'feature_17': 1, 'feature_18': 1, 'feature_19': 0, 'feature_20': 0, 'feature_21': 1, 'feature_22': 0, 'feature_23': 0, 'feature_24': 0, 'feature_25': 1, 'feature_26': 1, 'feature_27': 0, 'feature_28': 1, 'feature_29': 1, 'feature_30': 1}. Best is trial 0 with value: 0.6471271253798386.\n",
            "[I 2024-11-15 15:45:31,331] Trial 10 finished with value: 0.45992210636148073 and parameters: {'feature_0': 0, 'feature_1': 1, 'feature_2': 1, 'feature_3': 0, 'feature_4': 0, 'feature_5': 0, 'feature_6': 0, 'feature_7': 0, 'feature_8': 0, 'feature_9': 0, 'feature_10': 1, 'feature_11': 1, 'feature_12': 1, 'feature_13': 1, 'feature_14': 1, 'feature_15': 0, 'feature_16': 1, 'feature_17': 1, 'feature_18': 0, 'feature_19': 1, 'feature_20': 0, 'feature_21': 0, 'feature_22': 1, 'feature_23': 1, 'feature_24': 1, 'feature_25': 0, 'feature_26': 0, 'feature_27': 0, 'feature_28': 1, 'feature_29': 0, 'feature_30': 0}. Best is trial 0 with value: 0.6471271253798386.\n",
            "[I 2024-11-15 15:45:31,649] Trial 11 finished with value: 0.6270190701953703 and parameters: {'feature_0': 0, 'feature_1': 1, 'feature_2': 1, 'feature_3': 1, 'feature_4': 0, 'feature_5': 1, 'feature_6': 0, 'feature_7': 1, 'feature_8': 0, 'feature_9': 1, 'feature_10': 1, 'feature_11': 1, 'feature_12': 1, 'feature_13': 1, 'feature_14': 0, 'feature_15': 0, 'feature_16': 0, 'feature_17': 0, 'feature_18': 0, 'feature_19': 1, 'feature_20': 0, 'feature_21': 0, 'feature_22': 1, 'feature_23': 1, 'feature_24': 1, 'feature_25': 0, 'feature_26': 1, 'feature_27': 0, 'feature_28': 0, 'feature_29': 1, 'feature_30': 0}. Best is trial 0 with value: 0.6471271253798386.\n",
            "[I 2024-11-15 15:45:32,190] Trial 12 finished with value: 0.6279170125323971 and parameters: {'feature_0': 0, 'feature_1': 1, 'feature_2': 1, 'feature_3': 1, 'feature_4': 0, 'feature_5': 1, 'feature_6': 0, 'feature_7': 1, 'feature_8': 0, 'feature_9': 1, 'feature_10': 1, 'feature_11': 1, 'feature_12': 1, 'feature_13': 0, 'feature_14': 1, 'feature_15': 0, 'feature_16': 1, 'feature_17': 1, 'feature_18': 0, 'feature_19': 1, 'feature_20': 0, 'feature_21': 0, 'feature_22': 1, 'feature_23': 1, 'feature_24': 1, 'feature_25': 0, 'feature_26': 1, 'feature_27': 0, 'feature_28': 0, 'feature_29': 1, 'feature_30': 0}. Best is trial 0 with value: 0.6471271253798386.\n",
            "[I 2024-11-15 15:45:33,122] Trial 13 finished with value: 0.6331934594496279 and parameters: {'feature_0': 0, 'feature_1': 1, 'feature_2': 1, 'feature_3': 1, 'feature_4': 0, 'feature_5': 1, 'feature_6': 1, 'feature_7': 0, 'feature_8': 0, 'feature_9': 1, 'feature_10': 1, 'feature_11': 1, 'feature_12': 0, 'feature_13': 1, 'feature_14': 0, 'feature_15': 0, 'feature_16': 0, 'feature_17': 0, 'feature_18': 0, 'feature_19': 1, 'feature_20': 1, 'feature_21': 1, 'feature_22': 1, 'feature_23': 1, 'feature_24': 1, 'feature_25': 0, 'feature_26': 1, 'feature_27': 0, 'feature_28': 0, 'feature_29': 0, 'feature_30': 0}. Best is trial 0 with value: 0.6471271253798386.\n",
            "[I 2024-11-15 15:45:34,029] Trial 14 finished with value: 0.6235193966490539 and parameters: {'feature_0': 0, 'feature_1': 1, 'feature_2': 1, 'feature_3': 0, 'feature_4': 1, 'feature_5': 1, 'feature_6': 0, 'feature_7': 0, 'feature_8': 1, 'feature_9': 1, 'feature_10': 1, 'feature_11': 1, 'feature_12': 0, 'feature_13': 0, 'feature_14': 1, 'feature_15': 0, 'feature_16': 1, 'feature_17': 0, 'feature_18': 0, 'feature_19': 1, 'feature_20': 0, 'feature_21': 1, 'feature_22': 1, 'feature_23': 1, 'feature_24': 0, 'feature_25': 0, 'feature_26': 1, 'feature_27': 0, 'feature_28': 0, 'feature_29': 0, 'feature_30': 0}. Best is trial 0 with value: 0.6471271253798386.\n",
            "[I 2024-11-15 15:45:34,990] Trial 15 finished with value: 0.6356291366841602 and parameters: {'feature_0': 1, 'feature_1': 1, 'feature_2': 1, 'feature_3': 1, 'feature_4': 0, 'feature_5': 1, 'feature_6': 1, 'feature_7': 1, 'feature_8': 0, 'feature_9': 1, 'feature_10': 1, 'feature_11': 1, 'feature_12': 1, 'feature_13': 1, 'feature_14': 0, 'feature_15': 0, 'feature_16': 0, 'feature_17': 1, 'feature_18': 0, 'feature_19': 1, 'feature_20': 1, 'feature_21': 0, 'feature_22': 1, 'feature_23': 1, 'feature_24': 1, 'feature_25': 0, 'feature_26': 1, 'feature_27': 1, 'feature_28': 1, 'feature_29': 1, 'feature_30': 0}. Best is trial 0 with value: 0.6471271253798386.\n",
            "[I 2024-11-15 15:45:35,953] Trial 16 finished with value: 0.642175092688609 and parameters: {'feature_0': 1, 'feature_1': 1, 'feature_2': 1, 'feature_3': 1, 'feature_4': 0, 'feature_5': 1, 'feature_6': 1, 'feature_7': 0, 'feature_8': 1, 'feature_9': 1, 'feature_10': 1, 'feature_11': 1, 'feature_12': 1, 'feature_13': 1, 'feature_14': 1, 'feature_15': 0, 'feature_16': 0, 'feature_17': 1, 'feature_18': 0, 'feature_19': 1, 'feature_20': 1, 'feature_21': 0, 'feature_22': 1, 'feature_23': 1, 'feature_24': 0, 'feature_25': 0, 'feature_26': 1, 'feature_27': 1, 'feature_28': 1, 'feature_29': 1, 'feature_30': 0}. Best is trial 0 with value: 0.6471271253798386.\n",
            "[I 2024-11-15 15:45:36,383] Trial 17 finished with value: 0.4934833392251459 and parameters: {'feature_0': 1, 'feature_1': 1, 'feature_2': 1, 'feature_3': 0, 'feature_4': 1, 'feature_5': 0, 'feature_6': 0, 'feature_7': 0, 'feature_8': 1, 'feature_9': 0, 'feature_10': 1, 'feature_11': 1, 'feature_12': 1, 'feature_13': 1, 'feature_14': 1, 'feature_15': 0, 'feature_16': 1, 'feature_17': 1, 'feature_18': 0, 'feature_19': 1, 'feature_20': 0, 'feature_21': 0, 'feature_22': 0, 'feature_23': 1, 'feature_24': 0, 'feature_25': 0, 'feature_26': 0, 'feature_27': 0, 'feature_28': 1, 'feature_29': 0, 'feature_30': 1}. Best is trial 0 with value: 0.6471271253798386.\n",
            "[I 2024-11-15 15:45:36,864] Trial 18 finished with value: 0.6471271253798386 and parameters: {'feature_0': 1, 'feature_1': 1, 'feature_2': 1, 'feature_3': 1, 'feature_4': 1, 'feature_5': 1, 'feature_6': 0, 'feature_7': 0, 'feature_8': 1, 'feature_9': 1, 'feature_10': 1, 'feature_11': 1, 'feature_12': 1, 'feature_13': 1, 'feature_14': 1, 'feature_15': 0, 'feature_16': 1, 'feature_17': 1, 'feature_18': 0, 'feature_19': 1, 'feature_20': 0, 'feature_21': 0, 'feature_22': 1, 'feature_23': 1, 'feature_24': 0, 'feature_25': 0, 'feature_26': 1, 'feature_27': 0, 'feature_28': 1, 'feature_29': 0, 'feature_30': 0}. Best is trial 0 with value: 0.6471271253798386.\n",
            "[I 2024-11-15 15:45:37,530] Trial 19 finished with value: 0.6471271253798386 and parameters: {'feature_0': 1, 'feature_1': 1, 'feature_2': 1, 'feature_3': 1, 'feature_4': 1, 'feature_5': 1, 'feature_6': 0, 'feature_7': 0, 'feature_8': 1, 'feature_9': 1, 'feature_10': 1, 'feature_11': 1, 'feature_12': 1, 'feature_13': 1, 'feature_14': 1, 'feature_15': 0, 'feature_16': 1, 'feature_17': 1, 'feature_18': 0, 'feature_19': 1, 'feature_20': 0, 'feature_21': 0, 'feature_22': 1, 'feature_23': 1, 'feature_24': 0, 'feature_25': 0, 'feature_26': 1, 'feature_27': 0, 'feature_28': 1, 'feature_29': 0, 'feature_30': 0}. Best is trial 0 with value: 0.6471271253798386.\n",
            "[I 2024-11-15 15:45:38,164] Trial 20 finished with value: 0.49369313759073813 and parameters: {'feature_0': 1, 'feature_1': 0, 'feature_2': 1, 'feature_3': 0, 'feature_4': 1, 'feature_5': 0, 'feature_6': 0, 'feature_7': 0, 'feature_8': 1, 'feature_9': 0, 'feature_10': 0, 'feature_11': 0, 'feature_12': 1, 'feature_13': 1, 'feature_14': 1, 'feature_15': 0, 'feature_16': 1, 'feature_17': 1, 'feature_18': 1, 'feature_19': 1, 'feature_20': 0, 'feature_21': 0, 'feature_22': 0, 'feature_23': 1, 'feature_24': 0, 'feature_25': 0, 'feature_26': 0, 'feature_27': 0, 'feature_28': 1, 'feature_29': 0, 'feature_30': 1}. Best is trial 0 with value: 0.6471271253798386.\n",
            "[I 2024-11-15 15:45:38,801] Trial 21 finished with value: 0.6471271253798386 and parameters: {'feature_0': 1, 'feature_1': 1, 'feature_2': 1, 'feature_3': 1, 'feature_4': 1, 'feature_5': 1, 'feature_6': 0, 'feature_7': 0, 'feature_8': 1, 'feature_9': 1, 'feature_10': 1, 'feature_11': 1, 'feature_12': 1, 'feature_13': 1, 'feature_14': 1, 'feature_15': 0, 'feature_16': 1, 'feature_17': 1, 'feature_18': 0, 'feature_19': 1, 'feature_20': 0, 'feature_21': 0, 'feature_22': 1, 'feature_23': 1, 'feature_24': 0, 'feature_25': 0, 'feature_26': 1, 'feature_27': 0, 'feature_28': 1, 'feature_29': 0, 'feature_30': 0}. Best is trial 0 with value: 0.6471271253798386.\n",
            "[I 2024-11-15 15:45:39,353] Trial 22 finished with value: 0.6471271253798386 and parameters: {'feature_0': 1, 'feature_1': 1, 'feature_2': 1, 'feature_3': 1, 'feature_4': 1, 'feature_5': 1, 'feature_6': 0, 'feature_7': 0, 'feature_8': 1, 'feature_9': 1, 'feature_10': 1, 'feature_11': 1, 'feature_12': 1, 'feature_13': 1, 'feature_14': 1, 'feature_15': 0, 'feature_16': 1, 'feature_17': 1, 'feature_18': 0, 'feature_19': 1, 'feature_20': 0, 'feature_21': 0, 'feature_22': 1, 'feature_23': 1, 'feature_24': 0, 'feature_25': 0, 'feature_26': 1, 'feature_27': 0, 'feature_28': 1, 'feature_29': 0, 'feature_30': 0}. Best is trial 0 with value: 0.6471271253798386.\n",
            "[I 2024-11-15 15:45:39,835] Trial 23 finished with value: 0.6471271253798386 and parameters: {'feature_0': 1, 'feature_1': 1, 'feature_2': 1, 'feature_3': 1, 'feature_4': 1, 'feature_5': 1, 'feature_6': 0, 'feature_7': 0, 'feature_8': 1, 'feature_9': 1, 'feature_10': 1, 'feature_11': 1, 'feature_12': 1, 'feature_13': 1, 'feature_14': 1, 'feature_15': 0, 'feature_16': 1, 'feature_17': 1, 'feature_18': 0, 'feature_19': 1, 'feature_20': 0, 'feature_21': 0, 'feature_22': 1, 'feature_23': 1, 'feature_24': 0, 'feature_25': 0, 'feature_26': 1, 'feature_27': 0, 'feature_28': 1, 'feature_29': 0, 'feature_30': 0}. Best is trial 0 with value: 0.6471271253798386.\n",
            "[I 2024-11-15 15:45:40,559] Trial 24 finished with value: 0.6471271253798386 and parameters: {'feature_0': 1, 'feature_1': 1, 'feature_2': 1, 'feature_3': 1, 'feature_4': 1, 'feature_5': 1, 'feature_6': 0, 'feature_7': 0, 'feature_8': 1, 'feature_9': 1, 'feature_10': 1, 'feature_11': 1, 'feature_12': 1, 'feature_13': 1, 'feature_14': 1, 'feature_15': 0, 'feature_16': 1, 'feature_17': 1, 'feature_18': 0, 'feature_19': 1, 'feature_20': 0, 'feature_21': 0, 'feature_22': 1, 'feature_23': 1, 'feature_24': 0, 'feature_25': 0, 'feature_26': 1, 'feature_27': 0, 'feature_28': 1, 'feature_29': 0, 'feature_30': 0}. Best is trial 0 with value: 0.6471271253798386.\n",
            "[I 2024-11-15 15:45:41,000] Trial 25 finished with value: 0.6471271253798386 and parameters: {'feature_0': 1, 'feature_1': 1, 'feature_2': 1, 'feature_3': 1, 'feature_4': 1, 'feature_5': 1, 'feature_6': 0, 'feature_7': 0, 'feature_8': 1, 'feature_9': 1, 'feature_10': 1, 'feature_11': 1, 'feature_12': 1, 'feature_13': 1, 'feature_14': 1, 'feature_15': 0, 'feature_16': 1, 'feature_17': 1, 'feature_18': 0, 'feature_19': 1, 'feature_20': 0, 'feature_21': 0, 'feature_22': 1, 'feature_23': 1, 'feature_24': 0, 'feature_25': 0, 'feature_26': 1, 'feature_27': 0, 'feature_28': 1, 'feature_29': 0, 'feature_30': 0}. Best is trial 0 with value: 0.6471271253798386.\n",
            "[I 2024-11-15 15:45:41,523] Trial 26 finished with value: 0.6471271253798386 and parameters: {'feature_0': 1, 'feature_1': 1, 'feature_2': 1, 'feature_3': 1, 'feature_4': 1, 'feature_5': 1, 'feature_6': 0, 'feature_7': 0, 'feature_8': 1, 'feature_9': 1, 'feature_10': 1, 'feature_11': 1, 'feature_12': 1, 'feature_13': 1, 'feature_14': 1, 'feature_15': 0, 'feature_16': 1, 'feature_17': 1, 'feature_18': 0, 'feature_19': 1, 'feature_20': 0, 'feature_21': 0, 'feature_22': 1, 'feature_23': 1, 'feature_24': 0, 'feature_25': 0, 'feature_26': 1, 'feature_27': 0, 'feature_28': 1, 'feature_29': 0, 'feature_30': 0}. Best is trial 0 with value: 0.6471271253798386.\n",
            "[I 2024-11-15 15:45:42,038] Trial 27 finished with value: 0.6471271253798386 and parameters: {'feature_0': 1, 'feature_1': 1, 'feature_2': 1, 'feature_3': 1, 'feature_4': 1, 'feature_5': 1, 'feature_6': 0, 'feature_7': 0, 'feature_8': 1, 'feature_9': 1, 'feature_10': 1, 'feature_11': 1, 'feature_12': 1, 'feature_13': 1, 'feature_14': 1, 'feature_15': 0, 'feature_16': 1, 'feature_17': 1, 'feature_18': 0, 'feature_19': 1, 'feature_20': 0, 'feature_21': 0, 'feature_22': 1, 'feature_23': 1, 'feature_24': 0, 'feature_25': 0, 'feature_26': 1, 'feature_27': 0, 'feature_28': 1, 'feature_29': 0, 'feature_30': 0}. Best is trial 0 with value: 0.6471271253798386.\n",
            "[I 2024-11-15 15:45:42,514] Trial 28 finished with value: 0.6471271253798386 and parameters: {'feature_0': 1, 'feature_1': 1, 'feature_2': 1, 'feature_3': 1, 'feature_4': 1, 'feature_5': 1, 'feature_6': 0, 'feature_7': 0, 'feature_8': 1, 'feature_9': 1, 'feature_10': 1, 'feature_11': 1, 'feature_12': 1, 'feature_13': 1, 'feature_14': 1, 'feature_15': 0, 'feature_16': 1, 'feature_17': 1, 'feature_18': 0, 'feature_19': 1, 'feature_20': 0, 'feature_21': 0, 'feature_22': 1, 'feature_23': 1, 'feature_24': 0, 'feature_25': 0, 'feature_26': 1, 'feature_27': 0, 'feature_28': 1, 'feature_29': 0, 'feature_30': 0}. Best is trial 0 with value: 0.6471271253798386.\n",
            "[I 2024-11-15 15:45:42,973] Trial 29 finished with value: 0.6123695465746213 and parameters: {'feature_0': 1, 'feature_1': 0, 'feature_2': 0, 'feature_3': 1, 'feature_4': 1, 'feature_5': 0, 'feature_6': 0, 'feature_7': 0, 'feature_8': 1, 'feature_9': 1, 'feature_10': 0, 'feature_11': 1, 'feature_12': 1, 'feature_13': 1, 'feature_14': 1, 'feature_15': 0, 'feature_16': 1, 'feature_17': 1, 'feature_18': 1, 'feature_19': 0, 'feature_20': 0, 'feature_21': 0, 'feature_22': 0, 'feature_23': 0, 'feature_24': 0, 'feature_25': 0, 'feature_26': 1, 'feature_27': 0, 'feature_28': 1, 'feature_29': 0, 'feature_30': 0}. Best is trial 0 with value: 0.6471271253798386.\n",
            "[I 2024-11-15 15:45:43,484] Trial 30 finished with value: 0.6471271253798386 and parameters: {'feature_0': 1, 'feature_1': 1, 'feature_2': 1, 'feature_3': 1, 'feature_4': 1, 'feature_5': 1, 'feature_6': 0, 'feature_7': 0, 'feature_8': 1, 'feature_9': 1, 'feature_10': 1, 'feature_11': 1, 'feature_12': 1, 'feature_13': 1, 'feature_14': 1, 'feature_15': 0, 'feature_16': 1, 'feature_17': 1, 'feature_18': 0, 'feature_19': 1, 'feature_20': 0, 'feature_21': 0, 'feature_22': 1, 'feature_23': 1, 'feature_24': 0, 'feature_25': 0, 'feature_26': 1, 'feature_27': 0, 'feature_28': 1, 'feature_29': 0, 'feature_30': 0}. Best is trial 0 with value: 0.6471271253798386.\n",
            "[I 2024-11-15 15:45:43,967] Trial 31 finished with value: 0.6471271253798386 and parameters: {'feature_0': 1, 'feature_1': 1, 'feature_2': 1, 'feature_3': 1, 'feature_4': 1, 'feature_5': 1, 'feature_6': 0, 'feature_7': 0, 'feature_8': 1, 'feature_9': 1, 'feature_10': 1, 'feature_11': 1, 'feature_12': 1, 'feature_13': 1, 'feature_14': 1, 'feature_15': 0, 'feature_16': 1, 'feature_17': 1, 'feature_18': 0, 'feature_19': 1, 'feature_20': 0, 'feature_21': 0, 'feature_22': 1, 'feature_23': 1, 'feature_24': 0, 'feature_25': 0, 'feature_26': 1, 'feature_27': 0, 'feature_28': 1, 'feature_29': 0, 'feature_30': 0}. Best is trial 0 with value: 0.6471271253798386.\n",
            "[I 2024-11-15 15:45:44,514] Trial 32 finished with value: 0.6471271253798386 and parameters: {'feature_0': 1, 'feature_1': 1, 'feature_2': 1, 'feature_3': 1, 'feature_4': 1, 'feature_5': 1, 'feature_6': 0, 'feature_7': 0, 'feature_8': 1, 'feature_9': 1, 'feature_10': 1, 'feature_11': 1, 'feature_12': 1, 'feature_13': 1, 'feature_14': 1, 'feature_15': 0, 'feature_16': 1, 'feature_17': 1, 'feature_18': 0, 'feature_19': 1, 'feature_20': 0, 'feature_21': 0, 'feature_22': 1, 'feature_23': 1, 'feature_24': 0, 'feature_25': 0, 'feature_26': 1, 'feature_27': 0, 'feature_28': 1, 'feature_29': 0, 'feature_30': 0}. Best is trial 0 with value: 0.6471271253798386.\n",
            "[I 2024-11-15 15:45:45,122] Trial 33 finished with value: 0.6471271253798386 and parameters: {'feature_0': 1, 'feature_1': 1, 'feature_2': 1, 'feature_3': 1, 'feature_4': 1, 'feature_5': 1, 'feature_6': 0, 'feature_7': 0, 'feature_8': 1, 'feature_9': 1, 'feature_10': 1, 'feature_11': 1, 'feature_12': 1, 'feature_13': 1, 'feature_14': 1, 'feature_15': 0, 'feature_16': 1, 'feature_17': 1, 'feature_18': 0, 'feature_19': 1, 'feature_20': 0, 'feature_21': 0, 'feature_22': 1, 'feature_23': 1, 'feature_24': 0, 'feature_25': 0, 'feature_26': 1, 'feature_27': 0, 'feature_28': 1, 'feature_29': 0, 'feature_30': 0}. Best is trial 0 with value: 0.6471271253798386.\n",
            "[I 2024-11-15 15:45:45,815] Trial 34 finished with value: 0.6296602737055675 and parameters: {'feature_0': 1, 'feature_1': 1, 'feature_2': 0, 'feature_3': 1, 'feature_4': 1, 'feature_5': 1, 'feature_6': 0, 'feature_7': 0, 'feature_8': 1, 'feature_9': 1, 'feature_10': 0, 'feature_11': 1, 'feature_12': 1, 'feature_13': 1, 'feature_14': 1, 'feature_15': 1, 'feature_16': 1, 'feature_17': 1, 'feature_18': 1, 'feature_19': 0, 'feature_20': 0, 'feature_21': 0, 'feature_22': 1, 'feature_23': 0, 'feature_24': 0, 'feature_25': 0, 'feature_26': 1, 'feature_27': 0, 'feature_28': 1, 'feature_29': 0, 'feature_30': 0}. Best is trial 0 with value: 0.6471271253798386.\n",
            "[I 2024-11-15 15:45:47,385] Trial 35 finished with value: 0.643664430959225 and parameters: {'feature_0': 1, 'feature_1': 1, 'feature_2': 1, 'feature_3': 1, 'feature_4': 1, 'feature_5': 1, 'feature_6': 0, 'feature_7': 0, 'feature_8': 1, 'feature_9': 1, 'feature_10': 1, 'feature_11': 0, 'feature_12': 1, 'feature_13': 1, 'feature_14': 1, 'feature_15': 0, 'feature_16': 1, 'feature_17': 1, 'feature_18': 0, 'feature_19': 1, 'feature_20': 0, 'feature_21': 0, 'feature_22': 0, 'feature_23': 1, 'feature_24': 0, 'feature_25': 0, 'feature_26': 1, 'feature_27': 0, 'feature_28': 1, 'feature_29': 0, 'feature_30': 1}. Best is trial 0 with value: 0.6471271253798386.\n",
            "[I 2024-11-15 15:45:48,644] Trial 36 finished with value: 0.6484370243493598 and parameters: {'feature_0': 1, 'feature_1': 1, 'feature_2': 0, 'feature_3': 1, 'feature_4': 1, 'feature_5': 1, 'feature_6': 0, 'feature_7': 0, 'feature_8': 1, 'feature_9': 1, 'feature_10': 0, 'feature_11': 1, 'feature_12': 1, 'feature_13': 1, 'feature_14': 1, 'feature_15': 1, 'feature_16': 1, 'feature_17': 1, 'feature_18': 0, 'feature_19': 1, 'feature_20': 0, 'feature_21': 0, 'feature_22': 1, 'feature_23': 1, 'feature_24': 0, 'feature_25': 0, 'feature_26': 1, 'feature_27': 0, 'feature_28': 1, 'feature_29': 0, 'feature_30': 0}. Best is trial 36 with value: 0.6484370243493598.\n",
            "[I 2024-11-15 15:45:49,977] Trial 37 finished with value: 0.6484582850150827 and parameters: {'feature_0': 1, 'feature_1': 1, 'feature_2': 0, 'feature_3': 1, 'feature_4': 1, 'feature_5': 1, 'feature_6': 0, 'feature_7': 0, 'feature_8': 1, 'feature_9': 1, 'feature_10': 0, 'feature_11': 1, 'feature_12': 1, 'feature_13': 1, 'feature_14': 1, 'feature_15': 1, 'feature_16': 1, 'feature_17': 1, 'feature_18': 0, 'feature_19': 0, 'feature_20': 0, 'feature_21': 0, 'feature_22': 1, 'feature_23': 1, 'feature_24': 0, 'feature_25': 1, 'feature_26': 0, 'feature_27': 0, 'feature_28': 1, 'feature_29': 0, 'feature_30': 0}. Best is trial 37 with value: 0.6484582850150827.\n",
            "[I 2024-11-15 15:45:50,557] Trial 38 finished with value: 0.6343713391213484 and parameters: {'feature_0': 1, 'feature_1': 0, 'feature_2': 0, 'feature_3': 1, 'feature_4': 1, 'feature_5': 1, 'feature_6': 1, 'feature_7': 1, 'feature_8': 1, 'feature_9': 1, 'feature_10': 0, 'feature_11': 0, 'feature_12': 1, 'feature_13': 1, 'feature_14': 1, 'feature_15': 1, 'feature_16': 1, 'feature_17': 1, 'feature_18': 1, 'feature_19': 0, 'feature_20': 1, 'feature_21': 1, 'feature_22': 1, 'feature_23': 0, 'feature_24': 0, 'feature_25': 1, 'feature_26': 0, 'feature_27': 1, 'feature_28': 1, 'feature_29': 0, 'feature_30': 0}. Best is trial 37 with value: 0.6484582850150827.\n",
            "[I 2024-11-15 15:45:51,106] Trial 39 finished with value: 0.5250119056570669 and parameters: {'feature_0': 1, 'feature_1': 1, 'feature_2': 0, 'feature_3': 1, 'feature_4': 1, 'feature_5': 1, 'feature_6': 0, 'feature_7': 0, 'feature_8': 1, 'feature_9': 0, 'feature_10': 0, 'feature_11': 1, 'feature_12': 0, 'feature_13': 0, 'feature_14': 1, 'feature_15': 1, 'feature_16': 1, 'feature_17': 0, 'feature_18': 0, 'feature_19': 0, 'feature_20': 0, 'feature_21': 0, 'feature_22': 1, 'feature_23': 1, 'feature_24': 0, 'feature_25': 1, 'feature_26': 0, 'feature_27': 0, 'feature_28': 1, 'feature_29': 0, 'feature_30': 1}. Best is trial 37 with value: 0.6484582850150827.\n",
            "[I 2024-11-15 15:45:51,924] Trial 40 finished with value: 0.6484582850150827 and parameters: {'feature_0': 1, 'feature_1': 1, 'feature_2': 0, 'feature_3': 1, 'feature_4': 1, 'feature_5': 1, 'feature_6': 0, 'feature_7': 0, 'feature_8': 1, 'feature_9': 1, 'feature_10': 0, 'feature_11': 1, 'feature_12': 1, 'feature_13': 1, 'feature_14': 1, 'feature_15': 1, 'feature_16': 1, 'feature_17': 1, 'feature_18': 0, 'feature_19': 0, 'feature_20': 0, 'feature_21': 0, 'feature_22': 1, 'feature_23': 1, 'feature_24': 0, 'feature_25': 1, 'feature_26': 0, 'feature_27': 0, 'feature_28': 1, 'feature_29': 0, 'feature_30': 0}. Best is trial 37 with value: 0.6484582850150827.\n",
            "[I 2024-11-15 15:45:52,499] Trial 41 finished with value: 0.6484582850150827 and parameters: {'feature_0': 1, 'feature_1': 1, 'feature_2': 0, 'feature_3': 1, 'feature_4': 1, 'feature_5': 1, 'feature_6': 0, 'feature_7': 0, 'feature_8': 1, 'feature_9': 1, 'feature_10': 0, 'feature_11': 1, 'feature_12': 1, 'feature_13': 1, 'feature_14': 1, 'feature_15': 1, 'feature_16': 1, 'feature_17': 1, 'feature_18': 0, 'feature_19': 0, 'feature_20': 0, 'feature_21': 0, 'feature_22': 1, 'feature_23': 1, 'feature_24': 0, 'feature_25': 1, 'feature_26': 0, 'feature_27': 0, 'feature_28': 1, 'feature_29': 0, 'feature_30': 0}. Best is trial 37 with value: 0.6484582850150827.\n",
            "[I 2024-11-15 15:45:53,158] Trial 42 finished with value: 0.6484582850150827 and parameters: {'feature_0': 1, 'feature_1': 1, 'feature_2': 0, 'feature_3': 1, 'feature_4': 1, 'feature_5': 1, 'feature_6': 0, 'feature_7': 0, 'feature_8': 1, 'feature_9': 1, 'feature_10': 0, 'feature_11': 1, 'feature_12': 1, 'feature_13': 1, 'feature_14': 1, 'feature_15': 1, 'feature_16': 1, 'feature_17': 1, 'feature_18': 0, 'feature_19': 0, 'feature_20': 0, 'feature_21': 0, 'feature_22': 1, 'feature_23': 1, 'feature_24': 0, 'feature_25': 1, 'feature_26': 0, 'feature_27': 0, 'feature_28': 1, 'feature_29': 0, 'feature_30': 0}. Best is trial 37 with value: 0.6484582850150827.\n",
            "[I 2024-11-15 15:45:53,843] Trial 43 finished with value: 0.6484582850150827 and parameters: {'feature_0': 1, 'feature_1': 1, 'feature_2': 0, 'feature_3': 1, 'feature_4': 1, 'feature_5': 1, 'feature_6': 0, 'feature_7': 0, 'feature_8': 1, 'feature_9': 1, 'feature_10': 0, 'feature_11': 1, 'feature_12': 1, 'feature_13': 1, 'feature_14': 1, 'feature_15': 1, 'feature_16': 1, 'feature_17': 1, 'feature_18': 0, 'feature_19': 0, 'feature_20': 0, 'feature_21': 0, 'feature_22': 1, 'feature_23': 1, 'feature_24': 0, 'feature_25': 1, 'feature_26': 0, 'feature_27': 0, 'feature_28': 1, 'feature_29': 0, 'feature_30': 0}. Best is trial 37 with value: 0.6484582850150827.\n",
            "[I 2024-11-15 15:45:54,665] Trial 44 finished with value: 0.6484582850150827 and parameters: {'feature_0': 1, 'feature_1': 1, 'feature_2': 0, 'feature_3': 1, 'feature_4': 1, 'feature_5': 1, 'feature_6': 0, 'feature_7': 0, 'feature_8': 1, 'feature_9': 1, 'feature_10': 0, 'feature_11': 1, 'feature_12': 1, 'feature_13': 1, 'feature_14': 1, 'feature_15': 1, 'feature_16': 1, 'feature_17': 1, 'feature_18': 0, 'feature_19': 0, 'feature_20': 0, 'feature_21': 0, 'feature_22': 1, 'feature_23': 1, 'feature_24': 0, 'feature_25': 1, 'feature_26': 0, 'feature_27': 0, 'feature_28': 1, 'feature_29': 0, 'feature_30': 0}. Best is trial 37 with value: 0.6484582850150827.\n",
            "[I 2024-11-15 15:45:55,399] Trial 45 finished with value: 0.6484582850150827 and parameters: {'feature_0': 1, 'feature_1': 1, 'feature_2': 0, 'feature_3': 1, 'feature_4': 1, 'feature_5': 1, 'feature_6': 0, 'feature_7': 0, 'feature_8': 1, 'feature_9': 1, 'feature_10': 0, 'feature_11': 1, 'feature_12': 1, 'feature_13': 1, 'feature_14': 1, 'feature_15': 1, 'feature_16': 1, 'feature_17': 1, 'feature_18': 0, 'feature_19': 0, 'feature_20': 0, 'feature_21': 0, 'feature_22': 1, 'feature_23': 1, 'feature_24': 0, 'feature_25': 1, 'feature_26': 0, 'feature_27': 0, 'feature_28': 1, 'feature_29': 0, 'feature_30': 0}. Best is trial 37 with value: 0.6484582850150827.\n",
            "[I 2024-11-15 15:45:56,001] Trial 46 finished with value: 0.6484582850150827 and parameters: {'feature_0': 1, 'feature_1': 1, 'feature_2': 0, 'feature_3': 1, 'feature_4': 1, 'feature_5': 1, 'feature_6': 0, 'feature_7': 0, 'feature_8': 1, 'feature_9': 1, 'feature_10': 0, 'feature_11': 1, 'feature_12': 1, 'feature_13': 1, 'feature_14': 1, 'feature_15': 1, 'feature_16': 1, 'feature_17': 1, 'feature_18': 0, 'feature_19': 0, 'feature_20': 0, 'feature_21': 0, 'feature_22': 1, 'feature_23': 1, 'feature_24': 0, 'feature_25': 1, 'feature_26': 0, 'feature_27': 0, 'feature_28': 1, 'feature_29': 0, 'feature_30': 0}. Best is trial 37 with value: 0.6484582850150827.\n",
            "[I 2024-11-15 15:45:56,643] Trial 47 finished with value: 0.6497706209730879 and parameters: {'feature_0': 1, 'feature_1': 1, 'feature_2': 0, 'feature_3': 1, 'feature_4': 1, 'feature_5': 1, 'feature_6': 0, 'feature_7': 0, 'feature_8': 1, 'feature_9': 1, 'feature_10': 0, 'feature_11': 1, 'feature_12': 1, 'feature_13': 1, 'feature_14': 0, 'feature_15': 1, 'feature_16': 1, 'feature_17': 1, 'feature_18': 0, 'feature_19': 0, 'feature_20': 0, 'feature_21': 0, 'feature_22': 1, 'feature_23': 1, 'feature_24': 0, 'feature_25': 1, 'feature_26': 0, 'feature_27': 0, 'feature_28': 1, 'feature_29': 0, 'feature_30': 0}. Best is trial 47 with value: 0.6497706209730879.\n",
            "[I 2024-11-15 15:45:57,362] Trial 48 finished with value: 0.6190973270643719 and parameters: {'feature_0': 1, 'feature_1': 1, 'feature_2': 0, 'feature_3': 0, 'feature_4': 1, 'feature_5': 1, 'feature_6': 0, 'feature_7': 0, 'feature_8': 1, 'feature_9': 1, 'feature_10': 0, 'feature_11': 1, 'feature_12': 1, 'feature_13': 0, 'feature_14': 0, 'feature_15': 1, 'feature_16': 1, 'feature_17': 1, 'feature_18': 0, 'feature_19': 0, 'feature_20': 0, 'feature_21': 1, 'feature_22': 1, 'feature_23': 1, 'feature_24': 0, 'feature_25': 1, 'feature_26': 0, 'feature_27': 0, 'feature_28': 0, 'feature_29': 0, 'feature_30': 0}. Best is trial 47 with value: 0.6497706209730879.\n",
            "[I 2024-11-15 15:45:58,072] Trial 49 finished with value: 0.6328086702003711 and parameters: {'feature_0': 0, 'feature_1': 0, 'feature_2': 0, 'feature_3': 1, 'feature_4': 1, 'feature_5': 1, 'feature_6': 0, 'feature_7': 1, 'feature_8': 0, 'feature_9': 1, 'feature_10': 0, 'feature_11': 0, 'feature_12': 0, 'feature_13': 1, 'feature_14': 0, 'feature_15': 1, 'feature_16': 0, 'feature_17': 0, 'feature_18': 0, 'feature_19': 0, 'feature_20': 0, 'feature_21': 0, 'feature_22': 1, 'feature_23': 1, 'feature_24': 1, 'feature_25': 1, 'feature_26': 0, 'feature_27': 1, 'feature_28': 1, 'feature_29': 1, 'feature_30': 0}. Best is trial 47 with value: 0.6497706209730879.\n",
            "[I 2024-11-15 15:45:58,772] Trial 50 finished with value: 0.47107334018996433 and parameters: {'feature_0': 1, 'feature_1': 1, 'feature_2': 0, 'feature_3': 1, 'feature_4': 1, 'feature_5': 0, 'feature_6': 1, 'feature_7': 0, 'feature_8': 1, 'feature_9': 0, 'feature_10': 0, 'feature_11': 1, 'feature_12': 1, 'feature_13': 1, 'feature_14': 0, 'feature_15': 1, 'feature_16': 1, 'feature_17': 1, 'feature_18': 0, 'feature_19': 0, 'feature_20': 1, 'feature_21': 0, 'feature_22': 1, 'feature_23': 0, 'feature_24': 0, 'feature_25': 1, 'feature_26': 0, 'feature_27': 0, 'feature_28': 1, 'feature_29': 0, 'feature_30': 0}. Best is trial 47 with value: 0.6497706209730879.\n",
            "[I 2024-11-15 15:45:59,280] Trial 51 finished with value: 0.6497706209730879 and parameters: {'feature_0': 1, 'feature_1': 1, 'feature_2': 0, 'feature_3': 1, 'feature_4': 1, 'feature_5': 1, 'feature_6': 0, 'feature_7': 0, 'feature_8': 1, 'feature_9': 1, 'feature_10': 0, 'feature_11': 1, 'feature_12': 1, 'feature_13': 1, 'feature_14': 0, 'feature_15': 1, 'feature_16': 1, 'feature_17': 1, 'feature_18': 0, 'feature_19': 0, 'feature_20': 0, 'feature_21': 0, 'feature_22': 1, 'feature_23': 1, 'feature_24': 0, 'feature_25': 1, 'feature_26': 0, 'feature_27': 0, 'feature_28': 1, 'feature_29': 0, 'feature_30': 0}. Best is trial 47 with value: 0.6497706209730879.\n",
            "[I 2024-11-15 15:45:59,767] Trial 52 finished with value: 0.6497706209730879 and parameters: {'feature_0': 1, 'feature_1': 1, 'feature_2': 0, 'feature_3': 1, 'feature_4': 1, 'feature_5': 1, 'feature_6': 0, 'feature_7': 0, 'feature_8': 1, 'feature_9': 1, 'feature_10': 0, 'feature_11': 1, 'feature_12': 1, 'feature_13': 1, 'feature_14': 0, 'feature_15': 1, 'feature_16': 1, 'feature_17': 1, 'feature_18': 0, 'feature_19': 0, 'feature_20': 0, 'feature_21': 0, 'feature_22': 1, 'feature_23': 1, 'feature_24': 0, 'feature_25': 1, 'feature_26': 0, 'feature_27': 0, 'feature_28': 1, 'feature_29': 0, 'feature_30': 0}. Best is trial 47 with value: 0.6497706209730879.\n",
            "[I 2024-11-15 15:46:00,805] Trial 53 finished with value: 0.6497706209730879 and parameters: {'feature_0': 1, 'feature_1': 1, 'feature_2': 0, 'feature_3': 1, 'feature_4': 1, 'feature_5': 1, 'feature_6': 0, 'feature_7': 0, 'feature_8': 1, 'feature_9': 1, 'feature_10': 0, 'feature_11': 1, 'feature_12': 1, 'feature_13': 1, 'feature_14': 0, 'feature_15': 1, 'feature_16': 1, 'feature_17': 1, 'feature_18': 0, 'feature_19': 0, 'feature_20': 0, 'feature_21': 0, 'feature_22': 1, 'feature_23': 1, 'feature_24': 0, 'feature_25': 1, 'feature_26': 0, 'feature_27': 0, 'feature_28': 1, 'feature_29': 0, 'feature_30': 0}. Best is trial 47 with value: 0.6497706209730879.\n",
            "[I 2024-11-15 15:46:01,864] Trial 54 finished with value: 0.6497706209730879 and parameters: {'feature_0': 1, 'feature_1': 1, 'feature_2': 0, 'feature_3': 1, 'feature_4': 1, 'feature_5': 1, 'feature_6': 0, 'feature_7': 0, 'feature_8': 1, 'feature_9': 1, 'feature_10': 0, 'feature_11': 1, 'feature_12': 1, 'feature_13': 1, 'feature_14': 0, 'feature_15': 1, 'feature_16': 1, 'feature_17': 1, 'feature_18': 0, 'feature_19': 0, 'feature_20': 0, 'feature_21': 0, 'feature_22': 1, 'feature_23': 1, 'feature_24': 0, 'feature_25': 1, 'feature_26': 0, 'feature_27': 0, 'feature_28': 1, 'feature_29': 0, 'feature_30': 0}. Best is trial 47 with value: 0.6497706209730879.\n",
            "[I 2024-11-15 15:46:02,917] Trial 55 finished with value: 0.6497706209730879 and parameters: {'feature_0': 1, 'feature_1': 1, 'feature_2': 0, 'feature_3': 1, 'feature_4': 1, 'feature_5': 1, 'feature_6': 0, 'feature_7': 0, 'feature_8': 1, 'feature_9': 1, 'feature_10': 0, 'feature_11': 1, 'feature_12': 1, 'feature_13': 1, 'feature_14': 0, 'feature_15': 1, 'feature_16': 1, 'feature_17': 1, 'feature_18': 0, 'feature_19': 0, 'feature_20': 0, 'feature_21': 0, 'feature_22': 1, 'feature_23': 1, 'feature_24': 0, 'feature_25': 1, 'feature_26': 0, 'feature_27': 0, 'feature_28': 1, 'feature_29': 0, 'feature_30': 0}. Best is trial 47 with value: 0.6497706209730879.\n",
            "[I 2024-11-15 15:46:04,188] Trial 56 finished with value: 0.6497706209730879 and parameters: {'feature_0': 1, 'feature_1': 1, 'feature_2': 0, 'feature_3': 1, 'feature_4': 1, 'feature_5': 1, 'feature_6': 0, 'feature_7': 0, 'feature_8': 1, 'feature_9': 1, 'feature_10': 0, 'feature_11': 1, 'feature_12': 1, 'feature_13': 1, 'feature_14': 0, 'feature_15': 1, 'feature_16': 1, 'feature_17': 1, 'feature_18': 0, 'feature_19': 0, 'feature_20': 0, 'feature_21': 0, 'feature_22': 1, 'feature_23': 1, 'feature_24': 0, 'feature_25': 1, 'feature_26': 0, 'feature_27': 0, 'feature_28': 1, 'feature_29': 0, 'feature_30': 0}. Best is trial 47 with value: 0.6497706209730879.\n",
            "[I 2024-11-15 15:46:04,515] Trial 57 finished with value: 0.6498065753828963 and parameters: {'feature_0': 1, 'feature_1': 1, 'feature_2': 0, 'feature_3': 1, 'feature_4': 0, 'feature_5': 1, 'feature_6': 0, 'feature_7': 0, 'feature_8': 1, 'feature_9': 1, 'feature_10': 0, 'feature_11': 1, 'feature_12': 1, 'feature_13': 1, 'feature_14': 0, 'feature_15': 1, 'feature_16': 1, 'feature_17': 1, 'feature_18': 0, 'feature_19': 0, 'feature_20': 0, 'feature_21': 0, 'feature_22': 1, 'feature_23': 1, 'feature_24': 0, 'feature_25': 1, 'feature_26': 0, 'feature_27': 0, 'feature_28': 1, 'feature_29': 0, 'feature_30': 0}. Best is trial 57 with value: 0.6498065753828963.\n",
            "[I 2024-11-15 15:46:04,769] Trial 58 finished with value: 0.6258703428251672 and parameters: {'feature_0': 1, 'feature_1': 1, 'feature_2': 0, 'feature_3': 1, 'feature_4': 0, 'feature_5': 1, 'feature_6': 0, 'feature_7': 0, 'feature_8': 1, 'feature_9': 1, 'feature_10': 0, 'feature_11': 1, 'feature_12': 1, 'feature_13': 1, 'feature_14': 0, 'feature_15': 1, 'feature_16': 1, 'feature_17': 1, 'feature_18': 0, 'feature_19': 0, 'feature_20': 0, 'feature_21': 0, 'feature_22': 1, 'feature_23': 1, 'feature_24': 1, 'feature_25': 1, 'feature_26': 0, 'feature_27': 0, 'feature_28': 0, 'feature_29': 1, 'feature_30': 0}. Best is trial 57 with value: 0.6498065753828963.\n",
            "[I 2024-11-15 15:46:05,027] Trial 59 finished with value: 0.6474053043489473 and parameters: {'feature_0': 0, 'feature_1': 1, 'feature_2': 0, 'feature_3': 0, 'feature_4': 0, 'feature_5': 1, 'feature_6': 0, 'feature_7': 0, 'feature_8': 1, 'feature_9': 1, 'feature_10': 0, 'feature_11': 1, 'feature_12': 1, 'feature_13': 1, 'feature_14': 0, 'feature_15': 1, 'feature_16': 1, 'feature_17': 1, 'feature_18': 0, 'feature_19': 0, 'feature_20': 0, 'feature_21': 0, 'feature_22': 1, 'feature_23': 1, 'feature_24': 0, 'feature_25': 1, 'feature_26': 0, 'feature_27': 0, 'feature_28': 1, 'feature_29': 0, 'feature_30': 1}. Best is trial 57 with value: 0.6498065753828963.\n",
            "[I 2024-11-15 15:46:05,295] Trial 60 finished with value: 0.6307917670901704 and parameters: {'feature_0': 1, 'feature_1': 1, 'feature_2': 0, 'feature_3': 1, 'feature_4': 0, 'feature_5': 1, 'feature_6': 0, 'feature_7': 1, 'feature_8': 0, 'feature_9': 1, 'feature_10': 0, 'feature_11': 1, 'feature_12': 1, 'feature_13': 1, 'feature_14': 0, 'feature_15': 1, 'feature_16': 0, 'feature_17': 1, 'feature_18': 0, 'feature_19': 0, 'feature_20': 0, 'feature_21': 1, 'feature_22': 1, 'feature_23': 1, 'feature_24': 0, 'feature_25': 1, 'feature_26': 0, 'feature_27': 0, 'feature_28': 1, 'feature_29': 0, 'feature_30': 0}. Best is trial 57 with value: 0.6498065753828963.\n",
            "[I 2024-11-15 15:46:05,568] Trial 61 finished with value: 0.6498065753828963 and parameters: {'feature_0': 1, 'feature_1': 1, 'feature_2': 0, 'feature_3': 1, 'feature_4': 0, 'feature_5': 1, 'feature_6': 0, 'feature_7': 0, 'feature_8': 1, 'feature_9': 1, 'feature_10': 0, 'feature_11': 1, 'feature_12': 1, 'feature_13': 1, 'feature_14': 0, 'feature_15': 1, 'feature_16': 1, 'feature_17': 1, 'feature_18': 0, 'feature_19': 0, 'feature_20': 0, 'feature_21': 0, 'feature_22': 1, 'feature_23': 1, 'feature_24': 0, 'feature_25': 1, 'feature_26': 0, 'feature_27': 0, 'feature_28': 1, 'feature_29': 0, 'feature_30': 0}. Best is trial 57 with value: 0.6498065753828963.\n",
            "[I 2024-11-15 15:46:05,829] Trial 62 finished with value: 0.6498065753828963 and parameters: {'feature_0': 1, 'feature_1': 1, 'feature_2': 0, 'feature_3': 1, 'feature_4': 0, 'feature_5': 1, 'feature_6': 0, 'feature_7': 0, 'feature_8': 1, 'feature_9': 1, 'feature_10': 0, 'feature_11': 1, 'feature_12': 1, 'feature_13': 1, 'feature_14': 0, 'feature_15': 1, 'feature_16': 1, 'feature_17': 1, 'feature_18': 0, 'feature_19': 0, 'feature_20': 0, 'feature_21': 0, 'feature_22': 1, 'feature_23': 1, 'feature_24': 0, 'feature_25': 1, 'feature_26': 0, 'feature_27': 0, 'feature_28': 1, 'feature_29': 0, 'feature_30': 0}. Best is trial 57 with value: 0.6498065753828963.\n",
            "[I 2024-11-15 15:46:06,086] Trial 63 finished with value: 0.6498065753828963 and parameters: {'feature_0': 1, 'feature_1': 1, 'feature_2': 0, 'feature_3': 1, 'feature_4': 0, 'feature_5': 1, 'feature_6': 0, 'feature_7': 0, 'feature_8': 1, 'feature_9': 1, 'feature_10': 0, 'feature_11': 1, 'feature_12': 1, 'feature_13': 1, 'feature_14': 0, 'feature_15': 1, 'feature_16': 1, 'feature_17': 1, 'feature_18': 0, 'feature_19': 0, 'feature_20': 0, 'feature_21': 0, 'feature_22': 1, 'feature_23': 1, 'feature_24': 0, 'feature_25': 1, 'feature_26': 0, 'feature_27': 0, 'feature_28': 1, 'feature_29': 0, 'feature_30': 0}. Best is trial 57 with value: 0.6498065753828963.\n",
            "[I 2024-11-15 15:46:06,339] Trial 64 finished with value: 0.6498065753828963 and parameters: {'feature_0': 1, 'feature_1': 1, 'feature_2': 0, 'feature_3': 1, 'feature_4': 0, 'feature_5': 1, 'feature_6': 0, 'feature_7': 0, 'feature_8': 1, 'feature_9': 1, 'feature_10': 0, 'feature_11': 1, 'feature_12': 1, 'feature_13': 1, 'feature_14': 0, 'feature_15': 1, 'feature_16': 1, 'feature_17': 1, 'feature_18': 0, 'feature_19': 0, 'feature_20': 0, 'feature_21': 0, 'feature_22': 1, 'feature_23': 1, 'feature_24': 0, 'feature_25': 1, 'feature_26': 0, 'feature_27': 0, 'feature_28': 1, 'feature_29': 0, 'feature_30': 0}. Best is trial 57 with value: 0.6498065753828963.\n",
            "[I 2024-11-15 15:46:06,610] Trial 65 finished with value: 0.6498065753828963 and parameters: {'feature_0': 1, 'feature_1': 1, 'feature_2': 0, 'feature_3': 1, 'feature_4': 0, 'feature_5': 1, 'feature_6': 0, 'feature_7': 0, 'feature_8': 1, 'feature_9': 1, 'feature_10': 0, 'feature_11': 1, 'feature_12': 1, 'feature_13': 1, 'feature_14': 0, 'feature_15': 1, 'feature_16': 1, 'feature_17': 1, 'feature_18': 0, 'feature_19': 0, 'feature_20': 0, 'feature_21': 0, 'feature_22': 1, 'feature_23': 1, 'feature_24': 0, 'feature_25': 1, 'feature_26': 0, 'feature_27': 0, 'feature_28': 1, 'feature_29': 0, 'feature_30': 0}. Best is trial 57 with value: 0.6498065753828963.\n",
            "[I 2024-11-15 15:46:06,881] Trial 66 finished with value: 0.6412866641416892 and parameters: {'feature_0': 1, 'feature_1': 1, 'feature_2': 0, 'feature_3': 1, 'feature_4': 0, 'feature_5': 1, 'feature_6': 0, 'feature_7': 0, 'feature_8': 1, 'feature_9': 1, 'feature_10': 0, 'feature_11': 1, 'feature_12': 1, 'feature_13': 1, 'feature_14': 0, 'feature_15': 1, 'feature_16': 1, 'feature_17': 1, 'feature_18': 0, 'feature_19': 0, 'feature_20': 0, 'feature_21': 0, 'feature_22': 0, 'feature_23': 1, 'feature_24': 0, 'feature_25': 1, 'feature_26': 0, 'feature_27': 0, 'feature_28': 1, 'feature_29': 0, 'feature_30': 0}. Best is trial 57 with value: 0.6498065753828963.\n",
            "[I 2024-11-15 15:46:07,147] Trial 67 finished with value: 0.6498065753828963 and parameters: {'feature_0': 1, 'feature_1': 1, 'feature_2': 0, 'feature_3': 1, 'feature_4': 0, 'feature_5': 1, 'feature_6': 0, 'feature_7': 0, 'feature_8': 1, 'feature_9': 1, 'feature_10': 0, 'feature_11': 1, 'feature_12': 1, 'feature_13': 1, 'feature_14': 0, 'feature_15': 1, 'feature_16': 1, 'feature_17': 1, 'feature_18': 0, 'feature_19': 0, 'feature_20': 0, 'feature_21': 0, 'feature_22': 1, 'feature_23': 1, 'feature_24': 0, 'feature_25': 1, 'feature_26': 0, 'feature_27': 0, 'feature_28': 1, 'feature_29': 0, 'feature_30': 0}. Best is trial 57 with value: 0.6498065753828963.\n",
            "[I 2024-11-15 15:46:07,412] Trial 68 finished with value: 0.6471753194829141 and parameters: {'feature_0': 1, 'feature_1': 1, 'feature_2': 0, 'feature_3': 1, 'feature_4': 0, 'feature_5': 0, 'feature_6': 0, 'feature_7': 0, 'feature_8': 1, 'feature_9': 1, 'feature_10': 0, 'feature_11': 1, 'feature_12': 1, 'feature_13': 1, 'feature_14': 0, 'feature_15': 1, 'feature_16': 1, 'feature_17': 1, 'feature_18': 0, 'feature_19': 0, 'feature_20': 0, 'feature_21': 0, 'feature_22': 1, 'feature_23': 1, 'feature_24': 0, 'feature_25': 1, 'feature_26': 0, 'feature_27': 0, 'feature_28': 1, 'feature_29': 0, 'feature_30': 0}. Best is trial 57 with value: 0.6498065753828963.\n",
            "[I 2024-11-15 15:46:07,690] Trial 69 finished with value: 0.6361338628540139 and parameters: {'feature_0': 1, 'feature_1': 1, 'feature_2': 0, 'feature_3': 1, 'feature_4': 0, 'feature_5': 1, 'feature_6': 0, 'feature_7': 0, 'feature_8': 1, 'feature_9': 1, 'feature_10': 0, 'feature_11': 1, 'feature_12': 0, 'feature_13': 1, 'feature_14': 0, 'feature_15': 1, 'feature_16': 1, 'feature_17': 1, 'feature_18': 0, 'feature_19': 0, 'feature_20': 0, 'feature_21': 0, 'feature_22': 1, 'feature_23': 1, 'feature_24': 0, 'feature_25': 1, 'feature_26': 0, 'feature_27': 1, 'feature_28': 1, 'feature_29': 0, 'feature_30': 0}. Best is trial 57 with value: 0.6498065753828963.\n",
            "[I 2024-11-15 15:46:07,958] Trial 70 finished with value: 0.6461564894062005 and parameters: {'feature_0': 1, 'feature_1': 1, 'feature_2': 0, 'feature_3': 1, 'feature_4': 0, 'feature_5': 1, 'feature_6': 1, 'feature_7': 0, 'feature_8': 1, 'feature_9': 1, 'feature_10': 0, 'feature_11': 1, 'feature_12': 1, 'feature_13': 0, 'feature_14': 0, 'feature_15': 1, 'feature_16': 1, 'feature_17': 1, 'feature_18': 1, 'feature_19': 0, 'feature_20': 1, 'feature_21': 0, 'feature_22': 1, 'feature_23': 1, 'feature_24': 0, 'feature_25': 1, 'feature_26': 0, 'feature_27': 0, 'feature_28': 1, 'feature_29': 0, 'feature_30': 0}. Best is trial 57 with value: 0.6498065753828963.\n",
            "[I 2024-11-15 15:46:08,225] Trial 71 finished with value: 0.6498065753828963 and parameters: {'feature_0': 1, 'feature_1': 1, 'feature_2': 0, 'feature_3': 1, 'feature_4': 0, 'feature_5': 1, 'feature_6': 0, 'feature_7': 0, 'feature_8': 1, 'feature_9': 1, 'feature_10': 0, 'feature_11': 1, 'feature_12': 1, 'feature_13': 1, 'feature_14': 0, 'feature_15': 1, 'feature_16': 1, 'feature_17': 1, 'feature_18': 0, 'feature_19': 0, 'feature_20': 0, 'feature_21': 0, 'feature_22': 1, 'feature_23': 1, 'feature_24': 0, 'feature_25': 1, 'feature_26': 0, 'feature_27': 0, 'feature_28': 1, 'feature_29': 0, 'feature_30': 0}. Best is trial 57 with value: 0.6498065753828963.\n",
            "[I 2024-11-15 15:46:08,489] Trial 72 finished with value: 0.6498065753828963 and parameters: {'feature_0': 1, 'feature_1': 1, 'feature_2': 0, 'feature_3': 1, 'feature_4': 0, 'feature_5': 1, 'feature_6': 0, 'feature_7': 0, 'feature_8': 1, 'feature_9': 1, 'feature_10': 0, 'feature_11': 1, 'feature_12': 1, 'feature_13': 1, 'feature_14': 0, 'feature_15': 1, 'feature_16': 1, 'feature_17': 1, 'feature_18': 0, 'feature_19': 0, 'feature_20': 0, 'feature_21': 0, 'feature_22': 1, 'feature_23': 1, 'feature_24': 0, 'feature_25': 1, 'feature_26': 0, 'feature_27': 0, 'feature_28': 1, 'feature_29': 0, 'feature_30': 0}. Best is trial 57 with value: 0.6498065753828963.\n",
            "[I 2024-11-15 15:46:08,768] Trial 73 finished with value: 0.6498065753828963 and parameters: {'feature_0': 1, 'feature_1': 1, 'feature_2': 0, 'feature_3': 1, 'feature_4': 0, 'feature_5': 1, 'feature_6': 0, 'feature_7': 0, 'feature_8': 1, 'feature_9': 1, 'feature_10': 0, 'feature_11': 1, 'feature_12': 1, 'feature_13': 1, 'feature_14': 0, 'feature_15': 1, 'feature_16': 1, 'feature_17': 1, 'feature_18': 0, 'feature_19': 0, 'feature_20': 0, 'feature_21': 0, 'feature_22': 1, 'feature_23': 1, 'feature_24': 0, 'feature_25': 1, 'feature_26': 0, 'feature_27': 0, 'feature_28': 1, 'feature_29': 0, 'feature_30': 0}. Best is trial 57 with value: 0.6498065753828963.\n",
            "[I 2024-11-15 15:46:09,042] Trial 74 finished with value: 0.6498065753828963 and parameters: {'feature_0': 1, 'feature_1': 1, 'feature_2': 0, 'feature_3': 1, 'feature_4': 0, 'feature_5': 1, 'feature_6': 0, 'feature_7': 0, 'feature_8': 1, 'feature_9': 1, 'feature_10': 0, 'feature_11': 1, 'feature_12': 1, 'feature_13': 1, 'feature_14': 0, 'feature_15': 1, 'feature_16': 1, 'feature_17': 1, 'feature_18': 0, 'feature_19': 0, 'feature_20': 0, 'feature_21': 0, 'feature_22': 1, 'feature_23': 1, 'feature_24': 0, 'feature_25': 1, 'feature_26': 0, 'feature_27': 0, 'feature_28': 1, 'feature_29': 0, 'feature_30': 0}. Best is trial 57 with value: 0.6498065753828963.\n",
            "[I 2024-11-15 15:46:09,307] Trial 75 finished with value: 0.6498065753828963 and parameters: {'feature_0': 1, 'feature_1': 1, 'feature_2': 0, 'feature_3': 1, 'feature_4': 0, 'feature_5': 1, 'feature_6': 0, 'feature_7': 0, 'feature_8': 1, 'feature_9': 1, 'feature_10': 0, 'feature_11': 1, 'feature_12': 1, 'feature_13': 1, 'feature_14': 0, 'feature_15': 1, 'feature_16': 1, 'feature_17': 1, 'feature_18': 0, 'feature_19': 0, 'feature_20': 0, 'feature_21': 0, 'feature_22': 1, 'feature_23': 1, 'feature_24': 0, 'feature_25': 1, 'feature_26': 0, 'feature_27': 0, 'feature_28': 1, 'feature_29': 0, 'feature_30': 0}. Best is trial 57 with value: 0.6498065753828963.\n",
            "[I 2024-11-15 15:46:09,577] Trial 76 finished with value: 0.6498065753828963 and parameters: {'feature_0': 1, 'feature_1': 1, 'feature_2': 0, 'feature_3': 1, 'feature_4': 0, 'feature_5': 1, 'feature_6': 0, 'feature_7': 0, 'feature_8': 1, 'feature_9': 1, 'feature_10': 0, 'feature_11': 1, 'feature_12': 1, 'feature_13': 1, 'feature_14': 0, 'feature_15': 1, 'feature_16': 1, 'feature_17': 1, 'feature_18': 0, 'feature_19': 0, 'feature_20': 0, 'feature_21': 0, 'feature_22': 1, 'feature_23': 1, 'feature_24': 0, 'feature_25': 1, 'feature_26': 0, 'feature_27': 0, 'feature_28': 1, 'feature_29': 0, 'feature_30': 0}. Best is trial 57 with value: 0.6498065753828963.\n",
            "[I 2024-11-15 15:46:09,869] Trial 77 finished with value: 0.6498065753828963 and parameters: {'feature_0': 1, 'feature_1': 1, 'feature_2': 0, 'feature_3': 1, 'feature_4': 0, 'feature_5': 1, 'feature_6': 0, 'feature_7': 0, 'feature_8': 1, 'feature_9': 1, 'feature_10': 0, 'feature_11': 1, 'feature_12': 1, 'feature_13': 1, 'feature_14': 0, 'feature_15': 1, 'feature_16': 1, 'feature_17': 1, 'feature_18': 0, 'feature_19': 0, 'feature_20': 0, 'feature_21': 0, 'feature_22': 1, 'feature_23': 1, 'feature_24': 0, 'feature_25': 1, 'feature_26': 0, 'feature_27': 0, 'feature_28': 1, 'feature_29': 0, 'feature_30': 0}. Best is trial 57 with value: 0.6498065753828963.\n",
            "[I 2024-11-15 15:46:10,137] Trial 78 finished with value: 0.6498065753828963 and parameters: {'feature_0': 1, 'feature_1': 1, 'feature_2': 0, 'feature_3': 1, 'feature_4': 0, 'feature_5': 1, 'feature_6': 0, 'feature_7': 0, 'feature_8': 1, 'feature_9': 1, 'feature_10': 0, 'feature_11': 1, 'feature_12': 1, 'feature_13': 1, 'feature_14': 0, 'feature_15': 1, 'feature_16': 1, 'feature_17': 1, 'feature_18': 0, 'feature_19': 0, 'feature_20': 0, 'feature_21': 0, 'feature_22': 1, 'feature_23': 1, 'feature_24': 0, 'feature_25': 1, 'feature_26': 0, 'feature_27': 0, 'feature_28': 1, 'feature_29': 0, 'feature_30': 0}. Best is trial 57 with value: 0.6498065753828963.\n",
            "[I 2024-11-15 15:46:10,395] Trial 79 finished with value: 0.6527485518490298 and parameters: {'feature_0': 1, 'feature_1': 1, 'feature_2': 0, 'feature_3': 1, 'feature_4': 0, 'feature_5': 1, 'feature_6': 0, 'feature_7': 0, 'feature_8': 1, 'feature_9': 1, 'feature_10': 0, 'feature_11': 1, 'feature_12': 1, 'feature_13': 1, 'feature_14': 0, 'feature_15': 1, 'feature_16': 1, 'feature_17': 0, 'feature_18': 0, 'feature_19': 0, 'feature_20': 0, 'feature_21': 0, 'feature_22': 1, 'feature_23': 1, 'feature_24': 0, 'feature_25': 1, 'feature_26': 0, 'feature_27': 0, 'feature_28': 1, 'feature_29': 0, 'feature_30': 0}. Best is trial 79 with value: 0.6527485518490298.\n",
            "[I 2024-11-15 15:46:10,675] Trial 80 finished with value: 0.5128075694821613 and parameters: {'feature_0': 1, 'feature_1': 1, 'feature_2': 0, 'feature_3': 1, 'feature_4': 0, 'feature_5': 1, 'feature_6': 0, 'feature_7': 0, 'feature_8': 1, 'feature_9': 0, 'feature_10': 0, 'feature_11': 1, 'feature_12': 1, 'feature_13': 1, 'feature_14': 0, 'feature_15': 1, 'feature_16': 1, 'feature_17': 0, 'feature_18': 0, 'feature_19': 0, 'feature_20': 0, 'feature_21': 0, 'feature_22': 1, 'feature_23': 1, 'feature_24': 0, 'feature_25': 1, 'feature_26': 0, 'feature_27': 0, 'feature_28': 1, 'feature_29': 0, 'feature_30': 0}. Best is trial 79 with value: 0.6527485518490298.\n",
            "[I 2024-11-15 15:46:10,934] Trial 81 finished with value: 0.6527485518490298 and parameters: {'feature_0': 1, 'feature_1': 1, 'feature_2': 0, 'feature_3': 1, 'feature_4': 0, 'feature_5': 1, 'feature_6': 0, 'feature_7': 0, 'feature_8': 1, 'feature_9': 1, 'feature_10': 0, 'feature_11': 1, 'feature_12': 1, 'feature_13': 1, 'feature_14': 0, 'feature_15': 1, 'feature_16': 1, 'feature_17': 0, 'feature_18': 0, 'feature_19': 0, 'feature_20': 0, 'feature_21': 0, 'feature_22': 1, 'feature_23': 1, 'feature_24': 0, 'feature_25': 1, 'feature_26': 0, 'feature_27': 0, 'feature_28': 1, 'feature_29': 0, 'feature_30': 0}. Best is trial 79 with value: 0.6527485518490298.\n",
            "[I 2024-11-15 15:46:11,203] Trial 82 finished with value: 0.6527485518490298 and parameters: {'feature_0': 1, 'feature_1': 1, 'feature_2': 0, 'feature_3': 1, 'feature_4': 0, 'feature_5': 1, 'feature_6': 0, 'feature_7': 0, 'feature_8': 1, 'feature_9': 1, 'feature_10': 0, 'feature_11': 1, 'feature_12': 1, 'feature_13': 1, 'feature_14': 0, 'feature_15': 1, 'feature_16': 1, 'feature_17': 0, 'feature_18': 0, 'feature_19': 0, 'feature_20': 0, 'feature_21': 0, 'feature_22': 1, 'feature_23': 1, 'feature_24': 0, 'feature_25': 1, 'feature_26': 0, 'feature_27': 0, 'feature_28': 1, 'feature_29': 0, 'feature_30': 0}. Best is trial 79 with value: 0.6527485518490298.\n",
            "[I 2024-11-15 15:46:11,465] Trial 83 finished with value: 0.6527485518490298 and parameters: {'feature_0': 1, 'feature_1': 1, 'feature_2': 0, 'feature_3': 1, 'feature_4': 0, 'feature_5': 1, 'feature_6': 0, 'feature_7': 0, 'feature_8': 1, 'feature_9': 1, 'feature_10': 0, 'feature_11': 1, 'feature_12': 1, 'feature_13': 1, 'feature_14': 0, 'feature_15': 1, 'feature_16': 1, 'feature_17': 0, 'feature_18': 0, 'feature_19': 0, 'feature_20': 0, 'feature_21': 0, 'feature_22': 1, 'feature_23': 1, 'feature_24': 0, 'feature_25': 1, 'feature_26': 0, 'feature_27': 0, 'feature_28': 1, 'feature_29': 0, 'feature_30': 0}. Best is trial 79 with value: 0.6527485518490298.\n",
            "[I 2024-11-15 15:46:11,744] Trial 84 finished with value: 0.6527485518490298 and parameters: {'feature_0': 1, 'feature_1': 1, 'feature_2': 0, 'feature_3': 1, 'feature_4': 0, 'feature_5': 1, 'feature_6': 0, 'feature_7': 0, 'feature_8': 1, 'feature_9': 1, 'feature_10': 0, 'feature_11': 1, 'feature_12': 1, 'feature_13': 1, 'feature_14': 0, 'feature_15': 1, 'feature_16': 1, 'feature_17': 0, 'feature_18': 0, 'feature_19': 0, 'feature_20': 0, 'feature_21': 0, 'feature_22': 1, 'feature_23': 1, 'feature_24': 0, 'feature_25': 1, 'feature_26': 0, 'feature_27': 0, 'feature_28': 1, 'feature_29': 0, 'feature_30': 0}. Best is trial 79 with value: 0.6527485518490298.\n",
            "[I 2024-11-15 15:46:12,013] Trial 85 finished with value: 0.6527485518490298 and parameters: {'feature_0': 1, 'feature_1': 1, 'feature_2': 0, 'feature_3': 1, 'feature_4': 0, 'feature_5': 1, 'feature_6': 0, 'feature_7': 0, 'feature_8': 1, 'feature_9': 1, 'feature_10': 0, 'feature_11': 1, 'feature_12': 1, 'feature_13': 1, 'feature_14': 0, 'feature_15': 1, 'feature_16': 1, 'feature_17': 0, 'feature_18': 0, 'feature_19': 0, 'feature_20': 0, 'feature_21': 0, 'feature_22': 1, 'feature_23': 1, 'feature_24': 0, 'feature_25': 1, 'feature_26': 0, 'feature_27': 0, 'feature_28': 1, 'feature_29': 0, 'feature_30': 0}. Best is trial 79 with value: 0.6527485518490298.\n",
            "[I 2024-11-15 15:46:12,283] Trial 86 finished with value: 0.6527485518490298 and parameters: {'feature_0': 1, 'feature_1': 1, 'feature_2': 0, 'feature_3': 1, 'feature_4': 0, 'feature_5': 1, 'feature_6': 0, 'feature_7': 0, 'feature_8': 1, 'feature_9': 1, 'feature_10': 0, 'feature_11': 1, 'feature_12': 1, 'feature_13': 1, 'feature_14': 0, 'feature_15': 1, 'feature_16': 1, 'feature_17': 0, 'feature_18': 0, 'feature_19': 0, 'feature_20': 0, 'feature_21': 0, 'feature_22': 1, 'feature_23': 1, 'feature_24': 0, 'feature_25': 1, 'feature_26': 0, 'feature_27': 0, 'feature_28': 1, 'feature_29': 0, 'feature_30': 0}. Best is trial 79 with value: 0.6527485518490298.\n",
            "[I 2024-11-15 15:46:12,551] Trial 87 finished with value: 0.6527485518490298 and parameters: {'feature_0': 1, 'feature_1': 1, 'feature_2': 0, 'feature_3': 1, 'feature_4': 0, 'feature_5': 1, 'feature_6': 0, 'feature_7': 0, 'feature_8': 1, 'feature_9': 1, 'feature_10': 0, 'feature_11': 1, 'feature_12': 1, 'feature_13': 1, 'feature_14': 0, 'feature_15': 1, 'feature_16': 1, 'feature_17': 0, 'feature_18': 0, 'feature_19': 0, 'feature_20': 0, 'feature_21': 0, 'feature_22': 1, 'feature_23': 1, 'feature_24': 0, 'feature_25': 1, 'feature_26': 0, 'feature_27': 0, 'feature_28': 1, 'feature_29': 0, 'feature_30': 0}. Best is trial 79 with value: 0.6527485518490298.\n",
            "[I 2024-11-15 15:46:12,836] Trial 88 finished with value: 0.6458748616778148 and parameters: {'feature_0': 1, 'feature_1': 0, 'feature_2': 0, 'feature_3': 1, 'feature_4': 0, 'feature_5': 1, 'feature_6': 0, 'feature_7': 0, 'feature_8': 1, 'feature_9': 1, 'feature_10': 0, 'feature_11': 1, 'feature_12': 1, 'feature_13': 1, 'feature_14': 0, 'feature_15': 1, 'feature_16': 1, 'feature_17': 0, 'feature_18': 0, 'feature_19': 0, 'feature_20': 0, 'feature_21': 0, 'feature_22': 1, 'feature_23': 1, 'feature_24': 0, 'feature_25': 1, 'feature_26': 0, 'feature_27': 0, 'feature_28': 1, 'feature_29': 0, 'feature_30': 0}. Best is trial 79 with value: 0.6527485518490298.\n",
            "[I 2024-11-15 15:46:13,103] Trial 89 finished with value: 0.6409409267775027 and parameters: {'feature_0': 1, 'feature_1': 1, 'feature_2': 0, 'feature_3': 1, 'feature_4': 0, 'feature_5': 1, 'feature_6': 0, 'feature_7': 0, 'feature_8': 1, 'feature_9': 1, 'feature_10': 0, 'feature_11': 0, 'feature_12': 1, 'feature_13': 1, 'feature_14': 0, 'feature_15': 1, 'feature_16': 1, 'feature_17': 0, 'feature_18': 0, 'feature_19': 0, 'feature_20': 0, 'feature_21': 0, 'feature_22': 0, 'feature_23': 1, 'feature_24': 0, 'feature_25': 1, 'feature_26': 0, 'feature_27': 0, 'feature_28': 1, 'feature_29': 0, 'feature_30': 0}. Best is trial 79 with value: 0.6527485518490298.\n",
            "[I 2024-11-15 15:46:13,370] Trial 90 finished with value: 0.6527485518490298 and parameters: {'feature_0': 1, 'feature_1': 1, 'feature_2': 0, 'feature_3': 1, 'feature_4': 0, 'feature_5': 1, 'feature_6': 0, 'feature_7': 0, 'feature_8': 1, 'feature_9': 1, 'feature_10': 0, 'feature_11': 1, 'feature_12': 1, 'feature_13': 1, 'feature_14': 0, 'feature_15': 1, 'feature_16': 1, 'feature_17': 0, 'feature_18': 0, 'feature_19': 0, 'feature_20': 0, 'feature_21': 0, 'feature_22': 1, 'feature_23': 1, 'feature_24': 0, 'feature_25': 1, 'feature_26': 0, 'feature_27': 0, 'feature_28': 1, 'feature_29': 0, 'feature_30': 0}. Best is trial 79 with value: 0.6527485518490298.\n",
            "[I 2024-11-15 15:46:13,631] Trial 91 finished with value: 0.6527485518490298 and parameters: {'feature_0': 1, 'feature_1': 1, 'feature_2': 0, 'feature_3': 1, 'feature_4': 0, 'feature_5': 1, 'feature_6': 0, 'feature_7': 0, 'feature_8': 1, 'feature_9': 1, 'feature_10': 0, 'feature_11': 1, 'feature_12': 1, 'feature_13': 1, 'feature_14': 0, 'feature_15': 1, 'feature_16': 1, 'feature_17': 0, 'feature_18': 0, 'feature_19': 0, 'feature_20': 0, 'feature_21': 0, 'feature_22': 1, 'feature_23': 1, 'feature_24': 0, 'feature_25': 1, 'feature_26': 0, 'feature_27': 0, 'feature_28': 1, 'feature_29': 0, 'feature_30': 0}. Best is trial 79 with value: 0.6527485518490298.\n",
            "[I 2024-11-15 15:46:13,912] Trial 92 finished with value: 0.6527485518490298 and parameters: {'feature_0': 1, 'feature_1': 1, 'feature_2': 0, 'feature_3': 1, 'feature_4': 0, 'feature_5': 1, 'feature_6': 0, 'feature_7': 0, 'feature_8': 1, 'feature_9': 1, 'feature_10': 0, 'feature_11': 1, 'feature_12': 1, 'feature_13': 1, 'feature_14': 0, 'feature_15': 1, 'feature_16': 1, 'feature_17': 0, 'feature_18': 0, 'feature_19': 0, 'feature_20': 0, 'feature_21': 0, 'feature_22': 1, 'feature_23': 1, 'feature_24': 0, 'feature_25': 1, 'feature_26': 0, 'feature_27': 0, 'feature_28': 1, 'feature_29': 0, 'feature_30': 0}. Best is trial 79 with value: 0.6527485518490298.\n",
            "[I 2024-11-15 15:46:14,180] Trial 93 finished with value: 0.6527485518490298 and parameters: {'feature_0': 1, 'feature_1': 1, 'feature_2': 0, 'feature_3': 1, 'feature_4': 0, 'feature_5': 1, 'feature_6': 0, 'feature_7': 0, 'feature_8': 1, 'feature_9': 1, 'feature_10': 0, 'feature_11': 1, 'feature_12': 1, 'feature_13': 1, 'feature_14': 0, 'feature_15': 1, 'feature_16': 1, 'feature_17': 0, 'feature_18': 0, 'feature_19': 0, 'feature_20': 0, 'feature_21': 0, 'feature_22': 1, 'feature_23': 1, 'feature_24': 0, 'feature_25': 1, 'feature_26': 0, 'feature_27': 0, 'feature_28': 1, 'feature_29': 0, 'feature_30': 0}. Best is trial 79 with value: 0.6527485518490298.\n",
            "[I 2024-11-15 15:46:14,578] Trial 94 finished with value: 0.6527485518490298 and parameters: {'feature_0': 1, 'feature_1': 1, 'feature_2': 0, 'feature_3': 1, 'feature_4': 0, 'feature_5': 1, 'feature_6': 0, 'feature_7': 0, 'feature_8': 1, 'feature_9': 1, 'feature_10': 0, 'feature_11': 1, 'feature_12': 1, 'feature_13': 1, 'feature_14': 0, 'feature_15': 1, 'feature_16': 1, 'feature_17': 0, 'feature_18': 0, 'feature_19': 0, 'feature_20': 0, 'feature_21': 0, 'feature_22': 1, 'feature_23': 1, 'feature_24': 0, 'feature_25': 1, 'feature_26': 0, 'feature_27': 0, 'feature_28': 1, 'feature_29': 0, 'feature_30': 0}. Best is trial 79 with value: 0.6527485518490298.\n",
            "[I 2024-11-15 15:46:15,025] Trial 95 finished with value: 0.6527485518490298 and parameters: {'feature_0': 1, 'feature_1': 1, 'feature_2': 0, 'feature_3': 1, 'feature_4': 0, 'feature_5': 1, 'feature_6': 0, 'feature_7': 0, 'feature_8': 1, 'feature_9': 1, 'feature_10': 0, 'feature_11': 1, 'feature_12': 1, 'feature_13': 1, 'feature_14': 0, 'feature_15': 1, 'feature_16': 1, 'feature_17': 0, 'feature_18': 0, 'feature_19': 0, 'feature_20': 0, 'feature_21': 0, 'feature_22': 1, 'feature_23': 1, 'feature_24': 0, 'feature_25': 1, 'feature_26': 0, 'feature_27': 0, 'feature_28': 1, 'feature_29': 0, 'feature_30': 0}. Best is trial 79 with value: 0.6527485518490298.\n",
            "[I 2024-11-15 15:46:15,438] Trial 96 finished with value: 0.6527485518490298 and parameters: {'feature_0': 1, 'feature_1': 1, 'feature_2': 0, 'feature_3': 1, 'feature_4': 0, 'feature_5': 1, 'feature_6': 0, 'feature_7': 0, 'feature_8': 1, 'feature_9': 1, 'feature_10': 0, 'feature_11': 1, 'feature_12': 1, 'feature_13': 1, 'feature_14': 0, 'feature_15': 1, 'feature_16': 1, 'feature_17': 0, 'feature_18': 0, 'feature_19': 0, 'feature_20': 0, 'feature_21': 0, 'feature_22': 1, 'feature_23': 1, 'feature_24': 0, 'feature_25': 1, 'feature_26': 0, 'feature_27': 0, 'feature_28': 1, 'feature_29': 0, 'feature_30': 0}. Best is trial 79 with value: 0.6527485518490298.\n",
            "[I 2024-11-15 15:46:15,867] Trial 97 finished with value: 0.6527485518490298 and parameters: {'feature_0': 1, 'feature_1': 1, 'feature_2': 0, 'feature_3': 1, 'feature_4': 0, 'feature_5': 1, 'feature_6': 0, 'feature_7': 0, 'feature_8': 1, 'feature_9': 1, 'feature_10': 0, 'feature_11': 1, 'feature_12': 1, 'feature_13': 1, 'feature_14': 0, 'feature_15': 1, 'feature_16': 1, 'feature_17': 0, 'feature_18': 0, 'feature_19': 0, 'feature_20': 0, 'feature_21': 0, 'feature_22': 1, 'feature_23': 1, 'feature_24': 0, 'feature_25': 1, 'feature_26': 0, 'feature_27': 0, 'feature_28': 1, 'feature_29': 0, 'feature_30': 0}. Best is trial 79 with value: 0.6527485518490298.\n",
            "[I 2024-11-15 15:46:16,298] Trial 98 finished with value: 0.622773895666385 and parameters: {'feature_0': 1, 'feature_1': 1, 'feature_2': 0, 'feature_3': 1, 'feature_4': 0, 'feature_5': 1, 'feature_6': 0, 'feature_7': 0, 'feature_8': 1, 'feature_9': 1, 'feature_10': 0, 'feature_11': 1, 'feature_12': 1, 'feature_13': 1, 'feature_14': 0, 'feature_15': 1, 'feature_16': 1, 'feature_17': 0, 'feature_18': 0, 'feature_19': 0, 'feature_20': 0, 'feature_21': 0, 'feature_22': 1, 'feature_23': 0, 'feature_24': 1, 'feature_25': 1, 'feature_26': 0, 'feature_27': 0, 'feature_28': 0, 'feature_29': 0, 'feature_30': 0}. Best is trial 79 with value: 0.6527485518490298.\n",
            "[I 2024-11-15 15:46:16,726] Trial 99 finished with value: 0.6507102213296515 and parameters: {'feature_0': 0, 'feature_1': 1, 'feature_2': 0, 'feature_3': 0, 'feature_4': 0, 'feature_5': 1, 'feature_6': 0, 'feature_7': 0, 'feature_8': 1, 'feature_9': 1, 'feature_10': 0, 'feature_11': 1, 'feature_12': 1, 'feature_13': 1, 'feature_14': 0, 'feature_15': 1, 'feature_16': 1, 'feature_17': 0, 'feature_18': 1, 'feature_19': 0, 'feature_20': 0, 'feature_21': 0, 'feature_22': 1, 'feature_23': 1, 'feature_24': 0, 'feature_25': 1, 'feature_26': 0, 'feature_27': 0, 'feature_28': 1, 'feature_29': 1, 'feature_30': 0}. Best is trial 79 with value: 0.6527485518490298.\n"
          ]
        },
        {
          "output_type": "stream",
          "name": "stdout",
          "text": [
            "Best feature weights: {'feature_0': 1, 'feature_1': 1, 'feature_2': 0, 'feature_3': 1, 'feature_4': 0, 'feature_5': 1, 'feature_6': 0, 'feature_7': 0, 'feature_8': 1, 'feature_9': 1, 'feature_10': 0, 'feature_11': 1, 'feature_12': 1, 'feature_13': 1, 'feature_14': 0, 'feature_15': 1, 'feature_16': 1, 'feature_17': 0, 'feature_18': 0, 'feature_19': 0, 'feature_20': 0, 'feature_21': 0, 'feature_22': 1, 'feature_23': 1, 'feature_24': 0, 'feature_25': 1, 'feature_26': 0, 'feature_27': 0, 'feature_28': 1, 'feature_29': 0, 'feature_30': 0}\n",
            "Best f1: 0.6527485518490298\n"
          ]
        }
      ],
      "source": [
        "# implementing optuna optimization for feature-selection\n",
        "\n",
        "def objective(trial):\n",
        "    # Get feature selection trial (0 means exclude, 1 means include)\n",
        "    feature_index = [trial.suggest_int(f'feature_{i}', 0, 1) for i in range(X_train.shape[1])]\n",
        "\n",
        "    # Select columns based on feature_index\n",
        "    X_filtered = X_train.iloc[:, [i for i, use_feature in enumerate(feature_index) if use_feature == 1]]\n",
        "\n",
        "    # Handle case where no features are selected\n",
        "    if X_filtered.shape[1] == 0:\n",
        "        return 0.0  # Return a score of 0 for invalid feature selection\n",
        "\n",
        "    # Initialize the Logistic Regression model\n",
        "    model = LogisticRegression()\n",
        "\n",
        "    # Evaluate the model using cross-validation\n",
        "    score = cross_val_score(model, X_filtered, y_train, cv=3, scoring='f1').mean()\n",
        "\n",
        "    # Return the score to maximize it\n",
        "    return score\n",
        "\n",
        "# Run the optimization\n",
        "study = optuna.create_study(direction='maximize')\n",
        "study.optimize(objective, n_trials=100)\n",
        "\n",
        "# Get the best weights\n",
        "print(\"Best feature weights:\", study.best_params)\n",
        "print(\"Best f1:\", study.best_value)"
      ]
    },
    {
      "cell_type": "code",
      "execution_count": null,
      "metadata": {
        "id": "-gp-Y3uFFAB4",
        "colab": {
          "base_uri": "https://localhost:8080/",
          "height": 658
        },
        "outputId": "45389fac-c478-407b-d837-801e55f47241"
      },
      "outputs": [
        {
          "output_type": "stream",
          "name": "stderr",
          "text": [
            "<ipython-input-277-ffcc3b422df1>:7: UserWarning: \n",
            "\n",
            "`distplot` is a deprecated function and will be removed in seaborn v0.14.0.\n",
            "\n",
            "Please adapt your code to use either `displot` (a figure-level function with\n",
            "similar flexibility) or `histplot` (an axes-level function for histograms).\n",
            "\n",
            "For a guide to updating your code to use the new functions, please see\n",
            "https://gist.github.com/mwaskom/de44147ed2974457ad6372750bbe5751\n",
            "\n",
            "  sns.distplot(cv)\n"
          ]
        },
        {
          "output_type": "stream",
          "name": "stdout",
          "text": [
            "Train CV f1:  0.6478105355369095\n",
            "Test f1:  0.6823529411764706\n"
          ]
        },
        {
          "output_type": "display_data",
          "data": {
            "text/plain": [
              "<Figure size 640x480 with 1 Axes>"
            ],
            "image/png": "[encoded data removed]"
          },
          "metadata": {}
        }
      ],
      "source": [
        "# checking results of optimization\n",
        "lg_optimized = LogisticRegression()\n",
        "feature_selection = [study.best_params[f'feature_{i}'] for i in range(X_train.shape[1])]\n",
        "X_filtered = X_train.iloc[:, [i for i, use_feature in enumerate(feature_selection) if use_feature == 1]]\n",
        "\n",
        "cv = cross_val_score(lg_optimized, X_filtered, y_train, cv=10, scoring=\"f1\")\n",
        "sns.distplot(cv)\n",
        "print('Train CV f1: ', cv.mean())\n",
        "\n",
        "lg_optimized.fit(X_filtered, y_train)\n",
        "print('Test f1: ', f1_score(y_test, lg_optimized.predict(X_test.iloc[:, [i for i, use_feature in enumerate(feature_selection) if use_feature == 1]])))"
      ]
    },
    {
      "cell_type": "markdown",
      "metadata": {
        "id": "VEeXlAC6Luap"
      },
      "source": [
        "## **Model 2 - KNN**"
      ]
    },
    {
      "cell_type": "code",
      "execution_count": null,
      "metadata": {
        "id": "-LeEE4HjVxh-"
      },
      "outputs": [],
      "source": [
        "from sklearn.neighbors import KNeighborsClassifier"
      ]
    },
    {
      "cell_type": "code",
      "execution_count": null,
      "metadata": {
        "colab": {
          "base_uri": "https://localhost:8080/",
          "height": 656
        },
        "id": "D9WIQ1PFU92f",
        "outputId": "219543a3-ee2b-4c84-9f8f-84209ca537c0"
      },
      "outputs": [
        {
          "output_type": "stream",
          "name": "stderr",
          "text": [
            "<ipython-input-279-787d603d3d65>:6: UserWarning: \n",
            "\n",
            "`distplot` is a deprecated function and will be removed in seaborn v0.14.0.\n",
            "\n",
            "Please adapt your code to use either `displot` (a figure-level function with\n",
            "similar flexibility) or `histplot` (an axes-level function for histograms).\n",
            "\n",
            "For a guide to updating your code to use the new functions, please see\n",
            "https://gist.github.com/mwaskom/de44147ed2974457ad6372750bbe5751\n",
            "\n",
            "  sns.distplot(cv)\n"
          ]
        },
        {
          "output_type": "stream",
          "name": "stdout",
          "text": [
            "Train CV f1:  0.6448136165451168\n",
            "Test f1: 0.6919831223628692\n"
          ]
        },
        {
          "output_type": "display_data",
          "data": {
            "text/plain": [
              "<Figure size 640x480 with 1 Axes>"
            ],
            "image/png": "[encoded data removed]"
          },
          "metadata": {}
        }
      ],
      "source": [
        "# KNN model\n",
        "knn = KNeighborsClassifier(n_neighbors=5, weights='uniform')\n",
        "\n",
        "# cross validation\n",
        "cv = cross_val_score(knn, X_train, y_train, cv=10, scoring=\"f1\")\n",
        "sns.distplot(cv)\n",
        "print('Train CV f1: ', cv.mean())\n",
        "\n",
        "# test scoring\n",
        "knn.fit(X_train, y_train)\n",
        "print('Test f1:', f1_score(y_test, knn.predict(X_test)))"
      ]
    },
    {
      "cell_type": "code",
      "execution_count": null,
      "metadata": {
        "colab": {
          "base_uri": "https://localhost:8080/",
          "height": 673
        },
        "id": "UBI2U0ncW3j5",
        "outputId": "7ee8290b-9511-4cce-ffef-43dbeb406a50"
      },
      "outputs": [
        {
          "output_type": "stream",
          "name": "stdout",
          "text": [
            "Best parameters:  {'n_neighbors': 7, 'weights': 'distance'}\n",
            "Best score:  0.6526163049979069\n"
          ]
        },
        {
          "output_type": "stream",
          "name": "stderr",
          "text": [
            "<ipython-input-280-e6e6983f2bea>:13: UserWarning: \n",
            "\n",
            "`distplot` is a deprecated function and will be removed in seaborn v0.14.0.\n",
            "\n",
            "Please adapt your code to use either `displot` (a figure-level function with\n",
            "similar flexibility) or `histplot` (an axes-level function for histograms).\n",
            "\n",
            "For a guide to updating your code to use the new functions, please see\n",
            "https://gist.github.com/mwaskom/de44147ed2974457ad6372750bbe5751\n",
            "\n",
            "  sns.distplot(cross_val_score(grid_search.best_estimator_, X_train, y_train, cv=10, scoring=\"f1\"))\n"
          ]
        },
        {
          "output_type": "execute_result",
          "data": {
            "text/plain": [
              "<Axes: ylabel='Density'>"
            ]
          },
          "metadata": {},
          "execution_count": 280
        },
        {
          "output_type": "display_data",
          "data": {
            "text/plain": [
              "<Figure size 640x480 with 1 Axes>"
            ],
            "image/png": "[encoded data removed]"
          },
          "metadata": {}
        }
      ],
      "source": [
        "# gridsearch\n",
        "param_grid = {\n",
        "    'n_neighbors': [1, 2, 3, 4, 5, 6, 7, 8, 9, 10],\n",
        "    'weights': ['uniform', 'distance']\n",
        "}\n",
        "\n",
        "grid_search = GridSearchCV(KNeighborsClassifier(), param_grid, cv=5, scoring='f1')\n",
        "grid_search.fit(X_train, y_train)\n",
        "\n",
        "print(\"Best parameters: \", grid_search.best_params_)\n",
        "print(\"Best score: \", grid_search.best_score_)\n",
        "\n",
        "sns.distplot(cross_val_score(grid_search.best_estimator_, X_train, y_train, cv=10, scoring=\"f1\"))"
      ]
    },
    {
      "cell_type": "code",
      "execution_count": null,
      "metadata": {
        "colab": {
          "base_uri": "https://localhost:8080/"
        },
        "id": "RVcLCdI-Z2Sm",
        "outputId": "cc660e93-f62f-4777-84aa-ad9c42861d3f"
      },
      "outputs": [
        {
          "output_type": "stream",
          "name": "stderr",
          "text": [
            "[I 2024-11-15 15:46:25,464] A new study created in memory with name: no-name-53fd7425-5d76-4c1d-a3e0-09c240aa9230\n",
            "[I 2024-11-15 15:46:26,002] Trial 0 finished with value: 0.523152216194923 and parameters: {'weight_0': 5.01898776298633, 'weight_1': 2.7478711065390065, 'weight_2': 7.754554890097493, 'weight_3': 8.04161795049749, 'weight_4': 4.366852145601178, 'weight_5': 2.4644700559174333, 'weight_6': 9.074105107147279, 'weight_7': 2.5812858643406775, 'weight_8': 5.996658542628679, 'weight_9': 7.4681317567967, 'weight_10': 1.065681618861657, 'weight_11': 8.474201840156255, 'weight_12': 1.5205104774709364, 'weight_13': 2.92222435341657, 'weight_14': 6.94755814132508, 'weight_15': 4.92224220602189, 'weight_16': 8.709153313940282, 'weight_17': 8.19236584109127, 'weight_18': 1.6716562606093188, 'weight_19': 6.668102448287368, 'weight_20': 1.326034457501838, 'weight_21': 2.4358257350714494, 'weight_22': 0.5887666667572137, 'weight_23': 3.9766818082609845, 'weight_24': 1.070534184799273, 'weight_25': 1.449012483513277, 'weight_26': 3.6733114319496623, 'weight_27': 8.626593205113151, 'weight_28': 8.634605060047049, 'weight_29': 8.291193639624446, 'weight_30': 5.648778751866539, 'n_neighbors': 84, 'weights': 'uniform'}. Best is trial 0 with value: 0.523152216194923.\n",
            "[I 2024-11-15 15:46:26,501] Trial 1 finished with value: 0.6496626519224976 and parameters: {'weight_0': 8.474576355400444, 'weight_1': 3.171902112080149, 'weight_2': 2.402225802690715, 'weight_3': 0.8073318067161763, 'weight_4': 9.429426140460466, 'weight_5': 0.8726224965667585, 'weight_6': 4.952981789163735, 'weight_7': 1.990272982204909, 'weight_8': 7.524262283323524, 'weight_9': 8.459286329183023, 'weight_10': 3.433314171818725, 'weight_11': 4.881572355852312, 'weight_12': 1.7932724892963985, 'weight_13': 7.097421713233028, 'weight_14': 4.390147594102858, 'weight_15': 2.5561619065189993, 'weight_16': 3.7826003467051423, 'weight_17': 8.567811910801115, 'weight_18': 0.6453283641986902, 'weight_19': 8.372662638237344, 'weight_20': 6.67663620150242, 'weight_21': 5.159356713931853, 'weight_22': 8.941256628206103, 'weight_23': 0.690104552566693, 'weight_24': 5.355933236017945, 'weight_25': 0.4866893218950178, 'weight_26': 6.058736971186548, 'weight_27': 0.3584012362696507, 'weight_28': 9.579226660393957, 'weight_29': 5.5029524677518875, 'weight_30': 4.027302590065995, 'n_neighbors': 1, 'weights': 'uniform'}. Best is trial 1 with value: 0.6496626519224976.\n",
            "[I 2024-11-15 15:46:26,669] Trial 2 finished with value: 0.5905280054480716 and parameters: {'weight_0': 5.439555355229954, 'weight_1': 6.29532712463892, 'weight_2': 3.594462216744777, 'weight_3': 5.447189610260277, 'weight_4': 3.7115523664442978, 'weight_5': 2.524045068298999, 'weight_6': 5.269790514133255, 'weight_7': 7.92879048035564, 'weight_8': 4.902719013274308, 'weight_9': 5.793128975764468, 'weight_10': 6.29100730364949, 'weight_11': 4.133102172420784, 'weight_12': 6.884475008159988, 'weight_13': 1.3028923092769136, 'weight_14': 5.820039025192005, 'weight_15': 5.4487173788588255, 'weight_16': 8.205674883719382, 'weight_17': 4.73346962074447, 'weight_18': 9.397241300931547, 'weight_19': 7.688396430840297, 'weight_20': 6.15344619639264, 'weight_21': 0.18127175966880502, 'weight_22': 6.35437766266235, 'weight_23': 8.825956920248037, 'weight_24': 8.215373263187994, 'weight_25': 1.7181511670192229, 'weight_26': 1.3750697434786283, 'weight_27': 0.42937124893171685, 'weight_28': 2.754306058311951, 'weight_29': 9.759507071896417, 'weight_30': 2.5988613941905903, 'n_neighbors': 35, 'weights': 'distance'}. Best is trial 1 with value: 0.6496626519224976.\n",
            "[I 2024-11-15 15:46:26,934] Trial 3 finished with value: 0.49841460442557534 and parameters: {'weight_0': 3.6418598718587556, 'weight_1': 8.58765915725908, 'weight_2': 4.729687038077818, 'weight_3': 1.5502243537901943, 'weight_4': 9.81287267860672, 'weight_5': 9.51196776243641, 'weight_6': 9.826374292240207, 'weight_7': 2.5730523975659976, 'weight_8': 0.3667887497977316, 'weight_9': 2.7289198920052624, 'weight_10': 4.424463661336663, 'weight_11': 4.779501891018675, 'weight_12': 1.9000519282694168, 'weight_13': 5.288519153931232, 'weight_14': 9.833758420390996, 'weight_15': 6.278087273738713, 'weight_16': 4.78269796099123, 'weight_17': 2.3124806148852426, 'weight_18': 5.380701507031768, 'weight_19': 3.4572409007912976, 'weight_20': 3.0565479003150458, 'weight_21': 0.6316210011768381, 'weight_22': 2.700384265667821, 'weight_23': 3.014960725402451, 'weight_24': 4.84487150326249, 'weight_25': 8.966702960231139, 'weight_26': 3.171907405081889, 'weight_27': 0.18945088314398392, 'weight_28': 1.1533135302538338, 'weight_29': 6.383925985097986, 'weight_30': 9.169339203714667, 'n_neighbors': 36, 'weights': 'distance'}. Best is trial 1 with value: 0.6496626519224976.\n",
            "[I 2024-11-15 15:46:27,325] Trial 4 finished with value: 0.5416429115642204 and parameters: {'weight_0': 8.900437575285661, 'weight_1': 0.9638554879113815, 'weight_2': 8.795597148687543, 'weight_3': 0.1824972679559888, 'weight_4': 1.68881890818519, 'weight_5': 1.6383343126512058, 'weight_6': 6.530195248339282, 'weight_7': 8.029297419876148, 'weight_8': 0.8292606007124244, 'weight_9': 5.395046784258893, 'weight_10': 5.900579377348624, 'weight_11': 4.451988072519249, 'weight_12': 3.6179312740707656, 'weight_13': 5.42436614702577, 'weight_14': 3.1588775305290304, 'weight_15': 9.856970660553165, 'weight_16': 3.283148425297494, 'weight_17': 3.7260968061238486, 'weight_18': 7.251296431766965, 'weight_19': 0.5189883787112677, 'weight_20': 4.874246573016189, 'weight_21': 3.0743283078514447, 'weight_22': 8.230367597081553, 'weight_23': 8.760828902349363, 'weight_24': 8.103875922298363, 'weight_25': 2.5499633931307204, 'weight_26': 8.107140730060328, 'weight_27': 2.1990235858439515, 'weight_28': 3.5471017087085888, 'weight_29': 8.289825466129708, 'weight_30': 9.277430967581816, 'n_neighbors': 14, 'weights': 'uniform'}. Best is trial 1 with value: 0.6496626519224976.\n",
            "[I 2024-11-15 15:46:27,615] Trial 5 finished with value: 0.5603009473014584 and parameters: {'weight_0': 1.007098899369594, 'weight_1': 1.8207123902199929, 'weight_2': 6.034668986863128, 'weight_3': 9.1399974666902, 'weight_4': 4.5310714161497705, 'weight_5': 1.1386161871453884, 'weight_6': 1.3174046315976158, 'weight_7': 9.405731293750085, 'weight_8': 6.268437355433519, 'weight_9': 8.202557501254713, 'weight_10': 0.6525404812810437, 'weight_11': 4.536165792051646, 'weight_12': 3.925121964793753, 'weight_13': 7.580445192391911, 'weight_14': 5.167157445653549, 'weight_15': 7.986014771377288, 'weight_16': 4.851720658843629, 'weight_17': 5.131226628654664, 'weight_18': 9.373844116758347, 'weight_19': 9.444234132762327, 'weight_20': 9.22687244160008, 'weight_21': 1.6375392427500797, 'weight_22': 5.010227574612324, 'weight_23': 5.183309986198229, 'weight_24': 5.606296552075124, 'weight_25': 4.177832677066249, 'weight_26': 0.3225791957341821, 'weight_27': 0.8933893006804177, 'weight_28': 1.6501847112212016, 'weight_29': 2.2625306296946124, 'weight_30': 3.1884944415098797, 'n_neighbors': 92, 'weights': 'distance'}. Best is trial 1 with value: 0.6496626519224976.\n",
            "[I 2024-11-15 15:46:28,021] Trial 6 finished with value: 0.5683301905758057 and parameters: {'weight_0': 7.3275352509160525, 'weight_1': 3.837914851943448, 'weight_2': 8.219217117425252, 'weight_3': 3.107649472546553, 'weight_4': 9.585709439715139, 'weight_5': 5.7824405132923, 'weight_6': 4.15734290156045, 'weight_7': 1.1401580577173598, 'weight_8': 8.447843469623635, 'weight_9': 8.983962072261638, 'weight_10': 4.33771497130421, 'weight_11': 7.762513336026945, 'weight_12': 3.0856564574267806, 'weight_13': 6.531821135623198, 'weight_14': 9.867319556908594, 'weight_15': 4.206873624177921, 'weight_16': 9.682544612434313, 'weight_17': 7.547148686295359, 'weight_18': 8.065936924669593, 'weight_19': 7.45786979546736, 'weight_20': 9.668022729319802, 'weight_21': 6.388804023512948, 'weight_22': 0.849720259515792, 'weight_23': 9.02385719381187, 'weight_24': 2.510225254978149, 'weight_25': 8.306217119435956, 'weight_26': 4.6692277805711, 'weight_27': 8.91633337278369, 'weight_28': 1.5156686749985597, 'weight_29': 5.83751561239421, 'weight_30': 3.875200658189229, 'n_neighbors': 45, 'weights': 'uniform'}. Best is trial 1 with value: 0.6496626519224976.\n",
            "[I 2024-11-15 15:46:28,726] Trial 7 finished with value: 0.4047978165625224 and parameters: {'weight_0': 9.771108134904305, 'weight_1': 9.558123217639777, 'weight_2': 7.815228118639108, 'weight_3': 4.66676644579471, 'weight_4': 6.068239150153437, 'weight_5': 7.233800275841051, 'weight_6': 5.976150822837491, 'weight_7': 1.3560216496309645, 'weight_8': 5.9243427766187, 'weight_9': 2.5915919841006283, 'weight_10': 0.19057257244971515, 'weight_11': 1.431961709032431, 'weight_12': 2.2161467470048857, 'weight_13': 6.454665544383895, 'weight_14': 1.8425636694576346, 'weight_15': 4.433091318398398, 'weight_16': 4.364734931635143, 'weight_17': 9.992315617946849, 'weight_18': 9.273373339618646, 'weight_19': 1.5278172811032749, 'weight_20': 1.8532858884692625, 'weight_21': 3.7148325590826152, 'weight_22': 0.9562153386680116, 'weight_23': 7.15106720243434, 'weight_24': 3.6482744643423954, 'weight_25': 0.22119752742220833, 'weight_26': 5.417483245639126, 'weight_27': 9.37510794326684, 'weight_28': 4.29899320368925, 'weight_29': 6.729347193387911, 'weight_30': 5.040704966015295, 'n_neighbors': 97, 'weights': 'uniform'}. Best is trial 1 with value: 0.6496626519224976.\n",
            "[I 2024-11-15 15:46:29,314] Trial 8 finished with value: 0.47920284513472816 and parameters: {'weight_0': 8.349735284813534, 'weight_1': 6.732080956291251, 'weight_2': 2.735961399270595, 'weight_3': 1.965815621649269, 'weight_4': 6.499035652951781, 'weight_5': 7.9097147987795555, 'weight_6': 3.502893906499777, 'weight_7': 2.667979691020715, 'weight_8': 2.713288971494701, 'weight_9': 2.3025160260896276, 'weight_10': 9.438082137920384, 'weight_11': 4.053124718052583, 'weight_12': 9.75540419571459, 'weight_13': 9.810985735620958, 'weight_14': 9.970050559293586, 'weight_15': 6.960115160554953, 'weight_16': 8.706629123932455, 'weight_17': 1.97258641648711, 'weight_18': 8.916135769022297, 'weight_19': 7.754049124885464, 'weight_20': 2.496785872191548, 'weight_21': 7.169908009615902, 'weight_22': 0.9697960069888114, 'weight_23': 9.307785906228762, 'weight_24': 7.207919865069352, 'weight_25': 2.3464498953826247, 'weight_26': 5.767237894078357, 'weight_27': 0.5710143299457349, 'weight_28': 4.819243411121538, 'weight_29': 5.13506918479188, 'weight_30': 4.689399138837282, 'n_neighbors': 20, 'weights': 'uniform'}. Best is trial 1 with value: 0.6496626519224976.\n",
            "[I 2024-11-15 15:46:29,982] Trial 9 finished with value: 0.5346682378534519 and parameters: {'weight_0': 8.299943139506984, 'weight_1': 9.787294468530783, 'weight_2': 0.22266478330774842, 'weight_3': 4.241720697121779, 'weight_4': 6.387317574293598, 'weight_5': 2.9639187909295286, 'weight_6': 8.843146326699816, 'weight_7': 2.0886185078015034, 'weight_8': 9.300891196328958, 'weight_9': 0.8307525165848583, 'weight_10': 7.117153733585901, 'weight_11': 1.1500731105572521, 'weight_12': 6.0482918504145635, 'weight_13': 4.224112784941146, 'weight_14': 8.74749159032481, 'weight_15': 2.6612564216774826, 'weight_16': 3.310140865107191, 'weight_17': 4.679525322841929, 'weight_18': 2.0475835517030654, 'weight_19': 6.394000073319455, 'weight_20': 0.2972179505756759, 'weight_21': 1.3303360825411392, 'weight_22': 5.0328772261608385, 'weight_23': 6.962542773942983, 'weight_24': 9.200236792615716, 'weight_25': 7.703983330064334, 'weight_26': 2.6978601581045396, 'weight_27': 7.077354649324304, 'weight_28': 8.32474869302944, 'weight_29': 5.9805404766750385, 'weight_30': 8.983083579543544, 'n_neighbors': 36, 'weights': 'uniform'}. Best is trial 1 with value: 0.6496626519224976.\n",
            "[I 2024-11-15 15:46:31,080] Trial 10 finished with value: 0.6315404701041835 and parameters: {'weight_0': 6.48452088096395, 'weight_1': 5.145864962745145, 'weight_2': 0.7794301081700585, 'weight_3': 7.209893177512795, 'weight_4': 7.9796630259924415, 'weight_5': 4.4889034442105, 'weight_6': 0.1696860382669927, 'weight_7': 5.00733777271687, 'weight_8': 7.8963264674610265, 'weight_9': 9.689422464718099, 'weight_10': 2.7453363573227643, 'weight_11': 7.031274784073213, 'weight_12': 0.4401320129515982, 'weight_13': 9.257265822261079, 'weight_14': 0.8248680256432483, 'weight_15': 0.5342019393315098, 'weight_16': 0.10648213903655313, 'weight_17': 6.959188702142498, 'weight_18': 0.2690329560012925, 'weight_19': 9.9145729963926, 'weight_20': 6.946764387703547, 'weight_21': 9.736819181843735, 'weight_22': 9.944950656449999, 'weight_23': 0.49344844102507146, 'weight_24': 6.068902464075459, 'weight_25': 6.160340183256508, 'weight_26': 9.974199123466429, 'weight_27': 3.9571503890124147, 'weight_28': 6.94774742825966, 'weight_29': 2.1403612444798914, 'weight_30': 0.21295792872384034, 'n_neighbors': 65, 'weights': 'distance'}. Best is trial 1 with value: 0.6496626519224976.\n",
            "[I 2024-11-15 15:46:32,395] Trial 11 finished with value: 0.6298687367614175 and parameters: {'weight_0': 6.4840416180095755, 'weight_1': 4.804108424918476, 'weight_2': 0.46249973734980543, 'weight_3': 6.8795953418265245, 'weight_4': 8.069083940469804, 'weight_5': 4.416272403883545, 'weight_6': 0.11942027389997989, 'weight_7': 5.024882013454318, 'weight_8': 7.859891782937627, 'weight_9': 9.962054286266046, 'weight_10': 2.8412323561950004, 'weight_11': 6.725578091801312, 'weight_12': 0.30538736182786014, 'weight_13': 9.785430392506576, 'weight_14': 0.7706142450828084, 'weight_15': 0.2723558883975264, 'weight_16': 0.25135411413104236, 'weight_17': 7.231648326773459, 'weight_18': 0.2121812944900036, 'weight_19': 9.87189992987947, 'weight_20': 7.292851569803297, 'weight_21': 9.810671465672828, 'weight_22': 9.966540416890213, 'weight_23': 0.2127898926983638, 'weight_24': 5.616401799666749, 'weight_25': 5.847910974421769, 'weight_26': 9.719607909991948, 'weight_27': 4.231118452034509, 'weight_28': 6.623342886722123, 'weight_29': 2.9262030305224225, 'weight_30': 0.1832187619991732, 'n_neighbors': 67, 'weights': 'distance'}. Best is trial 1 with value: 0.6496626519224976.\n",
            "[I 2024-11-15 15:46:33,018] Trial 12 finished with value: 0.645578383240042 and parameters: {'weight_0': 3.3901496211419935, 'weight_1': 3.611283220750727, 'weight_2': 2.1016429434571, 'weight_3': 6.149876821456898, 'weight_4': 8.20975240418074, 'weight_5': 0.11211559458764575, 'weight_6': 2.2553404299342237, 'weight_7': 4.526703897662292, 'weight_8': 9.925349587584257, 'weight_9': 6.994844477584538, 'weight_10': 2.246251178928781, 'weight_11': 6.543544927349738, 'weight_12': 1.2207171612219605, 'weight_13': 8.172215442347634, 'weight_14': 3.2306602431847877, 'weight_15': 0.27380712622341274, 'weight_16': 0.12925767516033235, 'weight_17': 9.150421340500433, 'weight_18': 3.189961120651059, 'weight_19': 4.728202601815812, 'weight_20': 7.5870267980865815, 'weight_21': 9.930235025298618, 'weight_22': 9.993762172048465, 'weight_23': 0.13113072216240684, 'weight_24': 6.522184005569805, 'weight_25': 5.867429597208878, 'weight_26': 7.407153248231618, 'weight_27': 3.926307807411869, 'weight_28': 9.96225427531692, 'weight_29': 0.6516007291619286, 'weight_30': 0.2963222625387294, 'n_neighbors': 2, 'weights': 'distance'}. Best is trial 1 with value: 0.6496626519224976.\n",
            "[I 2024-11-15 15:46:33,544] Trial 13 finished with value: 0.6439304140416375 and parameters: {'weight_0': 2.5514701246113525, 'weight_1': 2.7405970261724377, 'weight_2': 2.358450789903702, 'weight_3': 5.860624708468536, 'weight_4': 8.344322236029003, 'weight_5': 0.33183699392201527, 'weight_6': 2.4901290679073647, 'weight_7': 3.892572153056582, 'weight_8': 9.633448791506018, 'weight_9': 6.7570524384617965, 'weight_10': 2.569707345037103, 'weight_11': 9.78297687937895, 'weight_12': 4.931363083024118, 'weight_13': 7.901607641214714, 'weight_14': 3.3887772881007434, 'weight_15': 2.2616510737807203, 'weight_16': 1.8579309467463065, 'weight_17': 9.73932031562597, 'weight_18': 3.370422750321029, 'weight_19': 4.291250322962377, 'weight_20': 8.292903604233464, 'weight_21': 7.908990731476193, 'weight_22': 7.8842747169201335, 'weight_23': 1.49366953918619, 'weight_24': 3.9101696513660515, 'weight_25': 4.137087299225463, 'weight_26': 7.101552049382536, 'weight_27': 5.9442531332217445, 'weight_28': 9.849571720730191, 'weight_29': 3.810902264292525, 'weight_30': 1.8145125328149376, 'n_neighbors': 3, 'weights': 'distance'}. Best is trial 1 with value: 0.6496626519224976.\n",
            "[I 2024-11-15 15:46:34,491] Trial 14 finished with value: 0.5725269916811744 and parameters: {'weight_0': 2.4881684867998817, 'weight_1': 3.848032861847831, 'weight_2': 1.9616321285247613, 'weight_3': 9.815366380526076, 'weight_4': 8.835109264909496, 'weight_5': 0.15104172031561514, 'weight_6': 7.545210758239136, 'weight_7': 0.14000932415908718, 'weight_8': 7.3560517372343535, 'weight_9': 4.364932324969612, 'weight_10': 1.98152381807683, 'weight_11': 2.677827340281494, 'weight_12': 8.014106779387415, 'weight_13': 7.877617886973551, 'weight_14': 3.6137786916537586, 'weight_15': 1.8516361056044726, 'weight_16': 6.5063040162846075, 'weight_17': 8.715488381878695, 'weight_18': 3.7227340208064454, 'weight_19': 2.8592208435366797, 'weight_20': 4.7420210348420015, 'weight_21': 5.155669335113021, 'weight_22': 8.346741609083793, 'weight_23': 1.850647818255493, 'weight_24': 6.911366325838246, 'weight_25': 6.529573108329794, 'weight_26': 7.3148922498044655, 'weight_27': 2.505771592975279, 'weight_28': 9.84808473059151, 'weight_29': 0.6032672839081066, 'weight_30': 6.298804834013252, 'n_neighbors': 2, 'weights': 'uniform'}. Best is trial 1 with value: 0.6496626519224976.\n",
            "[I 2024-11-15 15:46:35,065] Trial 15 finished with value: 0.6137572200781983 and parameters: {'weight_0': 0.33531389432801095, 'weight_1': 0.3306555751091125, 'weight_2': 4.149303837257631, 'weight_3': 3.4507410273705785, 'weight_4': 7.267517113023822, 'weight_5': 3.6633105043187095, 'weight_6': 2.6332530960675107, 'weight_7': 6.65190643504835, 'weight_8': 4.177573893195717, 'weight_9': 6.899725490164598, 'weight_10': 3.8056035119338096, 'weight_11': 5.759294945544533, 'weight_12': 1.7680551228097134, 'weight_13': 6.819937927527429, 'weight_14': 6.585938177490337, 'weight_15': 3.1021360931775823, 'weight_16': 1.8009564519280943, 'weight_17': 6.476576904001474, 'weight_18': 5.115315237621794, 'weight_19': 5.278033878204521, 'weight_20': 6.089294620921885, 'weight_21': 8.596456493615705, 'weight_22': 6.638789858940709, 'weight_23': 2.224961402382284, 'weight_24': 9.624128201229476, 'weight_25': 3.9012594633277047, 'weight_26': 8.364625635870672, 'weight_27': 2.5838880611228667, 'weight_28': 6.485754089310534, 'weight_29': 0.7898228328217805, 'weight_30': 1.5708959925353596, 'n_neighbors': 20, 'weights': 'distance'}. Best is trial 1 with value: 0.6496626519224976.\n",
            "[I 2024-11-15 15:46:35,818] Trial 16 finished with value: 0.6469222426655301 and parameters: {'weight_0': 4.5763019915393315, 'weight_1': 2.260284494420202, 'weight_2': 1.5254294292003636, 'weight_3': 0.8413048066566582, 'weight_4': 0.2632579671189301, 'weight_5': 1.3026867480296773, 'weight_6': 4.281924068019303, 'weight_7': 3.9653379131134, 'weight_8': 9.63798183739655, 'weight_9': 8.214421603868352, 'weight_10': 8.448701364217857, 'weight_11': 5.909751066912744, 'weight_12': 0.15616035940732753, 'weight_13': 8.571310225489, 'weight_14': 2.2444332773642763, 'weight_15': 1.1501702823875721, 'weight_16': 6.418562289827783, 'weight_17': 0.21742166797258378, 'weight_18': 1.8273415156262383, 'weight_19': 5.454669638753053, 'weight_20': 7.813976943223032, 'weight_21': 5.289821139942306, 'weight_22': 8.844064927083652, 'weight_23': 4.297338776845574, 'weight_24': 4.297428304474572, 'weight_25': 7.261844685640082, 'weight_26': 6.57307043837833, 'weight_27': 6.048217185374145, 'weight_28': 8.267229269613491, 'weight_29': 4.004243029822527, 'weight_30': 6.867013282049015, 'n_neighbors': 13, 'weights': 'distance'}. Best is trial 1 with value: 0.6496626519224976.\n",
            "[I 2024-11-15 15:46:36,579] Trial 17 finished with value: 0.6524317900667299 and parameters: {'weight_0': 4.832201340702498, 'weight_1': 1.7483653964421593, 'weight_2': 6.07258777289122, 'weight_3': 0.12737744487334535, 'weight_4': 0.22609482939076941, 'weight_5': 5.811914900701586, 'weight_6': 4.223103704735651, 'weight_7': 3.3712028222373767, 'weight_8': 6.9000920356144615, 'weight_9': 8.399135313013701, 'weight_10': 9.976693863761666, 'weight_11': 2.856851419527016, 'weight_12': 0.11520872450275552, 'weight_13': 4.127661864852317, 'weight_14': 4.424404372846872, 'weight_15': 1.5661928693158078, 'weight_16': 6.213595817304624, 'weight_17': 0.46985701382237277, 'weight_18': 2.4000199335365715, 'weight_19': 8.597072098479067, 'weight_20': 3.925777995599192, 'weight_21': 4.903977594229632, 'weight_22': 3.5685672889232887, 'weight_23': 5.140692099459504, 'weight_24': 2.0190848379765183, 'weight_25': 9.725314998755092, 'weight_26': 6.185238398516101, 'weight_27': 6.4952277648240475, 'weight_28': 8.057426922901636, 'weight_29': 3.9504374538737212, 'weight_30': 7.364406881388264, 'n_neighbors': 15, 'weights': 'uniform'}. Best is trial 17 with value: 0.6524317900667299.\n",
            "[I 2024-11-15 15:46:37,482] Trial 18 finished with value: 0.600916864087253 and parameters: {'weight_0': 6.568181770342704, 'weight_1': 1.6513890409008543, 'weight_2': 5.907102177657071, 'weight_3': 2.3057715678848405, 'weight_4': 2.8672947221399885, 'weight_5': 5.977721135898934, 'weight_6': 7.141799329485613, 'weight_7': 0.255083891062839, 'weight_8': 3.4405549695583577, 'weight_9': 4.125450745484321, 'weight_10': 7.784937973534118, 'weight_11': 2.8466226958233123, 'weight_12': 2.5999736908668516, 'weight_13': 3.765527290472958, 'weight_14': 4.670837607166265, 'weight_15': 3.474426237733716, 'weight_16': 6.215768933289672, 'weight_17': 1.1492317768903229, 'weight_18': 1.2015929616568148, 'weight_19': 8.622805903014036, 'weight_20': 4.108146073883351, 'weight_21': 4.173897960798063, 'weight_22': 3.4815924638565283, 'weight_23': 5.99256100880916, 'weight_24': 0.8926160908466343, 'weight_25': 4.897779361164676, 'weight_26': 4.9165009263802535, 'weight_27': 7.509483584399959, 'weight_28': 5.795957090145001, 'weight_29': 4.453500841226045, 'weight_30': 7.5274284370685, 'n_neighbors': 27, 'weights': 'uniform'}. Best is trial 17 with value: 0.6524317900667299.\n",
            "[I 2024-11-15 15:46:38,470] Trial 19 finished with value: 0.6481327231347924 and parameters: {'weight_0': 9.997675971298321, 'weight_1': 0.38446989444576096, 'weight_2': 6.2512231277734225, 'weight_3': 0.6505374014505688, 'weight_4': 0.5245051774056346, 'weight_5': 6.533236364302957, 'weight_6': 5.180104316389758, 'weight_7': 6.331795910169179, 'weight_8': 6.7326461159165065, 'weight_9': 8.670022501883277, 'weight_10': 9.558602536713238, 'weight_11': 0.13345655562731107, 'weight_12': 4.669659322056665, 'weight_13': 0.11599169408658572, 'weight_14': 7.702675208674358, 'weight_15': 1.929309105228198, 'weight_16': 7.405528695195548, 'weight_17': 3.1609363296412027, 'weight_18': 6.23691220022362, 'weight_19': 8.690558389631496, 'weight_20': 3.9053746118614225, 'weight_21': 5.951116226384661, 'weight_22': 3.4965517643127724, 'weight_23': 3.286424469635191, 'weight_24': 2.1964502618252975, 'weight_25': 9.767966621316466, 'weight_26': 6.164293961098513, 'weight_27': 5.270524212463957, 'weight_28': 8.189463390824976, 'weight_29': 7.577016784220476, 'weight_30': 7.574989439436331, 'n_neighbors': 54, 'weights': 'uniform'}. Best is trial 17 with value: 0.6524317900667299.\n",
            "[I 2024-11-15 15:46:39,328] Trial 20 finished with value: 0.6225771714115717 and parameters: {'weight_0': 5.69574023377226, 'weight_1': 5.208875286515838, 'weight_2': 9.680955240319184, 'weight_3': 3.1017266648041466, 'weight_4': 1.9708307834070853, 'weight_5': 8.158420228855102, 'weight_6': 3.846692202006132, 'weight_7': 3.4002187393655747, 'weight_8': 2.2302854515766697, 'weight_9': 6.088673931408387, 'weight_10': 5.457610051210172, 'weight_11': 3.078167108356335, 'weight_12': 0.9268923340374524, 'weight_13': 2.475893391012616, 'weight_14': 5.053438904257226, 'weight_15': 1.3826681429162597, 'weight_16': 3.7604765689371207, 'weight_17': 6.101491730701572, 'weight_18': 2.6484572962781288, 'weight_19': 6.241912777532001, 'weight_20': 6.075337757809281, 'weight_21': 4.26260022667777, 'weight_22': 6.233742807811903, 'weight_23': 5.843577501371128, 'weight_24': 2.916689941737012, 'weight_25': 0.48385711278601473, 'weight_26': 8.904433174932917, 'weight_27': 7.4492429972486836, 'weight_28': 7.170582625704348, 'weight_29': 3.077974600676857, 'weight_30': 7.651400666237333, 'n_neighbors': 13, 'weights': 'uniform'}. Best is trial 17 with value: 0.6524317900667299.\n",
            "[I 2024-11-15 15:46:40,388] Trial 21 finished with value: 0.6488158182755777 and parameters: {'weight_0': 9.369630715050297, 'weight_1': 0.2018001846161854, 'weight_2': 6.342996545970343, 'weight_3': 0.10316883578857239, 'weight_4': 0.8454824834340072, 'weight_5': 6.146145350020501, 'weight_6': 5.2975199723184945, 'weight_7': 6.077440547199312, 'weight_8': 6.791610043059051, 'weight_9': 8.571237819386457, 'weight_10': 9.973016359516018, 'weight_11': 0.20532638570764306, 'weight_12': 4.454755227811427, 'weight_13': 0.14258330665344765, 'weight_14': 7.56318322873652, 'weight_15': 3.751042844923517, 'weight_16': 7.037975736214626, 'weight_17': 3.005562258321045, 'weight_18': 6.6577724416432185, 'weight_19': 8.782180921907885, 'weight_20': 3.724705719774107, 'weight_21': 6.519101761392122, 'weight_22': 3.634641172366673, 'weight_23': 3.6729030181697144, 'weight_24': 1.9729680979426467, 'weight_25': 9.190679169739855, 'weight_26': 6.1252985532178545, 'weight_27': 5.281344104437053, 'weight_28': 8.672419361292524, 'weight_29': 7.341801701601236, 'weight_30': 8.02853014930038, 'n_neighbors': 63, 'weights': 'uniform'}. Best is trial 17 with value: 0.6524317900667299.\n",
            "[I 2024-11-15 15:46:41,374] Trial 22 finished with value: 0.6388077262476713 and parameters: {'weight_0': 7.570408644692527, 'weight_1': 1.2558171223180985, 'weight_2': 7.004620607857489, 'weight_3': 1.3197699380159147, 'weight_4': 1.8621811373847448, 'weight_5': 5.042900421890602, 'weight_6': 6.0677723172531755, 'weight_7': 6.3282280195324585, 'weight_8': 5.186758830132463, 'weight_9': 7.9108146200606235, 'weight_10': 8.726445230996015, 'weight_11': 1.8003124259171557, 'weight_12': 6.047167099049022, 'weight_13': 0.14511321242291864, 'weight_14': 4.285334224653277, 'weight_15': 3.708180450789032, 'weight_16': 5.631310084121714, 'weight_17': 0.22247095760679905, 'weight_18': 4.1346282717121055, 'weight_19': 8.556014125260676, 'weight_20': 3.313374874353942, 'weight_21': 6.481469890578607, 'weight_22': 2.344629692782833, 'weight_23': 4.401692487403479, 'weight_24': 0.2279525878027675, 'weight_25': 9.873361619703756, 'weight_26': 4.223226209860748, 'weight_27': 6.409616001225043, 'weight_28': 8.831047411269257, 'weight_29': 4.865448076072337, 'weight_30': 9.994165755721442, 'n_neighbors': 72, 'weights': 'uniform'}. Best is trial 17 with value: 0.6524317900667299.\n",
            "[I 2024-11-15 15:46:42,253] Trial 23 finished with value: 0.6415899933850501 and parameters: {'weight_0': 9.053652476311976, 'weight_1': 3.0295064564981202, 'weight_2': 5.2977541287426915, 'weight_3': 0.13399331279197302, 'weight_4': 0.8983439449253208, 'weight_5': 6.756728892623202, 'weight_6': 4.836181578502568, 'weight_7': 5.924183714590912, 'weight_8': 7.02840150184837, 'weight_9': 9.216460412056643, 'weight_10': 7.263478463715066, 'weight_11': 0.37821881563839205, 'weight_12': 3.863196199168069, 'weight_13': 1.8880727730839444, 'weight_14': 7.816133101409308, 'weight_15': 3.0018088017264573, 'weight_16': 7.334085560817619, 'weight_17': 1.4775928399544536, 'weight_18': 6.70157001678707, 'weight_19': 8.899684994004154, 'weight_20': 5.5802240940221495, 'weight_21': 5.757586377650301, 'weight_22': 4.296126883466972, 'weight_23': 2.95908964507635, 'weight_24': 1.6840620231682584, 'weight_25': 8.894979448800754, 'weight_26': 6.406749237402254, 'weight_27': 5.254009919043297, 'weight_28': 7.7961090851258685, 'weight_29': 7.325265822986342, 'weight_30': 8.324649327540026, 'n_neighbors': 57, 'weights': 'uniform'}. Best is trial 17 with value: 0.6524317900667299.\n",
            "[I 2024-11-15 15:46:43,688] Trial 24 finished with value: 0.6293205777083989 and parameters: {'weight_0': 4.330346716920065, 'weight_1': 0.8424157387079365, 'weight_2': 6.96703404677421, 'weight_3': 2.3974961294014223, 'weight_4': 2.81840187281675, 'weight_5': 5.466022377053531, 'weight_6': 3.068952007555006, 'weight_7': 3.297487346041561, 'weight_8': 8.45074043741282, 'weight_9': 8.907520044742608, 'weight_10': 8.801335097267778, 'weight_11': 3.3335315895463893, 'weight_12': 2.8789550626673632, 'weight_13': 4.282598255863597, 'weight_14': 6.325057854754701, 'weight_15': 5.528673828998309, 'weight_16': 5.705536961378886, 'weight_17': 3.2025199294361966, 'weight_18': 0.8610052016297525, 'weight_19': 7.354796541972108, 'weight_20': 4.135374174125634, 'weight_21': 7.3674678866452314, 'weight_22': 2.2010726788365007, 'weight_23': 7.188184617425593, 'weight_24': 3.4899340947887114, 'weight_25': 7.45101718810316, 'weight_26': 5.417535937248476, 'weight_27': 4.584498819883757, 'weight_28': 9.316041840059532, 'weight_29': 5.348988282553728, 'weight_30': 5.944455112394501, 'n_neighbors': 45, 'weights': 'uniform'}. Best is trial 17 with value: 0.6524317900667299.\n",
            "[I 2024-11-15 15:46:45,309] Trial 25 finished with value: 0.5906070562547894 and parameters: {'weight_0': 7.475336587660465, 'weight_1': 0.10999732185344624, 'weight_2': 3.566250558347853, 'weight_3': 1.1972065470616184, 'weight_4': 5.55111065980271, 'weight_5': 9.051127815179251, 'weight_6': 4.668005792082645, 'weight_7': 1.3978612201132474, 'weight_8': 5.4088197020561894, 'weight_9': 7.452518893953074, 'weight_10': 9.90904411382757, 'weight_11': 2.2108759625669405, 'weight_12': 1.089550005564788, 'weight_13': 5.952541601400298, 'weight_14': 5.571181979598888, 'weight_15': 1.2192702027492968, 'weight_16': 7.409018068633041, 'weight_17': 3.7520071510060773, 'weight_18': 4.539788928181625, 'weight_19': 8.109236669970784, 'weight_20': 5.4014364854017325, 'weight_21': 4.5900954644454774, 'weight_22': 4.043532881582641, 'weight_23': 5.349828831965393, 'weight_24': 4.632493844068578, 'weight_25': 9.001965409140613, 'weight_26': 4.144351558380774, 'weight_27': 1.501514457938355, 'weight_28': 5.554201236136557, 'weight_29': 9.860939105052804, 'weight_30': 4.242204965830172, 'n_neighbors': 76, 'weights': 'uniform'}. Best is trial 17 with value: 0.6524317900667299.\n",
            "[I 2024-11-15 15:46:46,785] Trial 26 finished with value: 0.6094133402973017 and parameters: {'weight_0': 8.820358534592373, 'weight_1': 1.7902010771505596, 'weight_2': 5.191348677601312, 'weight_3': 0.22664443072811652, 'weight_4': 1.3799871026665422, 'weight_5': 3.946342996798491, 'weight_6': 5.769469019513536, 'weight_7': 7.483252805617792, 'weight_8': 8.744910859594077, 'weight_9': 6.418380480057516, 'weight_10': 3.781970682280725, 'weight_11': 5.323257934208459, 'weight_12': 5.817250620665773, 'weight_13': 0.970508766367734, 'weight_14': 3.921135210933903, 'weight_15': 3.9078705499699824, 'weight_16': 2.4686664528819513, 'weight_17': 5.781916994720422, 'weight_18': 5.91240736507803, 'weight_19': 9.366472734903507, 'weight_20': 2.594814998425102, 'weight_21': 3.260697569241251, 'weight_22': 5.7524781216420635, 'weight_23': 1.4517104126745073, 'weight_24': 2.0017005116156974, 'weight_25': 8.313747935522796, 'weight_26': 6.695655124996149, 'weight_27': 7.993684981306438, 'weight_28': 7.641711432749267, 'weight_29': 8.37766871816134, 'weight_30': 6.854109137636165, 'n_neighbors': 28, 'weights': 'uniform'}. Best is trial 17 with value: 0.6524317900667299.\n",
            "[I 2024-11-15 15:46:47,440] Trial 27 finished with value: 0.6266510877721081 and parameters: {'weight_0': 9.527244516842705, 'weight_1': 4.4426172875145955, 'weight_2': 6.815630671690969, 'weight_3': 1.8494968026846441, 'weight_4': 3.0277758149611147, 'weight_5': 7.137697756914635, 'weight_6': 6.980128545195797, 'weight_7': 5.691843464904316, 'weight_8': 7.384031345347635, 'weight_9': 4.560305659887088, 'weight_10': 7.658201878397355, 'weight_11': 3.702557777702771, 'weight_12': 7.335279681326597, 'weight_13': 3.4207710825799995, 'weight_14': 2.6431556645510392, 'weight_15': 2.520759701620553, 'weight_16': 5.4481593360928935, 'weight_17': 2.5057952656731723, 'weight_18': 2.6287604198257117, 'weight_19': 6.359380054466712, 'weight_20': 3.645644852247749, 'weight_21': 6.8531289450743476, 'weight_22': 2.8979904533562943, 'weight_23': 6.372937376477466, 'weight_24': 0.18259324159381518, 'weight_25': 9.505130703618214, 'weight_26': 8.037611399915527, 'weight_27': 3.1932771543883884, 'weight_28': 9.164495126621599, 'weight_29': 7.03812260516319, 'weight_30': 8.180068395709165, 'n_neighbors': 8, 'weights': 'uniform'}. Best is trial 17 with value: 0.6524317900667299.\n",
            "[I 2024-11-15 15:46:48,479] Trial 28 finished with value: 0.6035784860805878 and parameters: {'weight_0': 7.949646340173852, 'weight_1': 2.3088998958290796, 'weight_2': 3.2149654243317163, 'weight_3': 0.9451090309373179, 'weight_4': 1.1306341504314048, 'weight_5': 8.325366563960502, 'weight_6': 8.049789085211728, 'weight_7': 4.480052129740919, 'weight_8': 6.5981975271275, 'weight_9': 9.638815537613745, 'weight_10': 6.3984060254701305, 'weight_11': 2.237937418547085, 'weight_12': 8.911391321144635, 'weight_13': 4.862379729568061, 'weight_14': 7.561627037644254, 'weight_15': 4.876322413082832, 'weight_16': 4.152210178713241, 'weight_17': 1.047880263401904, 'weight_18': 8.229914228978528, 'weight_19': 7.153501455039319, 'weight_20': 6.6938858973545425, 'weight_21': 8.214287572473877, 'weight_22': 1.8460260000024737, 'weight_23': 3.7092961523295, 'weight_24': 1.3518590818585574, 'weight_25': 3.205566459625113, 'weight_26': 5.86319421930883, 'weight_27': 6.7012677638940845, 'weight_28': 0.38813383516999433, 'weight_29': 5.739820452142634, 'weight_30': 6.517360253181167, 'n_neighbors': 62, 'weights': 'uniform'}. Best is trial 17 with value: 0.6524317900667299.\n",
            "[I 2024-11-15 15:46:49,554] Trial 29 finished with value: 0.534723310443961 and parameters: {'weight_0': 5.888085704632655, 'weight_1': 3.039663815869099, 'weight_2': 4.4358469369456275, 'weight_3': 3.845020437586686, 'weight_4': 4.6003953723717625, 'weight_5': 4.914567943495949, 'weight_6': 1.4269963029291781, 'weight_7': 2.199963078446795, 'weight_8': 6.147243121342749, 'weight_9': 7.562688064233358, 'weight_10': 1.5283280923552196, 'weight_11': 0.8652527130830732, 'weight_12': 1.515036568198322, 'weight_13': 3.0057839049889976, 'weight_14': 8.686568644560886, 'weight_15': 4.6961600461343345, 'weight_16': 9.540318320365504, 'weight_17': 7.837797634184007, 'weight_18': 1.1524104986386847, 'weight_19': 6.833863597686587, 'weight_20': 0.7534576542106057, 'weight_21': 4.8770321566994905, 'weight_22': 7.208337638580025, 'weight_23': 4.642929818346988, 'weight_24': 3.1161176919879106, 'weight_25': 6.677778653962847, 'weight_26': 2.2401093266815546, 'weight_27': 8.201645072487462, 'weight_28': 8.966109185129934, 'weight_29': 8.280414662408178, 'weight_30': 5.756405932060091, 'n_neighbors': 79, 'weights': 'uniform'}. Best is trial 17 with value: 0.6524317900667299.\n",
            "[I 2024-11-15 15:46:50,405] Trial 30 finished with value: 0.5913162757131085 and parameters: {'weight_0': 4.874691351609449, 'weight_1': 1.1148360885131, 'weight_2': 5.544062990071107, 'weight_3': 2.6035719534226676, 'weight_4': 3.880624012657436, 'weight_5': 3.2596302637289822, 'weight_6': 3.45893588924753, 'weight_7': 9.46193338548224, 'weight_8': 4.625445821397738, 'weight_9': 8.456443670686427, 'weight_10': 9.130949534080672, 'weight_11': 8.98101840263014, 'weight_12': 3.3511641069313085, 'weight_13': 7.158396243675358, 'weight_14': 5.948121290308234, 'weight_15': 3.1228835040635534, 'weight_16': 8.007768063490829, 'weight_17': 5.337214858781343, 'weight_18': 2.6058535603372013, 'weight_19': 8.118359788703453, 'weight_20': 1.479089099337644, 'weight_21': 2.2090091072067075, 'weight_22': 4.224379628496006, 'weight_23': 8.045278741006008, 'weight_24': 0.7560177528572565, 'weight_25': 1.100937538212131, 'weight_26': 3.812676137592732, 'weight_27': 3.2658687725645015, 'weight_28': 7.527815814590834, 'weight_29': 8.843609781174264, 'weight_30': 3.3926097265818793, 'n_neighbors': 85, 'weights': 'uniform'}. Best is trial 17 with value: 0.6524317900667299.\n",
            "[I 2024-11-15 15:46:50,856] Trial 31 finished with value: 0.6592985595924051 and parameters: {'weight_0': 9.964363881809767, 'weight_1': 0.6028651949956256, 'weight_2': 6.526419832974554, 'weight_3': 0.6612196180943762, 'weight_4': 0.13409834191571657, 'weight_5': 6.446917844263436, 'weight_6': 4.971639790635247, 'weight_7': 6.89663203245039, 'weight_8': 6.685697509104413, 'weight_9': 8.592981090260562, 'weight_10': 9.971658460112549, 'weight_11': 0.4514540707458264, 'weight_12': 4.695906505569586, 'weight_13': 0.4531458561338522, 'weight_14': 7.29559323627371, 'weight_15': 1.914225436600347, 'weight_16': 7.051208680605084, 'weight_17': 3.4759762361998523, 'weight_18': 6.021451001357894, 'weight_19': 9.127731168237734, 'weight_20': 3.784590349532037, 'weight_21': 5.830814744505175, 'weight_22': 3.410028915322909, 'weight_23': 3.404993340370975, 'weight_24': 2.207726761261246, 'weight_25': 9.817943142459622, 'weight_26': 5.94667635301918, 'weight_27': 5.247442356039494, 'weight_28': 8.207154695904077, 'weight_29': 7.224686692680578, 'weight_30': 7.2161475307788105, 'n_neighbors': 46, 'weights': 'uniform'}. Best is trial 31 with value: 0.6592985595924051.\n",
            "[I 2024-11-15 15:46:51,264] Trial 32 finished with value: 0.6308326150906661 and parameters: {'weight_0': 9.294054467379505, 'weight_1': 0.6292638000590074, 'weight_2': 6.571693663670325, 'weight_3': 0.6106181747335858, 'weight_4': 0.26096891442561, 'weight_5': 6.378594759212922, 'weight_6': 5.136481876909823, 'weight_7': 7.254352651793005, 'weight_8': 5.86333876063814, 'weight_9': 7.594315889493742, 'weight_10': 9.948666560723009, 'weight_11': 0.7335477635894843, 'weight_12': 5.501964347084932, 'weight_13': 1.4134554982372611, 'weight_14': 7.072489304684014, 'weight_15': 1.6665986804111457, 'weight_16': 6.879523229718717, 'weight_17': 4.481309364132536, 'weight_18': 7.496840150526752, 'weight_19': 9.184697138010552, 'weight_20': 4.60184669973396, 'weight_21': 5.703380326389839, 'weight_22': 3.53146012383088, 'weight_23': 2.479147135692366, 'weight_24': 2.8541458517793985, 'weight_25': 8.291403938543654, 'weight_26': 4.876607325583235, 'weight_27': 5.650920255564104, 'weight_28': 8.564213215268932, 'weight_29': 7.618480623096446, 'weight_30': 7.3472665478042725, 'n_neighbors': 51, 'weights': 'uniform'}. Best is trial 31 with value: 0.6592985595924051.\n",
            "[I 2024-11-15 15:46:51,704] Trial 33 finished with value: 0.6346323627267211 and parameters: {'weight_0': 8.579433027350415, 'weight_1': 2.3408341627998626, 'weight_2': 7.583934429873844, 'weight_3': 1.510550978884889, 'weight_4': 2.112527458902469, 'weight_5': 7.34444897763532, 'weight_6': 4.5608924898291825, 'weight_7': 5.5343132525894445, 'weight_8': 7.943406162952931, 'weight_9': 9.059931489452845, 'weight_10': 8.180098879245904, 'weight_11': 2.1135701351584393, 'weight_12': 6.6444991968255644, 'weight_13': 0.991289276511262, 'weight_14': 8.668708009036507, 'weight_15': 0.9261779605915343, 'weight_16': 8.277373532663978, 'weight_17': 4.056616795642096, 'weight_18': 5.834291109216926, 'weight_19': 8.140202320051921, 'weight_20': 2.676876585760139, 'weight_21': 6.184613614884842, 'weight_22': 5.441196043499007, 'weight_23': 3.8632131506602305, 'weight_24': 1.463635117685512, 'weight_25': 9.22069261862505, 'weight_26': 5.60812728697109, 'weight_27': 4.684959653660871, 'weight_28': 5.996870352853827, 'weight_29': 6.4551460710406605, 'weight_30': 5.333081835576664, 'n_neighbors': 41, 'weights': 'uniform'}. Best is trial 31 with value: 0.6592985595924051.\n",
            "[I 2024-11-15 15:46:52,098] Trial 34 finished with value: 0.5817378206409517 and parameters: {'weight_0': 9.501367133771181, 'weight_1': 1.2206815589376614, 'weight_2': 4.772583566996877, 'weight_3': 0.1807360664754974, 'weight_4': 0.8056558218654626, 'weight_5': 2.192461838264609, 'weight_6': 5.442797252134901, 'weight_7': 8.450585211209956, 'weight_8': 7.2844086910521515, 'weight_9': 5.440380247133417, 'weight_10': 9.23197170658875, 'weight_11': 1.6682362529349528, 'weight_12': 4.113304092691894, 'weight_13': 1.946030727718255, 'weight_14': 4.646308070916059, 'weight_15': 2.2854899920781615, 'weight_16': 5.898949474408629, 'weight_17': 2.867919683859255, 'weight_18': 6.760852129793859, 'weight_19': 9.932551948925854, 'weight_20': 2.022166033027217, 'weight_21': 5.437773166963427, 'weight_22': 4.712194346768555, 'weight_23': 0.8245566356231381, 'weight_24': 5.15248875289886, 'weight_25': 9.977227882330578, 'weight_26': 6.951530856835378, 'weight_27': 5.047911431588996, 'weight_28': 9.452071924115216, 'weight_29': 9.214830212691314, 'weight_30': 8.271187550930323, 'n_neighbors': 27, 'weights': 'uniform'}. Best is trial 31 with value: 0.6592985595924051.\n",
            "[I 2024-11-15 15:46:52,514] Trial 35 finished with value: 0.6048787172871036 and parameters: {'weight_0': 4.089637175779218, 'weight_1': 1.6227408256805247, 'weight_2': 7.4488111484511315, 'weight_3': 1.449530970213134, 'weight_4': 0.10015668248373565, 'weight_5': 5.5148312176731284, 'weight_6': 6.363830203120316, 'weight_7': 8.715985016381202, 'weight_8': 5.467591033123056, 'weight_9': 8.033656414092832, 'weight_10': 4.887402607987403, 'weight_11': 0.8985711027049983, 'weight_12': 4.665758699471721, 'weight_13': 0.49605302543019686, 'weight_14': 7.042137872553582, 'weight_15': 3.452545405767393, 'weight_16': 7.066464669563547, 'weight_17': 2.0902470311725474, 'weight_18': 4.639842203754434, 'weight_19': 5.862825714790109, 'weight_20': 3.2512709137009455, 'weight_21': 4.735070897453395, 'weight_22': 0.10179619438162568, 'weight_23': 3.311088095468011, 'weight_24': 2.1240068806523644, 'weight_25': 8.593239772040153, 'weight_26': 7.895834303110176, 'weight_27': 6.441813553395162, 'weight_28': 7.672002107143111, 'weight_29': 4.418482188006807, 'weight_30': 8.94575855767291, 'n_neighbors': 60, 'weights': 'uniform'}. Best is trial 31 with value: 0.6592985595924051.\n",
            "[I 2024-11-15 15:46:52,906] Trial 36 finished with value: 0.6645309114149706 and parameters: {'weight_0': 6.982234473196982, 'weight_1': 5.912463174068176, 'weight_2': 8.51264576423647, 'weight_3': 0.773333284880505, 'weight_4': 1.3735476833671325, 'weight_5': 6.3038758186119574, 'weight_6': 5.542461762140372, 'weight_7': 6.986371451178838, 'weight_8': 8.889538031475404, 'weight_9': 9.259095778286591, 'weight_10': 9.796115228884096, 'weight_11': 0.16546939468593258, 'weight_12': 2.1439569258535647, 'weight_13': 5.652285818143186, 'weight_14': 5.531244523733372, 'weight_15': 5.889667490660454, 'weight_16': 5.065899039584885, 'weight_17': 4.29084377652845, 'weight_18': 5.3602832093454715, 'weight_19': 9.37514129411264, 'weight_20': 5.311785740013629, 'weight_21': 3.8282903310428047, 'weight_22': 3.013583389243614, 'weight_23': 4.923701896418802, 'weight_24': 4.341748082028142, 'weight_25': 7.9076697532019296, 'weight_26': 3.1841618387383686, 'weight_27': 1.4633831220856925, 'weight_28': 8.660550252080894, 'weight_29': 6.1035484339112, 'weight_30': 9.98432229265121, 'n_neighbors': 9, 'weights': 'uniform'}. Best is trial 36 with value: 0.6645309114149706.\n",
            "[I 2024-11-15 15:46:53,286] Trial 37 finished with value: 0.6166191559336721 and parameters: {'weight_0': 6.986781001716067, 'weight_1': 6.141653223868714, 'weight_2': 8.985558237196466, 'weight_3': 1.93606706623778, 'weight_4': 2.3250802935310606, 'weight_5': 9.097485515304687, 'weight_6': 4.017179762656949, 'weight_7': 7.021518996466547, 'weight_8': 8.797274772498582, 'weight_9': 9.616543533913775, 'weight_10': 3.387185975240025, 'weight_11': 5.056199308168121, 'weight_12': 2.1255062560580327, 'weight_13': 5.709468255130387, 'weight_14': 5.352420446785532, 'weight_15': 6.496674960665792, 'weight_16': 4.987762391685309, 'weight_17': 4.269801126543032, 'weight_18': 5.5782681445923705, 'weight_19': 9.35691952391154, 'weight_20': 5.239565117155557, 'weight_21': 2.828547331365039, 'weight_22': 1.5701396127970864, 'weight_23': 4.884020873934728, 'weight_24': 4.191368185694849, 'weight_25': 7.878321465522938, 'weight_26': 0.4429106451096865, 'weight_27': 1.2279882762661614, 'weight_28': 2.2729345157846046, 'weight_29': 6.375492489184894, 'weight_30': 9.924630682288637, 'n_neighbors': 20, 'weights': 'uniform'}. Best is trial 36 with value: 0.6645309114149706.\n",
            "[I 2024-11-15 15:46:53,653] Trial 38 finished with value: 0.5309034768349868 and parameters: {'weight_0': 5.359611101704957, 'weight_1': 7.429479506407285, 'weight_2': 8.252114245741325, 'weight_3': 2.8698631687438443, 'weight_4': 1.3317756217745986, 'weight_5': 7.5958414292584155, 'weight_6': 6.667637276386501, 'weight_7': 8.081886613431472, 'weight_8': 9.213440700187812, 'weight_9': 3.4612200668672735, 'weight_10': 6.313170503873856, 'weight_11': 4.162580996487499, 'weight_12': 0.7939987624870345, 'weight_13': 4.885679400455799, 'weight_14': 5.907603620748839, 'weight_15': 7.835338780059116, 'weight_16': 4.433127635747373, 'weight_17': 5.293267174576185, 'weight_18': 5.052389659730602, 'weight_19': 7.999440437631134, 'weight_20': 8.478123240083724, 'weight_21': 3.74829971136451, 'weight_22': 2.9196994549782067, 'weight_23': 5.071887301588953, 'weight_24': 5.261338565262168, 'weight_25': 6.993030346325842, 'weight_26': 3.082608478444075, 'weight_27': 0.2649300524206791, 'weight_28': 3.34138032079234, 'weight_29': 3.56941852191158, 'weight_30': 4.540317713473857, 'n_neighbors': 8, 'weights': 'uniform'}. Best is trial 36 with value: 0.6645309114149706.\n",
            "[I 2024-11-15 15:46:54,056] Trial 39 finished with value: 0.6741049559374823 and parameters: {'weight_0': 7.912786992753595, 'weight_1': 6.03582558767183, 'weight_2': 9.762156277294357, 'weight_3': 0.8778667557896976, 'weight_4': 5.018373902808799, 'weight_5': 6.697198827377224, 'weight_6': 5.781800258903374, 'weight_7': 3.1369308460169445, 'weight_8': 8.007043016599972, 'weight_9': 9.298535311182535, 'weight_10': 8.1953923365777, 'weight_11': 1.2612782876908333, 'weight_12': 2.4822498406298923, 'weight_13': 6.0757832366806355, 'weight_14': 6.504863447757953, 'weight_15': 5.376785011130835, 'weight_16': 2.8725565764187198, 'weight_17': 3.6132741663198695, 'weight_18': 0.6366432889364388, 'weight_19': 0.4237194102486841, 'weight_20': 5.783178442615789, 'weight_21': 3.552786454660977, 'weight_22': 1.5784463762016616, 'weight_23': 5.809410423713632, 'weight_24': 8.108478699642436, 'weight_25': 5.2086051345945865, 'weight_26': 2.1872220050969453, 'weight_27': 1.7679063454975636, 'weight_28': 8.023912819689821, 'weight_29': 5.554338594935963, 'weight_30': 9.461168698622265, 'n_neighbors': 9, 'weights': 'uniform'}. Best is trial 39 with value: 0.6741049559374823.\n",
            "[I 2024-11-15 15:46:54,422] Trial 40 finished with value: 0.6556557647282338 and parameters: {'weight_0': 6.048781798063475, 'weight_1': 5.844295948438155, 'weight_2': 9.396947020737773, 'weight_3': 0.8221558308922766, 'weight_4': 3.3973506802611273, 'weight_5': 6.814370867939267, 'weight_6': 5.741523831971514, 'weight_7': 2.935688086634819, 'weight_8': 8.18814293476577, 'weight_9': 9.214226033722273, 'weight_10': 8.074446088354057, 'weight_11': 1.3179900784494358, 'weight_12': 2.49602689423694, 'weight_13': 6.1728372820914865, 'weight_14': 6.309307725820752, 'weight_15': 5.47767056069008, 'weight_16': 2.602253644536836, 'weight_17': 3.700191505946241, 'weight_18': 1.4952926011276015, 'weight_19': 0.4850341448732828, 'weight_20': 5.689812212660399, 'weight_21': 2.5853531016431983, 'weight_22': 1.522090131021916, 'weight_23': 5.725486247713676, 'weight_24': 8.035311663696842, 'weight_25': 5.3674445152583905, 'weight_26': 1.7775921508256056, 'weight_27': 1.7936636966765833, 'weight_28': 6.406916796607233, 'weight_29': 4.919352518753353, 'weight_30': 8.76798674645623, 'n_neighbors': 8, 'weights': 'uniform'}. Best is trial 39 with value: 0.6741049559374823.\n",
            "[I 2024-11-15 15:46:54,820] Trial 41 finished with value: 0.6523776110386471 and parameters: {'weight_0': 6.108243755922616, 'weight_1': 5.705597213243532, 'weight_2': 9.970281503702944, 'weight_3': 0.8052867022075053, 'weight_4': 3.6158176021052886, 'weight_5': 6.7678141710643605, 'weight_6': 5.749732760973146, 'weight_7': 2.86478934352563, 'weight_8': 8.221275793849047, 'weight_9': 9.318079656349946, 'weight_10': 8.869662758373629, 'weight_11': 1.3040054712613776, 'weight_12': 2.4541302802223597, 'weight_13': 6.148660658535077, 'weight_14': 6.413458537711915, 'weight_15': 5.378496692583566, 'weight_16': 1.037822210549408, 'weight_17': 3.596827284515284, 'weight_18': 1.4033358164593, 'weight_19': 0.3345162831726701, 'weight_20': 4.499496932860463, 'weight_21': 1.9951142512745514, 'weight_22': 1.7867999220097976, 'weight_23': 5.807197687226365, 'weight_24': 7.787822286273186, 'weight_25': 5.041300632797019, 'weight_26': 1.7328010676751648, 'weight_27': 1.351475064459341, 'weight_28': 6.324651765969115, 'weight_29': 4.813799393600864, 'weight_30': 9.494368158765496, 'n_neighbors': 8, 'weights': 'uniform'}. Best is trial 39 with value: 0.6741049559374823.\n",
            "[I 2024-11-15 15:46:55,215] Trial 42 finished with value: 0.691462818111989 and parameters: {'weight_0': 6.957045451956365, 'weight_1': 7.062186269394006, 'weight_2': 8.757561354052452, 'weight_3': 1.9810796875360692, 'weight_4': 4.985979229135988, 'weight_5': 5.662566772439022, 'weight_6': 6.282708121750052, 'weight_7': 3.24622305310685, 'weight_8': 8.908939353800422, 'weight_9': 9.29030047059741, 'weight_10': 9.549601742462809, 'weight_11': 0.6325833303736665, 'weight_12': 3.2728195467199197, 'weight_13': 5.326227624040031, 'weight_14': 8.122359215793502, 'weight_15': 5.981791476418023, 'weight_16': 2.540360635404318, 'weight_17': 3.6209513905732473, 'weight_18': 2.1284231724033766, 'weight_19': 1.1858437717557648, 'weight_20': 5.948510657901747, 'weight_21': 3.5252804628745658, 'weight_22': 1.3838090707482404, 'weight_23': 6.820407376221821, 'weight_24': 8.65962666559738, 'weight_25': 5.583658589492263, 'weight_26': 0.8700452111499667, 'weight_27': 1.5644695562940552, 'weight_28': 7.165631199119623, 'weight_29': 6.110895316530106, 'weight_30': 8.880172747900522, 'n_neighbors': 17, 'weights': 'uniform'}. Best is trial 42 with value: 0.691462818111989.\n",
            "[I 2024-11-15 15:46:55,639] Trial 43 finished with value: 0.6620457383913886 and parameters: {'weight_0': 6.924624527686179, 'weight_1': 7.611055038820749, 'weight_2': 9.25218838410851, 'weight_3': 1.8188817272598783, 'weight_4': 5.3105762815037965, 'weight_5': 6.959333147259416, 'weight_6': 7.753288601704012, 'weight_7': 1.712618137315685, 'weight_8': 9.085520024949584, 'weight_9': 9.944205754175334, 'weight_10': 8.19940891171365, 'weight_11': 0.706849332241765, 'weight_12': 3.1509706728176434, 'weight_13': 5.16306830858746, 'weight_14': 8.398172359703132, 'weight_15': 5.808820527329198, 'weight_16': 3.0047838713211417, 'weight_17': 4.793284586163154, 'weight_18': 0.6386755799004087, 'weight_19': 0.9847074775888099, 'weight_20': 5.9107761878151, 'weight_21': 1.0545727816854717, 'weight_22': 1.391270148312205, 'weight_23': 6.467393619461362, 'weight_24': 8.539306505058391, 'weight_25': 5.507345244849471, 'weight_26': 0.8145412763248127, 'weight_27': 1.8133772414224256, 'weight_28': 6.9940122452312, 'weight_29': 5.76960474476512, 'weight_30': 8.675548190459931, 'n_neighbors': 31, 'weights': 'uniform'}. Best is trial 42 with value: 0.691462818111989.\n",
            "[I 2024-11-15 15:46:56,056] Trial 44 finished with value: 0.6477455504630849 and parameters: {'weight_0': 7.925145077962059, 'weight_1': 7.656146102549012, 'weight_2': 8.520345084723989, 'weight_3': 2.0220159158973536, 'weight_4': 5.066716989780446, 'weight_5': 8.447828416373586, 'weight_6': 8.638893588756732, 'weight_7': 0.8592593906323946, 'weight_8': 9.04324753780902, 'weight_9': 9.980006548179787, 'weight_10': 7.1165762139860025, 'weight_11': 0.5661177044914575, 'weight_12': 3.326142323358376, 'weight_13': 5.208374304593517, 'weight_14': 8.195627927398638, 'weight_15': 5.954850418217715, 'weight_16': 2.8525026679576997, 'weight_17': 5.014768588221017, 'weight_18': 0.563854440972764, 'weight_19': 1.2783835914502288, 'weight_20': 6.363563807101767, 'weight_21': 0.3275877918479331, 'weight_22': 0.460886601574802, 'weight_23': 7.744096228985249, 'weight_24': 8.660621044689771, 'weight_25': 3.569322478953473, 'weight_26': 0.7844338626280702, 'weight_27': 0.8492218355146732, 'weight_28': 6.887189072891384, 'weight_29': 6.08389682588641, 'weight_30': 9.47165038782518, 'n_neighbors': 32, 'weights': 'uniform'}. Best is trial 42 with value: 0.691462818111989.\n",
            "[I 2024-11-15 15:46:56,449] Trial 45 finished with value: 0.5035923295063792 and parameters: {'weight_0': 8.030186978362503, 'weight_1': 6.907266091616301, 'weight_2': 9.136185250999505, 'weight_3': 1.6102811061162654, 'weight_4': 6.929151462626756, 'weight_5': 7.612287497034906, 'weight_6': 7.8951453200984725, 'weight_7': 1.6118716791731649, 'weight_8': 9.96483023995485, 'weight_9': 0.3727961968864024, 'weight_10': 8.387815309146676, 'weight_11': 1.003621646768327, 'weight_12': 3.0689109085528425, 'weight_13': 4.658791767947546, 'weight_14': 9.467466285289552, 'weight_15': 7.199151392630667, 'weight_16': 1.7070809723534301, 'weight_17': 4.662344108883791, 'weight_18': 0.1246113919441747, 'weight_19': 1.2463790637282686, 'weight_20': 5.820749773687144, 'weight_21': 1.4317783791747152, 'weight_22': 1.2629024432992018, 'weight_23': 6.364420220127935, 'weight_24': 8.88044513436418, 'weight_25': 4.585646203242112, 'weight_26': 1.108942283729814, 'weight_27': 2.050651786184912, 'weight_28': 7.155417483402597, 'weight_29': 5.562823295029115, 'weight_30': 8.666509271265204, 'n_neighbors': 24, 'weights': 'uniform'}. Best is trial 42 with value: 0.691462818111989.\n",
            "[I 2024-11-15 15:46:56,989] Trial 46 finished with value: 0.6345439095154922 and parameters: {'weight_0': 7.052712511062507, 'weight_1': 8.528065621266954, 'weight_2': 8.60158804135362, 'weight_3': 5.272899437512777, 'weight_4': 5.496986797931705, 'weight_5': 5.402353345718238, 'weight_6': 6.495176772787981, 'weight_7': 1.9363226646029057, 'weight_8': 8.670663058993723, 'weight_9': 9.54280795667522, 'weight_10': 9.411013520647035, 'weight_11': 1.7355944128569933, 'weight_12': 4.108526982260092, 'weight_13': 6.71488384698173, 'weight_14': 8.174209281088897, 'weight_15': 6.229425844004626, 'weight_16': 3.5981309016572283, 'weight_17': 4.065664748861373, 'weight_18': 0.7119134403757326, 'weight_19': 2.4487913447382033, 'weight_20': 4.93962564872092, 'weight_21': 3.438673895331468, 'weight_22': 2.4494076770542312, 'weight_23': 6.832320304378107, 'weight_24': 9.963509410499316, 'weight_25': 5.666980879521795, 'weight_26': 2.6194630495535973, 'weight_27': 3.379345034603921, 'weight_28': 5.480543512276974, 'weight_29': 6.569513605632897, 'weight_30': 9.507984150260937, 'n_neighbors': 40, 'weights': 'uniform'}. Best is trial 42 with value: 0.691462818111989.\n",
            "[I 2024-11-15 15:46:57,580] Trial 47 finished with value: 0.6421140698110436 and parameters: {'weight_0': 6.71557014408758, 'weight_1': 8.592313016972216, 'weight_2': 8.154558954897308, 'weight_3': 8.5318508052496, 'weight_4': 4.21249654851563, 'weight_5': 4.594447601813399, 'weight_6': 9.87227363118576, 'weight_7': 2.37463070040001, 'weight_8': 7.760071883680321, 'weight_9': 9.994352747663065, 'weight_10': 8.984979354117932, 'weight_11': 0.10260635899884742, 'weight_12': 3.5087901946584847, 'weight_13': 5.5271726378874035, 'weight_14': 6.739163225853845, 'weight_15': 8.783799665089623, 'weight_16': 2.920092249989408, 'weight_17': 5.682460230843605, 'weight_18': 1.970840107233804, 'weight_19': 1.782645968680393, 'weight_20': 7.125244647575538, 'weight_21': 0.7974546186236817, 'weight_22': 0.8648098433161939, 'weight_23': 8.163932055723103, 'weight_24': 7.501223918977367, 'weight_25': 6.367081226049166, 'weight_26': 0.1664712584551773, 'weight_27': 2.7365753608359533, 'weight_28': 4.8015433176072815, 'weight_29': 6.069132264450748, 'weight_30': 9.16981458374676, 'n_neighbors': 17, 'weights': 'uniform'}. Best is trial 42 with value: 0.691462818111989.\n",
            "[I 2024-11-15 15:46:58,009] Trial 48 finished with value: 0.6526306608316653 and parameters: {'weight_0': 7.122364198530014, 'weight_1': 6.761173996829875, 'weight_2': 9.275785844939172, 'weight_3': 3.8963740929173327, 'weight_4': 5.794530052330311, 'weight_5': 6.251428276308131, 'weight_6': 9.38663866859389, 'weight_7': 4.376257248774966, 'weight_8': 9.306103472628424, 'weight_9': 8.802208258202965, 'weight_10': 9.511552701115038, 'weight_11': 0.5885445016836861, 'weight_12': 1.8495070511122722, 'weight_13': 7.433288653509841, 'weight_14': 9.24225257833578, 'weight_15': 6.996620118324024, 'weight_16': 2.060434304317165, 'weight_17': 2.5562645180877563, 'weight_18': 3.0875877468086634, 'weight_19': 0.8691716790187113, 'weight_20': 6.524194602134348, 'weight_21': 3.983901036488433, 'weight_22': 2.02595514369378, 'weight_23': 7.575992131905875, 'weight_24': 8.543373447756347, 'weight_25': 4.3968170347209705, 'weight_26': 1.4475377401549088, 'weight_27': 0.6418542821207968, 'weight_28': 7.305647419211736, 'weight_29': 7.045741900177951, 'weight_30': 8.532388409873882, 'n_neighbors': 31, 'weights': 'distance'}. Best is trial 42 with value: 0.691462818111989.\n",
            "[I 2024-11-15 15:46:58,623] Trial 49 finished with value: 0.6942883890197401 and parameters: {'weight_0': 7.6780027122374666, 'weight_1': 7.8873738093710255, 'weight_2': 9.836065255435331, 'weight_3': 4.711557961743522, 'weight_4': 4.934296744532647, 'weight_5': 7.1888353760140316, 'weight_6': 7.09997875254288, 'weight_7': 5.363423032524132, 'weight_8': 9.375022807672428, 'weight_9': 7.863606096406834, 'weight_10': 7.417127398999584, 'weight_11': 1.29097697542426, 'weight_12': 5.466626545108609, 'weight_13': 5.238206828139189, 'weight_14': 7.247586707470327, 'weight_15': 4.317280524305057, 'weight_16': 0.9663556972881979, 'weight_17': 4.886369861755117, 'weight_18': 4.112520510544045, 'weight_19': 2.0590384659004934, 'weight_20': 5.17980591569097, 'weight_21': 3.012829956011993, 'weight_22': 2.779574831678691, 'weight_23': 6.418660676234904, 'weight_24': 6.418324810631474, 'weight_25': 5.294005145166453, 'weight_26': 2.282108336745447, 'weight_27': 1.7672867185599797, 'weight_28': 7.9505642809938335, 'weight_29': 8.023344512319413, 'weight_30': 9.740168828956508, 'n_neighbors': 23, 'weights': 'uniform'}. Best is trial 49 with value: 0.6942883890197401.\n",
            "[I 2024-11-15 15:46:59,071] Trial 50 finished with value: 0.676087631900809 and parameters: {'weight_0': 7.624170258905094, 'weight_1': 8.074973705550052, 'weight_2': 9.940444174695267, 'weight_3': 4.69321276245228, 'weight_4': 4.766869987102796, 'weight_5': 9.840217202195422, 'weight_6': 7.3478793906994255, 'weight_7': 5.246883670320679, 'weight_8': 9.757088133452406, 'weight_9': 7.349570396023786, 'weight_10': 6.792652768397722, 'weight_11': 1.3452999594272574, 'weight_12': 5.302203698572429, 'weight_13': 5.271260413355681, 'weight_14': 8.337314370591239, 'weight_15': 4.394959109329865, 'weight_16': 1.0662061594003458, 'weight_17': 4.934011320600339, 'weight_18': 3.9489635274592843, 'weight_19': 2.030215043491456, 'weight_20': 5.1596148033656934, 'weight_21': 2.974212054300712, 'weight_22': 1.2841891948496138, 'weight_23': 6.51083016373145, 'weight_24': 6.274585299461667, 'weight_25': 5.50061282204908, 'weight_26': 2.3195990635416437, 'weight_27': 2.177507200548953, 'weight_28': 7.916582631208519, 'weight_29': 8.165006483159425, 'weight_30': 9.858379819640597, 'n_neighbors': 24, 'weights': 'distance'}. Best is trial 49 with value: 0.6942883890197401.\n",
            "[I 2024-11-15 15:46:59,506] Trial 51 finished with value: 0.6748195274511065 and parameters: {'weight_0': 7.625507293747919, 'weight_1': 8.059126738571498, 'weight_2': 9.89823820324261, 'weight_3': 4.469685132838985, 'weight_4': 5.028649045985723, 'weight_5': 9.530732162642078, 'weight_6': 8.346433967784007, 'weight_7': 5.09718867121346, 'weight_8': 9.497915129162617, 'weight_9': 7.416977063415984, 'weight_10': 6.837753620918718, 'weight_11': 1.2526550735911908, 'weight_12': 6.586891436161334, 'weight_13': 5.312103867758279, 'weight_14': 8.123296974650325, 'weight_15': 4.386448411310878, 'weight_16': 0.6826372215371226, 'weight_17': 4.991057012095627, 'weight_18': 4.369882859466444, 'weight_19': 2.138982140131418, 'weight_20': 5.135227946900526, 'weight_21': 2.832083265233921, 'weight_22': 1.184913211234266, 'weight_23': 6.4275747745463665, 'weight_24': 6.238027579594216, 'weight_25': 5.382165476806604, 'weight_26': 2.209458317426457, 'weight_27': 1.8277208060544379, 'weight_28': 7.948552651977716, 'weight_29': 9.32174533041888, 'weight_30': 9.764877894473415, 'n_neighbors': 23, 'weights': 'distance'}. Best is trial 49 with value: 0.6942883890197401.\n",
            "[I 2024-11-15 15:46:59,939] Trial 52 finished with value: 0.6787185856953298 and parameters: {'weight_0': 7.62326010729919, 'weight_1': 9.112592883878378, 'weight_2': 9.913117470332281, 'weight_3': 5.723475168923192, 'weight_4': 4.729270474271578, 'weight_5': 9.904748713199917, 'weight_6': 7.3368629967517816, 'weight_7': 5.446625630254051, 'weight_8': 9.804577394607312, 'weight_9': 7.266517180915019, 'weight_10': 6.749805943372756, 'weight_11': 1.4257290102597682, 'weight_12': 6.882837295502713, 'weight_13': 4.481747494681783, 'weight_14': 9.203232169197923, 'weight_15': 4.461793033203048, 'weight_16': 0.7998178123806357, 'weight_17': 6.497744975342761, 'weight_18': 3.869742608852425, 'weight_19': 2.172856294846099, 'weight_20': 5.269856050463745, 'weight_21': 2.8072720049598474, 'weight_22': 0.4814115330235922, 'weight_23': 6.759353789281196, 'weight_24': 6.136329880409304, 'weight_25': 6.046454672141284, 'weight_26': 2.278034850043017, 'weight_27': 2.2355562960980446, 'weight_28': 7.9636184970797075, 'weight_29': 7.969043792485001, 'weight_30': 9.804335085067173, 'n_neighbors': 23, 'weights': 'distance'}. Best is trial 49 with value: 0.6942883890197401.\n",
            "[I 2024-11-15 15:47:00,401] Trial 53 finished with value: 0.6628617748383412 and parameters: {'weight_0': 7.679534158323561, 'weight_1': 9.007517443064218, 'weight_2': 9.983317821056975, 'weight_3': 4.632723641535343, 'weight_4': 4.803948011257516, 'weight_5': 9.998896573216054, 'weight_6': 7.1197368272029, 'weight_7': 5.171138737308718, 'weight_8': 9.571685199985817, 'weight_9': 7.149657151548827, 'weight_10': 6.75354714340219, 'weight_11': 2.290753345035915, 'weight_12': 6.700142029012989, 'weight_13': 4.64658912657768, 'weight_14': 9.19042531252033, 'weight_15': 4.275316174063879, 'weight_16': 0.7785385310677158, 'weight_17': 6.789079657591257, 'weight_18': 4.0210796364320505, 'weight_19': 2.0606524125955374, 'weight_20': 5.019736140421268, 'weight_21': 2.887488249787208, 'weight_22': 0.20184936407341825, 'weight_23': 9.924766965084302, 'weight_24': 6.183507061651001, 'weight_25': 6.0273215642785365, 'weight_26': 2.1851114687935045, 'weight_27': 2.2455633281790854, 'weight_28': 7.9140043593097555, 'weight_29': 9.403700975057736, 'weight_30': 9.598429284015833, 'n_neighbors': 24, 'weights': 'distance'}. Best is trial 49 with value: 0.6942883890197401.\n",
            "[I 2024-11-15 15:47:00,664] Trial 54 finished with value: 0.676410028185729 and parameters: {'weight_0': 8.303636243985629, 'weight_1': 8.177014123460362, 'weight_2': 9.64489132922259, 'weight_3': 6.005272767817802, 'weight_4': 4.2210161870679705, 'weight_5': 9.909689884466214, 'weight_6': 8.296707893325863, 'weight_7': 4.941329812236842, 'weight_8': 9.62558354562914, 'weight_9': 6.597466632293297, 'weight_10': 7.545369889508513, 'weight_11': 1.4898024937801988, 'weight_12': 5.4331876215963995, 'weight_13': 3.982278756179761, 'weight_14': 9.59322318144766, 'weight_15': 4.595242026852371, 'weight_16': 0.9221921878086781, 'weight_17': 6.222649370707904, 'weight_18': 3.472807710768808, 'weight_19': 3.8040576328613804, 'weight_20': 4.536548001765446, 'weight_21': 2.256830465357017, 'weight_22': 0.6474655120552135, 'weight_23': 6.7765567600654855, 'weight_24': 6.827469110828958, 'weight_25': 4.781337301526561, 'weight_26': 2.282909925835211, 'weight_27': 2.8032843002744303, 'weight_28': 7.431906744036929, 'weight_29': 8.009246505812387, 'weight_30': 9.157041986061152, 'n_neighbors': 18, 'weights': 'distance'}. Best is trial 49 with value: 0.6942883890197401.\n",
            "[I 2024-11-15 15:47:00,948] Trial 55 finished with value: 0.6663474569448559 and parameters: {'weight_0': 8.719229074843451, 'weight_1': 7.984755213814455, 'weight_2': 9.540606046618624, 'weight_3': 6.6594653208238, 'weight_4': 6.132619009255594, 'weight_5': 9.977479999432163, 'weight_6': 8.326209022305035, 'weight_7': 5.205461037037358, 'weight_8': 9.488644395624213, 'weight_9': 6.416071961337768, 'weight_10': 5.769180795380224, 'weight_11': 1.6723881286377076, 'weight_12': 5.447042409056189, 'weight_13': 3.5925864261281486, 'weight_14': 9.621352136676006, 'weight_15': 4.53177233906788, 'weight_16': 1.1704898528193106, 'weight_17': 6.244691665250913, 'weight_18': 3.5577242751794724, 'weight_19': 3.4980769992708716, 'weight_20': 4.5085881384140265, 'weight_21': 1.8721030039450288, 'weight_22': 0.736198026251216, 'weight_23': 6.773502171666778, 'weight_24': 6.621048643101801, 'weight_25': 4.668591743695558, 'weight_26': 2.8615278592005544, 'weight_27': 2.8976077958722493, 'weight_28': 6.650841117859001, 'weight_29': 7.903244165961828, 'weight_30': 9.1578067839827, 'n_neighbors': 21, 'weights': 'distance'}. Best is trial 49 with value: 0.6942883890197401.\n",
            "[I 2024-11-15 15:47:01,231] Trial 56 finished with value: 0.6610788610570922 and parameters: {'weight_0': 8.38594190388815, 'weight_1': 9.268057756616574, 'weight_2': 8.875537181750115, 'weight_3': 5.704846193887105, 'weight_4': 4.13394101825239, 'weight_5': 9.480396979684517, 'weight_6': 7.467347090066561, 'weight_7': 4.762756766029218, 'weight_8': 9.914474455117052, 'weight_9': 5.750084365967171, 'weight_10': 7.505684004094157, 'weight_11': 2.541698636704047, 'weight_12': 7.283794442376458, 'weight_13': 4.072623993831285, 'weight_14': 8.996389689618079, 'weight_15': 3.971499797715413, 'weight_16': 0.48060558885731225, 'weight_17': 7.40771831916561, 'weight_18': 4.335760410334439, 'weight_19': 3.272025769344353, 'weight_20': 4.3394498265428645, 'weight_21': 2.415226313827024, 'weight_22': 1.174435437731261, 'weight_23': 7.361057358801071, 'weight_24': 5.860699581552824, 'weight_25': 3.67840283219505, 'weight_26': 1.4111673800393363, 'weight_27': 3.6770615812899767, 'weight_28': 7.409742343038885, 'weight_29': 8.800726820016584, 'weight_30': 7.957244252948213, 'n_neighbors': 17, 'weights': 'distance'}. Best is trial 49 with value: 0.6942883890197401.\n",
            "[I 2024-11-15 15:47:01,522] Trial 57 finished with value: 0.665069730516486 and parameters: {'weight_0': 6.3627041580993735, 'weight_1': 9.94290679609118, 'weight_2': 9.591830567726195, 'weight_3': 4.814712364226286, 'weight_4': 4.46771119879453, 'weight_5': 8.699015114412203, 'weight_6': 8.444205040486638, 'weight_7': 3.962840579953484, 'weight_8': 9.665104827669929, 'weight_9': 7.1652552088646075, 'weight_10': 6.78803967842489, 'weight_11': 1.8060217474178732, 'weight_12': 6.540657528576653, 'weight_13': 4.507600995776767, 'weight_14': 9.924732054708343, 'weight_15': 4.999969098578301, 'weight_16': 1.3613411069250099, 'weight_17': 5.738647258494943, 'weight_18': 3.0206800098283453, 'weight_19': 3.9459646015235004, 'weight_20': 4.922708736142382, 'weight_21': 3.070504893386761, 'weight_22': 0.665552397917316, 'weight_23': 8.288588438773008, 'weight_24': 7.183134413293018, 'weight_25': 6.080269821813935, 'weight_26': 2.488979861768745, 'weight_27': 1.0524585371615234, 'weight_28': 8.493977901989156, 'weight_29': 7.9934154389492225, 'weight_30': 9.764282397428394, 'n_neighbors': 38, 'weights': 'distance'}. Best is trial 49 with value: 0.6942883890197401.\n",
            "[I 2024-11-15 15:47:01,810] Trial 58 finished with value: 0.6524843657373779 and parameters: {'weight_0': 8.259858312181992, 'weight_1': 8.111549773272959, 'weight_2': 7.9890005648917475, 'weight_3': 6.275057202986383, 'weight_4': 6.877154803889978, 'weight_5': 9.44838788802378, 'weight_6': 9.137197604257661, 'weight_7': 5.485909050783519, 'weight_8': 8.463018612311014, 'weight_9': 6.394539985834976, 'weight_10': 5.707724979058931, 'weight_11': 1.4841477810161412, 'weight_12': 5.202537204486296, 'weight_13': 3.2352937969421305, 'weight_14': 7.968541505472254, 'weight_15': 4.247152084805585, 'weight_16': 0.6091504075059393, 'weight_17': 5.478177393290944, 'weight_18': 3.7847803587546034, 'weight_19': 2.2927128151801073, 'weight_20': 6.852612557722571, 'weight_21': 2.5806049378016387, 'weight_22': 0.3601543280879751, 'weight_23': 8.715851776083314, 'weight_24': 6.432910187860624, 'weight_25': 6.873782538386884, 'weight_26': 3.5726357420508585, 'weight_27': 2.3226929562801857, 'weight_28': 6.081188329589616, 'weight_29': 8.666243561529408, 'weight_30': 9.105952738845847, 'n_neighbors': 35, 'weights': 'distance'}. Best is trial 49 with value: 0.6942883890197401.\n",
            "[I 2024-11-15 15:47:02,080] Trial 59 finished with value: 0.6738245791548825 and parameters: {'weight_0': 7.452443807118556, 'weight_1': 7.224313851359776, 'weight_2': 8.844528850826133, 'weight_3': 7.281229341653394, 'weight_4': 5.927329977288214, 'weight_5': 9.021694990633751, 'weight_6': 7.438935382672195, 'weight_7': 4.852071656834362, 'weight_8': 9.999424060626495, 'weight_9': 7.784917341913152, 'weight_10': 4.968571384442443, 'weight_11': 3.220035404265157, 'weight_12': 7.975131727544036, 'weight_13': 5.408434527972456, 'weight_14': 8.907648415647651, 'weight_15': 4.567993589620986, 'weight_16': 1.532673589313363, 'weight_17': 6.520210733713961, 'weight_18': 4.72189648469302, 'weight_19': 2.989613316562974, 'weight_20': 5.270530695913602, 'weight_21': 1.5988525835917617, 'weight_22': 1.1226991123066237, 'weight_23': 6.265209003412161, 'weight_24': 5.669219037966856, 'weight_25': 4.758416261015941, 'weight_26': 1.8497743203229913, 'weight_27': 2.6552997456980445, 'weight_28': 8.99517548632224, 'weight_29': 9.048062654248335, 'weight_30': 8.989593912563352, 'n_neighbors': 13, 'weights': 'distance'}. Best is trial 49 with value: 0.6942883890197401.\n",
            "[I 2024-11-15 15:47:02,348] Trial 60 finished with value: 0.6375248427325162 and parameters: {'weight_0': 7.374319070520744, 'weight_1': 8.894829705149185, 'weight_2': 9.894690031014452, 'weight_3': 5.098519760179195, 'weight_4': 4.9513074718110675, 'weight_5': 9.726559208386742, 'weight_6': 8.178062576272424, 'weight_7': 4.260956536157215, 'weight_8': 0.20219066557587695, 'weight_9': 5.010398823417926, 'weight_10': 6.698581321562228, 'weight_11': 1.9832452344956857, 'weight_12': 6.27874393124107, 'weight_13': 3.8263405422282384, 'weight_14': 8.556568401429718, 'weight_15': 5.151488335521236, 'weight_16': 0.892809998932128, 'weight_17': 6.057402429058866, 'weight_18': 2.2987803813282186, 'weight_19': 2.5969279333598694, 'weight_20': 6.247131977374857, 'weight_21': 4.419251195015405, 'weight_22': 2.442783267039362, 'weight_23': 5.480335557564514, 'weight_24': 4.824413136212941, 'weight_25': 4.267491205028778, 'weight_26': 3.437102965496833, 'weight_27': 1.9702551356013454, 'weight_28': 6.71567610638574, 'weight_29': 8.420136200353692, 'weight_30': 7.921707568054472, 'n_neighbors': 22, 'weights': 'distance'}. Best is trial 49 with value: 0.6942883890197401.\n",
            "[I 2024-11-15 15:47:02,621] Trial 61 finished with value: 0.6816356106735837 and parameters: {'weight_0': 7.832017699537238, 'weight_1': 8.130985178294843, 'weight_2': 9.581023540085958, 'weight_3': 5.593588991356809, 'weight_4': 5.113709807297575, 'weight_5': 8.778270817392759, 'weight_6': 6.922976220252092, 'weight_7': 3.5958261071383326, 'weight_8': 9.447919602587511, 'weight_9': 6.812320060681718, 'weight_10': 7.854456497800577, 'weight_11': 1.180217424335716, 'weight_12': 5.707180979632564, 'weight_13': 6.375111814593846, 'weight_14': 7.31953418960338, 'weight_15': 5.228378578051638, 'weight_16': 2.1719783575112404, 'weight_17': 4.921972124398386, 'weight_18': 3.9220232553549548, 'weight_19': 1.881183699486011, 'weight_20': 5.629068563278412, 'weight_21': 3.3259661529617484, 'weight_22': 0.6087932497399802, 'weight_23': 6.683928480226457, 'weight_24': 6.8618874827126675, 'weight_25': 5.4551815624090425, 'weight_26': 2.185258889135832, 'weight_27': 1.6159897590886336, 'weight_28': 7.944088487846569, 'weight_29': 9.542655691859991, 'weight_30': 9.416697430882019, 'n_neighbors': 17, 'weights': 'distance'}. Best is trial 49 with value: 0.6942883890197401.\n",
            "[I 2024-11-15 15:47:02,898] Trial 62 finished with value: 0.6809526629788881 and parameters: {'weight_0': 9.105291658042045, 'weight_1': 8.317578033071134, 'weight_2': 9.35307769337571, 'weight_3': 5.508389664324343, 'weight_4': 4.07921257904749, 'weight_5': 9.267779721215007, 'weight_6': 7.032782274861093, 'weight_7': 3.674465906214288, 'weight_8': 9.360613520715914, 'weight_9': 6.869857746846803, 'weight_10': 7.322241946740345, 'weight_11': 0.9727559261187253, 'weight_12': 7.207449093587745, 'weight_13': 6.427231985119132, 'weight_14': 7.411790424644753, 'weight_15': 4.980456463300131, 'weight_16': 2.1656299181419065, 'weight_17': 4.987599882741488, 'weight_18': 3.43268510304632, 'weight_19': 1.7944307406475808, 'weight_20': 4.816143035124638, 'weight_21': 2.2140903988312512, 'weight_22': 0.4852260761478495, 'weight_23': 6.674088607174918, 'weight_24': 6.949165577452498, 'weight_25': 5.599244363842282, 'weight_26': 1.0886868556783058, 'weight_27': 0.7550128991453453, 'weight_28': 7.825041132735321, 'weight_29': 9.529415852693422, 'weight_30': 9.651961290066582, 'n_neighbors': 17, 'weights': 'distance'}. Best is trial 49 with value: 0.6942883890197401.\n",
            "[I 2024-11-15 15:47:03,177] Trial 63 finished with value: 0.6721531394891959 and parameters: {'weight_0': 9.125885877602572, 'weight_1': 9.507488232493833, 'weight_2': 9.089802426598027, 'weight_3': 5.682110306672883, 'weight_4': 3.875607528215497, 'weight_5': 8.677388286116672, 'weight_6': 6.870384305024715, 'weight_7': 3.4883499574911534, 'weight_8': 9.203831394202656, 'weight_9': 6.693444872364514, 'weight_10': 7.4002968830286635, 'weight_11': 2.591859545527073, 'weight_12': 7.1564938834925185, 'weight_13': 6.359728090987162, 'weight_14': 9.152729974765766, 'weight_15': 6.5385070716517255, 'weight_16': 2.1830483497512683, 'weight_17': 7.070646084088975, 'weight_18': 3.844808178089917, 'weight_19': 1.7478955861885646, 'weight_20': 5.517652305116734, 'weight_21': 2.100837533285016, 'weight_22': 0.5292508979927147, 'weight_23': 6.866658723571648, 'weight_24': 6.963482043562986, 'weight_25': 5.763451930296196, 'weight_26': 1.0450169744679072, 'weight_27': 0.7494937361265746, 'weight_28': 7.453431577977124, 'weight_29': 9.978746466111748, 'weight_30': 9.335791233088186, 'n_neighbors': 17, 'weights': 'distance'}. Best is trial 49 with value: 0.6942883890197401.\n",
            "[I 2024-11-15 15:47:03,453] Trial 64 finished with value: 0.6640851235977875 and parameters: {'weight_0': 8.353611626434759, 'weight_1': 8.546645406097104, 'weight_2': 9.516952774976083, 'weight_3': 6.229228328747759, 'weight_4': 4.595215073576382, 'weight_5': 8.013262740328722, 'weight_6': 6.333445309946386, 'weight_7': 3.658195312091555, 'weight_8': 8.513459088487656, 'weight_9': 6.004762586651516, 'weight_10': 7.806455980722699, 'weight_11': 1.0681478536012083, 'weight_12': 5.731437969086353, 'weight_13': 5.817890587898413, 'weight_14': 7.385309687369405, 'weight_15': 4.91503545088969, 'weight_16': 1.347709328485795, 'weight_17': 6.646835513253505, 'weight_18': 3.3870904414559497, 'weight_19': 1.5052665777904943, 'weight_20': 4.686701019357961, 'weight_21': 3.304434443140295, 'weight_22': 0.9321953672018303, 'weight_23': 7.378767615323113, 'weight_24': 7.563573582647714, 'weight_25': 5.062133760433999, 'weight_26': 1.6110373611660016, 'weight_27': 0.23097529366407965, 'weight_28': 8.310129345511392, 'weight_29': 9.455659603563554, 'weight_30': 8.505501869497866, 'n_neighbors': 27, 'weights': 'distance'}. Best is trial 49 with value: 0.6942883890197401.\n",
            "[I 2024-11-15 15:47:03,721] Trial 65 finished with value: 0.6363947483464808 and parameters: {'weight_0': 8.800505620354802, 'weight_1': 6.468542074455877, 'weight_2': 8.733430692949854, 'weight_3': 6.7453343784675335, 'weight_4': 3.2523680614989567, 'weight_5': 9.21996964928807, 'weight_6': 7.171128726540299, 'weight_7': 4.123398546703718, 'weight_8': 1.5098586950781878, 'weight_9': 6.75451083951446, 'weight_10': 6.0079390087243425, 'weight_11': 1.5028285187232944, 'weight_12': 7.863690529350327, 'weight_13': 6.9802478306104625, 'weight_14': 9.543894092188092, 'weight_15': 4.000152114243209, 'weight_16': 2.229206068966273, 'weight_17': 7.768264924483344, 'weight_18': 2.921257335166512, 'weight_19': 2.792487706357914, 'weight_20': 4.188533495529701, 'weight_21': 2.3224498304924914, 'weight_22': 0.5151585094017611, 'weight_23': 7.8179462859986275, 'weight_24': 6.791945554494138, 'weight_25': 6.257328745932321, 'weight_26': 0.5326690588068528, 'weight_27': 2.345387778996165, 'weight_28': 7.7047411089343845, 'weight_29': 9.61623579811321, 'weight_30': 8.85531814475172, 'n_neighbors': 12, 'weights': 'distance'}. Best is trial 49 with value: 0.6942883890197401.\n",
            "[I 2024-11-15 15:47:03,982] Trial 66 finished with value: 0.6626842150097965 and parameters: {'weight_0': 8.099207659311137, 'weight_1': 8.228479247833715, 'weight_2': 9.366739698466272, 'weight_3': 7.600023140173113, 'weight_4': 4.215196879001617, 'weight_5': 8.76787062692781, 'weight_6': 7.731048597155255, 'weight_7': 4.721037855075338, 'weight_8': 9.686327898249166, 'weight_9': 8.179511580010523, 'weight_10': 7.115584975940242, 'weight_11': 7.649413628527839, 'weight_12': 5.097486950891982, 'weight_13': 6.629501213447739, 'weight_14': 8.424242683017, 'weight_15': 3.3749956351182013, 'weight_16': 0.2970392580603023, 'weight_17': 6.216013057606723, 'weight_18': 3.3446524763318943, 'weight_19': 3.8363593906580746, 'weight_20': 6.170703423669394, 'weight_21': 1.8617707592076345, 'weight_22': 1.926605136411079, 'weight_23': 7.118022791219606, 'weight_24': 7.301997051464423, 'weight_25': 6.560385128411399, 'weight_26': 1.1779671909284888, 'weight_27': 1.0747871515584677, 'weight_28': 7.106254546796078, 'weight_29': 7.965651448450037, 'weight_30': 9.999506302896597, 'n_neighbors': 4, 'weights': 'distance'}. Best is trial 49 with value: 0.6942883890197401.\n",
            "[I 2024-11-15 15:47:04,266] Trial 67 finished with value: 0.6885217941712144 and parameters: {'weight_0': 8.562243778629812, 'weight_1': 7.0998831291105935, 'weight_2': 8.377962973385392, 'weight_3': 5.389734909526905, 'weight_4': 5.382392447117069, 'weight_5': 9.721847659457675, 'weight_6': 6.766328851136676, 'weight_7': 5.996431623169179, 'weight_8': 8.917257830345136, 'weight_9': 7.187692219655727, 'weight_10': 6.422958558281319, 'weight_11': 3.562748803490277, 'weight_12': 6.1439100297044735, 'weight_13': 2.7032697913104835, 'weight_14': 7.797189512292324, 'weight_15': 5.084981491737611, 'weight_16': 1.9640286077704157, 'weight_17': 5.070532389956914, 'weight_18': 4.835504044019806, 'weight_19': 4.801982011721623, 'weight_20': 7.527845054045585, 'weight_21': 1.1785009161119906, 'weight_22': 0.810287024933898, 'weight_23': 6.615114812217556, 'weight_24': 5.956160680419367, 'weight_25': 2.810315433081269, 'weight_26': 2.0112581580780167, 'weight_27': 2.9949555966252355, 'weight_28': 8.447988852968829, 'weight_29': 7.691951370757972, 'weight_30': 9.300884301804285, 'n_neighbors': 18, 'weights': 'distance'}. Best is trial 49 with value: 0.6942883890197401.\n",
            "[I 2024-11-15 15:47:04,538] Trial 68 finished with value: 0.6857731910999919 and parameters: {'weight_0': 9.045901960156778, 'weight_1': 6.977305404808731, 'weight_2': 8.405700390476142, 'weight_3': 5.4071710520028615, 'weight_4': 5.33133712577869, 'weight_5': 9.299261480295437, 'weight_6': 6.744484716086147, 'weight_7': 6.362828791514949, 'weight_8': 8.993452760284125, 'weight_9': 7.785395021533145, 'weight_10': 5.283934022447177, 'weight_11': 2.458863100197385, 'weight_12': 6.022307798588038, 'weight_13': 2.228067650428254, 'weight_14': 6.844128553657782, 'weight_15': 5.757643115643932, 'weight_16': 1.6936967556927283, 'weight_17': 5.913605937490527, 'weight_18': 4.917145599796218, 'weight_19': 4.687954480712798, 'weight_20': 7.515104123938711, 'weight_21': 1.0230396891211495, 'weight_22': 0.10223949281538797, 'weight_23': 6.137813232543636, 'weight_24': 5.9120202654532585, 'weight_25': 2.8329327309998753, 'weight_26': 2.979098397222894, 'weight_27': 3.9217577635204974, 'weight_28': 9.72473580370463, 'weight_29': 7.564343010392793, 'weight_30': 9.19549650306545, 'n_neighbors': 16, 'weights': 'distance'}. Best is trial 49 with value: 0.6942883890197401.\n",
            "[I 2024-11-15 15:47:04,814] Trial 69 finished with value: 0.6792390420853213 and parameters: {'weight_0': 9.728891979229164, 'weight_1': 7.0906622994660635, 'weight_2': 7.215494386627207, 'weight_3': 5.506380999180633, 'weight_4': 5.355148327454643, 'weight_5': 8.412146956467087, 'weight_6': 6.808367732246849, 'weight_7': 6.409368984240392, 'weight_8': 8.948373774040528, 'weight_9': 7.762852300581873, 'weight_10': 5.444756868618932, 'weight_11': 3.7444111709141485, 'weight_12': 7.657112491747553, 'weight_13': 2.2748921083136318, 'weight_14': 6.778167323982279, 'weight_15': 6.1755112884412116, 'weight_16': 1.9745075456564471, 'weight_17': 5.383381374939903, 'weight_18': 5.308237668526424, 'weight_19': 4.675055163790746, 'weight_20': 7.582668080915575, 'weight_21': 1.1720930667668337, 'weight_22': 0.2582028703542667, 'weight_23': 5.943469092180735, 'weight_24': 5.440953112367399, 'weight_25': 2.8848354995686614, 'weight_26': 1.9754004688996498, 'weight_27': 9.881451341518357, 'weight_28': 9.795381527376803, 'weight_29': 6.9080114555281735, 'weight_30': 8.442113222453909, 'n_neighbors': 15, 'weights': 'distance'}. Best is trial 49 with value: 0.6942883890197401.\n",
            "[I 2024-11-15 15:47:05,080] Trial 70 finished with value: 0.6814952110659499 and parameters: {'weight_0': 9.062085886917112, 'weight_1': 7.092469202246216, 'weight_2': 7.503958354081196, 'weight_3': 5.43431363697946, 'weight_4': 6.271897945313131, 'weight_5': 7.859813675088308, 'weight_6': 6.069960970529738, 'weight_7': 6.476428003310357, 'weight_8': 7.619394701816175, 'weight_9': 7.803920309898789, 'weight_10': 5.299909321998336, 'weight_11': 3.607664722528382, 'weight_12': 8.872635553504029, 'weight_13': 2.591806937994438, 'weight_14': 6.840427538344343, 'weight_15': 6.188421363229245, 'weight_16': 3.3068671547342725, 'weight_17': 5.443515964045903, 'weight_18': 4.869896767141679, 'weight_19': 4.567601729856675, 'weight_20': 7.928714956459288, 'weight_21': 1.2098250869508016, 'weight_22': 0.1801268833990135, 'weight_23': 6.088157734350491, 'weight_24': 5.474219572672265, 'weight_25': 2.7568914612991753, 'weight_26': 1.9444610947582002, 'weight_27': 9.609579727836438, 'weight_28': 9.777978917435707, 'weight_29': 7.617952236360081, 'weight_30': 7.753849461992457, 'n_neighbors': 15, 'weights': 'distance'}. Best is trial 49 with value: 0.6942883890197401.\n",
            "[I 2024-11-15 15:47:05,352] Trial 71 finished with value: 0.6611195045977655 and parameters: {'weight_0': 9.151546013100194, 'weight_1': 7.256576413353855, 'weight_2': 7.188652914961705, 'weight_3': 5.377731779343106, 'weight_4': 6.406867164149604, 'weight_5': 8.263857083277689, 'weight_6': 6.741126387374039, 'weight_7': 6.4189479146494515, 'weight_8': 7.591622744329717, 'weight_9': 7.704499013443503, 'weight_10': 5.264428122571746, 'weight_11': 3.9785305885344373, 'weight_12': 8.93123737568074, 'weight_13': 2.294388438436497, 'weight_14': 6.8673940288208755, 'weight_15': 6.393962488382503, 'weight_16': 3.2606767034036617, 'weight_17': 5.626379821994311, 'weight_18': 4.856706080586984, 'weight_19': 4.759096887389174, 'weight_20': 8.035186048884722, 'weight_21': 1.1796490158179618, 'weight_22': 0.11379562952222402, 'weight_23': 6.142684908880418, 'weight_24': 5.875054280093516, 'weight_25': 2.7260278434350504, 'weight_26': 2.859571550030711, 'weight_27': 9.644178916514953, 'weight_28': 9.705544992573339, 'weight_29': 6.822889727656829, 'weight_30': 8.278889576032647, 'n_neighbors': 5, 'weights': 'distance'}. Best is trial 49 with value: 0.6942883890197401.\n",
            "[I 2024-11-15 15:47:05,618] Trial 72 finished with value: 0.6683093851459879 and parameters: {'weight_0': 9.681177006359194, 'weight_1': 6.853262284624962, 'weight_2': 7.875645096383029, 'weight_3': 5.028053478922997, 'weight_4': 5.355827791924786, 'weight_5': 7.724237764223519, 'weight_6': 6.1748026236516225, 'weight_7': 7.47681870819248, 'weight_8': 8.902384012965928, 'weight_9': 8.292524418034496, 'weight_10': 4.362101633055869, 'weight_11': 3.6159725155332922, 'weight_12': 8.653291806603146, 'weight_13': 2.5982446653297235, 'weight_14': 7.318673919407824, 'weight_15': 6.796922477566413, 'weight_16': 2.4924941952175366, 'weight_17': 5.229147836701861, 'weight_18': 9.932519047995331, 'weight_19': 4.344656510199425, 'weight_20': 7.411441483536749, 'weight_21': 0.6119336131534235, 'weight_22': 0.8864978522793447, 'weight_23': 6.1010721166845165, 'weight_24': 5.460864300451829, 'weight_25': 1.878851217376123, 'weight_26': 1.8860776245160142, 'weight_27': 9.99054573818666, 'weight_28': 9.474291852424782, 'weight_29': 7.650044286269932, 'weight_30': 7.682856062051343, 'n_neighbors': 15, 'weights': 'distance'}. Best is trial 49 with value: 0.6942883890197401.\n",
            "[I 2024-11-15 15:47:05,891] Trial 73 finished with value: 0.6692809045036516 and parameters: {'weight_0': 8.958070772707545, 'weight_1': 7.727158741646885, 'weight_2': 8.236963428748869, 'weight_3': 4.211480712477667, 'weight_4': 5.71252783553733, 'weight_5': 8.487468634717631, 'weight_6': 6.1404299349007, 'weight_7': 6.64160029476063, 'weight_8': 8.655840308483768, 'weight_9': 7.962537453512741, 'weight_10': 4.645528978660924, 'weight_11': 3.481676624207002, 'weight_12': 9.732670417389219, 'weight_13': 1.673403249096963, 'weight_14': 7.787572674601124, 'weight_15': 5.648218815028249, 'weight_16': 1.8024029138366537, 'weight_17': 5.891993878991012, 'weight_18': 5.159097309766524, 'weight_19': 5.440035503973981, 'weight_20': 9.46895399644101, 'weight_21': 0.1310550480264071, 'weight_22': 0.10620600282911591, 'weight_23': 5.273189922754385, 'weight_24': 4.973211768480524, 'weight_25': 2.7698495020116756, 'weight_26': 0.7504631784672595, 'weight_27': 8.976585340234942, 'weight_28': 9.186126033432446, 'weight_29': 7.4133919165026905, 'weight_30': 8.775965645090153, 'n_neighbors': 14, 'weights': 'distance'}. Best is trial 49 with value: 0.6942883890197401.\n",
            "[I 2024-11-15 15:47:06,158] Trial 74 finished with value: 0.6756896735048071 and parameters: {'weight_0': 9.741091717897827, 'weight_1': 7.083210251288742, 'weight_2': 7.4110399884599145, 'weight_3': 6.412265929441896, 'weight_4': 6.0910907531959815, 'weight_5': 8.875041176240067, 'weight_6': 6.571429988329387, 'weight_7': 5.983138430263148, 'weight_8': 8.274894042596028, 'weight_9': 7.000304135596329, 'weight_10': 5.438362681806275, 'weight_11': 4.364779506343734, 'weight_12': 7.648013858022548, 'weight_13': 2.702118716156166, 'weight_14': 7.127457285547726, 'weight_15': 6.138666872272591, 'weight_16': 2.021315322220473, 'weight_17': 4.575213827595853, 'weight_18': 4.253063452554459, 'weight_19': 4.918523810899531, 'weight_20': 8.806393589431542, 'weight_21': 0.8814407772794743, 'weight_22': 0.8833165518711598, 'weight_23': 7.104902617946459, 'weight_24': 5.769648598865313, 'weight_25': 2.0472926709099806, 'weight_26': 1.9792610256078895, 'weight_27': 8.789680923947083, 'weight_28': 9.977770554568988, 'weight_29': 6.824888894720043, 'weight_30': 9.327076454181913, 'n_neighbors': 11, 'weights': 'distance'}. Best is trial 49 with value: 0.6942883890197401.\n",
            "[I 2024-11-15 15:47:06,441] Trial 75 finished with value: 0.6767244593004488 and parameters: {'weight_0': 8.596911794179773, 'weight_1': 6.543417300415551, 'weight_2': 7.7958117925295705, 'weight_3': 5.495482057405407, 'weight_4': 6.647317512621415, 'weight_5': 8.0344440835776, 'weight_6': 6.931880474774835, 'weight_7': 5.750199572013682, 'weight_8': 9.289226124480203, 'weight_9': 6.132582800229192, 'weight_10': 5.968451715555362, 'weight_11': 2.8491305093751333, 'weight_12': 8.38194133349659, 'weight_13': 2.0111725164261918, 'weight_14': 0.2368781276154026, 'weight_15': 5.1401683983873045, 'weight_16': 2.293765659653391, 'weight_17': 4.127716632624265, 'weight_18': 5.563250603920553, 'weight_19': 4.444591505080701, 'weight_20': 7.647087199425537, 'weight_21': 1.5458530941900266, 'weight_22': 0.3399584895925545, 'weight_23': 5.6262804119764045, 'weight_24': 5.290068480214129, 'weight_25': 1.4015371275665214, 'weight_26': 1.4504131272959868, 'weight_27': 4.320088364888219, 'weight_28': 8.842601623197792, 'weight_29': 8.515094840225007, 'weight_30': 8.457997370665492, 'n_neighbors': 18, 'weights': 'distance'}. Best is trial 49 with value: 0.6942883890197401.\n",
            "[I 2024-11-15 15:47:06,708] Trial 76 finished with value: 0.6554381076007844 and parameters: {'weight_0': 9.34297828579951, 'weight_1': 6.2718344095313165, 'weight_2': 8.535653130172417, 'weight_3': 5.095028736525104, 'weight_4': 5.411141546197744, 'weight_5': 7.2576026301751355, 'weight_6': 5.935402592873589, 'weight_7': 6.212231934628682, 'weight_8': 8.971275704764835, 'weight_9': 7.7807726420644565, 'weight_10': 4.00517699783714, 'weight_11': 4.864484348061511, 'weight_12': 6.224085938011823, 'weight_13': 3.0540775712566104, 'weight_14': 6.093036578349751, 'weight_15': 7.242282757383813, 'weight_16': 1.5898880286222818, 'weight_17': 5.108306675910505, 'weight_18': 4.791600657797989, 'weight_19': 5.904048041338851, 'weight_20': 8.08678803414549, 'weight_21': 0.5355702227682838, 'weight_22': 1.6125130876985252, 'weight_23': 5.950580256715235, 'weight_24': 4.585140518935864, 'weight_25': 2.3961500779759266, 'weight_26': 1.2396331313724058, 'weight_27': 9.42669317200535, 'weight_28': 9.671180678042058, 'weight_29': 7.596982185627095, 'weight_30': 1.9634835876015302, 'n_neighbors': 2, 'weights': 'distance'}. Best is trial 49 with value: 0.6942883890197401.\n",
            "[I 2024-11-15 15:47:06,972] Trial 77 finished with value: 0.6711028223754401 and parameters: {'weight_0': 9.9218650213571, 'weight_1': 5.610747962446185, 'weight_2': 8.223220683242662, 'weight_3': 3.8501086591258504, 'weight_4': 7.719988231087299, 'weight_5': 9.217924068707092, 'weight_6': 6.728956453772437, 'weight_7': 9.955589820786415, 'weight_8': 8.222624572482875, 'weight_9': 6.974369773702558, 'weight_10': 6.365743380954778, 'weight_11': 3.074941554133882, 'weight_12': 5.883634424196276, 'weight_13': 2.1281222523564742, 'weight_14': 7.534505162785737, 'weight_15': 7.650094908479944, 'weight_16': 3.457162136908244, 'weight_17': 5.538402885671149, 'weight_18': 6.306032802347799, 'weight_19': 0.800305904013101, 'weight_20': 8.830998069262144, 'weight_21': 1.2500849617321974, 'weight_22': 1.062003493699553, 'weight_23': 6.605330887615387, 'weight_24': 5.502473959753672, 'weight_25': 3.1176375117407744, 'weight_26': 3.166740384510883, 'weight_27': 3.866861153900708, 'weight_28': 9.270718915859987, 'weight_29': 7.081849864442679, 'weight_30': 7.134900349136945, 'n_neighbors': 11, 'weights': 'distance'}. Best is trial 49 with value: 0.6942883890197401.\n",
            "[I 2024-11-15 15:47:07,249] Trial 78 finished with value: 0.6371032966917379 and parameters: {'weight_0': 9.489641370686646, 'weight_1': 7.754090353244723, 'weight_2': 9.058615477335513, 'weight_3': 4.235573796653249, 'weight_4': 5.213115180762222, 'weight_5': 9.345283645226502, 'weight_6': 6.3907535898911165, 'weight_7': 6.6813306351900765, 'weight_8': 7.630980312125237, 'weight_9': 1.7159551886836613, 'weight_10': 5.359366788664251, 'weight_11': 3.9616305501103275, 'weight_12': 9.49550195852645, 'weight_13': 1.581929057039094, 'weight_14': 6.696957158408424, 'weight_15': 5.684928001876136, 'weight_16': 2.598335601707168, 'weight_17': 4.415959957882363, 'weight_18': 5.265401147501052, 'weight_19': 5.181991611813916, 'weight_20': 7.180933560806449, 'weight_21': 1.7447989192362212, 'weight_22': 0.6621551843990116, 'weight_23': 5.477153641166062, 'weight_24': 6.537987906498763, 'weight_25': 3.186102728227754, 'weight_26': 4.286634451080937, 'weight_27': 8.360308368025155, 'weight_28': 8.410638953761456, 'weight_29': 9.135458079768558, 'weight_30': 7.902068857939698, 'n_neighbors': 6, 'weights': 'distance'}. Best is trial 49 with value: 0.6942883890197401.\n",
            "[I 2024-11-15 15:47:07,541] Trial 79 finished with value: 0.6614892076226294 and parameters: {'weight_0': 8.884926928819977, 'weight_1': 7.320991973324304, 'weight_2': 8.42643839119815, 'weight_3': 6.018493794020422, 'weight_4': 6.16570354935275, 'weight_5': 7.839311813906007, 'weight_6': 6.975293581739944, 'weight_7': 5.827450443401242, 'weight_8': 3.8653671635732234, 'weight_9': 8.486040479231036, 'weight_10': 6.169153465395054, 'weight_11': 4.475544410666163, 'weight_12': 7.559147496165781, 'weight_13': 1.082568645600107, 'weight_14': 7.865555529043964, 'weight_15': 6.612753889204987, 'weight_16': 1.992648410433194, 'weight_17': 3.852391824585199, 'weight_18': 5.561226610358577, 'weight_19': 4.577673141231402, 'weight_20': 8.454618797345733, 'weight_21': 0.9994228887993568, 'weight_22': 2.1215130699124356, 'weight_23': 7.358635314167647, 'weight_24': 9.364715085136929, 'weight_25': 4.029157533082964, 'weight_26': 2.792968524686351, 'weight_27': 1.5803342186852023, 'weight_28': 9.021900690665642, 'weight_29': 1.2514749187943934, 'weight_30': 8.956656503262126, 'n_neighbors': 29, 'weights': 'distance'}. Best is trial 49 with value: 0.6942883890197401.\n",
            "[I 2024-11-15 15:47:07,822] Trial 80 finished with value: 0.670070715347962 and parameters: {'weight_0': 8.57778429072824, 'weight_1': 7.085621854619725, 'weight_2': 7.2637072228856105, 'weight_3': 6.5541092226701245, 'weight_4': 5.853174596611902, 'weight_5': 8.545546237303766, 'weight_6': 7.691924542429001, 'weight_7': 3.67471267680846, 'weight_8': 9.359846281813132, 'weight_9': 8.129417786328187, 'weight_10': 4.768271410831076, 'weight_11': 2.376825559152566, 'weight_12': 6.32638884239762, 'weight_13': 2.7771711070332588, 'weight_14': 7.035182739889406, 'weight_15': 6.04651030285679, 'weight_16': 3.989050537223683, 'weight_17': 4.772663619381661, 'weight_18': 4.480525329996907, 'weight_19': 0.16696605939433562, 'weight_20': 7.958871436011789, 'weight_21': 0.3724576244358191, 'weight_22': 0.3173936553060213, 'weight_23': 4.690106468485693, 'weight_24': 5.984266698820749, 'weight_25': 3.784244442388715, 'weight_26': 3.928711294818668, 'weight_27': 3.4492544196983888, 'weight_28': 9.545467332677934, 'weight_29': 6.663544959879115, 'weight_30': 9.58976326646465, 'n_neighbors': 20, 'weights': 'distance'}. Best is trial 49 with value: 0.6942883890197401.\n",
            "[I 2024-11-15 15:47:08,095] Trial 81 finished with value: 0.6845332388461042 and parameters: {'weight_0': 9.152347853343027, 'weight_1': 8.89159167841145, 'weight_2': 7.733927492762172, 'weight_3': 5.697989407609606, 'weight_4': 4.756176688128546, 'weight_5': 9.655053062375302, 'weight_6': 7.246736023195336, 'weight_7': 6.406633727846299, 'weight_8': 9.04928240780779, 'weight_9': 7.216161522491301, 'weight_10': 7.834493987240119, 'weight_11': 0.896074774779267, 'weight_12': 7.000694263145268, 'weight_13': 2.226398952320266, 'weight_14': 7.349816946252717, 'weight_15': 5.12357971321073, 'weight_16': 1.35849086103233, 'weight_17': 6.006304683079618, 'weight_18': 4.91432730590174, 'weight_19': 5.784641894548027, 'weight_20': 7.557564557554911, 'weight_21': 1.2790410772281162, 'weight_22': 0.4641766982982778, 'weight_23': 6.089197747885063, 'weight_24': 7.107061282826304, 'weight_25': 3.444674065854811, 'weight_26': 2.5204878860618996, 'weight_27': 3.0141971250924344, 'weight_28': 8.756340524564447, 'weight_29': 7.674891746248683, 'weight_30': 9.69136766370947, 'n_neighbors': 16, 'weights': 'distance'}. Best is trial 49 with value: 0.6942883890197401.\n",
            "[I 2024-11-15 15:47:08,377] Trial 82 finished with value: 0.6748819775993323 and parameters: {'weight_0': 9.110073649924107, 'weight_1': 8.758057243024634, 'weight_2': 6.823023521655972, 'weight_3': 5.520570309097206, 'weight_4': 5.522062888994459, 'weight_5': 9.592541683315352, 'weight_6': 7.977268415440156, 'weight_7': 6.44514315239351, 'weight_8': 8.761180844572625, 'weight_9': 7.5509661919961, 'weight_10': 5.159476258441139, 'weight_11': 0.4756084776107752, 'weight_12': 6.9329129609649245, 'weight_13': 2.3126304231207353, 'weight_14': 7.587017087447434, 'weight_15': 5.184709992179642, 'weight_16': 1.3391185309813025, 'weight_17': 5.36140804255575, 'weight_18': 4.977295971813405, 'weight_19': 4.141633681989162, 'weight_20': 7.717653721477296, 'weight_21': 1.2474885360912245, 'weight_22': 0.7825763965714363, 'weight_23': 6.158532311164395, 'weight_24': 7.80014775436007, 'weight_25': 3.435626733353369, 'weight_26': 2.48510320128743, 'weight_27': 3.062172255474905, 'weight_28': 8.720171993523895, 'weight_29': 7.326305198217676, 'weight_30': 9.278849486284606, 'n_neighbors': 15, 'weights': 'distance'}. Best is trial 49 with value: 0.6942883890197401.\n",
            "[I 2024-11-15 15:47:08,656] Trial 83 finished with value: 0.6671062128071226 and parameters: {'weight_0': 2.3166218452290335, 'weight_1': 8.381207631310922, 'weight_2': 8.026237371200612, 'weight_3': 4.932266941959925, 'weight_4': 5.147538560076285, 'weight_5': 8.97078294680616, 'weight_6': 7.1966988113214105, 'weight_7': 6.100720202970292, 'weight_8': 9.029103073918272, 'weight_9': 8.756316363040705, 'weight_10': 8.556207276176417, 'weight_11': 0.899592545732228, 'weight_12': 4.891703809780015, 'weight_13': 2.4477495629578074, 'weight_14': 7.171748746631199, 'weight_15': 4.884369272175198, 'weight_16': 3.2154017105470616, 'weight_17': 5.835743649749443, 'weight_18': 4.162184399108856, 'weight_19': 5.694826604473543, 'weight_20': 6.823473589169621, 'weight_21': 1.410160548552065, 'weight_22': 0.3505501025180223, 'weight_23': 6.587931459555969, 'weight_24': 7.17865184142747, 'weight_25': 2.789828642957099, 'weight_26': 1.9599897057213975, 'weight_27': 0.4812886708580777, 'weight_28': 9.757024938171948, 'weight_29': 8.929167237854207, 'weight_30': 9.60922900472373, 'n_neighbors': 20, 'weights': 'distance'}. Best is trial 49 with value: 0.6942883890197401.\n",
            "[I 2024-11-15 15:47:08,935] Trial 84 finished with value: 0.6687127771893726 and parameters: {'weight_0': 9.64941855881689, 'weight_1': 7.487521462892269, 'weight_2': 7.757421995012265, 'weight_3': 5.884947772830434, 'weight_4': 3.9693926128701915, 'weight_5': 7.460375535386071, 'weight_6': 6.178637692077739, 'weight_7': 7.431490567018826, 'weight_8': 8.057379178579454, 'weight_9': 7.928050382251415, 'weight_10': 7.999458186626068, 'weight_11': 5.372726373434991, 'weight_12': 5.9051485686184755, 'weight_13': 3.257781680721665, 'weight_14': 6.589806221234721, 'weight_15': 5.532622210722625, 'weight_16': 1.7935653196891523, 'weight_17': 5.943314289420843, 'weight_18': 4.583712348431446, 'weight_19': 6.609546367236668, 'weight_20': 7.336376262835567, 'weight_21': 0.8207837818094377, 'weight_22': 1.7207103525125094, 'weight_23': 6.010181506286471, 'weight_24': 6.617177183877506, 'weight_25': 2.4122443522633117, 'weight_26': 1.612826732775932, 'weight_27': 9.999433330879278, 'weight_28': 9.98203219292125, 'weight_29': 6.346522810956281, 'weight_30': 0.5862564926537877, 'n_neighbors': 11, 'weights': 'distance'}. Best is trial 49 with value: 0.6942883890197401.\n",
            "[I 2024-11-15 15:47:09,217] Trial 85 finished with value: 0.6825377195538042 and parameters: {'weight_0': 9.354404844639898, 'weight_1': 6.516964264973522, 'weight_2': 7.5740899346188755, 'weight_3': 3.4948193155851546, 'weight_4': 4.386024801376273, 'weight_5': 8.324540602600287, 'weight_6': 6.587247291167101, 'weight_7': 6.761891414604005, 'weight_8': 8.67879555892111, 'weight_9': 7.056021969435394, 'weight_10': 7.759513861595404, 'weight_11': 3.764072105396976, 'weight_12': 8.376577390591223, 'weight_13': 1.2776473864269944, 'weight_14': 6.113825049585037, 'weight_15': 5.306154178328869, 'weight_16': 1.5599240848464693, 'weight_17': 5.309565224648385, 'weight_18': 5.802081347523362, 'weight_19': 4.86160292000357, 'weight_20': 6.504728435113655, 'weight_21': 1.6480053306841163, 'weight_22': 1.4031645791927956, 'weight_23': 5.6650472950623225, 'weight_24': 5.038090846428987, 'weight_25': 2.191632055872648, 'weight_26': 0.9842213737281442, 'weight_27': 4.233783369509473, 'weight_28': 9.350614785539902, 'weight_29': 7.793311803150108, 'weight_30': 8.538810401426023, 'n_neighbors': 15, 'weights': 'distance'}. Best is trial 49 with value: 0.6942883890197401.\n",
            "[I 2024-11-15 15:47:09,505] Trial 86 finished with value: 0.6716044706765283 and parameters: {'weight_0': 9.2815015151542, 'weight_1': 6.57939435133593, 'weight_2': 5.677478347437475, 'weight_3': 3.290163536901491, 'weight_4': 3.6288996647509117, 'weight_5': 8.156091959776537, 'weight_6': 5.540399747918019, 'weight_7': 7.852336853615354, 'weight_8': 8.443840061003415, 'weight_9': 5.507294419541033, 'weight_10': 7.8246411096261586, 'weight_11': 2.0546235243355664, 'weight_12': 8.302064575747288, 'weight_13': 1.2498820520609826, 'weight_14': 6.157900961506908, 'weight_15': 4.773415729000481, 'weight_16': 2.6897943859236686, 'weight_17': 4.822323760809372, 'weight_18': 6.290534838358551, 'weight_19': 6.114577048139505, 'weight_20': 6.461464962866777, 'weight_21': 1.6739400481854316, 'weight_22': 1.4242323588474313, 'weight_23': 7.018824774126759, 'weight_24': 5.0340661693816795, 'weight_25': 1.5281574476705742, 'weight_26': 0.8534227441533552, 'weight_27': 4.254322558260086, 'weight_28': 9.33977234787336, 'weight_29': 8.511934001305367, 'weight_30': 8.098118660295022, 'n_neighbors': 18, 'weights': 'distance'}. Best is trial 49 with value: 0.6942883890197401.\n",
            "[I 2024-11-15 15:47:09,808] Trial 87 finished with value: 0.6874732167031948 and parameters: {'weight_0': 8.757167652237191, 'weight_1': 7.810693243498899, 'weight_2': 7.531780523971325, 'weight_3': 3.5657226347703825, 'weight_4': 4.469855736842132, 'weight_5': 9.3068369527098, 'weight_6': 6.475929353857288, 'weight_7': 7.1299108131865925, 'weight_8': 8.622899597411411, 'weight_9': 6.992109623622951, 'weight_10': 7.27846885245213, 'weight_11': 3.080670427274005, 'weight_12': 7.029943469298508, 'weight_13': 1.7292172816120177, 'weight_14': 5.783970359576172, 'weight_15': 5.269161216666979, 'weight_16': 2.425047573280974, 'weight_17': 5.146070310263481, 'weight_18': 5.755175943425396, 'weight_19': 5.024057262687053, 'weight_20': 6.978462433389416, 'weight_21': 3.2279354115408814, 'weight_22': 1.0545965652236766, 'weight_23': 5.622319472373908, 'weight_24': 3.8494111800784268, 'weight_25': 2.308238974202893, 'weight_26': 0.5447819246369772, 'weight_27': 4.589460571972534, 'weight_28': 8.213547527257003, 'weight_29': 7.751270718560902, 'weight_30': 8.754711231268617, 'n_neighbors': 26, 'weights': 'distance'}. Best is trial 49 with value: 0.6942883890197401.\n",
            "[I 2024-11-15 15:47:10,089] Trial 88 finished with value: 0.6873255608754127 and parameters: {'weight_0': 8.07722780003639, 'weight_1': 7.797894017720327, 'weight_2': 7.523302999913234, 'weight_3': 2.756170505753703, 'weight_4': 5.656541297450771, 'weight_5': 9.649768993650994, 'weight_6': 5.961935496656298, 'weight_7': 7.143227798391288, 'weight_8': 7.853090391325628, 'weight_9': 6.24197421866041, 'weight_10': 7.091747156741482, 'weight_11': 2.961254987937768, 'weight_12': 9.217545115255653, 'weight_13': 0.7867727635165509, 'weight_14': 5.8010604303081, 'weight_15': 5.856478763771024, 'weight_16': 2.4001517557974457, 'weight_17': 4.502319701902656, 'weight_18': 7.046532943393387, 'weight_19': 5.17238605273249, 'weight_20': 7.043075485183431, 'weight_21': 4.121358507582665, 'weight_22': 3.2280782299305883, 'weight_23': 5.6467912891648755, 'weight_24': 3.6376183417407617, 'weight_25': 2.047614347133221, 'weight_26': 0.2645057632019736, 'weight_27': 3.704968395777838, 'weight_28': 8.245034014928901, 'weight_29': 7.713386285183721, 'weight_30': 8.812933450903543, 'n_neighbors': 25, 'weights': 'distance'}. Best is trial 49 with value: 0.6942883890197401.\n",
            "[I 2024-11-15 15:47:10,409] Trial 89 finished with value: 0.6820075251310215 and parameters: {'weight_0': 7.845012149244358, 'weight_1': 7.888887805487816, 'weight_2': 6.566326099906175, 'weight_3': 2.7454257191608002, 'weight_4': 4.404787371350359, 'weight_5': 9.62973435203205, 'weight_6': 6.545133321106752, 'weight_7': 7.273936271742001, 'weight_8': 8.656129092207202, 'weight_9': 6.312998169144921, 'weight_10': 6.543120363623422, 'weight_11': 2.967087113197581, 'weight_12': 5.6176648104626885, 'weight_13': 0.6127557312252869, 'weight_14': 5.5500670757042485, 'weight_15': 5.3219360477326765, 'weight_16': 2.3824297310731306, 'weight_17': 3.2968161406645207, 'weight_18': 7.352619028670394, 'weight_19': 5.513308550301838, 'weight_20': 7.061313660024418, 'weight_21': 3.5607994378738397, 'weight_22': 2.7224008074072055, 'weight_23': 4.338534673754199, 'weight_24': 3.730968623640192, 'weight_25': 2.036394463214737, 'weight_26': 0.22438508216416436, 'weight_27': 4.7342173078734335, 'weight_28': 8.282949019835947, 'weight_29': 7.816769752399357, 'weight_30': 8.667553916835963, 'n_neighbors': 29, 'weights': 'distance'}. Best is trial 49 with value: 0.6942883890197401.\n",
            "[I 2024-11-15 15:47:10,874] Trial 90 finished with value: 0.6844932193772753 and parameters: {'weight_0': 8.120694648054785, 'weight_1': 7.820603858187713, 'weight_2': 7.603295176825671, 'weight_3': 2.8996538646089904, 'weight_4': 4.518950317300729, 'weight_5': 9.699932168965445, 'weight_6': 6.57710173329371, 'weight_7': 7.760464930540608, 'weight_8': 7.24995701076767, 'weight_9': 6.218241055561763, 'weight_10': 7.078210601565393, 'weight_11': 3.3258331745180914, 'weight_12': 4.468043265299664, 'weight_13': 0.6927901847486081, 'weight_14': 5.674253498149117, 'weight_15': 5.36709880817014, 'weight_16': 1.5099049708127255, 'weight_17': 3.4053536979806776, 'weight_18': 7.230400564111898, 'weight_19': 5.494271525523556, 'weight_20': 7.105739114810228, 'weight_21': 4.079706252706931, 'weight_22': 2.740121732957958, 'weight_23': 4.4502099913295385, 'weight_24': 3.6432668831814388, 'weight_25': 0.7816289722051, 'weight_26': 0.10201271046774191, 'weight_27': 4.8001832029386975, 'weight_28': 8.245358071953074, 'weight_29': 8.184590006273513, 'weight_30': 8.721364050928226, 'n_neighbors': 33, 'weights': 'distance'}. Best is trial 49 with value: 0.6942883890197401.\n",
            "[I 2024-11-15 15:47:11,325] Trial 91 finished with value: 0.6793855663203777 and parameters: {'weight_0': 8.127323030069935, 'weight_1': 7.725767935993488, 'weight_2': 6.542100018098756, 'weight_3': 2.628108814850798, 'weight_4': 4.53476831792515, 'weight_5': 9.609990201066186, 'weight_6': 6.548841892950103, 'weight_7': 7.799901795831314, 'weight_8': 7.833497163358045, 'weight_9': 6.25292559954005, 'weight_10': 7.050000544041305, 'weight_11': 2.9683228076556443, 'weight_12': 4.419792564023789, 'weight_13': 0.7295669264752975, 'weight_14': 5.7726726951892795, 'weight_15': 5.683444808637482, 'weight_16': 1.5511919076154588, 'weight_17': 3.3419760712727578, 'weight_18': 7.274780743821552, 'weight_19': 5.028069715658769, 'weight_20': 6.991254717052869, 'weight_21': 3.5027726715836147, 'weight_22': 2.7659726129662228, 'weight_23': 4.123984957068, 'weight_24': 2.7908092938501006, 'weight_25': 1.962751049493244, 'weight_26': 0.2330529854346523, 'weight_27': 4.815618838600641, 'weight_28': 8.25853113371341, 'weight_29': 7.791570221156374, 'weight_30': 8.765965526717498, 'n_neighbors': 33, 'weights': 'distance'}. Best is trial 49 with value: 0.6942883890197401.\n",
            "[I 2024-11-15 15:47:11,759] Trial 92 finished with value: 0.6717756467362328 and parameters: {'weight_0': 8.688556293128713, 'weight_1': 7.801101959195433, 'weight_2': 7.650369095888222, 'weight_3': 2.9836141755922294, 'weight_4': 4.370344386904995, 'weight_5': 9.685060417040525, 'weight_6': 5.324790231396212, 'weight_7': 7.171445616705583, 'weight_8': 8.631769760702504, 'weight_9': 5.920476157363718, 'weight_10': 6.530320052634403, 'weight_11': 3.42130692431698, 'weight_12': 9.294120128037928, 'weight_13': 0.6520131293198093, 'weight_14': 4.848129249884921, 'weight_15': 5.870149315784249, 'weight_16': 1.302539847809006, 'weight_17': 3.197418500185062, 'weight_18': 7.917203284716553, 'weight_19': 5.498168839076029, 'weight_20': 6.636506893972452, 'weight_21': 4.048391743301477, 'weight_22': 3.1596788570993075, 'weight_23': 4.448006326144753, 'weight_24': 3.7349341071911626, 'weight_25': 0.9941177839377735, 'weight_26': 0.5173680233946966, 'weight_27': 4.571200652213278, 'weight_28': 8.522280730050051, 'weight_29': 8.211279623123207, 'weight_30': 8.976675733248381, 'n_neighbors': 26, 'weights': 'distance'}. Best is trial 49 with value: 0.6942883890197401.\n",
            "[I 2024-11-15 15:47:12,306] Trial 93 finished with value: 0.6414742194201967 and parameters: {'weight_0': 8.518135886401927, 'weight_1': 7.477500852279596, 'weight_2': 6.954997186266045, 'weight_3': 3.477453946233351, 'weight_4': 4.8914396480385225, 'weight_5': 9.349385816130843, 'weight_6': 6.301972283902007, 'weight_7': 8.262635083979864, 'weight_8': 7.384734071484097, 'weight_9': 5.639761768515401, 'weight_10': 7.079104685438363, 'weight_11': 3.1893477230614184, 'weight_12': 6.027907823126674, 'weight_13': 1.6975394269353028, 'weight_14': 5.23493956047523, 'weight_15': 5.403253390844783, 'weight_16': 2.336506960642743, 'weight_17': 2.846230848528773, 'weight_18': 6.897966400374901, 'weight_19': 5.32231458216094, 'weight_20': 7.39835984682577, 'weight_21': 4.393200157615537, 'weight_22': 3.7756940169005264, 'weight_23': 4.79399392579096, 'weight_24': 3.8568918252173447, 'weight_25': 0.12976425062883745, 'weight_26': 0.10870958821785356, 'weight_27': 3.6362998121970906, 'weight_28': 8.810781139936935, 'weight_29': 7.212516272081098, 'weight_30': 8.6274564339684, 'n_neighbors': 100, 'weights': 'distance'}. Best is trial 49 with value: 0.6942883890197401.\n",
            "[I 2024-11-15 15:47:12,807] Trial 94 finished with value: 0.6635834628157086 and parameters: {'weight_0': 8.203509271178676, 'weight_1': 7.93180022141332, 'weight_2': 8.064720332981883, 'weight_3': 2.186430287252708, 'weight_4': 4.662328696428024, 'weight_5': 9.046776984070275, 'weight_6': 5.87001065445473, 'weight_7': 7.598566612633547, 'weight_8': 8.33431945487237, 'weight_9': 4.846208755537741, 'weight_10': 6.460804707651111, 'weight_11': 2.6995126065971875, 'weight_12': 6.873526784925589, 'weight_13': 1.2990931378503041, 'weight_14': 5.638281510279036, 'weight_15': 5.30324408195142, 'weight_16': 1.5842923068581931, 'weight_17': 3.9409987680182645, 'weight_18': 8.206273929299527, 'weight_19': 5.607184290017616, 'weight_20': 6.959332898531632, 'weight_21': 3.709767370999136, 'weight_22': 2.635320294655952, 'weight_23': 5.131611301965896, 'weight_24': 3.229063202308002, 'weight_25': 0.7955336872093429, 'weight_26': 0.5364015045051063, 'weight_27': 4.016977819522403, 'weight_28': 8.164577909128397, 'weight_29': 8.288327147671268, 'weight_30': 8.1220936066237, 'n_neighbors': 29, 'weights': 'distance'}. Best is trial 49 with value: 0.6942883890197401.\n",
            "[I 2024-11-15 15:47:13,264] Trial 95 finished with value: 0.665779677775839 and parameters: {'weight_0': 7.305954717474886, 'weight_1': 8.770394725643943, 'weight_2': 8.396166617772073, 'weight_3': 2.6935961357697056, 'weight_4': 5.670224629448828, 'weight_5': 9.754666332828386, 'weight_6': 6.584876190596245, 'weight_7': 6.869130811346256, 'weight_8': 6.440835598384906, 'weight_9': 5.165415829162459, 'weight_10': 7.2959240048673415, 'weight_11': 2.4745944997811207, 'weight_12': 3.824067013036114, 'weight_13': 0.8420148772562785, 'weight_14': 5.334249977704918, 'weight_15': 5.9083124970683025, 'weight_16': 0.4902946539774684, 'weight_17': 4.286713088211157, 'weight_18': 7.779422900400754, 'weight_19': 6.023868665064522, 'weight_20': 7.090890084003183, 'weight_21': 5.01062120810729, 'weight_22': 2.3006602042482784, 'weight_23': 5.5158415577495195, 'weight_24': 3.4230475800738795, 'weight_25': 2.244593340333653, 'weight_26': 0.32304002209528315, 'weight_27': 4.96207777636457, 'weight_28': 9.053962190329495, 'weight_29': 7.478286700100655, 'weight_30': 8.331881952493903, 'n_neighbors': 25, 'weights': 'distance'}. Best is trial 49 with value: 0.6942883890197401.\n",
            "[I 2024-11-15 15:47:13,752] Trial 96 finished with value: 0.6774744251072354 and parameters: {'weight_0': 7.905859460341063, 'weight_1': 6.774871904564525, 'weight_2': 6.355838503391961, 'weight_3': 3.5091211738484986, 'weight_4': 3.791135496487084, 'weight_5': 9.497876031697013, 'weight_6': 5.5874208313254305, 'weight_7': 7.147899339877874, 'weight_8': 6.991185453678421, 'weight_9': 6.551533873746686, 'weight_10': 7.653113475007853, 'weight_11': 4.238874332497427, 'weight_12': 5.626289269240588, 'weight_13': 0.2145628797533332, 'weight_14': 6.182558833333772, 'weight_15': 4.7279544000188976, 'weight_16': 1.1311506369022335, 'weight_17': 3.4209651916910904, 'weight_18': 8.558715824717073, 'weight_19': 4.899695099443362, 'weight_20': 6.722820283517097, 'weight_21': 4.619991185793774, 'weight_22': 1.9585111824458588, 'weight_23': 4.243666837617539, 'weight_24': 4.1112891808689085, 'weight_25': 1.5769271056403105, 'weight_26': 0.6740136375966848, 'weight_27': 5.80001407781013, 'weight_28': 8.636828583957165, 'weight_29': 8.62964828080899, 'weight_30': 9.236667124022528, 'n_neighbors': 29, 'weights': 'distance'}. Best is trial 49 with value: 0.6942883890197401.\n",
            "[I 2024-11-15 15:47:14,176] Trial 97 finished with value: 0.6793960330203216 and parameters: {'weight_0': 7.26728640664678, 'weight_1': 9.358460899864937, 'weight_2': 6.758502732807242, 'weight_3': 2.3755146911475657, 'weight_4': 4.404922671631845, 'weight_5': 9.159813532744927, 'weight_6': 7.509640338548032, 'weight_7': 6.768135371080096, 'weight_8': 8.131008365911166, 'weight_9': 7.114409978495552, 'weight_10': 8.529653096290893, 'weight_11': 2.7234819964118553, 'weight_12': 6.458602422468022, 'weight_13': 0.33460080523324515, 'weight_14': 4.960655029811423, 'weight_15': 5.60738303311117, 'weight_16': 2.710198065875103, 'weight_17': 2.952927636100265, 'weight_18': 7.0226129849428105, 'weight_19': 5.192661072129204, 'weight_20': 6.081442937086022, 'weight_21': 3.942070662462056, 'weight_22': 3.84130249561155, 'weight_23': 4.577268718157591, 'weight_24': 4.6373655779078655, 'weight_25': 1.2957499607085268, 'weight_26': 0.9662464555317605, 'weight_27': 4.087292213466399, 'weight_28': 8.42784946575172, 'weight_29': 7.717296762673585, 'weight_30': 8.994012406200902, 'n_neighbors': 35, 'weights': 'distance'}. Best is trial 49 with value: 0.6942883890197401.\n",
            "[I 2024-11-15 15:47:14,484] Trial 98 finished with value: 0.6469254514289245 and parameters: {'weight_0': 6.75388612134261, 'weight_1': 6.356258819496935, 'weight_2': 7.646671042046484, 'weight_3': 3.617079225601185, 'weight_4': 3.4130985671504175, 'weight_5': 3.84184769324629, 'weight_6': 7.254599395234474, 'weight_7': 7.266614647217367, 'weight_8': 7.198240719633973, 'weight_9': 6.200144534991508, 'weight_10': 5.697605211599737, 'weight_11': 3.794596509322696, 'weight_12': 4.323199816421784, 'weight_13': 1.5274651161342707, 'weight_14': 5.950927487292702, 'weight_15': 4.165950244309252, 'weight_16': 3.0156841012068596, 'weight_17': 4.563121298871732, 'weight_18': 6.605462951383165, 'weight_19': 6.532051816482978, 'weight_20': 6.383000573040272, 'weight_21': 3.188680553615854, 'weight_22': 3.0893178877978196, 'weight_23': 5.308375364244249, 'weight_24': 2.686412253866786, 'weight_25': 1.7933437552062954, 'weight_26': 1.262269391455144, 'weight_27': 5.5157072907085904, 'weight_28': 4.130781591368345, 'weight_29': 8.03727150464872, 'weight_30': 8.648897137845047, 'n_neighbors': 42, 'weights': 'distance'}. Best is trial 49 with value: 0.6942883890197401.\n",
            "[I 2024-11-15 15:47:14,791] Trial 99 finished with value: 0.6732142742705536 and parameters: {'weight_0': 7.798434370849468, 'weight_1': 7.454064296676309, 'weight_2': 6.024225441327686, 'weight_3': 3.1852579526177265, 'weight_4': 4.86225042244728, 'weight_5': 9.786399395690704, 'weight_6': 6.4516580239557095, 'weight_7': 7.696188586672076, 'weight_8': 9.096323742028133, 'weight_9': 7.347819002979399, 'weight_10': 6.212648342373298, 'weight_11': 2.9479305445877104, 'weight_12': 6.125269753975292, 'weight_13': 0.5558741774124124, 'weight_14': 5.4930091027952095, 'weight_15': 9.769244684343228, 'weight_16': 1.774660432290326, 'weight_17': 2.1448418075449487, 'weight_18': 5.837814845919151, 'weight_19': 6.999045290734562, 'weight_20': 8.247459130578976, 'weight_21': 4.209621140821781, 'weight_22': 2.6723584425527163, 'weight_23': 4.961491420482616, 'weight_24': 3.4720777430753667, 'weight_25': 0.5184420305435387, 'weight_26': 0.3714460700922077, 'weight_27': 3.585655717281969, 'weight_28': 7.6421163865116695, 'weight_29': 7.222151609525505, 'weight_30': 3.0977765421918058, 'n_neighbors': 22, 'weights': 'distance'}. Best is trial 49 with value: 0.6942883890197401.\n"
          ]
        },
        {
          "output_type": "stream",
          "name": "stdout",
          "text": [
            "Best feature weights: {'weight_0': 7.6780027122374666, 'weight_1': 7.8873738093710255, 'weight_2': 9.836065255435331, 'weight_3': 4.711557961743522, 'weight_4': 4.934296744532647, 'weight_5': 7.1888353760140316, 'weight_6': 7.09997875254288, 'weight_7': 5.363423032524132, 'weight_8': 9.375022807672428, 'weight_9': 7.863606096406834, 'weight_10': 7.417127398999584, 'weight_11': 1.29097697542426, 'weight_12': 5.466626545108609, 'weight_13': 5.238206828139189, 'weight_14': 7.247586707470327, 'weight_15': 4.317280524305057, 'weight_16': 0.9663556972881979, 'weight_17': 4.886369861755117, 'weight_18': 4.112520510544045, 'weight_19': 2.0590384659004934, 'weight_20': 5.17980591569097, 'weight_21': 3.012829956011993, 'weight_22': 2.779574831678691, 'weight_23': 6.418660676234904, 'weight_24': 6.418324810631474, 'weight_25': 5.294005145166453, 'weight_26': 2.282108336745447, 'weight_27': 1.7672867185599797, 'weight_28': 7.9505642809938335, 'weight_29': 8.023344512319413, 'weight_30': 9.740168828956508, 'n_neighbors': 23, 'weights': 'uniform'}\n",
            "Best f1: 0.6942883890197401\n"
          ]
        }
      ],
      "source": [
        "# weighted KNN optimization\n",
        "\n",
        "n_features = X_train.shape[1]\n",
        "\n",
        "# Define the objective function for Optuna\n",
        "def objective(trial):\n",
        "    # Define a weight for each feature\n",
        "    weights = [trial.suggest_float(f'weight_{i}', 0.1, 10.0) for i in range(n_features)]\n",
        "\n",
        "    # Apply the weights to the features\n",
        "    X_weighted = X_train * weights\n",
        "\n",
        "    # Initialize the KNN model\n",
        "    model = KNeighborsClassifier(n_neighbors=trial.suggest_int('n_neighbors', 1, 100), weights=trial.suggest_categorical('weights', ['uniform', 'distance']))\n",
        "\n",
        "    # Evaluate the model using cross-validation\n",
        "    score = cross_val_score(model, X_weighted, y_train, cv=3, scoring='f1').mean()\n",
        "\n",
        "    # Return the score to maximize it\n",
        "    return score\n",
        "\n",
        "# Run the optimization\n",
        "study = optuna.create_study(direction='maximize')\n",
        "study.optimize(objective, n_trials=100)\n",
        "\n",
        "# Get the best weights\n",
        "print(\"Best feature weights:\", study.best_params)\n",
        "print(\"Best f1:\", study.best_value)\n"
      ]
    },
    {
      "cell_type": "code",
      "execution_count": null,
      "metadata": {
        "colab": {
          "base_uri": "https://localhost:8080/",
          "height": 656
        },
        "id": "a4fJTeSbznKe",
        "outputId": "d99848e5-6923-4dce-8876-7d1cc5b0b952"
      },
      "outputs": [
        {
          "output_type": "stream",
          "name": "stderr",
          "text": [
            "<ipython-input-282-b34d1e398755>:6: UserWarning: \n",
            "\n",
            "`distplot` is a deprecated function and will be removed in seaborn v0.14.0.\n",
            "\n",
            "Please adapt your code to use either `displot` (a figure-level function with\n",
            "similar flexibility) or `histplot` (an axes-level function for histograms).\n",
            "\n",
            "For a guide to updating your code to use the new functions, please see\n",
            "https://gist.github.com/mwaskom/de44147ed2974457ad6372750bbe5751\n",
            "\n",
            "  sns.distplot(cv)\n"
          ]
        },
        {
          "output_type": "stream",
          "name": "stdout",
          "text": [
            "train CV f1:  0.6934358055429496\n",
            "test f1:  0.7187039764359352\n"
          ]
        },
        {
          "output_type": "display_data",
          "data": {
            "text/plain": [
              "<Figure size 640x480 with 1 Axes>"
            ],
            "image/png": "[encoded data removed]"
          },
          "metadata": {}
        }
      ],
      "source": [
        "# checking results of optimization\n",
        "weighted_features = [study.best_params[f'weight_{i}'] for i in range(n_features)]\n",
        "X_train_weighted = X_train * weighted_features\n",
        "knn_optimized = KNeighborsClassifier(n_neighbors=study.best_params['n_neighbors'], weights=study.best_params['weights'])\n",
        "cv = cross_val_score(knn_optimized, X_train_weighted, y_train, cv=10, scoring=\"f1\")\n",
        "sns.distplot(cv)\n",
        "print('train CV f1: ', cv.mean())\n",
        "\n",
        "X_test_weighted = X_test * weighted_features\n",
        "knn_optimized.fit(X_train_weighted, y_train)\n",
        "print('test f1: ', f1_score(y_test, knn_optimized.predict(X_test_weighted)))"
      ]
    },
    {
      "cell_type": "markdown",
      "metadata": {
        "id": "KABWmuVte9ce"
      },
      "source": [
        "## **Model 3 - Random Forset**"
      ]
    },
    {
      "cell_type": "code",
      "source": [
        "from sklearn.ensemble import RandomForestClassifier"
      ],
      "metadata": {
        "id": "STYKmvcwgHRT"
      },
      "execution_count": null,
      "outputs": []
    },
    {
      "cell_type": "code",
      "execution_count": null,
      "metadata": {
        "colab": {
          "base_uri": "https://localhost:8080/",
          "height": 656
        },
        "id": "zAePR3lafXfA",
        "outputId": "4fb6e1fc-c0d5-409f-de93-6f7aba85e473"
      },
      "outputs": [
        {
          "output_type": "stream",
          "name": "stderr",
          "text": [
            "<ipython-input-284-6155440dddd3>:6: UserWarning: \n",
            "\n",
            "`distplot` is a deprecated function and will be removed in seaborn v0.14.0.\n",
            "\n",
            "Please adapt your code to use either `displot` (a figure-level function with\n",
            "similar flexibility) or `histplot` (an axes-level function for histograms).\n",
            "\n",
            "For a guide to updating your code to use the new functions, please see\n",
            "https://gist.github.com/mwaskom/de44147ed2974457ad6372750bbe5751\n",
            "\n",
            "  sns.distplot(cv)\n"
          ]
        },
        {
          "output_type": "stream",
          "name": "stdout",
          "text": [
            "Train CV f1:  0.6497687765895327\n",
            "Test f1: 0.6914728682170542\n"
          ]
        },
        {
          "output_type": "display_data",
          "data": {
            "text/plain": [
              "<Figure size 640x480 with 1 Axes>"
            ],
            "image/png": "[encoded data removed]"
          },
          "metadata": {}
        }
      ],
      "source": [
        "# rf model\n",
        "rf = RandomForestClassifier(n_estimators=100, max_depth=5, max_features=5)\n",
        "\n",
        "# cross validation\n",
        "cv = cross_val_score(rf, X_train, y_train, cv=10, scoring=\"f1\")\n",
        "sns.distplot(cv)\n",
        "print('Train CV f1: ', cv.mean())\n",
        "\n",
        "# test scoring\n",
        "rf.fit(X_train, y_train)\n",
        "print('Test f1:', f1_score(y_test, rf.predict(X_test)))"
      ]
    },
    {
      "cell_type": "code",
      "execution_count": null,
      "metadata": {
        "colab": {
          "base_uri": "https://localhost:8080/"
        },
        "id": "VAwXOCb3fDAG",
        "outputId": "4e168b61-dabf-4c25-b39a-38c81c3e54c1"
      },
      "outputs": [
        {
          "output_type": "stream",
          "name": "stderr",
          "text": [
            "[I 2024-11-15 15:47:18,120] A new study created in memory with name: no-name-29ce58c4-019a-4028-92a8-e6b2f1678746\n",
            "[I 2024-11-15 15:47:18,839] Trial 0 finished with value: 0.6885438042624865 and parameters: {'n_estimators': 62, 'max_depth': 20, 'max_features': 11}. Best is trial 0 with value: 0.6885438042624865.\n",
            "[I 2024-11-15 15:47:20,076] Trial 1 finished with value: 0.6659335337268703 and parameters: {'n_estimators': 142, 'max_depth': 20, 'max_features': 2}. Best is trial 0 with value: 0.6885438042624865.\n",
            "[I 2024-11-15 15:47:21,491] Trial 2 finished with value: 0.6751507658377434 and parameters: {'n_estimators': 166, 'max_depth': 18, 'max_features': 2}. Best is trial 0 with value: 0.6885438042624865.\n",
            "[I 2024-11-15 15:47:22,400] Trial 3 finished with value: 0.6897506651699757 and parameters: {'n_estimators': 83, 'max_depth': 19, 'max_features': 12}. Best is trial 3 with value: 0.6897506651699757.\n",
            "[I 2024-11-15 15:47:22,883] Trial 4 finished with value: 0.0 and parameters: {'n_estimators': 85, 'max_depth': 1, 'max_features': 2}. Best is trial 3 with value: 0.6897506651699757.\n",
            "[I 2024-11-15 15:47:23,509] Trial 5 finished with value: 0.6942534452983923 and parameters: {'n_estimators': 87, 'max_depth': 5, 'max_features': 13}. Best is trial 5 with value: 0.6942534452983923.\n",
            "[I 2024-11-15 15:47:23,719] Trial 6 finished with value: 0.6735939663441713 and parameters: {'n_estimators': 27, 'max_depth': 9, 'max_features': 2}. Best is trial 5 with value: 0.6942534452983923.\n",
            "[I 2024-11-15 15:47:26,233] Trial 7 finished with value: 0.6834425350647645 and parameters: {'n_estimators': 196, 'max_depth': 20, 'max_features': 4}. Best is trial 5 with value: 0.6942534452983923.\n",
            "[I 2024-11-15 15:47:26,801] Trial 8 finished with value: 0.6613036068267543 and parameters: {'n_estimators': 38, 'max_depth': 19, 'max_features': 1}. Best is trial 5 with value: 0.6942534452983923.\n",
            "[I 2024-11-15 15:47:27,914] Trial 9 finished with value: 0.6789358633404999 and parameters: {'n_estimators': 123, 'max_depth': 13, 'max_features': 1}. Best is trial 5 with value: 0.6942534452983923.\n",
            "[I 2024-11-15 15:47:28,644] Trial 10 finished with value: 0.6359101353767492 and parameters: {'n_estimators': 109, 'max_depth': 3, 'max_features': 14}. Best is trial 5 with value: 0.6942534452983923.\n",
            "[I 2024-11-15 15:47:29,259] Trial 11 finished with value: 0.7164989801847921 and parameters: {'n_estimators': 74, 'max_depth': 7, 'max_features': 11}. Best is trial 11 with value: 0.7164989801847921.\n",
            "[I 2024-11-15 15:47:29,700] Trial 12 finished with value: 0.6971482962264602 and parameters: {'n_estimators': 56, 'max_depth': 6, 'max_features': 9}. Best is trial 11 with value: 0.7164989801847921.\n",
            "[I 2024-11-15 15:47:30,130] Trial 13 finished with value: 0.7152233269842846 and parameters: {'n_estimators': 49, 'max_depth': 8, 'max_features': 9}. Best is trial 11 with value: 0.7164989801847921.\n",
            "[I 2024-11-15 15:47:30,313] Trial 14 finished with value: 0.7053358133774449 and parameters: {'n_estimators': 16, 'max_depth': 12, 'max_features': 7}. Best is trial 11 with value: 0.7164989801847921.\n",
            "[I 2024-11-15 15:47:30,737] Trial 15 finished with value: 0.7164624966903838 and parameters: {'n_estimators': 46, 'max_depth': 9, 'max_features': 9}. Best is trial 11 with value: 0.7164989801847921.\n",
            "[I 2024-11-15 15:47:31,418] Trial 16 finished with value: 0.6931591540614361 and parameters: {'n_estimators': 70, 'max_depth': 15, 'max_features': 6}. Best is trial 11 with value: 0.7164989801847921.\n",
            "[I 2024-11-15 15:47:31,580] Trial 17 finished with value: 0.7041310402694588 and parameters: {'n_estimators': 12, 'max_depth': 10, 'max_features': 10}. Best is trial 11 with value: 0.7164989801847921.\n",
            "[I 2024-11-15 15:47:32,415] Trial 18 finished with value: 0.7020162309308953 and parameters: {'n_estimators': 111, 'max_depth': 7, 'max_features': 8}. Best is trial 11 with value: 0.7164989801847921.\n",
            "[I 2024-11-15 15:47:32,723] Trial 19 finished with value: 0.6459848671689842 and parameters: {'n_estimators': 41, 'max_depth': 4, 'max_features': 5}. Best is trial 11 with value: 0.7164989801847921.\n",
            "[I 2024-11-15 15:47:33,471] Trial 20 finished with value: 0.714353108096125 and parameters: {'n_estimators': 74, 'max_depth': 12, 'max_features': 11}. Best is trial 11 with value: 0.7164989801847921.\n",
            "[I 2024-11-15 15:47:33,867] Trial 21 finished with value: 0.7227783381133106 and parameters: {'n_estimators': 45, 'max_depth': 8, 'max_features': 9}. Best is trial 21 with value: 0.7227783381133106.\n",
            "[I 2024-11-15 15:47:34,212] Trial 22 finished with value: 0.7142050102870073 and parameters: {'n_estimators': 36, 'max_depth': 8, 'max_features': 9}. Best is trial 21 with value: 0.7227783381133106.\n",
            "[I 2024-11-15 15:47:34,731] Trial 23 finished with value: 0.7057620142724147 and parameters: {'n_estimators': 59, 'max_depth': 10, 'max_features': 7}. Best is trial 21 with value: 0.7227783381133106.\n",
            "[I 2024-11-15 15:47:35,721] Trial 24 finished with value: 0.7000583518126522 and parameters: {'n_estimators': 92, 'max_depth': 15, 'max_features': 11}. Best is trial 21 with value: 0.7227783381133106.\n",
            "[I 2024-11-15 15:47:35,956] Trial 25 finished with value: 0.6923319571509886 and parameters: {'n_estimators': 26, 'max_depth': 6, 'max_features': 10}. Best is trial 21 with value: 0.7227783381133106.\n",
            "[I 2024-11-15 15:47:36,354] Trial 26 finished with value: 0.6268165755684257 and parameters: {'n_estimators': 53, 'max_depth': 3, 'max_features': 13}. Best is trial 21 with value: 0.7227783381133106.\n",
            "[I 2024-11-15 15:47:36,935] Trial 27 finished with value: 0.709165353521266 and parameters: {'n_estimators': 70, 'max_depth': 8, 'max_features': 8}. Best is trial 21 with value: 0.7227783381133106.\n",
            "[I 2024-11-15 15:47:38,627] Trial 28 finished with value: 0.7180921616131952 and parameters: {'n_estimators': 133, 'max_depth': 11, 'max_features': 10}. Best is trial 21 with value: 0.7227783381133106.\n",
            "[I 2024-11-15 15:47:40,827] Trial 29 finished with value: 0.7083190639919984 and parameters: {'n_estimators': 135, 'max_depth': 14, 'max_features': 12}. Best is trial 21 with value: 0.7227783381133106.\n",
            "[I 2024-11-15 15:47:42,319] Trial 30 finished with value: 0.71001565262145 and parameters: {'n_estimators': 163, 'max_depth': 11, 'max_features': 10}. Best is trial 21 with value: 0.7227783381133106.\n",
            "[I 2024-11-15 15:47:43,226] Trial 31 finished with value: 0.7190662407285012 and parameters: {'n_estimators': 104, 'max_depth': 9, 'max_features': 10}. Best is trial 21 with value: 0.7227783381133106.\n",
            "[I 2024-11-15 15:47:44,161] Trial 32 finished with value: 0.7157762579758042 and parameters: {'n_estimators': 96, 'max_depth': 11, 'max_features': 12}. Best is trial 21 with value: 0.7227783381133106.\n",
            "[I 2024-11-15 15:47:45,318] Trial 33 finished with value: 0.7157884823590349 and parameters: {'n_estimators': 148, 'max_depth': 7, 'max_features': 11}. Best is trial 21 with value: 0.7227783381133106.\n",
            "[I 2024-11-15 15:47:46,381] Trial 34 finished with value: 0.7156638066366212 and parameters: {'n_estimators': 125, 'max_depth': 9, 'max_features': 10}. Best is trial 21 with value: 0.7227783381133106.\n",
            "[I 2024-11-15 15:47:47,117] Trial 35 finished with value: 0.6919589322381929 and parameters: {'n_estimators': 100, 'max_depth': 6, 'max_features': 8}. Best is trial 21 with value: 0.7227783381133106.\n",
            "[I 2024-11-15 15:47:48,429] Trial 36 finished with value: 0.6990092805178585 and parameters: {'n_estimators': 120, 'max_depth': 16, 'max_features': 13}. Best is trial 21 with value: 0.7227783381133106.\n",
            "[I 2024-11-15 15:47:49,314] Trial 37 finished with value: 0.3540889121537501 and parameters: {'n_estimators': 153, 'max_depth': 1, 'max_features': 12}. Best is trial 21 with value: 0.7227783381133106.\n",
            "[I 2024-11-15 15:47:50,618] Trial 38 finished with value: 0.7080398346721566 and parameters: {'n_estimators': 136, 'max_depth': 12, 'max_features': 11}. Best is trial 21 with value: 0.7227783381133106.\n",
            "[I 2024-11-15 15:47:51,415] Trial 39 finished with value: 0.6661059926904372 and parameters: {'n_estimators': 81, 'max_depth': 5, 'max_features': 10}. Best is trial 21 with value: 0.7227783381133106.\n",
            "[I 2024-11-15 15:47:54,156] Trial 40 finished with value: 0.7180113316413449 and parameters: {'n_estimators': 178, 'max_depth': 10, 'max_features': 14}. Best is trial 21 with value: 0.7227783381133106.\n",
            "[I 2024-11-15 15:47:56,131] Trial 41 finished with value: 0.7215260741897116 and parameters: {'n_estimators': 188, 'max_depth': 10, 'max_features': 14}. Best is trial 21 with value: 0.7227783381133106.\n",
            "[I 2024-11-15 15:47:57,902] Trial 42 finished with value: 0.7165423869088499 and parameters: {'n_estimators': 182, 'max_depth': 10, 'max_features': 14}. Best is trial 21 with value: 0.7227783381133106.\n",
            "[I 2024-11-15 15:47:59,986] Trial 43 finished with value: 0.7077255062282646 and parameters: {'n_estimators': 200, 'max_depth': 13, 'max_features': 14}. Best is trial 21 with value: 0.7227783381133106.\n",
            "[I 2024-11-15 15:48:01,607] Trial 44 finished with value: 0.7209457611752764 and parameters: {'n_estimators': 181, 'max_depth': 9, 'max_features': 13}. Best is trial 21 with value: 0.7227783381133106.\n",
            "[I 2024-11-15 15:48:03,252] Trial 45 finished with value: 0.7154415620217841 and parameters: {'n_estimators': 182, 'max_depth': 9, 'max_features': 13}. Best is trial 21 with value: 0.7227783381133106.\n",
            "[I 2024-11-15 15:48:05,410] Trial 46 finished with value: 0.7174188470871755 and parameters: {'n_estimators': 190, 'max_depth': 11, 'max_features': 13}. Best is trial 21 with value: 0.7227783381133106.\n",
            "[I 2024-11-15 15:48:07,667] Trial 47 finished with value: 0.7229186308000605 and parameters: {'n_estimators': 169, 'max_depth': 8, 'max_features': 12}. Best is trial 47 with value: 0.7229186308000605.\n",
            "[I 2024-11-15 15:48:09,248] Trial 48 finished with value: 0.7199165568730787 and parameters: {'n_estimators': 170, 'max_depth': 8, 'max_features': 12}. Best is trial 47 with value: 0.7229186308000605.\n",
            "[I 2024-11-15 15:48:10,632] Trial 49 finished with value: 0.7165687206522051 and parameters: {'n_estimators': 163, 'max_depth': 8, 'max_features': 12}. Best is trial 47 with value: 0.7229186308000605.\n",
            "[I 2024-11-15 15:48:11,661] Trial 50 finished with value: 0.6333597190981465 and parameters: {'n_estimators': 171, 'max_depth': 5, 'max_features': 3}. Best is trial 47 with value: 0.7229186308000605.\n",
            "[I 2024-11-15 15:48:13,048] Trial 51 finished with value: 0.7176129811471373 and parameters: {'n_estimators': 154, 'max_depth': 9, 'max_features': 13}. Best is trial 47 with value: 0.7229186308000605.\n",
            "[I 2024-11-15 15:48:14,546] Trial 52 finished with value: 0.7148126577363619 and parameters: {'n_estimators': 191, 'max_depth': 7, 'max_features': 12}. Best is trial 47 with value: 0.7229186308000605.\n",
            "[I 2024-11-15 15:48:16,147] Trial 53 finished with value: 0.7187947747540573 and parameters: {'n_estimators': 173, 'max_depth': 9, 'max_features': 14}. Best is trial 47 with value: 0.7229186308000605.\n",
            "[I 2024-11-15 15:48:17,766] Trial 54 finished with value: 0.7162591160096969 and parameters: {'n_estimators': 188, 'max_depth': 8, 'max_features': 13}. Best is trial 47 with value: 0.7229186308000605.\n",
            "[I 2024-11-15 15:48:19,644] Trial 55 finished with value: 0.7096915411658262 and parameters: {'n_estimators': 157, 'max_depth': 6, 'max_features': 12}. Best is trial 47 with value: 0.7229186308000605.\n",
            "[I 2024-11-15 15:48:22,030] Trial 56 finished with value: 0.7082830100101464 and parameters: {'n_estimators': 169, 'max_depth': 7, 'max_features': 9}. Best is trial 47 with value: 0.7229186308000605.\n",
            "[I 2024-11-15 15:48:23,237] Trial 57 finished with value: 0.7217918819716993 and parameters: {'n_estimators': 146, 'max_depth': 8, 'max_features': 11}. Best is trial 47 with value: 0.7229186308000605.\n",
            "[I 2024-11-15 15:48:24,681] Trial 58 finished with value: 0.7215456986223292 and parameters: {'n_estimators': 178, 'max_depth': 8, 'max_features': 11}. Best is trial 47 with value: 0.7229186308000605.\n",
            "[I 2024-11-15 15:48:25,970] Trial 59 finished with value: 0.6884822350864505 and parameters: {'n_estimators': 181, 'max_depth': 5, 'max_features': 11}. Best is trial 47 with value: 0.7229186308000605.\n",
            "[I 2024-11-15 15:48:27,705] Trial 60 finished with value: 0.7145535714285715 and parameters: {'n_estimators': 196, 'max_depth': 10, 'max_features': 11}. Best is trial 47 with value: 0.7229186308000605.\n",
            "[I 2024-11-15 15:48:29,635] Trial 61 finished with value: 0.7141526205659389 and parameters: {'n_estimators': 174, 'max_depth': 8, 'max_features': 12}. Best is trial 47 with value: 0.7229186308000605.\n",
            "[I 2024-11-15 15:48:31,410] Trial 62 finished with value: 0.721008264022121 and parameters: {'n_estimators': 162, 'max_depth': 7, 'max_features': 13}. Best is trial 47 with value: 0.7229186308000605.\n",
            "[I 2024-11-15 15:48:33,141] Trial 63 finished with value: 0.718734104564613 and parameters: {'n_estimators': 147, 'max_depth': 7, 'max_features': 14}. Best is trial 47 with value: 0.7229186308000605.\n",
            "[I 2024-11-15 15:48:34,963] Trial 64 finished with value: 0.6539356233024493 and parameters: {'n_estimators': 164, 'max_depth': 4, 'max_features': 13}. Best is trial 47 with value: 0.7229186308000605.\n",
            "[I 2024-11-15 15:48:36,329] Trial 65 finished with value: 0.7206725946277079 and parameters: {'n_estimators': 160, 'max_depth': 6, 'max_features': 14}. Best is trial 47 with value: 0.7229186308000605.\n",
            "[I 2024-11-15 15:48:38,008] Trial 66 finished with value: 0.7165830649856638 and parameters: {'n_estimators': 185, 'max_depth': 9, 'max_features': 13}. Best is trial 47 with value: 0.7229186308000605.\n",
            "[I 2024-11-15 15:48:39,122] Trial 67 finished with value: 0.7198880407124681 and parameters: {'n_estimators': 142, 'max_depth': 7, 'max_features': 11}. Best is trial 47 with value: 0.7229186308000605.\n",
            "[I 2024-11-15 15:48:40,959] Trial 68 finished with value: 0.7148856300043372 and parameters: {'n_estimators': 196, 'max_depth': 10, 'max_features': 13}. Best is trial 47 with value: 0.7229186308000605.\n",
            "[I 2024-11-15 15:48:42,430] Trial 69 finished with value: 0.7063646277386736 and parameters: {'n_estimators': 178, 'max_depth': 12, 'max_features': 6}. Best is trial 47 with value: 0.7229186308000605.\n",
            "[I 2024-11-15 15:48:43,668] Trial 70 finished with value: 0.7198058751988025 and parameters: {'n_estimators': 147, 'max_depth': 8, 'max_features': 12}. Best is trial 47 with value: 0.7229186308000605.\n",
            "[I 2024-11-15 15:48:44,920] Trial 71 finished with value: 0.7180654831543953 and parameters: {'n_estimators': 159, 'max_depth': 6, 'max_features': 14}. Best is trial 47 with value: 0.7229186308000605.\n",
            "[I 2024-11-15 15:48:47,026] Trial 72 finished with value: 0.7171523050761378 and parameters: {'n_estimators': 176, 'max_depth': 7, 'max_features': 14}. Best is trial 47 with value: 0.7229186308000605.\n",
            "[I 2024-11-15 15:48:48,812] Trial 73 finished with value: 0.7167462057085152 and parameters: {'n_estimators': 166, 'max_depth': 6, 'max_features': 13}. Best is trial 47 with value: 0.7229186308000605.\n",
            "[I 2024-11-15 15:48:49,947] Trial 74 finished with value: 0.6578361122594277 and parameters: {'n_estimators': 159, 'max_depth': 4, 'max_features': 14}. Best is trial 47 with value: 0.7229186308000605.\n",
            "[I 2024-11-15 15:48:50,824] Trial 75 finished with value: 0.6065361230329042 and parameters: {'n_estimators': 141, 'max_depth': 2, 'max_features': 11}. Best is trial 47 with value: 0.7229186308000605.\n",
            "[I 2024-11-15 15:48:52,119] Trial 76 finished with value: 0.715431608738772 and parameters: {'n_estimators': 151, 'max_depth': 9, 'max_features': 9}. Best is trial 47 with value: 0.7229186308000605.\n",
            "[I 2024-11-15 15:48:53,208] Trial 77 finished with value: 0.7209927112722655 and parameters: {'n_estimators': 128, 'max_depth': 8, 'max_features': 12}. Best is trial 47 with value: 0.7229186308000605.\n",
            "[I 2024-11-15 15:48:54,331] Trial 78 finished with value: 0.7119431485450903 and parameters: {'n_estimators': 127, 'max_depth': 10, 'max_features': 10}. Best is trial 47 with value: 0.7229186308000605.\n",
            "[I 2024-11-15 15:48:55,305] Trial 79 finished with value: 0.7172541314281805 and parameters: {'n_estimators': 111, 'max_depth': 8, 'max_features': 12}. Best is trial 47 with value: 0.7229186308000605.\n",
            "[I 2024-11-15 15:48:56,456] Trial 80 finished with value: 0.7106165511380489 and parameters: {'n_estimators': 119, 'max_depth': 11, 'max_features': 11}. Best is trial 47 with value: 0.7229186308000605.\n",
            "[I 2024-11-15 15:48:57,834] Trial 81 finished with value: 0.7211432188370602 and parameters: {'n_estimators': 167, 'max_depth': 7, 'max_features': 13}. Best is trial 47 with value: 0.7229186308000605.\n",
            "[I 2024-11-15 15:48:59,936] Trial 82 finished with value: 0.7157226047346001 and parameters: {'n_estimators': 186, 'max_depth': 7, 'max_features': 13}. Best is trial 47 with value: 0.7229186308000605.\n",
            "[I 2024-11-15 15:49:02,041] Trial 83 finished with value: 0.7182883571422521 and parameters: {'n_estimators': 167, 'max_depth': 9, 'max_features': 13}. Best is trial 47 with value: 0.7229186308000605.\n",
            "[I 2024-11-15 15:49:03,222] Trial 84 finished with value: 0.7231489016079947 and parameters: {'n_estimators': 140, 'max_depth': 8, 'max_features': 12}. Best is trial 84 with value: 0.7231489016079947.\n",
            "[I 2024-11-15 15:49:04,309] Trial 85 finished with value: 0.719517429341273 and parameters: {'n_estimators': 129, 'max_depth': 8, 'max_features': 12}. Best is trial 84 with value: 0.7231489016079947.\n",
            "[I 2024-11-15 15:49:05,490] Trial 86 finished with value: 0.7201197854690892 and parameters: {'n_estimators': 141, 'max_depth': 8, 'max_features': 12}. Best is trial 84 with value: 0.7231489016079947.\n",
            "[I 2024-11-15 15:49:06,435] Trial 87 finished with value: 0.672206297295392 and parameters: {'n_estimators': 133, 'max_depth': 5, 'max_features': 11}. Best is trial 84 with value: 0.7231489016079947.\n",
            "[I 2024-11-15 15:49:07,517] Trial 88 finished with value: 0.698293773536569 and parameters: {'n_estimators': 153, 'max_depth': 7, 'max_features': 7}. Best is trial 84 with value: 0.7231489016079947.\n",
            "[I 2024-11-15 15:49:07,746] Trial 89 finished with value: 0.6966406739734147 and parameters: {'n_estimators': 22, 'max_depth': 6, 'max_features': 11}. Best is trial 84 with value: 0.7231489016079947.\n",
            "[I 2024-11-15 15:49:09,063] Trial 90 finished with value: 0.714732210244634 and parameters: {'n_estimators': 150, 'max_depth': 10, 'max_features': 10}. Best is trial 84 with value: 0.7231489016079947.\n",
            "[I 2024-11-15 15:49:10,119] Trial 91 finished with value: 0.7174074087343953 and parameters: {'n_estimators': 117, 'max_depth': 9, 'max_features': 13}. Best is trial 84 with value: 0.7231489016079947.\n",
            "[I 2024-11-15 15:49:11,777] Trial 92 finished with value: 0.7196640908529915 and parameters: {'n_estimators': 193, 'max_depth': 8, 'max_features': 12}. Best is trial 84 with value: 0.7231489016079947.\n",
            "[I 2024-11-15 15:49:14,236] Trial 93 finished with value: 0.7249475236143735 and parameters: {'n_estimators': 182, 'max_depth': 9, 'max_features': 12}. Best is trial 93 with value: 0.7249475236143735.\n",
            "[I 2024-11-15 15:49:15,678] Trial 94 finished with value: 0.7156332933047685 and parameters: {'n_estimators': 137, 'max_depth': 7, 'max_features': 12}. Best is trial 93 with value: 0.7249475236143735.\n",
            "[I 2024-11-15 15:49:17,125] Trial 95 finished with value: 0.7191001124859393 and parameters: {'n_estimators': 171, 'max_depth': 8, 'max_features': 12}. Best is trial 93 with value: 0.7249475236143735.\n",
            "[I 2024-11-15 15:49:18,805] Trial 96 finished with value: 0.68980162280723 and parameters: {'n_estimators': 162, 'max_depth': 18, 'max_features': 11}. Best is trial 93 with value: 0.7249475236143735.\n",
            "[I 2024-11-15 15:49:20,223] Trial 97 finished with value: 0.7088567682419719 and parameters: {'n_estimators': 177, 'max_depth': 9, 'max_features': 8}. Best is trial 93 with value: 0.7249475236143735.\n",
            "[I 2024-11-15 15:49:21,948] Trial 98 finished with value: 0.7178286096515301 and parameters: {'n_estimators': 184, 'max_depth': 10, 'max_features': 13}. Best is trial 93 with value: 0.7249475236143735.\n",
            "[I 2024-11-15 15:49:23,324] Trial 99 finished with value: 0.7148116757220052 and parameters: {'n_estimators': 167, 'max_depth': 8, 'max_features': 11}. Best is trial 93 with value: 0.7249475236143735.\n"
          ]
        },
        {
          "output_type": "stream",
          "name": "stdout",
          "text": [
            "Best feature weights: {'n_estimators': 182, 'max_depth': 9, 'max_features': 12}\n",
            "Best f1: 0.7249475236143735\n"
          ]
        }
      ],
      "source": [
        "# hyper-parameters optimization\n",
        "\n",
        "# Define the objective function for Optuna\n",
        "def objective(trial):\n",
        "    # Initialize the RF model\n",
        "    model = RandomForestClassifier(n_estimators=trial.suggest_int('n_estimators', 10, 200), max_depth=trial.suggest_int('max_depth', 1, 20), max_features=trial.suggest_int('max_features', 1, 14))\n",
        "    # Evaluate the model using cross-validation\n",
        "    score = cross_val_score(model, X_train, y_train, cv=3, scoring='f1').mean()\n",
        "    # Return the score to maximize it\n",
        "    return score\n",
        "\n",
        "# Run the optimization\n",
        "study = optuna.create_study(direction='maximize')\n",
        "study.optimize(objective, n_trials=100)\n",
        "\n",
        "# Get the best weights\n",
        "print(\"Best feature weights:\", study.best_params)\n",
        "print(\"Best f1:\", study.best_value)"
      ]
    },
    {
      "cell_type": "code",
      "execution_count": null,
      "metadata": {
        "colab": {
          "base_uri": "https://localhost:8080/",
          "height": 660
        },
        "id": "cgXDurbfiPHw",
        "outputId": "e85ceb4f-26dc-49c6-b10d-7de3a96fc077"
      },
      "outputs": [
        {
          "output_type": "stream",
          "name": "stderr",
          "text": [
            "<ipython-input-286-45cd54c8b606>:4: UserWarning: \n",
            "\n",
            "`distplot` is a deprecated function and will be removed in seaborn v0.14.0.\n",
            "\n",
            "Please adapt your code to use either `displot` (a figure-level function with\n",
            "similar flexibility) or `histplot` (an axes-level function for histograms).\n",
            "\n",
            "For a guide to updating your code to use the new functions, please see\n",
            "https://gist.github.com/mwaskom/de44147ed2974457ad6372750bbe5751\n",
            "\n",
            "  sns.distplot(cv)\n"
          ]
        },
        {
          "output_type": "stream",
          "name": "stdout",
          "text": [
            "train CV f1:  0.7240468203102539\n",
            "test f1:  0.7847025495750708\n"
          ]
        },
        {
          "output_type": "display_data",
          "data": {
            "text/plain": [
              "<Figure size 640x480 with 1 Axes>"
            ],
            "image/png": "[encoded data removed]"
          },
          "metadata": {}
        }
      ],
      "source": [
        "# checking results of optimization\n",
        "rf_optimized = RandomForestClassifier(n_estimators=study.best_params['n_estimators'], max_depth=study.best_params['max_depth'], max_features=study.best_params['max_features'])\n",
        "cv = cross_val_score(rf_optimized, X_train, y_train, cv=10, scoring=\"f1\")\n",
        "sns.distplot(cv)\n",
        "print('train CV f1: ', cv.mean())\n",
        "\n",
        "rf_optimized.fit(X_train, y_train)\n",
        "print('test f1: ', f1_score(y_test, rf_optimized.predict(X_test)))"
      ]
    },
    {
      "cell_type": "markdown",
      "metadata": {
        "id": "ik259TpJkTK0"
      },
      "source": [
        "## **Models Comparison**"
      ]
    },
    {
      "cell_type": "code",
      "execution_count": null,
      "metadata": {
        "colab": {
          "base_uri": "https://localhost:8080/"
        },
        "id": "emNoiLzKkSfW",
        "outputId": "b2b69012-f3ea-4bf6-92ca-dd01a1bd3528"
      },
      "outputs": [
        {
          "output_type": "stream",
          "name": "stdout",
          "text": [
            "where all correct:  832\n",
            "\t\n",
            "where lg correct:  900\n",
            "where only lg correct:  24\n",
            "where lg mistake:  216\n",
            "\t\n",
            "whare knn correct: 925\n",
            "where only knn correct:  9\n",
            "where knn mistake:  191\n",
            "\t\n",
            "where rf correct:  964\n",
            "where only rf correct:  26\n",
            "where rf mistake:  152\n",
            "where rf mistake while other correct:  44\n",
            "\t\n",
            "where none correct: 108\n",
            "\t\n",
            "Mistake Reducing Potential:  28.947368421052634 %\n"
          ]
        }
      ],
      "source": [
        "# checking potential of combining the different model types\n",
        "combined = pd.DataFrame()\n",
        "combined['y'] = y_test\n",
        "\n",
        "X_test_lg = X_test.iloc[:, [i for i, use_feature in enumerate(feature_selection) if use_feature == 1]]\n",
        "X_test_knn = X_test * weighted_features\n",
        "\n",
        "combined['lg_optimized'] = lg_optimized.predict(X_test_lg)\n",
        "combined['knn_optimized'] = knn_optimized.predict(X_test_knn)\n",
        "combined['rf_optimized'] = rf_optimized.predict(X_test)\n",
        "\n",
        "all_correct = combined[(combined['y']==combined['lg_optimized']) & (combined['y']==combined['knn_optimized']) & (combined['y']==combined['rf_optimized'])].shape[0]\n",
        "\n",
        "lg_correct = combined[combined['y']==combined['lg_optimized']].shape[0]\n",
        "only_lg_correct = combined[(combined['y']==combined['lg_optimized']) & (combined['y']!=combined['knn_optimized']) & (combined['y']!=combined['rf_optimized'])].shape[0]\n",
        "lg_mistake = combined[combined['y']!=combined['lg_optimized']].shape[0]\n",
        "\n",
        "knn_correct = combined[combined['y']==combined['knn_optimized']].shape[0]\n",
        "only_knn_correct = combined[(combined['y']!=combined['lg_optimized']) & (combined['y']==combined['knn_optimized']) & (combined['y']!=combined['rf_optimized'])].shape[0]\n",
        "knn_mistake = combined[combined['y']!=combined['knn_optimized']].shape[0]\n",
        "\n",
        "rf_correct = combined[combined['y']==combined['rf_optimized']].shape[0]\n",
        "only_rf_correct = combined[(combined['y']!=combined['lg_optimized']) & (combined['y']!=combined['knn_optimized']) & (combined['y']==combined['rf_optimized'])].shape[0]\n",
        "rf_mistake = combined[combined['y']!=combined['rf_optimized']].shape[0]\n",
        "\n",
        "none_correct = combined[(combined['y']!=combined['lg_optimized']) & (combined['y']!=combined['knn_optimized']) & (combined['y']!=combined['rf_optimized'])].shape[0]\n",
        "rf_mistake_while_other_correct = combined[(((combined['y']==combined['lg_optimized']) | (combined['y']==combined['knn_optimized'])) & (combined['y']!=combined['rf_optimized']))].shape[0]\n",
        "\n",
        "\n",
        "print('where all correct: ', all_correct)\n",
        "print('\\t')\n",
        "print('where lg correct: ', lg_correct)\n",
        "print('where only lg correct: ', only_lg_correct)\n",
        "print('where lg mistake: ', lg_mistake)\n",
        "print('\\t')\n",
        "print('whare knn correct:', knn_correct)\n",
        "print('where only knn correct: ', only_knn_correct)\n",
        "print('where knn mistake: ', knn_mistake)\n",
        "print('\\t')\n",
        "print('where rf correct: ', rf_correct)\n",
        "print('where only rf correct: ', only_rf_correct)\n",
        "print('where rf mistake: ', rf_mistake)\n",
        "print('where rf mistake while other correct: ', rf_mistake_while_other_correct)\n",
        "print('\\t')\n",
        "print('where none correct:', none_correct)\n",
        "print('\\t')\n",
        "print('Mistake Reducing Potential: ', (rf_mistake_while_other_correct/rf_mistake)*100,'%')"
      ]
    },
    {
      "cell_type": "code",
      "source": [
        "from sklearn.metrics import roc_curve, auc\n",
        "import matplotlib.pyplot as plt\n",
        "\n",
        "# Get predicted probabilities for rf_optimized\n",
        "y_pred_proba_rf = rf_optimized.predict_proba(X_test)[:, 1]\n",
        "\n",
        "# Calculate ROC curve for rf_optimized\n",
        "fpr_rf, tpr_rf, thresholds_rf = roc_curve(y_test, y_pred_proba_rf)\n",
        "\n",
        "# Calculate AUC for rf_optimized\n",
        "roc_auc_rf = auc(fpr_rf, tpr_rf)\n",
        "\n",
        "# Get predicted probabilities for knn_optimized\n",
        "y_pred_proba_knn = knn_optimized.predict_proba(X_test_knn)[:, 1]\n",
        "\n",
        "# Calculate ROC curve for knn_optimized\n",
        "fpr_knn, tpr_knn, thresholds_knn = roc_curve(y_test, y_pred_proba_knn)\n",
        "\n",
        "# Calculate AUC for knn_optimized\n",
        "roc_auc_knn = auc(fpr_knn, tpr_knn)\n",
        "\n",
        "# Get predicted probabilities for lg_optimized\n",
        "y_pred_proba_lg = lg_optimized.predict_proba(X_test_lg)[:, 1]\n",
        "\n",
        "# Calculate ROC curve for lg_optimized\n",
        "fpr_lg, tpr_lg, thresholds_lg = roc_curve(y_test, y_pred_proba_lg)\n",
        "\n",
        "# Calculate AUC for lg_optimized\n",
        "roc_auc_lg = auc(fpr_lg, tpr_lg)\n",
        "\n",
        "# Plot all three ROC curves on the same plot\n",
        "plt.figure()\n",
        "plt.plot(fpr_rf, tpr_rf, color='darkorange', lw=2, label='RF ROC curve (area = %0.2f)' % roc_auc_rf)\n",
        "plt.plot(fpr_knn, tpr_knn, color='green', lw=2, label='KNN ROC curve (area = %0.2f)' % roc_auc_knn)\n",
        "plt.plot(fpr_lg, tpr_lg, color='blue', lw=2, label='LG ROC curve (area = %0.2f)' % roc_auc_lg)  # Added lg_optimized\n",
        "plt.plot([0, 1], [0, 1], color='navy', lw=2, linestyle='--')\n",
        "plt.xlim([0.0, 1.0])\n",
        "plt.ylim([0.0, 1.05])\n",
        "plt.xlabel('False Positive Rate')\n",
        "plt.ylabel('True Positive Rate')\n",
        "plt.title('Receiver Operating Characteristic (ROC)')\n",
        "plt.legend(loc=\"lower right\")\n",
        "plt.show()"
      ],
      "metadata": {
        "colab": {
          "base_uri": "https://localhost:8080/",
          "height": 472
        },
        "id": "ednUgcpdLLyQ",
        "outputId": "d0d7609e-eb17-455a-fb3d-63ab576aad7f"
      },
      "execution_count": null,
      "outputs": [
        {
          "output_type": "display_data",
          "data": {
            "text/plain": [
              "<Figure size 640x480 with 1 Axes>"
            ],
            "image/png": "[encoded data removed]"
          },
          "metadata": {}
        }
      ]
    },
    {
      "cell_type": "markdown",
      "source": [
        "if we make voting ensemble with 'soft' voting - we'll expect to get the same results as only using rf_optimized\n",
        "because the RF ROC is always on top of the other models - meaning it will always win the voting.\n",
        "While using 'hard' voting will mediate the models resluts, resluting in decreasing the current rf_optimized f1 score.\n",
        "\n",
        "Therefore, in order to combine effeciently the three models, we should find a more percise way of distinguishing between the areas where RF will be superior and the areas where other. Meaning we would like to create a model that can predict the best model to use on a specific record."
      ],
      "metadata": {
        "id": "lYymL_mKTNnZ"
      }
    },
    {
      "cell_type": "markdown",
      "source": [
        "## **Meta-Modeling**"
      ],
      "metadata": {
        "id": "T8gQ3x1XY_Ye"
      }
    },
    {
      "cell_type": "code",
      "source": [
        "from sklearn.base import BaseEstimator, ClassifierMixin\n",
        "\n",
        "class KNN_full(BaseEstimator, ClassifierMixin):\n",
        "    def __init__(self, weighted_features, knn_model):\n",
        "        self.weighted_features = weighted_features\n",
        "        self.knn_model = knn_model\n",
        "\n",
        "    def fit(self, X, y):\n",
        "        # Fit the knn_model\n",
        "        X_weighted = X * self.weighted_features\n",
        "        self.knn_model.fit(X_weighted, y)\n",
        "        return self\n",
        "\n",
        "    def predict(self, X):\n",
        "        # Weight the features and then predict\n",
        "        X_weighted = X * self.weighted_features\n",
        "        return self.knn_model.predict(X_weighted)\n",
        "\n",
        "    def predict_proba(self, X):\n",
        "        # Weight the features and then predict\n",
        "        X_weighted = X * self.weighted_features\n",
        "        return self.knn_model.predict_proba(X_weighted)\n",
        "\n",
        "# Assuming knn_optimized and weighted_features are already defined\n",
        "KNN = KNN_full(weighted_features, knn_optimized)\n",
        "\n",
        "# Fit the classifier to the training data\n",
        "KNN.fit(X_train, y_train)\n",
        "\n",
        "# Make predictions on the test data\n",
        "f1_score(y_test, KNN.predict(X_test))"
      ],
      "metadata": {
        "colab": {
          "base_uri": "https://localhost:8080/"
        },
        "id": "RZpAXFpySGEk",
        "outputId": "5dcc9851-0848-4f9c-ddee-7e074f5b4f2d"
      },
      "execution_count": null,
      "outputs": [
        {
          "output_type": "execute_result",
          "data": {
            "text/plain": [
              "0.7187039764359352"
            ]
          },
          "metadata": {},
          "execution_count": 289
        }
      ]
    },
    {
      "cell_type": "code",
      "source": [
        "class LG_full(BaseEstimator, ClassifierMixin):\n",
        "    def __init__(self, feature_selection, lg_model):\n",
        "        self.feature_selection = feature_selection\n",
        "        self.lg_model = lg_model\n",
        "\n",
        "    def fit(self, X, y):\n",
        "        # Filter the features based on feature_selection\n",
        "        X_filtered = X.iloc[:, [i for i, use_feature in enumerate(self.feature_selection) if use_feature == 1]]\n",
        "\n",
        "        # Fit the internal lg_model\n",
        "        self.lg_model.fit(X_filtered, y)\n",
        "        return self\n",
        "\n",
        "    def predict(self, X):\n",
        "        # Filter the features and predict using the lg_model\n",
        "        X_filtered = X.iloc[:, [i for i, use_feature in enumerate(self.feature_selection) if use_feature == 1]]\n",
        "        return self.lg_model.predict(X_filtered)\n",
        "\n",
        "    def predict_proba(self, X):\n",
        "        # Filter the features and use the lg_model's predict_proba\n",
        "        X_filtered = X.iloc[:, [i for i, use_feature in enumerate(self.feature_selection) if use_feature == 1]]\n",
        "        return self.lg_model.predict_proba(X_filtered)\n",
        "\n",
        "# Assuming lg_optimized and feature_selection are already defined\n",
        "LG = LG_full(feature_selection, lg_optimized)\n",
        "\n",
        "# Fit the classifier to the training data\n",
        "LG.fit(X_train, y_train)\n",
        "\n",
        "# Make predictions on the test data\n",
        "f1_score(y_test, LG.predict(X_test))"
      ],
      "metadata": {
        "colab": {
          "base_uri": "https://localhost:8080/"
        },
        "id": "d6gVrh5cYVto",
        "outputId": "faa06f5a-31ce-40fc-f9a9-4e82eb671a06"
      },
      "execution_count": null,
      "outputs": [
        {
          "output_type": "execute_result",
          "data": {
            "text/plain": [
              "0.6823529411764706"
            ]
          },
          "metadata": {},
          "execution_count": 290
        }
      ]
    },
    {
      "cell_type": "code",
      "source": [
        "RF = rf_optimized"
      ],
      "metadata": {
        "id": "wbry69CJY0jK"
      },
      "execution_count": null,
      "outputs": []
    },
    {
      "cell_type": "code",
      "source": [
        "predictions_results = X_train.copy()\n",
        "predictions_results['y'] = y_train\n",
        "predictions_results['rf'] = RF.predict(X_train)\n",
        "predictions_results['knn'] = KNN.predict(X_train)\n",
        "predictions_results['lg'] = LG.predict(X_train)\n",
        "predictions_results['should_not_use_rf'] =  (predictions_results['rf'] != predictions_results['y']) & \\\n",
        "                                          ((predictions_results['knn'] == predictions_results['y']) | (predictions_results['lg']== predictions_results['y']))\n",
        "\n",
        "predictions_results"
      ],
      "metadata": {
        "colab": {
          "base_uri": "https://localhost:8080/",
          "height": 443
        },
        "id": "fSxFoS1cZGBZ",
        "outputId": "57e72c83-b173-46f2-9d62-de8f4abc2829"
      },
      "execution_count": null,
      "outputs": [
        {
          "output_type": "execute_result",
          "data": {
            "text/plain": [
              "      multi_cat__Education_Bachelors  multi_cat__Education_Masters  \\\n",
              "2400                             1.0                           0.0   \n",
              "2887                             1.0                           0.0   \n",
              "2852                             1.0                           0.0   \n",
              "1213                             0.0                           1.0   \n",
              "2392                             1.0                           0.0   \n",
              "...                              ...                           ...   \n",
              "1130                             1.0                           0.0   \n",
              "1294                             0.0                           1.0   \n",
              "860                              1.0                           0.0   \n",
              "3507                             1.0                           0.0   \n",
              "3174                             0.0                           1.0   \n",
              "\n",
              "      multi_cat__Education_PHD  multi_cat__JoiningYear_2012  \\\n",
              "2400                       0.0                          0.0   \n",
              "2887                       0.0                          0.0   \n",
              "2852                       0.0                          0.0   \n",
              "1213                       0.0                          0.0   \n",
              "2392                       0.0                          0.0   \n",
              "...                        ...                          ...   \n",
              "1130                       0.0                          0.0   \n",
              "1294                       0.0                          0.0   \n",
              "860                        0.0                          0.0   \n",
              "3507                       0.0                          0.0   \n",
              "3174                       0.0                          0.0   \n",
              "\n",
              "      multi_cat__JoiningYear_2013  multi_cat__JoiningYear_2014  \\\n",
              "2400                          0.0                          0.0   \n",
              "2887                          0.0                          0.0   \n",
              "2852                          0.0                          0.0   \n",
              "1213                          0.0                          0.0   \n",
              "2392                          0.0                          1.0   \n",
              "...                           ...                          ...   \n",
              "1130                          0.0                          0.0   \n",
              "1294                          0.0                          0.0   \n",
              "860                           0.0                          1.0   \n",
              "3507                          0.0                          0.0   \n",
              "3174                          0.0                          0.0   \n",
              "\n",
              "      multi_cat__JoiningYear_2015  multi_cat__JoiningYear_2016  \\\n",
              "2400                          0.0                          0.0   \n",
              "2887                          0.0                          0.0   \n",
              "2852                          0.0                          0.0   \n",
              "1213                          0.0                          0.0   \n",
              "2392                          0.0                          0.0   \n",
              "...                           ...                          ...   \n",
              "1130                          0.0                          1.0   \n",
              "1294                          0.0                          0.0   \n",
              "860                           0.0                          0.0   \n",
              "3507                          0.0                          0.0   \n",
              "3174                          0.0                          0.0   \n",
              "\n",
              "      multi_cat__JoiningYear_2017  multi_cat__JoiningYear_2018  ...  \\\n",
              "2400                          1.0                          0.0  ...   \n",
              "2887                          0.0                          1.0  ...   \n",
              "2852                          0.0                          1.0  ...   \n",
              "1213                          1.0                          0.0  ...   \n",
              "2392                          0.0                          0.0  ...   \n",
              "...                           ...                          ...  ...   \n",
              "1130                          0.0                          0.0  ...   \n",
              "1294                          0.0                          1.0  ...   \n",
              "860                           0.0                          0.0  ...   \n",
              "3507                          0.0                          1.0  ...   \n",
              "3174                          1.0                          0.0  ...   \n",
              "\n",
              "      multi_cat__Race_white  multi_cat__Race_yellow  binary_cat__Gender_Male  \\\n",
              "2400                    1.0                     0.0                      1.0   \n",
              "2887                    0.0                     0.0                      1.0   \n",
              "2852                    0.0                     0.0                      1.0   \n",
              "1213                    0.0                     0.0                      1.0   \n",
              "2392                    1.0                     0.0                      1.0   \n",
              "...                     ...                     ...                      ...   \n",
              "1130                    1.0                     0.0                      1.0   \n",
              "1294                    0.0                     0.0                      0.0   \n",
              "860                     0.0                     0.0                      0.0   \n",
              "3507                    1.0                     0.0                      1.0   \n",
              "3174                    0.0                     0.0                      0.0   \n",
              "\n",
              "      binary_cat__EverBenched_Yes  scaler__Age  y  rf  knn  lg  \\\n",
              "2400                          0.0         0.70  0   0    0   0   \n",
              "2887                          0.0         0.20  1   1    1   1   \n",
              "2852                          0.0         0.20  1   1    1   1   \n",
              "1213                          0.0         0.10  0   0    0   0   \n",
              "2392                          0.0         0.55  1   0    0   0   \n",
              "...                           ...          ... ..  ..  ...  ..   \n",
              "1130                          0.0         0.25  0   0    0   0   \n",
              "1294                          0.0         0.20  1   1    1   1   \n",
              "860                           0.0         0.55  1   1    1   0   \n",
              "3507                          0.0         0.25  1   1    1   1   \n",
              "3174                          0.0         0.10  1   1    0   1   \n",
              "\n",
              "      should_not_use_rf  \n",
              "2400              False  \n",
              "2887              False  \n",
              "2852              False  \n",
              "1213              False  \n",
              "2392              False  \n",
              "...                 ...  \n",
              "1130              False  \n",
              "1294              False  \n",
              "860               False  \n",
              "3507              False  \n",
              "3174              False  \n",
              "\n",
              "[2604 rows x 36 columns]"
            ],
            "text/html": [
              "\n",
              "  <div id=\"df-d78d3190-5f98-4ec9-9e08-01e848be6f43\" class=\"colab-df-container\">\n",
              "    <div>\n",
              "<style scoped>\n",
              "    .dataframe tbody tr th:only-of-type {\n",
              "        vertical-align: middle;\n",
              "    }\n",
              "\n",
              "    .dataframe tbody tr th {\n",
              "        vertical-align: top;\n",
              "    }\n",
              "\n",
              "    .dataframe thead th {\n",
              "        text-align: right;\n",
              "    }\n",
              "</style>\n",
              "<table border=\"1\" class=\"dataframe\">\n",
              "  <thead>\n",
              "    <tr style=\"text-align: right;\">\n",
              "      <th></th>\n",
              "      <th>multi_cat__Education_Bachelors</th>\n",
              "      <th>multi_cat__Education_Masters</th>\n",
              "      <th>multi_cat__Education_PHD</th>\n",
              "      <th>multi_cat__JoiningYear_2012</th>\n",
              "      <th>multi_cat__JoiningYear_2013</th>\n",
              "      <th>multi_cat__JoiningYear_2014</th>\n",
              "      <th>multi_cat__JoiningYear_2015</th>\n",
              "      <th>multi_cat__JoiningYear_2016</th>\n",
              "      <th>multi_cat__JoiningYear_2017</th>\n",
              "      <th>multi_cat__JoiningYear_2018</th>\n",
              "      <th>...</th>\n",
              "      <th>multi_cat__Race_white</th>\n",
              "      <th>multi_cat__Race_yellow</th>\n",
              "      <th>binary_cat__Gender_Male</th>\n",
              "      <th>binary_cat__EverBenched_Yes</th>\n",
              "      <th>scaler__Age</th>\n",
              "      <th>y</th>\n",
              "      <th>rf</th>\n",
              "      <th>knn</th>\n",
              "      <th>lg</th>\n",
              "      <th>should_not_use_rf</th>\n",
              "    </tr>\n",
              "  </thead>\n",
              "  <tbody>\n",
              "    <tr>\n",
              "      <th>2400</th>\n",
              "      <td>1.0</td>\n",
              "      <td>0.0</td>\n",
              "      <td>0.0</td>\n",
              "      <td>0.0</td>\n",
              "      <td>0.0</td>\n",
              "      <td>0.0</td>\n",
              "      <td>0.0</td>\n",
              "      <td>0.0</td>\n",
              "      <td>1.0</td>\n",
              "      <td>0.0</td>\n",
              "      <td>...</td>\n",
              "      <td>1.0</td>\n",
              "      <td>0.0</td>\n",
              "      <td>1.0</td>\n",
              "      <td>0.0</td>\n",
              "      <td>0.70</td>\n",
              "      <td>0</td>\n",
              "      <td>0</td>\n",
              "      <td>0</td>\n",
              "      <td>0</td>\n",
              "      <td>False</td>\n",
              "    </tr>\n",
              "    <tr>\n",
              "      <th>2887</th>\n",
              "      <td>1.0</td>\n",
              "      <td>0.0</td>\n",
              "      <td>0.0</td>\n",
              "      <td>0.0</td>\n",
              "      <td>0.0</td>\n",
              "      <td>0.0</td>\n",
              "      <td>0.0</td>\n",
              "      <td>0.0</td>\n",
              "      <td>0.0</td>\n",
              "      <td>1.0</td>\n",
              "      <td>...</td>\n",
              "      <td>0.0</td>\n",
              "      <td>0.0</td>\n",
              "      <td>1.0</td>\n",
              "      <td>0.0</td>\n",
              "      <td>0.20</td>\n",
              "      <td>1</td>\n",
              "      <td>1</td>\n",
              "      <td>1</td>\n",
              "      <td>1</td>\n",
              "      <td>False</td>\n",
              "    </tr>\n",
              "    <tr>\n",
              "      <th>2852</th>\n",
              "      <td>1.0</td>\n",
              "      <td>0.0</td>\n",
              "      <td>0.0</td>\n",
              "      <td>0.0</td>\n",
              "      <td>0.0</td>\n",
              "      <td>0.0</td>\n",
              "      <td>0.0</td>\n",
              "      <td>0.0</td>\n",
              "      <td>0.0</td>\n",
              "      <td>1.0</td>\n",
              "      <td>...</td>\n",
              "      <td>0.0</td>\n",
              "      <td>0.0</td>\n",
              "      <td>1.0</td>\n",
              "      <td>0.0</td>\n",
              "      <td>0.20</td>\n",
              "      <td>1</td>\n",
              "      <td>1</td>\n",
              "      <td>1</td>\n",
              "      <td>1</td>\n",
              "      <td>False</td>\n",
              "    </tr>\n",
              "    <tr>\n",
              "      <th>1213</th>\n",
              "      <td>0.0</td>\n",
              "      <td>1.0</td>\n",
              "      <td>0.0</td>\n",
              "      <td>0.0</td>\n",
              "      <td>0.0</td>\n",
              "      <td>0.0</td>\n",
              "      <td>0.0</td>\n",
              "      <td>0.0</td>\n",
              "      <td>1.0</td>\n",
              "      <td>0.0</td>\n",
              "      <td>...</td>\n",
              "      <td>0.0</td>\n",
              "      <td>0.0</td>\n",
              "      <td>1.0</td>\n",
              "      <td>0.0</td>\n",
              "      <td>0.10</td>\n",
              "      <td>0</td>\n",
              "      <td>0</td>\n",
              "      <td>0</td>\n",
              "      <td>0</td>\n",
              "      <td>False</td>\n",
              "    </tr>\n",
              "    <tr>\n",
              "      <th>2392</th>\n",
              "      <td>1.0</td>\n",
              "      <td>0.0</td>\n",
              "      <td>0.0</td>\n",
              "      <td>0.0</td>\n",
              "      <td>0.0</td>\n",
              "      <td>1.0</td>\n",
              "      <td>0.0</td>\n",
              "      <td>0.0</td>\n",
              "      <td>0.0</td>\n",
              "      <td>0.0</td>\n",
              "      <td>...</td>\n",
              "      <td>1.0</td>\n",
              "      <td>0.0</td>\n",
              "      <td>1.0</td>\n",
              "      <td>0.0</td>\n",
              "      <td>0.55</td>\n",
              "      <td>1</td>\n",
              "      <td>0</td>\n",
              "      <td>0</td>\n",
              "      <td>0</td>\n",
              "      <td>False</td>\n",
              "    </tr>\n",
              "    <tr>\n",
              "      <th>...</th>\n",
              "      <td>...</td>\n",
              "      <td>...</td>\n",
              "      <td>...</td>\n",
              "      <td>...</td>\n",
              "      <td>...</td>\n",
              "      <td>...</td>\n",
              "      <td>...</td>\n",
              "      <td>...</td>\n",
              "      <td>...</td>\n",
              "      <td>...</td>\n",
              "      <td>...</td>\n",
              "      <td>...</td>\n",
              "      <td>...</td>\n",
              "      <td>...</td>\n",
              "      <td>...</td>\n",
              "      <td>...</td>\n",
              "      <td>...</td>\n",
              "      <td>...</td>\n",
              "      <td>...</td>\n",
              "      <td>...</td>\n",
              "      <td>...</td>\n",
              "    </tr>\n",
              "    <tr>\n",
              "      <th>1130</th>\n",
              "      <td>1.0</td>\n",
              "      <td>0.0</td>\n",
              "      <td>0.0</td>\n",
              "      <td>0.0</td>\n",
              "      <td>0.0</td>\n",
              "      <td>0.0</td>\n",
              "      <td>0.0</td>\n",
              "      <td>1.0</td>\n",
              "      <td>0.0</td>\n",
              "      <td>0.0</td>\n",
              "      <td>...</td>\n",
              "      <td>1.0</td>\n",
              "      <td>0.0</td>\n",
              "      <td>1.0</td>\n",
              "      <td>0.0</td>\n",
              "      <td>0.25</td>\n",
              "      <td>0</td>\n",
              "      <td>0</td>\n",
              "      <td>0</td>\n",
              "      <td>0</td>\n",
              "      <td>False</td>\n",
              "    </tr>\n",
              "    <tr>\n",
              "      <th>1294</th>\n",
              "      <td>0.0</td>\n",
              "      <td>1.0</td>\n",
              "      <td>0.0</td>\n",
              "      <td>0.0</td>\n",
              "      <td>0.0</td>\n",
              "      <td>0.0</td>\n",
              "      <td>0.0</td>\n",
              "      <td>0.0</td>\n",
              "      <td>0.0</td>\n",
              "      <td>1.0</td>\n",
              "      <td>...</td>\n",
              "      <td>0.0</td>\n",
              "      <td>0.0</td>\n",
              "      <td>0.0</td>\n",
              "      <td>0.0</td>\n",
              "      <td>0.20</td>\n",
              "      <td>1</td>\n",
              "      <td>1</td>\n",
              "      <td>1</td>\n",
              "      <td>1</td>\n",
              "      <td>False</td>\n",
              "    </tr>\n",
              "    <tr>\n",
              "      <th>860</th>\n",
              "      <td>1.0</td>\n",
              "      <td>0.0</td>\n",
              "      <td>0.0</td>\n",
              "      <td>0.0</td>\n",
              "      <td>0.0</td>\n",
              "      <td>1.0</td>\n",
              "      <td>0.0</td>\n",
              "      <td>0.0</td>\n",
              "      <td>0.0</td>\n",
              "      <td>0.0</td>\n",
              "      <td>...</td>\n",
              "      <td>0.0</td>\n",
              "      <td>0.0</td>\n",
              "      <td>0.0</td>\n",
              "      <td>0.0</td>\n",
              "      <td>0.55</td>\n",
              "      <td>1</td>\n",
              "      <td>1</td>\n",
              "      <td>1</td>\n",
              "      <td>0</td>\n",
              "      <td>False</td>\n",
              "    </tr>\n",
              "    <tr>\n",
              "      <th>3507</th>\n",
              "      <td>1.0</td>\n",
              "      <td>0.0</td>\n",
              "      <td>0.0</td>\n",
              "      <td>0.0</td>\n",
              "      <td>0.0</td>\n",
              "      <td>0.0</td>\n",
              "      <td>0.0</td>\n",
              "      <td>0.0</td>\n",
              "      <td>0.0</td>\n",
              "      <td>1.0</td>\n",
              "      <td>...</td>\n",
              "      <td>1.0</td>\n",
              "      <td>0.0</td>\n",
              "      <td>1.0</td>\n",
              "      <td>0.0</td>\n",
              "      <td>0.25</td>\n",
              "      <td>1</td>\n",
              "      <td>1</td>\n",
              "      <td>1</td>\n",
              "      <td>1</td>\n",
              "      <td>False</td>\n",
              "    </tr>\n",
              "    <tr>\n",
              "      <th>3174</th>\n",
              "      <td>0.0</td>\n",
              "      <td>1.0</td>\n",
              "      <td>0.0</td>\n",
              "      <td>0.0</td>\n",
              "      <td>0.0</td>\n",
              "      <td>0.0</td>\n",
              "      <td>0.0</td>\n",
              "      <td>0.0</td>\n",
              "      <td>1.0</td>\n",
              "      <td>0.0</td>\n",
              "      <td>...</td>\n",
              "      <td>0.0</td>\n",
              "      <td>0.0</td>\n",
              "      <td>0.0</td>\n",
              "      <td>0.0</td>\n",
              "      <td>0.10</td>\n",
              "      <td>1</td>\n",
              "      <td>1</td>\n",
              "      <td>0</td>\n",
              "      <td>1</td>\n",
              "      <td>False</td>\n",
              "    </tr>\n",
              "  </tbody>\n",
              "</table>\n",
              "<p>2604 rows × 36 columns</p>\n",
              "</div>\n",
              "    <div class=\"colab-df-buttons\">\n",
              "\n",
              "  <div class=\"colab-df-container\">\n",
              "    <button class=\"colab-df-convert\" onclick=\"convertToInteractive('df-d78d3190-5f98-4ec9-9e08-01e848be6f43')\"\n",
              "            title=\"Convert this dataframe to an interactive table.\"\n",
              "            style=\"display:none;\">\n",
              "\n",
              "  <svg xmlns=\"http://www.w3.org/2000/svg\" height=\"24px\" viewBox=\"0 -960 960 960\">\n",
              "    <path d=\"M120-120v-720h720v720H120Zm60-500h600v-160H180v160Zm220 220h160v-160H400v160Zm0 220h160v-160H400v160ZM180-400h160v-160H180v160Zm440 0h160v-160H620v160ZM180-180h160v-160H180v160Zm440 0h160v-160H620v160Z\"/>\n",
              "  </svg>\n",
              "    </button>\n",
              "\n",
              "  <style>\n",
              "    .colab-df-container {\n",
              "      display:flex;\n",
              "      gap: 12px;\n",
              "    }\n",
              "\n",
              "    .colab-df-convert {\n",
              "      background-color: #E8F0FE;\n",
              "      border: none;\n",
              "      border-radius: 50%;\n",
              "      cursor: pointer;\n",
              "      display: none;\n",
              "      fill: #1967D2;\n",
              "      height: 32px;\n",
              "      padding: 0 0 0 0;\n",
              "      width: 32px;\n",
              "    }\n",
              "\n",
              "    .colab-df-convert:hover {\n",
              "      background-color: #E2EBFA;\n",
              "      box-shadow: 0px 1px 2px rgba(60, 64, 67, 0.3), 0px 1px 3px 1px rgba(60, 64, 67, 0.15);\n",
              "      fill: #174EA6;\n",
              "    }\n",
              "\n",
              "    .colab-df-buttons div {\n",
              "      margin-bottom: 4px;\n",
              "    }\n",
              "\n",
              "    [theme=dark] .colab-df-convert {\n",
              "      background-color: #3B4455;\n",
              "      fill: #D2E3FC;\n",
              "    }\n",
              "\n",
              "    [theme=dark] .colab-df-convert:hover {\n",
              "      background-color: #434B5C;\n",
              "      box-shadow: 0px 1px 3px 1px rgba(0, 0, 0, 0.15);\n",
              "      filter: drop-shadow(0px 1px 2px rgba(0, 0, 0, 0.3));\n",
              "      fill: #FFFFFF;\n",
              "    }\n",
              "  </style>\n",
              "\n",
              "    <script>\n",
              "      const buttonEl =\n",
              "        document.querySelector('#df-d78d3190-5f98-4ec9-9e08-01e848be6f43 button.colab-df-convert');\n",
              "      buttonEl.style.display =\n",
              "        google.colab.kernel.accessAllowed ? 'block' : 'none';\n",
              "\n",
              "      async function convertToInteractive(key) {\n",
              "        const element = document.querySelector('#df-d78d3190-5f98-4ec9-9e08-01e848be6f43');\n",
              "        const dataTable =\n",
              "          await google.colab.kernel.invokeFunction('convertToInteractive',\n",
              "                                                    [key], {});\n",
              "        if (!dataTable) return;\n",
              "\n",
              "        const docLinkHtml = 'Like what you see? Visit the ' +\n",
              "          '<a target=\"_blank\" href=https://colab.research.google.com/notebooks/data_table.ipynb>data table notebook</a>'\n",
              "          + ' to learn more about interactive tables.';\n",
              "        element.innerHTML = '';\n",
              "        dataTable['output_type'] = 'display_data';\n",
              "        await google.colab.output.renderOutput(dataTable, element);\n",
              "        const docLink = document.createElement('div');\n",
              "        docLink.innerHTML = docLinkHtml;\n",
              "        element.appendChild(docLink);\n",
              "      }\n",
              "    </script>\n",
              "  </div>\n",
              "\n",
              "\n",
              "<div id=\"df-b9f27129-9c2d-4f4e-8ad7-7151b754e72b\">\n",
              "  <button class=\"colab-df-quickchart\" onclick=\"quickchart('df-b9f27129-9c2d-4f4e-8ad7-7151b754e72b')\"\n",
              "            title=\"Suggest charts\"\n",
              "            style=\"display:none;\">\n",
              "\n",
              "<svg xmlns=\"http://www.w3.org/2000/svg\" height=\"24px\"viewBox=\"0 0 24 24\"\n",
              "     width=\"24px\">\n",
              "    <g>\n",
              "        <path d=\"M19 3H5c-1.1 0-2 .9-2 2v14c0 1.1.9 2 2 2h14c1.1 0 2-.9 2-2V5c0-1.1-.9-2-2-2zM9 17H7v-7h2v7zm4 0h-2V7h2v10zm4 0h-2v-4h2v4z\"/>\n",
              "    </g>\n",
              "</svg>\n",
              "  </button>\n",
              "\n",
              "<style>\n",
              "  .colab-df-quickchart {\n",
              "      --bg-color: #E8F0FE;\n",
              "      --fill-color: #1967D2;\n",
              "      --hover-bg-color: #E2EBFA;\n",
              "      --hover-fill-color: #174EA6;\n",
              "      --disabled-fill-color: #AAA;\n",
              "      --disabled-bg-color: #DDD;\n",
              "  }\n",
              "\n",
              "  [theme=dark] .colab-df-quickchart {\n",
              "      --bg-color: #3B4455;\n",
              "      --fill-color: #D2E3FC;\n",
              "      --hover-bg-color: #434B5C;\n",
              "      --hover-fill-color: #FFFFFF;\n",
              "      --disabled-bg-color: #3B4455;\n",
              "      --disabled-fill-color: #666;\n",
              "  }\n",
              "\n",
              "  .colab-df-quickchart {\n",
              "    background-color: var(--bg-color);\n",
              "    border: none;\n",
              "    border-radius: 50%;\n",
              "    cursor: pointer;\n",
              "    display: none;\n",
              "    fill: var(--fill-color);\n",
              "    height: 32px;\n",
              "    padding: 0;\n",
              "    width: 32px;\n",
              "  }\n",
              "\n",
              "  .colab-df-quickchart:hover {\n",
              "    background-color: var(--hover-bg-color);\n",
              "    box-shadow: 0 1px 2px rgba(60, 64, 67, 0.3), 0 1px 3px 1px rgba(60, 64, 67, 0.15);\n",
              "    fill: var(--button-hover-fill-color);\n",
              "  }\n",
              "\n",
              "  .colab-df-quickchart-complete:disabled,\n",
              "  .colab-df-quickchart-complete:disabled:hover {\n",
              "    background-color: var(--disabled-bg-color);\n",
              "    fill: var(--disabled-fill-color);\n",
              "    box-shadow: none;\n",
              "  }\n",
              "\n",
              "  .colab-df-spinner {\n",
              "    border: 2px solid var(--fill-color);\n",
              "    border-color: transparent;\n",
              "    border-bottom-color: var(--fill-color);\n",
              "    animation:\n",
              "      spin 1s steps(1) infinite;\n",
              "  }\n",
              "\n",
              "  @keyframes spin {\n",
              "    0% {\n",
              "      border-color: transparent;\n",
              "      border-bottom-color: var(--fill-color);\n",
              "      border-left-color: var(--fill-color);\n",
              "    }\n",
              "    20% {\n",
              "      border-color: transparent;\n",
              "      border-left-color: var(--fill-color);\n",
              "      border-top-color: var(--fill-color);\n",
              "    }\n",
              "    30% {\n",
              "      border-color: transparent;\n",
              "      border-left-color: var(--fill-color);\n",
              "      border-top-color: var(--fill-color);\n",
              "      border-right-color: var(--fill-color);\n",
              "    }\n",
              "    40% {\n",
              "      border-color: transparent;\n",
              "      border-right-color: var(--fill-color);\n",
              "      border-top-color: var(--fill-color);\n",
              "    }\n",
              "    60% {\n",
              "      border-color: transparent;\n",
              "      border-right-color: var(--fill-color);\n",
              "    }\n",
              "    80% {\n",
              "      border-color: transparent;\n",
              "      border-right-color: var(--fill-color);\n",
              "      border-bottom-color: var(--fill-color);\n",
              "    }\n",
              "    90% {\n",
              "      border-color: transparent;\n",
              "      border-bottom-color: var(--fill-color);\n",
              "    }\n",
              "  }\n",
              "</style>\n",
              "\n",
              "  <script>\n",
              "    async function quickchart(key) {\n",
              "      const quickchartButtonEl =\n",
              "        document.querySelector('#' + key + ' button');\n",
              "      quickchartButtonEl.disabled = true;  // To prevent multiple clicks.\n",
              "      quickchartButtonEl.classList.add('colab-df-spinner');\n",
              "      try {\n",
              "        const charts = await google.colab.kernel.invokeFunction(\n",
              "            'suggestCharts', [key], {});\n",
              "      } catch (error) {\n",
              "        console.error('Error during call to suggestCharts:', error);\n",
              "      }\n",
              "      quickchartButtonEl.classList.remove('colab-df-spinner');\n",
              "      quickchartButtonEl.classList.add('colab-df-quickchart-complete');\n",
              "    }\n",
              "    (() => {\n",
              "      let quickchartButtonEl =\n",
              "        document.querySelector('#df-b9f27129-9c2d-4f4e-8ad7-7151b754e72b button');\n",
              "      quickchartButtonEl.style.display =\n",
              "        google.colab.kernel.accessAllowed ? 'block' : 'none';\n",
              "    })();\n",
              "  </script>\n",
              "</div>\n",
              "\n",
              "  <div id=\"id_0bad965b-989b-4a2a-8e51-45b60cd2c01e\">\n",
              "    <style>\n",
              "      .colab-df-generate {\n",
              "        background-color: #E8F0FE;\n",
              "        border: none;\n",
              "        border-radius: 50%;\n",
              "        cursor: pointer;\n",
              "        display: none;\n",
              "        fill: #1967D2;\n",
              "        height: 32px;\n",
              "        padding: 0 0 0 0;\n",
              "        width: 32px;\n",
              "      }\n",
              "\n",
              "      .colab-df-generate:hover {\n",
              "        background-color: #E2EBFA;\n",
              "        box-shadow: 0px 1px 2px rgba(60, 64, 67, 0.3), 0px 1px 3px 1px rgba(60, 64, 67, 0.15);\n",
              "        fill: #174EA6;\n",
              "      }\n",
              "\n",
              "      [theme=dark] .colab-df-generate {\n",
              "        background-color: #3B4455;\n",
              "        fill: #D2E3FC;\n",
              "      }\n",
              "\n",
              "      [theme=dark] .colab-df-generate:hover {\n",
              "        background-color: #434B5C;\n",
              "        box-shadow: 0px 1px 3px 1px rgba(0, 0, 0, 0.15);\n",
              "        filter: drop-shadow(0px 1px 2px rgba(0, 0, 0, 0.3));\n",
              "        fill: #FFFFFF;\n",
              "      }\n",
              "    </style>\n",
              "    <button class=\"colab-df-generate\" onclick=\"generateWithVariable('predictions_results')\"\n",
              "            title=\"Generate code using this dataframe.\"\n",
              "            style=\"display:none;\">\n",
              "\n",
              "  <svg xmlns=\"http://www.w3.org/2000/svg\" height=\"24px\"viewBox=\"0 0 24 24\"\n",
              "       width=\"24px\">\n",
              "    <path d=\"M7,19H8.4L18.45,9,17,7.55,7,17.6ZM5,21V16.75L18.45,3.32a2,2,0,0,1,2.83,0l1.4,1.43a1.91,1.91,0,0,1,.58,1.4,1.91,1.91,0,0,1-.58,1.4L9.25,21ZM18.45,9,17,7.55Zm-12,3A5.31,5.31,0,0,0,4.9,8.1,5.31,5.31,0,0,0,1,6.5,5.31,5.31,0,0,0,4.9,4.9,5.31,5.31,0,0,0,6.5,1,5.31,5.31,0,0,0,8.1,4.9,5.31,5.31,0,0,0,12,6.5,5.46,5.46,0,0,0,6.5,12Z\"/>\n",
              "  </svg>\n",
              "    </button>\n",
              "    <script>\n",
              "      (() => {\n",
              "      const buttonEl =\n",
              "        document.querySelector('#id_0bad965b-989b-4a2a-8e51-45b60cd2c01e button.colab-df-generate');\n",
              "      buttonEl.style.display =\n",
              "        google.colab.kernel.accessAllowed ? 'block' : 'none';\n",
              "\n",
              "      buttonEl.onclick = () => {\n",
              "        google.colab.notebook.generateWithVariable('predictions_results');\n",
              "      }\n",
              "      })();\n",
              "    </script>\n",
              "  </div>\n",
              "\n",
              "    </div>\n",
              "  </div>\n"
            ],
            "application/vnd.google.colaboratory.intrinsic+json": {
              "type": "dataframe",
              "variable_name": "predictions_results"
            }
          },
          "metadata": {},
          "execution_count": 292
        }
      ]
    },
    {
      "cell_type": "code",
      "source": [
        "from imblearn.over_sampling import SMOTE"
      ],
      "metadata": {
        "id": "cLsqpWQjhMG6"
      },
      "execution_count": null,
      "outputs": []
    },
    {
      "cell_type": "code",
      "source": [
        "# meta-modeling\n",
        "y_should_not_use_rf = predictions_results['should_not_use_rf']\n",
        "\n",
        "smote = SMOTE(random_state=42)\n",
        "X_resampled, y_resampled = smote.fit_resample(X_train, y_should_not_use_rf)\n",
        "\n",
        "meta_model = RandomForestClassifier()\n",
        "meta_model.fit(X_resampled, y_resampled)\n",
        "\n",
        "# cross validation\n",
        "cv = cross_val_score(meta_model, X_resampled, y_resampled, cv=3, scoring=\"f1\")\n",
        "sns.distplot(cv)\n",
        "print('Train CV f1: ', cv.mean())"
      ],
      "metadata": {
        "colab": {
          "base_uri": "https://localhost:8080/",
          "height": 638
        },
        "id": "yCv3ANQDbnSf",
        "outputId": "7a4b546e-7fa3-42a7-827d-befa5b7914a0"
      },
      "execution_count": null,
      "outputs": [
        {
          "output_type": "stream",
          "name": "stderr",
          "text": [
            "<ipython-input-294-6f2713667051>:12: UserWarning: \n",
            "\n",
            "`distplot` is a deprecated function and will be removed in seaborn v0.14.0.\n",
            "\n",
            "Please adapt your code to use either `displot` (a figure-level function with\n",
            "similar flexibility) or `histplot` (an axes-level function for histograms).\n",
            "\n",
            "For a guide to updating your code to use the new functions, please see\n",
            "https://gist.github.com/mwaskom/de44147ed2974457ad6372750bbe5751\n",
            "\n",
            "  sns.distplot(cv)\n"
          ]
        },
        {
          "output_type": "stream",
          "name": "stdout",
          "text": [
            "Train CV f1:  0.9800551279658976\n"
          ]
        },
        {
          "output_type": "display_data",
          "data": {
            "text/plain": [
              "<Figure size 640x480 with 1 Axes>"
            ],
            "image/png": "[encoded data removed]"
          },
          "metadata": {}
        }
      ]
    },
    {
      "cell_type": "code",
      "source": [
        "from sklearn.ensemble import VotingClassifier"
      ],
      "metadata": {
        "id": "Xs9Bc4DNi8Up"
      },
      "execution_count": null,
      "outputs": []
    },
    {
      "cell_type": "code",
      "source": [
        "class FINAL_MODEL(BaseEstimator, ClassifierMixin):\n",
        "    def __init__(self, meta_model, rf_model, lg_model, knn_model):\n",
        "        self.meta_model = meta_model\n",
        "        self.rf_model = rf_model\n",
        "        self.lg_model = lg_model\n",
        "        self.knn_model = knn_model\n",
        "        # Create VotingClassifier for LG and KNN\n",
        "        self.voting_classifier = VotingClassifier(estimators=[('lg', self.lg_model), ('knn', self.knn_model)], voting='hard')\n",
        "\n",
        "    def fit(self, X, y):\n",
        "        self.voting_classifier.fit(X_train, y_train)\n",
        "        return self\n",
        "\n",
        "    def predict(self, X):\n",
        "        # Predict using the meta-model\n",
        "        should_not_use_rf_predictions = self.meta_model.predict(X)\n",
        "\n",
        "        # Initialize an empty list to store final predictions\n",
        "        final_predictions = []\n",
        "\n",
        "        # Iterate through each data point in X\n",
        "        for i in range(X.shape[0]):\n",
        "            # If meta-model predicts not to use RF\n",
        "            if should_not_use_rf_predictions[i] == 1:\n",
        "                # Use hard voting between LG and KNN using VotingClassifier\n",
        "                final_predictions.append(self.voting_classifier.predict(X.iloc[[i]])[0])\n",
        "            # If meta-model predicts to use RF\n",
        "            else:\n",
        "                # Use RF prediction\n",
        "                final_predictions.append(self.rf_model.predict(X.iloc[[i]])[0])\n",
        "\n",
        "        return np.array(final_predictions)"
      ],
      "metadata": {
        "id": "SjnZ2e1miUF4"
      },
      "execution_count": null,
      "outputs": []
    },
    {
      "cell_type": "code",
      "source": [
        "final_model = FINAL_MODEL(meta_model, RF, LG, KNN)\n",
        "final_model.fit(X_train, y_train)\n",
        "print('test f1 score: ', f1_score(y_test, final_model.predict(X_test)))"
      ],
      "metadata": {
        "colab": {
          "base_uri": "https://localhost:8080/"
        },
        "id": "iBPjDI2DkL_6",
        "outputId": "9c7292f4-3161-4b3e-9425-98d204637889"
      },
      "execution_count": null,
      "outputs": [
        {
          "output_type": "stream",
          "name": "stdout",
          "text": [
            "test f1 score:  0.7742857142857142\n"
          ]
        }
      ]
    },
    {
      "cell_type": "markdown",
      "source": [
        "# **Generate_results**"
      ],
      "metadata": {
        "id": "7oUeAmlyhWWA"
      }
    },
    {
      "cell_type": "code",
      "source": [
        "def generate_prediction(data):\n",
        "  data.drop(columns=['Unnamed: 0', 'id'], inplace=True)\n",
        "  df_transformed = make_preprocessing(data)\n",
        "  y_pred = final_model.predict(df_transformed)\n",
        "  return y_pred"
      ],
      "metadata": {
        "id": "WAKb3-UkhcR2"
      },
      "execution_count": null,
      "outputs": []
    }
  ],
  "metadata": {
    "colab": {
      "collapsed_sections": [
        "4BUdbtxXWTTe",
        "vXQ0_nflwggb",
        "_hb0BubqXlG4",
        "GnkBYafgaDSF",
        "d3VuwQUrbQCv",
        "RiYvKALsbnzH",
        "7XH7MKvxeziq",
        "XCimkft1gM1P",
        "XMj1lv8scgbZ",
        "y6wK-l7LdD_T",
        "Djb4OvaNdUxO",
        "kRJ8a0ZyC1W-",
        "VEeXlAC6Luap",
        "KABWmuVte9ce",
        "ik259TpJkTK0",
        "T8gQ3x1XY_Ye"
      ],
      "provenance": []
    },
    "kernelspec": {
      "display_name": "Python 3",
      "name": "python3"
    },
    "language_info": {
      "name": "python"
    }
  },
  "nbformat": 4,
  "nbformat_minor": 0
}